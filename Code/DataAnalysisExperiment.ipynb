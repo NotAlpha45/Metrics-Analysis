{
 "cells": [
  {
   "cell_type": "markdown",
   "metadata": {},
   "source": [
    "# Experimentation with data analysis\n",
    "\n",
    "In this notebook, we will be analyzing the data for the CM1 repository of the NASA MDP data set. The data set can be found [here](https://github.com/klainfo/NASADefectDataset/tree/master).\n",
    "\n",
    "The dataset contains information for 327 modules (Represented as rows) with 38 metrics (represented as columns). The last column is the label for the module, which is either defective or not defective.\n"
   ]
  },
  {
   "cell_type": "code",
   "execution_count": 3,
   "metadata": {},
   "outputs": [],
   "source": [
    "import pandas as pd\n",
    "import pyarrow"
   ]
  },
  {
   "cell_type": "code",
   "execution_count": 4,
   "metadata": {},
   "outputs": [
    {
     "data": {
      "text/html": [
       "<div>\n",
       "<style scoped>\n",
       "    .dataframe tbody tr th:only-of-type {\n",
       "        vertical-align: middle;\n",
       "    }\n",
       "\n",
       "    .dataframe tbody tr th {\n",
       "        vertical-align: top;\n",
       "    }\n",
       "\n",
       "    .dataframe thead th {\n",
       "        text-align: right;\n",
       "    }\n",
       "</style>\n",
       "<table border=\"1\" class=\"dataframe\">\n",
       "  <thead>\n",
       "    <tr style=\"text-align: right;\">\n",
       "      <th></th>\n",
       "      <th>LOC_BLANK</th>\n",
       "      <th>BRANCH_COUNT</th>\n",
       "      <th>CALL_PAIRS</th>\n",
       "      <th>LOC_CODE_AND_COMMENT</th>\n",
       "      <th>LOC_COMMENTS</th>\n",
       "      <th>CONDITION_COUNT</th>\n",
       "      <th>CYCLOMATIC_COMPLEXITY</th>\n",
       "      <th>CYCLOMATIC_DENSITY</th>\n",
       "      <th>DECISION_COUNT</th>\n",
       "      <th>DECISION_DENSITY</th>\n",
       "      <th>...</th>\n",
       "      <th>NODE_COUNT</th>\n",
       "      <th>NORMALIZED_CYLOMATIC_COMPLEXITY</th>\n",
       "      <th>NUM_OPERANDS</th>\n",
       "      <th>NUM_OPERATORS</th>\n",
       "      <th>NUM_UNIQUE_OPERANDS</th>\n",
       "      <th>NUM_UNIQUE_OPERATORS</th>\n",
       "      <th>NUMBER_OF_LINES</th>\n",
       "      <th>PERCENT_COMMENTS</th>\n",
       "      <th>LOC_TOTAL</th>\n",
       "      <th>Defective</th>\n",
       "    </tr>\n",
       "  </thead>\n",
       "  <tbody>\n",
       "    <tr>\n",
       "      <th>0</th>\n",
       "      <td>2.0</td>\n",
       "      <td>3.0</td>\n",
       "      <td>0.0</td>\n",
       "      <td>0.0</td>\n",
       "      <td>8.0</td>\n",
       "      <td>4.0</td>\n",
       "      <td>2.0</td>\n",
       "      <td>0.22</td>\n",
       "      <td>2.0</td>\n",
       "      <td>2.00</td>\n",
       "      <td>...</td>\n",
       "      <td>6.0</td>\n",
       "      <td>0.22</td>\n",
       "      <td>5.0</td>\n",
       "      <td>10.0</td>\n",
       "      <td>4.0</td>\n",
       "      <td>7.0</td>\n",
       "      <td>9.0</td>\n",
       "      <td>47.06</td>\n",
       "      <td>9.0</td>\n",
       "      <td>b'N'</td>\n",
       "    </tr>\n",
       "    <tr>\n",
       "      <th>1</th>\n",
       "      <td>3.0</td>\n",
       "      <td>3.0</td>\n",
       "      <td>0.0</td>\n",
       "      <td>2.0</td>\n",
       "      <td>2.0</td>\n",
       "      <td>4.0</td>\n",
       "      <td>2.0</td>\n",
       "      <td>0.15</td>\n",
       "      <td>2.0</td>\n",
       "      <td>2.00</td>\n",
       "      <td>...</td>\n",
       "      <td>5.0</td>\n",
       "      <td>0.11</td>\n",
       "      <td>10.0</td>\n",
       "      <td>22.0</td>\n",
       "      <td>5.0</td>\n",
       "      <td>12.0</td>\n",
       "      <td>19.0</td>\n",
       "      <td>26.67</td>\n",
       "      <td>13.0</td>\n",
       "      <td>b'N'</td>\n",
       "    </tr>\n",
       "    <tr>\n",
       "      <th>2</th>\n",
       "      <td>38.0</td>\n",
       "      <td>35.0</td>\n",
       "      <td>4.0</td>\n",
       "      <td>5.0</td>\n",
       "      <td>70.0</td>\n",
       "      <td>58.0</td>\n",
       "      <td>18.0</td>\n",
       "      <td>0.17</td>\n",
       "      <td>24.0</td>\n",
       "      <td>2.42</td>\n",
       "      <td>...</td>\n",
       "      <td>51.0</td>\n",
       "      <td>0.08</td>\n",
       "      <td>150.0</td>\n",
       "      <td>222.0</td>\n",
       "      <td>58.0</td>\n",
       "      <td>32.0</td>\n",
       "      <td>218.0</td>\n",
       "      <td>41.90</td>\n",
       "      <td>109.0</td>\n",
       "      <td>b'N'</td>\n",
       "    </tr>\n",
       "    <tr>\n",
       "      <th>3</th>\n",
       "      <td>1.0</td>\n",
       "      <td>7.0</td>\n",
       "      <td>5.0</td>\n",
       "      <td>0.0</td>\n",
       "      <td>12.0</td>\n",
       "      <td>12.0</td>\n",
       "      <td>4.0</td>\n",
       "      <td>0.10</td>\n",
       "      <td>6.0</td>\n",
       "      <td>2.00</td>\n",
       "      <td>...</td>\n",
       "      <td>18.0</td>\n",
       "      <td>0.06</td>\n",
       "      <td>50.0</td>\n",
       "      <td>79.0</td>\n",
       "      <td>36.0</td>\n",
       "      <td>19.0</td>\n",
       "      <td>68.0</td>\n",
       "      <td>22.64</td>\n",
       "      <td>41.0</td>\n",
       "      <td>b'Y'</td>\n",
       "    </tr>\n",
       "    <tr>\n",
       "      <th>4</th>\n",
       "      <td>9.0</td>\n",
       "      <td>15.0</td>\n",
       "      <td>4.0</td>\n",
       "      <td>14.0</td>\n",
       "      <td>22.0</td>\n",
       "      <td>28.0</td>\n",
       "      <td>8.0</td>\n",
       "      <td>0.20</td>\n",
       "      <td>14.0</td>\n",
       "      <td>2.00</td>\n",
       "      <td>...</td>\n",
       "      <td>24.0</td>\n",
       "      <td>0.11</td>\n",
       "      <td>29.0</td>\n",
       "      <td>64.0</td>\n",
       "      <td>19.0</td>\n",
       "      <td>18.0</td>\n",
       "      <td>73.0</td>\n",
       "      <td>57.14</td>\n",
       "      <td>41.0</td>\n",
       "      <td>b'N'</td>\n",
       "    </tr>\n",
       "    <tr>\n",
       "      <th>...</th>\n",
       "      <td>...</td>\n",
       "      <td>...</td>\n",
       "      <td>...</td>\n",
       "      <td>...</td>\n",
       "      <td>...</td>\n",
       "      <td>...</td>\n",
       "      <td>...</td>\n",
       "      <td>...</td>\n",
       "      <td>...</td>\n",
       "      <td>...</td>\n",
       "      <td>...</td>\n",
       "      <td>...</td>\n",
       "      <td>...</td>\n",
       "      <td>...</td>\n",
       "      <td>...</td>\n",
       "      <td>...</td>\n",
       "      <td>...</td>\n",
       "      <td>...</td>\n",
       "      <td>...</td>\n",
       "      <td>...</td>\n",
       "      <td>...</td>\n",
       "    </tr>\n",
       "    <tr>\n",
       "      <th>322</th>\n",
       "      <td>67.0</td>\n",
       "      <td>29.0</td>\n",
       "      <td>10.0</td>\n",
       "      <td>27.0</td>\n",
       "      <td>41.0</td>\n",
       "      <td>56.0</td>\n",
       "      <td>15.0</td>\n",
       "      <td>0.13</td>\n",
       "      <td>28.0</td>\n",
       "      <td>2.00</td>\n",
       "      <td>...</td>\n",
       "      <td>63.0</td>\n",
       "      <td>0.07</td>\n",
       "      <td>192.0</td>\n",
       "      <td>274.0</td>\n",
       "      <td>32.0</td>\n",
       "      <td>19.0</td>\n",
       "      <td>228.0</td>\n",
       "      <td>42.50</td>\n",
       "      <td>119.0</td>\n",
       "      <td>b'N'</td>\n",
       "    </tr>\n",
       "    <tr>\n",
       "      <th>323</th>\n",
       "      <td>9.0</td>\n",
       "      <td>3.0</td>\n",
       "      <td>5.0</td>\n",
       "      <td>0.0</td>\n",
       "      <td>12.0</td>\n",
       "      <td>4.0</td>\n",
       "      <td>2.0</td>\n",
       "      <td>0.11</td>\n",
       "      <td>2.0</td>\n",
       "      <td>2.00</td>\n",
       "      <td>...</td>\n",
       "      <td>10.0</td>\n",
       "      <td>0.05</td>\n",
       "      <td>27.0</td>\n",
       "      <td>43.0</td>\n",
       "      <td>21.0</td>\n",
       "      <td>16.0</td>\n",
       "      <td>40.0</td>\n",
       "      <td>40.00</td>\n",
       "      <td>18.0</td>\n",
       "      <td>b'N'</td>\n",
       "    </tr>\n",
       "    <tr>\n",
       "      <th>324</th>\n",
       "      <td>3.0</td>\n",
       "      <td>3.0</td>\n",
       "      <td>1.0</td>\n",
       "      <td>1.0</td>\n",
       "      <td>2.0</td>\n",
       "      <td>4.0</td>\n",
       "      <td>2.0</td>\n",
       "      <td>0.17</td>\n",
       "      <td>2.0</td>\n",
       "      <td>2.00</td>\n",
       "      <td>...</td>\n",
       "      <td>6.0</td>\n",
       "      <td>0.11</td>\n",
       "      <td>11.0</td>\n",
       "      <td>21.0</td>\n",
       "      <td>8.0</td>\n",
       "      <td>14.0</td>\n",
       "      <td>18.0</td>\n",
       "      <td>21.43</td>\n",
       "      <td>12.0</td>\n",
       "      <td>b'N'</td>\n",
       "    </tr>\n",
       "    <tr>\n",
       "      <th>325</th>\n",
       "      <td>6.0</td>\n",
       "      <td>9.0</td>\n",
       "      <td>3.0</td>\n",
       "      <td>10.0</td>\n",
       "      <td>22.0</td>\n",
       "      <td>16.0</td>\n",
       "      <td>5.0</td>\n",
       "      <td>0.16</td>\n",
       "      <td>8.0</td>\n",
       "      <td>2.00</td>\n",
       "      <td>...</td>\n",
       "      <td>21.0</td>\n",
       "      <td>0.08</td>\n",
       "      <td>42.0</td>\n",
       "      <td>72.0</td>\n",
       "      <td>19.0</td>\n",
       "      <td>20.0</td>\n",
       "      <td>61.0</td>\n",
       "      <td>59.26</td>\n",
       "      <td>32.0</td>\n",
       "      <td>b'N'</td>\n",
       "    </tr>\n",
       "    <tr>\n",
       "      <th>326</th>\n",
       "      <td>1.0</td>\n",
       "      <td>3.0</td>\n",
       "      <td>4.0</td>\n",
       "      <td>0.0</td>\n",
       "      <td>0.0</td>\n",
       "      <td>4.0</td>\n",
       "      <td>2.0</td>\n",
       "      <td>0.20</td>\n",
       "      <td>2.0</td>\n",
       "      <td>2.00</td>\n",
       "      <td>...</td>\n",
       "      <td>9.0</td>\n",
       "      <td>0.17</td>\n",
       "      <td>16.0</td>\n",
       "      <td>21.0</td>\n",
       "      <td>11.0</td>\n",
       "      <td>10.0</td>\n",
       "      <td>12.0</td>\n",
       "      <td>0.00</td>\n",
       "      <td>10.0</td>\n",
       "      <td>b'N'</td>\n",
       "    </tr>\n",
       "  </tbody>\n",
       "</table>\n",
       "<p>327 rows × 38 columns</p>\n",
       "</div>"
      ],
      "text/plain": [
       "     LOC_BLANK  BRANCH_COUNT  CALL_PAIRS  LOC_CODE_AND_COMMENT  LOC_COMMENTS  \\\n",
       "0          2.0           3.0         0.0                   0.0           8.0   \n",
       "1          3.0           3.0         0.0                   2.0           2.0   \n",
       "2         38.0          35.0         4.0                   5.0          70.0   \n",
       "3          1.0           7.0         5.0                   0.0          12.0   \n",
       "4          9.0          15.0         4.0                  14.0          22.0   \n",
       "..         ...           ...         ...                   ...           ...   \n",
       "322       67.0          29.0        10.0                  27.0          41.0   \n",
       "323        9.0           3.0         5.0                   0.0          12.0   \n",
       "324        3.0           3.0         1.0                   1.0           2.0   \n",
       "325        6.0           9.0         3.0                  10.0          22.0   \n",
       "326        1.0           3.0         4.0                   0.0           0.0   \n",
       "\n",
       "     CONDITION_COUNT  CYCLOMATIC_COMPLEXITY  CYCLOMATIC_DENSITY  \\\n",
       "0                4.0                    2.0                0.22   \n",
       "1                4.0                    2.0                0.15   \n",
       "2               58.0                   18.0                0.17   \n",
       "3               12.0                    4.0                0.10   \n",
       "4               28.0                    8.0                0.20   \n",
       "..               ...                    ...                 ...   \n",
       "322             56.0                   15.0                0.13   \n",
       "323              4.0                    2.0                0.11   \n",
       "324              4.0                    2.0                0.17   \n",
       "325             16.0                    5.0                0.16   \n",
       "326              4.0                    2.0                0.20   \n",
       "\n",
       "     DECISION_COUNT  DECISION_DENSITY  ...  NODE_COUNT  \\\n",
       "0               2.0              2.00  ...         6.0   \n",
       "1               2.0              2.00  ...         5.0   \n",
       "2              24.0              2.42  ...        51.0   \n",
       "3               6.0              2.00  ...        18.0   \n",
       "4              14.0              2.00  ...        24.0   \n",
       "..              ...               ...  ...         ...   \n",
       "322            28.0              2.00  ...        63.0   \n",
       "323             2.0              2.00  ...        10.0   \n",
       "324             2.0              2.00  ...         6.0   \n",
       "325             8.0              2.00  ...        21.0   \n",
       "326             2.0              2.00  ...         9.0   \n",
       "\n",
       "     NORMALIZED_CYLOMATIC_COMPLEXITY  NUM_OPERANDS  NUM_OPERATORS  \\\n",
       "0                               0.22           5.0           10.0   \n",
       "1                               0.11          10.0           22.0   \n",
       "2                               0.08         150.0          222.0   \n",
       "3                               0.06          50.0           79.0   \n",
       "4                               0.11          29.0           64.0   \n",
       "..                               ...           ...            ...   \n",
       "322                             0.07         192.0          274.0   \n",
       "323                             0.05          27.0           43.0   \n",
       "324                             0.11          11.0           21.0   \n",
       "325                             0.08          42.0           72.0   \n",
       "326                             0.17          16.0           21.0   \n",
       "\n",
       "     NUM_UNIQUE_OPERANDS  NUM_UNIQUE_OPERATORS  NUMBER_OF_LINES  \\\n",
       "0                    4.0                   7.0              9.0   \n",
       "1                    5.0                  12.0             19.0   \n",
       "2                   58.0                  32.0            218.0   \n",
       "3                   36.0                  19.0             68.0   \n",
       "4                   19.0                  18.0             73.0   \n",
       "..                   ...                   ...              ...   \n",
       "322                 32.0                  19.0            228.0   \n",
       "323                 21.0                  16.0             40.0   \n",
       "324                  8.0                  14.0             18.0   \n",
       "325                 19.0                  20.0             61.0   \n",
       "326                 11.0                  10.0             12.0   \n",
       "\n",
       "     PERCENT_COMMENTS  LOC_TOTAL  Defective  \n",
       "0               47.06        9.0       b'N'  \n",
       "1               26.67       13.0       b'N'  \n",
       "2               41.90      109.0       b'N'  \n",
       "3               22.64       41.0       b'Y'  \n",
       "4               57.14       41.0       b'N'  \n",
       "..                ...        ...        ...  \n",
       "322             42.50      119.0       b'N'  \n",
       "323             40.00       18.0       b'N'  \n",
       "324             21.43       12.0       b'N'  \n",
       "325             59.26       32.0       b'N'  \n",
       "326              0.00       10.0       b'N'  \n",
       "\n",
       "[327 rows x 38 columns]"
      ]
     },
     "execution_count": 4,
     "metadata": {},
     "output_type": "execute_result"
    }
   ],
   "source": [
    "cm_1_dataset = pd.read_csv(\"../Datasets/MDP_CSV/CM1.csv\", engine='pyarrow')\n",
    "cm_1_dataset"
   ]
  },
  {
   "cell_type": "markdown",
   "metadata": {},
   "source": [
    "### Attribute of the dataset\n"
   ]
  },
  {
   "cell_type": "code",
   "execution_count": 5,
   "metadata": {},
   "outputs": [
    {
     "data": {
      "text/html": [
       "<div>\n",
       "<style scoped>\n",
       "    .dataframe tbody tr th:only-of-type {\n",
       "        vertical-align: middle;\n",
       "    }\n",
       "\n",
       "    .dataframe tbody tr th {\n",
       "        vertical-align: top;\n",
       "    }\n",
       "\n",
       "    .dataframe thead th {\n",
       "        text-align: right;\n",
       "    }\n",
       "</style>\n",
       "<table border=\"1\" class=\"dataframe\">\n",
       "  <thead>\n",
       "    <tr style=\"text-align: right;\">\n",
       "      <th></th>\n",
       "      <th>LOC_BLANK</th>\n",
       "      <th>BRANCH_COUNT</th>\n",
       "      <th>CALL_PAIRS</th>\n",
       "      <th>LOC_CODE_AND_COMMENT</th>\n",
       "      <th>LOC_COMMENTS</th>\n",
       "      <th>CONDITION_COUNT</th>\n",
       "      <th>CYCLOMATIC_COMPLEXITY</th>\n",
       "      <th>CYCLOMATIC_DENSITY</th>\n",
       "      <th>DECISION_COUNT</th>\n",
       "      <th>DECISION_DENSITY</th>\n",
       "      <th>...</th>\n",
       "      <th>MULTIPLE_CONDITION_COUNT</th>\n",
       "      <th>NODE_COUNT</th>\n",
       "      <th>NORMALIZED_CYLOMATIC_COMPLEXITY</th>\n",
       "      <th>NUM_OPERANDS</th>\n",
       "      <th>NUM_OPERATORS</th>\n",
       "      <th>NUM_UNIQUE_OPERANDS</th>\n",
       "      <th>NUM_UNIQUE_OPERATORS</th>\n",
       "      <th>NUMBER_OF_LINES</th>\n",
       "      <th>PERCENT_COMMENTS</th>\n",
       "      <th>LOC_TOTAL</th>\n",
       "    </tr>\n",
       "  </thead>\n",
       "  <tbody>\n",
       "    <tr>\n",
       "      <th>count</th>\n",
       "      <td>327.000000</td>\n",
       "      <td>327.000000</td>\n",
       "      <td>327.000000</td>\n",
       "      <td>327.000000</td>\n",
       "      <td>327.000000</td>\n",
       "      <td>327.000000</td>\n",
       "      <td>327.000000</td>\n",
       "      <td>327.000000</td>\n",
       "      <td>327.000000</td>\n",
       "      <td>327.000000</td>\n",
       "      <td>...</td>\n",
       "      <td>327.000000</td>\n",
       "      <td>327.000000</td>\n",
       "      <td>327.000000</td>\n",
       "      <td>327.000000</td>\n",
       "      <td>327.000000</td>\n",
       "      <td>327.000000</td>\n",
       "      <td>327.000000</td>\n",
       "      <td>327.000000</td>\n",
       "      <td>327.000000</td>\n",
       "      <td>327.000000</td>\n",
       "    </tr>\n",
       "    <tr>\n",
       "      <th>mean</th>\n",
       "      <td>16.767584</td>\n",
       "      <td>13.015291</td>\n",
       "      <td>3.795107</td>\n",
       "      <td>5.657492</td>\n",
       "      <td>17.470948</td>\n",
       "      <td>20.917431</td>\n",
       "      <td>7.324159</td>\n",
       "      <td>0.166422</td>\n",
       "      <td>9.871560</td>\n",
       "      <td>2.119113</td>\n",
       "      <td>...</td>\n",
       "      <td>10.492355</td>\n",
       "      <td>25.480122</td>\n",
       "      <td>0.104771</td>\n",
       "      <td>76.963303</td>\n",
       "      <td>120.189602</td>\n",
       "      <td>35.443425</td>\n",
       "      <td>19.088685</td>\n",
       "      <td>82.428135</td>\n",
       "      <td>29.584343</td>\n",
       "      <td>46.844037</td>\n",
       "    </tr>\n",
       "    <tr>\n",
       "      <th>std</th>\n",
       "      <td>23.162161</td>\n",
       "      <td>16.843098</td>\n",
       "      <td>3.941782</td>\n",
       "      <td>10.095501</td>\n",
       "      <td>30.508948</td>\n",
       "      <td>27.275282</td>\n",
       "      <td>9.455683</td>\n",
       "      <td>0.061612</td>\n",
       "      <td>12.704113</td>\n",
       "      <td>0.320483</td>\n",
       "      <td>...</td>\n",
       "      <td>13.677680</td>\n",
       "      <td>29.187338</td>\n",
       "      <td>0.055726</td>\n",
       "      <td>98.531729</td>\n",
       "      <td>150.976639</td>\n",
       "      <td>38.176965</td>\n",
       "      <td>9.304400</td>\n",
       "      <td>95.848744</td>\n",
       "      <td>18.805039</td>\n",
       "      <td>56.157181</td>\n",
       "    </tr>\n",
       "    <tr>\n",
       "      <th>min</th>\n",
       "      <td>0.000000</td>\n",
       "      <td>3.000000</td>\n",
       "      <td>0.000000</td>\n",
       "      <td>0.000000</td>\n",
       "      <td>0.000000</td>\n",
       "      <td>4.000000</td>\n",
       "      <td>2.000000</td>\n",
       "      <td>0.040000</td>\n",
       "      <td>2.000000</td>\n",
       "      <td>2.000000</td>\n",
       "      <td>...</td>\n",
       "      <td>2.000000</td>\n",
       "      <td>5.000000</td>\n",
       "      <td>0.020000</td>\n",
       "      <td>4.000000</td>\n",
       "      <td>7.000000</td>\n",
       "      <td>3.000000</td>\n",
       "      <td>4.000000</td>\n",
       "      <td>9.000000</td>\n",
       "      <td>0.000000</td>\n",
       "      <td>7.000000</td>\n",
       "    </tr>\n",
       "    <tr>\n",
       "      <th>25%</th>\n",
       "      <td>4.000000</td>\n",
       "      <td>5.000000</td>\n",
       "      <td>1.000000</td>\n",
       "      <td>0.000000</td>\n",
       "      <td>1.000000</td>\n",
       "      <td>8.000000</td>\n",
       "      <td>3.000000</td>\n",
       "      <td>0.130000</td>\n",
       "      <td>4.000000</td>\n",
       "      <td>2.000000</td>\n",
       "      <td>...</td>\n",
       "      <td>4.000000</td>\n",
       "      <td>9.000000</td>\n",
       "      <td>0.070000</td>\n",
       "      <td>22.000000</td>\n",
       "      <td>38.000000</td>\n",
       "      <td>13.000000</td>\n",
       "      <td>13.000000</td>\n",
       "      <td>28.000000</td>\n",
       "      <td>13.890000</td>\n",
       "      <td>18.000000</td>\n",
       "    </tr>\n",
       "    <tr>\n",
       "      <th>50%</th>\n",
       "      <td>9.000000</td>\n",
       "      <td>7.000000</td>\n",
       "      <td>3.000000</td>\n",
       "      <td>2.000000</td>\n",
       "      <td>8.000000</td>\n",
       "      <td>12.000000</td>\n",
       "      <td>4.000000</td>\n",
       "      <td>0.160000</td>\n",
       "      <td>6.000000</td>\n",
       "      <td>2.000000</td>\n",
       "      <td>...</td>\n",
       "      <td>6.000000</td>\n",
       "      <td>15.000000</td>\n",
       "      <td>0.090000</td>\n",
       "      <td>40.000000</td>\n",
       "      <td>68.000000</td>\n",
       "      <td>22.000000</td>\n",
       "      <td>17.000000</td>\n",
       "      <td>52.000000</td>\n",
       "      <td>31.250000</td>\n",
       "      <td>28.000000</td>\n",
       "    </tr>\n",
       "    <tr>\n",
       "      <th>75%</th>\n",
       "      <td>20.000000</td>\n",
       "      <td>15.000000</td>\n",
       "      <td>5.000000</td>\n",
       "      <td>6.000000</td>\n",
       "      <td>20.500000</td>\n",
       "      <td>24.000000</td>\n",
       "      <td>8.000000</td>\n",
       "      <td>0.190000</td>\n",
       "      <td>12.000000</td>\n",
       "      <td>2.085000</td>\n",
       "      <td>...</td>\n",
       "      <td>12.000000</td>\n",
       "      <td>31.000000</td>\n",
       "      <td>0.130000</td>\n",
       "      <td>92.500000</td>\n",
       "      <td>136.500000</td>\n",
       "      <td>42.000000</td>\n",
       "      <td>23.000000</td>\n",
       "      <td>90.500000</td>\n",
       "      <td>45.115000</td>\n",
       "      <td>53.000000</td>\n",
       "    </tr>\n",
       "    <tr>\n",
       "      <th>max</th>\n",
       "      <td>164.000000</td>\n",
       "      <td>162.000000</td>\n",
       "      <td>26.000000</td>\n",
       "      <td>80.000000</td>\n",
       "      <td>339.000000</td>\n",
       "      <td>248.000000</td>\n",
       "      <td>96.000000</td>\n",
       "      <td>0.560000</td>\n",
       "      <td>118.000000</td>\n",
       "      <td>5.000000</td>\n",
       "      <td>...</td>\n",
       "      <td>124.000000</td>\n",
       "      <td>251.000000</td>\n",
       "      <td>0.500000</td>\n",
       "      <td>798.000000</td>\n",
       "      <td>1229.000000</td>\n",
       "      <td>314.000000</td>\n",
       "      <td>72.000000</td>\n",
       "      <td>764.000000</td>\n",
       "      <td>71.930000</td>\n",
       "      <td>503.000000</td>\n",
       "    </tr>\n",
       "  </tbody>\n",
       "</table>\n",
       "<p>8 rows × 37 columns</p>\n",
       "</div>"
      ],
      "text/plain": [
       "        LOC_BLANK  BRANCH_COUNT  CALL_PAIRS  LOC_CODE_AND_COMMENT  \\\n",
       "count  327.000000    327.000000  327.000000            327.000000   \n",
       "mean    16.767584     13.015291    3.795107              5.657492   \n",
       "std     23.162161     16.843098    3.941782             10.095501   \n",
       "min      0.000000      3.000000    0.000000              0.000000   \n",
       "25%      4.000000      5.000000    1.000000              0.000000   \n",
       "50%      9.000000      7.000000    3.000000              2.000000   \n",
       "75%     20.000000     15.000000    5.000000              6.000000   \n",
       "max    164.000000    162.000000   26.000000             80.000000   \n",
       "\n",
       "       LOC_COMMENTS  CONDITION_COUNT  CYCLOMATIC_COMPLEXITY  \\\n",
       "count    327.000000       327.000000             327.000000   \n",
       "mean      17.470948        20.917431               7.324159   \n",
       "std       30.508948        27.275282               9.455683   \n",
       "min        0.000000         4.000000               2.000000   \n",
       "25%        1.000000         8.000000               3.000000   \n",
       "50%        8.000000        12.000000               4.000000   \n",
       "75%       20.500000        24.000000               8.000000   \n",
       "max      339.000000       248.000000              96.000000   \n",
       "\n",
       "       CYCLOMATIC_DENSITY  DECISION_COUNT  DECISION_DENSITY  ...  \\\n",
       "count          327.000000      327.000000        327.000000  ...   \n",
       "mean             0.166422        9.871560          2.119113  ...   \n",
       "std              0.061612       12.704113          0.320483  ...   \n",
       "min              0.040000        2.000000          2.000000  ...   \n",
       "25%              0.130000        4.000000          2.000000  ...   \n",
       "50%              0.160000        6.000000          2.000000  ...   \n",
       "75%              0.190000       12.000000          2.085000  ...   \n",
       "max              0.560000      118.000000          5.000000  ...   \n",
       "\n",
       "       MULTIPLE_CONDITION_COUNT  NODE_COUNT  NORMALIZED_CYLOMATIC_COMPLEXITY  \\\n",
       "count                327.000000  327.000000                       327.000000   \n",
       "mean                  10.492355   25.480122                         0.104771   \n",
       "std                   13.677680   29.187338                         0.055726   \n",
       "min                    2.000000    5.000000                         0.020000   \n",
       "25%                    4.000000    9.000000                         0.070000   \n",
       "50%                    6.000000   15.000000                         0.090000   \n",
       "75%                   12.000000   31.000000                         0.130000   \n",
       "max                  124.000000  251.000000                         0.500000   \n",
       "\n",
       "       NUM_OPERANDS  NUM_OPERATORS  NUM_UNIQUE_OPERANDS  NUM_UNIQUE_OPERATORS  \\\n",
       "count    327.000000     327.000000           327.000000            327.000000   \n",
       "mean      76.963303     120.189602            35.443425             19.088685   \n",
       "std       98.531729     150.976639            38.176965              9.304400   \n",
       "min        4.000000       7.000000             3.000000              4.000000   \n",
       "25%       22.000000      38.000000            13.000000             13.000000   \n",
       "50%       40.000000      68.000000            22.000000             17.000000   \n",
       "75%       92.500000     136.500000            42.000000             23.000000   \n",
       "max      798.000000    1229.000000           314.000000             72.000000   \n",
       "\n",
       "       NUMBER_OF_LINES  PERCENT_COMMENTS   LOC_TOTAL  \n",
       "count       327.000000        327.000000  327.000000  \n",
       "mean         82.428135         29.584343   46.844037  \n",
       "std          95.848744         18.805039   56.157181  \n",
       "min           9.000000          0.000000    7.000000  \n",
       "25%          28.000000         13.890000   18.000000  \n",
       "50%          52.000000         31.250000   28.000000  \n",
       "75%          90.500000         45.115000   53.000000  \n",
       "max         764.000000         71.930000  503.000000  \n",
       "\n",
       "[8 rows x 37 columns]"
      ]
     },
     "execution_count": 5,
     "metadata": {},
     "output_type": "execute_result"
    }
   ],
   "source": [
    "cm_1_dataset.describe()"
   ]
  },
  {
   "cell_type": "code",
   "execution_count": 6,
   "metadata": {},
   "outputs": [
    {
     "data": {
      "text/plain": [
       "Index(['LOC_BLANK', 'BRANCH_COUNT', 'CALL_PAIRS', 'LOC_CODE_AND_COMMENT',\n",
       "       'LOC_COMMENTS', 'CONDITION_COUNT', 'CYCLOMATIC_COMPLEXITY',\n",
       "       'CYCLOMATIC_DENSITY', 'DECISION_COUNT', 'DECISION_DENSITY',\n",
       "       'DESIGN_COMPLEXITY', 'DESIGN_DENSITY', 'EDGE_COUNT',\n",
       "       'ESSENTIAL_COMPLEXITY', 'ESSENTIAL_DENSITY', 'LOC_EXECUTABLE',\n",
       "       'PARAMETER_COUNT', 'HALSTEAD_CONTENT', 'HALSTEAD_DIFFICULTY',\n",
       "       'HALSTEAD_EFFORT', 'HALSTEAD_ERROR_EST', 'HALSTEAD_LENGTH',\n",
       "       'HALSTEAD_LEVEL', 'HALSTEAD_PROG_TIME', 'HALSTEAD_VOLUME',\n",
       "       'MAINTENANCE_SEVERITY', 'MODIFIED_CONDITION_COUNT',\n",
       "       'MULTIPLE_CONDITION_COUNT', 'NODE_COUNT',\n",
       "       'NORMALIZED_CYLOMATIC_COMPLEXITY', 'NUM_OPERANDS', 'NUM_OPERATORS',\n",
       "       'NUM_UNIQUE_OPERANDS', 'NUM_UNIQUE_OPERATORS', 'NUMBER_OF_LINES',\n",
       "       'PERCENT_COMMENTS', 'LOC_TOTAL', 'Defective'],\n",
       "      dtype='object')"
      ]
     },
     "execution_count": 6,
     "metadata": {},
     "output_type": "execute_result"
    }
   ],
   "source": [
    "column_names = cm_1_dataset.columns\n",
    "column_names"
   ]
  },
  {
   "cell_type": "markdown",
   "metadata": {},
   "source": [
    "### Selecting Attrbute for Analysis\n",
    "\n",
    "We selected the following attributes for analysis:\n",
    "\n",
    "- **Halstead Metrics:** Halstead Difficulty, Halstead Effort, Halstead Error Estimate\n",
    "- **Code Attributes:** Lines of Code (Executable), Cyclomatic Complexity, Decision Count\n",
    "- **Design Attributes:** Essential Complexity, Design Complexity, Design Density\n"
   ]
  },
  {
   "cell_type": "code",
   "execution_count": 7,
   "metadata": {},
   "outputs": [
    {
     "data": {
      "text/html": [
       "<div>\n",
       "<style scoped>\n",
       "    .dataframe tbody tr th:only-of-type {\n",
       "        vertical-align: middle;\n",
       "    }\n",
       "\n",
       "    .dataframe tbody tr th {\n",
       "        vertical-align: top;\n",
       "    }\n",
       "\n",
       "    .dataframe thead th {\n",
       "        text-align: right;\n",
       "    }\n",
       "</style>\n",
       "<table border=\"1\" class=\"dataframe\">\n",
       "  <thead>\n",
       "    <tr style=\"text-align: right;\">\n",
       "      <th></th>\n",
       "      <th>HALSTEAD_DIFFICULTY</th>\n",
       "      <th>HALSTEAD_EFFORT</th>\n",
       "      <th>HALSTEAD_ERROR_EST</th>\n",
       "      <th>LOC_EXECUTABLE</th>\n",
       "      <th>CYCLOMATIC_COMPLEXITY</th>\n",
       "      <th>DECISION_COUNT</th>\n",
       "      <th>ESSENTIAL_COMPLEXITY</th>\n",
       "      <th>DESIGN_DENSITY</th>\n",
       "      <th>DESIGN_COMPLEXITY</th>\n",
       "      <th>Defective</th>\n",
       "    </tr>\n",
       "  </thead>\n",
       "  <tbody>\n",
       "    <tr>\n",
       "      <th>0</th>\n",
       "      <td>4.38</td>\n",
       "      <td>227.03</td>\n",
       "      <td>0.02</td>\n",
       "      <td>9.0</td>\n",
       "      <td>2.0</td>\n",
       "      <td>2.0</td>\n",
       "      <td>1.0</td>\n",
       "      <td>0.50</td>\n",
       "      <td>1.0</td>\n",
       "      <td>0</td>\n",
       "    </tr>\n",
       "    <tr>\n",
       "      <th>1</th>\n",
       "      <td>12.00</td>\n",
       "      <td>1569.59</td>\n",
       "      <td>0.04</td>\n",
       "      <td>11.0</td>\n",
       "      <td>2.0</td>\n",
       "      <td>2.0</td>\n",
       "      <td>1.0</td>\n",
       "      <td>0.50</td>\n",
       "      <td>1.0</td>\n",
       "      <td>0</td>\n",
       "    </tr>\n",
       "    <tr>\n",
       "      <th>2</th>\n",
       "      <td>41.38</td>\n",
       "      <td>99929.77</td>\n",
       "      <td>0.80</td>\n",
       "      <td>104.0</td>\n",
       "      <td>18.0</td>\n",
       "      <td>24.0</td>\n",
       "      <td>13.0</td>\n",
       "      <td>0.39</td>\n",
       "      <td>7.0</td>\n",
       "      <td>0</td>\n",
       "    </tr>\n",
       "    <tr>\n",
       "      <th>3</th>\n",
       "      <td>13.19</td>\n",
       "      <td>9840.36</td>\n",
       "      <td>0.25</td>\n",
       "      <td>41.0</td>\n",
       "      <td>4.0</td>\n",
       "      <td>6.0</td>\n",
       "      <td>3.0</td>\n",
       "      <td>0.75</td>\n",
       "      <td>3.0</td>\n",
       "      <td>1</td>\n",
       "    </tr>\n",
       "    <tr>\n",
       "      <th>4</th>\n",
       "      <td>13.74</td>\n",
       "      <td>6655.21</td>\n",
       "      <td>0.16</td>\n",
       "      <td>27.0</td>\n",
       "      <td>8.0</td>\n",
       "      <td>14.0</td>\n",
       "      <td>4.0</td>\n",
       "      <td>0.75</td>\n",
       "      <td>6.0</td>\n",
       "      <td>0</td>\n",
       "    </tr>\n",
       "    <tr>\n",
       "      <th>...</th>\n",
       "      <td>...</td>\n",
       "      <td>...</td>\n",
       "      <td>...</td>\n",
       "      <td>...</td>\n",
       "      <td>...</td>\n",
       "      <td>...</td>\n",
       "      <td>...</td>\n",
       "      <td>...</td>\n",
       "      <td>...</td>\n",
       "      <td>...</td>\n",
       "    </tr>\n",
       "    <tr>\n",
       "      <th>322</th>\n",
       "      <td>57.00</td>\n",
       "      <td>150670.96</td>\n",
       "      <td>0.88</td>\n",
       "      <td>92.0</td>\n",
       "      <td>15.0</td>\n",
       "      <td>28.0</td>\n",
       "      <td>15.0</td>\n",
       "      <td>1.00</td>\n",
       "      <td>15.0</td>\n",
       "      <td>0</td>\n",
       "    </tr>\n",
       "    <tr>\n",
       "      <th>323</th>\n",
       "      <td>10.29</td>\n",
       "      <td>3750.81</td>\n",
       "      <td>0.12</td>\n",
       "      <td>18.0</td>\n",
       "      <td>2.0</td>\n",
       "      <td>2.0</td>\n",
       "      <td>1.0</td>\n",
       "      <td>1.00</td>\n",
       "      <td>2.0</td>\n",
       "      <td>0</td>\n",
       "    </tr>\n",
       "    <tr>\n",
       "      <th>324</th>\n",
       "      <td>9.63</td>\n",
       "      <td>1373.50</td>\n",
       "      <td>0.05</td>\n",
       "      <td>11.0</td>\n",
       "      <td>2.0</td>\n",
       "      <td>2.0</td>\n",
       "      <td>1.0</td>\n",
       "      <td>0.50</td>\n",
       "      <td>1.0</td>\n",
       "      <td>0</td>\n",
       "    </tr>\n",
       "    <tr>\n",
       "      <th>325</th>\n",
       "      <td>22.11</td>\n",
       "      <td>13319.21</td>\n",
       "      <td>0.20</td>\n",
       "      <td>22.0</td>\n",
       "      <td>5.0</td>\n",
       "      <td>8.0</td>\n",
       "      <td>1.0</td>\n",
       "      <td>0.40</td>\n",
       "      <td>2.0</td>\n",
       "      <td>0</td>\n",
       "    </tr>\n",
       "    <tr>\n",
       "      <th>326</th>\n",
       "      <td>7.27</td>\n",
       "      <td>1181.93</td>\n",
       "      <td>0.05</td>\n",
       "      <td>10.0</td>\n",
       "      <td>2.0</td>\n",
       "      <td>2.0</td>\n",
       "      <td>1.0</td>\n",
       "      <td>1.00</td>\n",
       "      <td>2.0</td>\n",
       "      <td>0</td>\n",
       "    </tr>\n",
       "  </tbody>\n",
       "</table>\n",
       "<p>327 rows × 10 columns</p>\n",
       "</div>"
      ],
      "text/plain": [
       "     HALSTEAD_DIFFICULTY  HALSTEAD_EFFORT  HALSTEAD_ERROR_EST  LOC_EXECUTABLE  \\\n",
       "0                   4.38           227.03                0.02             9.0   \n",
       "1                  12.00          1569.59                0.04            11.0   \n",
       "2                  41.38         99929.77                0.80           104.0   \n",
       "3                  13.19          9840.36                0.25            41.0   \n",
       "4                  13.74          6655.21                0.16            27.0   \n",
       "..                   ...              ...                 ...             ...   \n",
       "322                57.00        150670.96                0.88            92.0   \n",
       "323                10.29          3750.81                0.12            18.0   \n",
       "324                 9.63          1373.50                0.05            11.0   \n",
       "325                22.11         13319.21                0.20            22.0   \n",
       "326                 7.27          1181.93                0.05            10.0   \n",
       "\n",
       "     CYCLOMATIC_COMPLEXITY  DECISION_COUNT  ESSENTIAL_COMPLEXITY  \\\n",
       "0                      2.0             2.0                   1.0   \n",
       "1                      2.0             2.0                   1.0   \n",
       "2                     18.0            24.0                  13.0   \n",
       "3                      4.0             6.0                   3.0   \n",
       "4                      8.0            14.0                   4.0   \n",
       "..                     ...             ...                   ...   \n",
       "322                   15.0            28.0                  15.0   \n",
       "323                    2.0             2.0                   1.0   \n",
       "324                    2.0             2.0                   1.0   \n",
       "325                    5.0             8.0                   1.0   \n",
       "326                    2.0             2.0                   1.0   \n",
       "\n",
       "     DESIGN_DENSITY  DESIGN_COMPLEXITY  Defective  \n",
       "0              0.50                1.0          0  \n",
       "1              0.50                1.0          0  \n",
       "2              0.39                7.0          0  \n",
       "3              0.75                3.0          1  \n",
       "4              0.75                6.0          0  \n",
       "..              ...                ...        ...  \n",
       "322            1.00               15.0          0  \n",
       "323            1.00                2.0          0  \n",
       "324            0.50                1.0          0  \n",
       "325            0.40                2.0          0  \n",
       "326            1.00                2.0          0  \n",
       "\n",
       "[327 rows x 10 columns]"
      ]
     },
     "execution_count": 7,
     "metadata": {},
     "output_type": "execute_result"
    }
   ],
   "source": [
    "analysis_dataset = cm_1_dataset[[\n",
    "    \"HALSTEAD_DIFFICULTY\", \n",
    "    \"HALSTEAD_EFFORT\", \n",
    "    \"HALSTEAD_ERROR_EST\",\n",
    "    \"LOC_EXECUTABLE\",\n",
    "    \"CYCLOMATIC_COMPLEXITY\",\n",
    "    \"DECISION_COUNT\",\n",
    "    \"ESSENTIAL_COMPLEXITY\",\n",
    "    \"DESIGN_DENSITY\",\n",
    "    \"DESIGN_COMPLEXITY\",\n",
    "    \"Defective\"\n",
    "    ]]\n",
    "# Replace all the 'Y' with 1 and 'N' with 0\n",
    "analysis_dataset = analysis_dataset.replace(to_replace='b\\'Y\\'', value=1)\n",
    "analysis_dataset = analysis_dataset.replace(to_replace='b\\'N\\'', value=0)\n",
    "analysis_dataset"
   ]
  },
  {
   "cell_type": "code",
   "execution_count": 8,
   "metadata": {},
   "outputs": [],
   "source": [
    "# Box plotting the cyclomatic complexity of the defective and non-defective modules\n",
    "non_defective_group = analysis_dataset[analysis_dataset['Defective'] == 0]\n",
    "defective_group = analysis_dataset[analysis_dataset['Defective'] == 1]"
   ]
  },
  {
   "cell_type": "markdown",
   "metadata": {},
   "source": [
    "# Plotting the Data\n",
    "\n",
    "In this section we will be plotting various attributes of the dataset in various ways to get a better understanding of the data.\n",
    "We will use Cufflinks to plot the data. Cufflinks is a library that connects the Pandas data frame with Plotly enabling users to create visualizations directly from Pandas.\n"
   ]
  },
  {
   "cell_type": "markdown",
   "metadata": {},
   "source": [
    "### Box Plot\n",
    "\n",
    "Box plot is a way of showing the distribution of the data over 5 attributes : minimum, maximum, first quartile, second quartile (median) and third quartile. The box extends from the Q1 to Q3 quartile values of the data, with a line at the median (Q2). The whiskers extend from the edges of box to show the range of the data. The position of the whiskers is set by default to 1.5 \\* IQR (IQR = Q3 - Q1) from the edges of the box. Outlier points are those past the end of the whiskers.\n"
   ]
  },
  {
   "cell_type": "code",
   "execution_count": 9,
   "metadata": {},
   "outputs": [
    {
     "data": {
      "text/html": [
       "        <script type=\"text/javascript\">\n",
       "        window.PlotlyConfig = {MathJaxConfig: 'local'};\n",
       "        if (window.MathJax && window.MathJax.Hub && window.MathJax.Hub.Config) {window.MathJax.Hub.Config({SVG: {font: \"STIX-Web\"}});}\n",
       "        if (typeof require !== 'undefined') {\n",
       "        require.undef(\"plotly\");\n",
       "        requirejs.config({\n",
       "            paths: {\n",
       "                'plotly': ['https://cdn.plot.ly/plotly-2.27.0.min']\n",
       "            }\n",
       "        });\n",
       "        require(['plotly'], function(Plotly) {\n",
       "            window._Plotly = Plotly;\n",
       "        });\n",
       "        }\n",
       "        </script>\n",
       "        "
      ]
     },
     "metadata": {},
     "output_type": "display_data"
    },
    {
     "data": {
      "text/html": [
       "        <script type=\"text/javascript\">\n",
       "        window.PlotlyConfig = {MathJaxConfig: 'local'};\n",
       "        if (window.MathJax && window.MathJax.Hub && window.MathJax.Hub.Config) {window.MathJax.Hub.Config({SVG: {font: \"STIX-Web\"}});}\n",
       "        if (typeof require !== 'undefined') {\n",
       "        require.undef(\"plotly\");\n",
       "        requirejs.config({\n",
       "            paths: {\n",
       "                'plotly': ['https://cdn.plot.ly/plotly-2.27.0.min']\n",
       "            }\n",
       "        });\n",
       "        require(['plotly'], function(Plotly) {\n",
       "            window._Plotly = Plotly;\n",
       "        });\n",
       "        }\n",
       "        </script>\n",
       "        "
      ]
     },
     "metadata": {},
     "output_type": "display_data"
    }
   ],
   "source": [
    "import cufflinks as cf\n",
    "import nbformat\n",
    "cf.go_offline()"
   ]
  },
  {
   "cell_type": "markdown",
   "metadata": {},
   "source": [
    "For example, we will take a look at the distribution of Halstead Error Estimate for the defective and non-defective modules.\n"
   ]
  },
  {
   "cell_type": "code",
   "execution_count": 10,
   "metadata": {},
   "outputs": [
    {
     "data": {
      "application/vnd.plotly.v1+json": {
       "config": {
        "linkText": "Export to plot.ly",
        "plotlyServerURL": "https://plot.ly",
        "showLink": true
       },
       "data": [
        {
         "boxpoints": false,
         "line": {
          "width": 1.3
         },
         "marker": {
          "color": "rgba(255, 153, 51, 1.0)"
         },
         "name": "HALSTEAD_ERROR_EST",
         "orientation": "h",
         "type": "box",
         "x": [
          0.02,
          0.04,
          0.8,
          0.16,
          0.18,
          0.06,
          0.09,
          0.54,
          0.18,
          0.3,
          0.18,
          0.03,
          0.1,
          0.17,
          0.1,
          0.24,
          0.2,
          0.15,
          0.09,
          0.25,
          1.2,
          0.06,
          0.25,
          0.04,
          0.03,
          0.13,
          0.18,
          0.13,
          0.26,
          0.5,
          1.34,
          2.84,
          0.08,
          0.02,
          0.25,
          0.23,
          0.24,
          0.05,
          1.86,
          0.21,
          5.12,
          0.02,
          0.24,
          0.12,
          1.82,
          0.54,
          0.12,
          0.08,
          0.35,
          0.04,
          0.18,
          0.16,
          0.25,
          0.15,
          0.18,
          0.09,
          0.09,
          0.38,
          0.27,
          0.37,
          0.43,
          1.71,
          0.03,
          0.04,
          0.1,
          0.06,
          0.17,
          0.26,
          0.09,
          0.13,
          0.09,
          0.21,
          0.11,
          1.11,
          0.58,
          0.09,
          0.05,
          0.18,
          0.16,
          0.04,
          0.65,
          0.11,
          0.02,
          0.17,
          1.14,
          0.1,
          1.65,
          0.07,
          0.41,
          0.12,
          0.07,
          0.1,
          0.25,
          0.34,
          0.08,
          0.61,
          1.74,
          0.02,
          0.2,
          0.12,
          0.48,
          1.04,
          0.16,
          0.16,
          0.21,
          0.18,
          0.11,
          0.58,
          0.12,
          0.04,
          0.06,
          0.11,
          0.06,
          0.26,
          0.45,
          0.35,
          0.14,
          0.04,
          0.22,
          0.55,
          0.17,
          0.24,
          0.06,
          0.04,
          0.16,
          0.09,
          0.38,
          0.3,
          0.72,
          0.09,
          0.04,
          0.06,
          0.1,
          0.09,
          1.22,
          0.06,
          0.17,
          0.11,
          0.28,
          0.12,
          0.53,
          1.56,
          0.13,
          0.31,
          1.15,
          0.06,
          0.29,
          0.08,
          5.56,
          0.24,
          0.16,
          0.55,
          0.12,
          0.06,
          0.43,
          0.06,
          0.27,
          0.87,
          0.14,
          0.08,
          0.15,
          1.89,
          0.57,
          0.68,
          0.06,
          0.1,
          1.06,
          0.66,
          1,
          0.23,
          0.26,
          0.3,
          0.14,
          0.17,
          0.1,
          0.5,
          1.16,
          0.18,
          0.1,
          0.6,
          0.06,
          1.11,
          0.09,
          0.11,
          0.36,
          1.86,
          0.03,
          0.02,
          0.05,
          0.21,
          0.38,
          1.95,
          0.12,
          0.13,
          0.04,
          0.87,
          0.16,
          0.91,
          0.3,
          0.93,
          0.07,
          0.07,
          0.19,
          0.2,
          0.12,
          0.73,
          0.08,
          0.03,
          0.02,
          0.01,
          0.09,
          0.43,
          0.72,
          0.19,
          0.1,
          0.16,
          0.28,
          0.05,
          1.25,
          0.12,
          0.83,
          0.04,
          0.02,
          0.03,
          0.76,
          1.09,
          1.86,
          0.49,
          0.06,
          0.14,
          0.27,
          0.29,
          0.54,
          0.02,
          0.08,
          0.28,
          0.27,
          0.43,
          0.31,
          0.58,
          0.12,
          0.05,
          0.17,
          0.35,
          1.7,
          0.13,
          0.06,
          0.37,
          0.12,
          0.44,
          0.9,
          0.02,
          0.03,
          1.04,
          0.17,
          0.34,
          0.13,
          0.44,
          0.22,
          0.05,
          0.36,
          0.3,
          0.72,
          0.11,
          0.14,
          0.18,
          0.03,
          0.06,
          0.28,
          0.52,
          0.07,
          0.1,
          0.59,
          0.04,
          0.37,
          0.12,
          0.24,
          0.54,
          0.1,
          0.31,
          0.88,
          0.12,
          0.05,
          0.2,
          0.05
         ]
        }
       ],
       "layout": {
        "height": 500,
        "legend": {
         "bgcolor": "#151516",
         "font": {
          "color": "#D9D9D9"
         }
        },
        "paper_bgcolor": "#151516",
        "plot_bgcolor": "#151516",
        "template": {
         "data": {
          "bar": [
           {
            "error_x": {
             "color": "#2a3f5f"
            },
            "error_y": {
             "color": "#2a3f5f"
            },
            "marker": {
             "line": {
              "color": "#E5ECF6",
              "width": 0.5
             },
             "pattern": {
              "fillmode": "overlay",
              "size": 10,
              "solidity": 0.2
             }
            },
            "type": "bar"
           }
          ],
          "barpolar": [
           {
            "marker": {
             "line": {
              "color": "#E5ECF6",
              "width": 0.5
             },
             "pattern": {
              "fillmode": "overlay",
              "size": 10,
              "solidity": 0.2
             }
            },
            "type": "barpolar"
           }
          ],
          "carpet": [
           {
            "aaxis": {
             "endlinecolor": "#2a3f5f",
             "gridcolor": "white",
             "linecolor": "white",
             "minorgridcolor": "white",
             "startlinecolor": "#2a3f5f"
            },
            "baxis": {
             "endlinecolor": "#2a3f5f",
             "gridcolor": "white",
             "linecolor": "white",
             "minorgridcolor": "white",
             "startlinecolor": "#2a3f5f"
            },
            "type": "carpet"
           }
          ],
          "choropleth": [
           {
            "colorbar": {
             "outlinewidth": 0,
             "ticks": ""
            },
            "type": "choropleth"
           }
          ],
          "contour": [
           {
            "colorbar": {
             "outlinewidth": 0,
             "ticks": ""
            },
            "colorscale": [
             [
              0,
              "#0d0887"
             ],
             [
              0.1111111111111111,
              "#46039f"
             ],
             [
              0.2222222222222222,
              "#7201a8"
             ],
             [
              0.3333333333333333,
              "#9c179e"
             ],
             [
              0.4444444444444444,
              "#bd3786"
             ],
             [
              0.5555555555555556,
              "#d8576b"
             ],
             [
              0.6666666666666666,
              "#ed7953"
             ],
             [
              0.7777777777777778,
              "#fb9f3a"
             ],
             [
              0.8888888888888888,
              "#fdca26"
             ],
             [
              1,
              "#f0f921"
             ]
            ],
            "type": "contour"
           }
          ],
          "contourcarpet": [
           {
            "colorbar": {
             "outlinewidth": 0,
             "ticks": ""
            },
            "type": "contourcarpet"
           }
          ],
          "heatmap": [
           {
            "colorbar": {
             "outlinewidth": 0,
             "ticks": ""
            },
            "colorscale": [
             [
              0,
              "#0d0887"
             ],
             [
              0.1111111111111111,
              "#46039f"
             ],
             [
              0.2222222222222222,
              "#7201a8"
             ],
             [
              0.3333333333333333,
              "#9c179e"
             ],
             [
              0.4444444444444444,
              "#bd3786"
             ],
             [
              0.5555555555555556,
              "#d8576b"
             ],
             [
              0.6666666666666666,
              "#ed7953"
             ],
             [
              0.7777777777777778,
              "#fb9f3a"
             ],
             [
              0.8888888888888888,
              "#fdca26"
             ],
             [
              1,
              "#f0f921"
             ]
            ],
            "type": "heatmap"
           }
          ],
          "heatmapgl": [
           {
            "colorbar": {
             "outlinewidth": 0,
             "ticks": ""
            },
            "colorscale": [
             [
              0,
              "#0d0887"
             ],
             [
              0.1111111111111111,
              "#46039f"
             ],
             [
              0.2222222222222222,
              "#7201a8"
             ],
             [
              0.3333333333333333,
              "#9c179e"
             ],
             [
              0.4444444444444444,
              "#bd3786"
             ],
             [
              0.5555555555555556,
              "#d8576b"
             ],
             [
              0.6666666666666666,
              "#ed7953"
             ],
             [
              0.7777777777777778,
              "#fb9f3a"
             ],
             [
              0.8888888888888888,
              "#fdca26"
             ],
             [
              1,
              "#f0f921"
             ]
            ],
            "type": "heatmapgl"
           }
          ],
          "histogram": [
           {
            "marker": {
             "pattern": {
              "fillmode": "overlay",
              "size": 10,
              "solidity": 0.2
             }
            },
            "type": "histogram"
           }
          ],
          "histogram2d": [
           {
            "colorbar": {
             "outlinewidth": 0,
             "ticks": ""
            },
            "colorscale": [
             [
              0,
              "#0d0887"
             ],
             [
              0.1111111111111111,
              "#46039f"
             ],
             [
              0.2222222222222222,
              "#7201a8"
             ],
             [
              0.3333333333333333,
              "#9c179e"
             ],
             [
              0.4444444444444444,
              "#bd3786"
             ],
             [
              0.5555555555555556,
              "#d8576b"
             ],
             [
              0.6666666666666666,
              "#ed7953"
             ],
             [
              0.7777777777777778,
              "#fb9f3a"
             ],
             [
              0.8888888888888888,
              "#fdca26"
             ],
             [
              1,
              "#f0f921"
             ]
            ],
            "type": "histogram2d"
           }
          ],
          "histogram2dcontour": [
           {
            "colorbar": {
             "outlinewidth": 0,
             "ticks": ""
            },
            "colorscale": [
             [
              0,
              "#0d0887"
             ],
             [
              0.1111111111111111,
              "#46039f"
             ],
             [
              0.2222222222222222,
              "#7201a8"
             ],
             [
              0.3333333333333333,
              "#9c179e"
             ],
             [
              0.4444444444444444,
              "#bd3786"
             ],
             [
              0.5555555555555556,
              "#d8576b"
             ],
             [
              0.6666666666666666,
              "#ed7953"
             ],
             [
              0.7777777777777778,
              "#fb9f3a"
             ],
             [
              0.8888888888888888,
              "#fdca26"
             ],
             [
              1,
              "#f0f921"
             ]
            ],
            "type": "histogram2dcontour"
           }
          ],
          "mesh3d": [
           {
            "colorbar": {
             "outlinewidth": 0,
             "ticks": ""
            },
            "type": "mesh3d"
           }
          ],
          "parcoords": [
           {
            "line": {
             "colorbar": {
              "outlinewidth": 0,
              "ticks": ""
             }
            },
            "type": "parcoords"
           }
          ],
          "pie": [
           {
            "automargin": true,
            "type": "pie"
           }
          ],
          "scatter": [
           {
            "fillpattern": {
             "fillmode": "overlay",
             "size": 10,
             "solidity": 0.2
            },
            "type": "scatter"
           }
          ],
          "scatter3d": [
           {
            "line": {
             "colorbar": {
              "outlinewidth": 0,
              "ticks": ""
             }
            },
            "marker": {
             "colorbar": {
              "outlinewidth": 0,
              "ticks": ""
             }
            },
            "type": "scatter3d"
           }
          ],
          "scattercarpet": [
           {
            "marker": {
             "colorbar": {
              "outlinewidth": 0,
              "ticks": ""
             }
            },
            "type": "scattercarpet"
           }
          ],
          "scattergeo": [
           {
            "marker": {
             "colorbar": {
              "outlinewidth": 0,
              "ticks": ""
             }
            },
            "type": "scattergeo"
           }
          ],
          "scattergl": [
           {
            "marker": {
             "colorbar": {
              "outlinewidth": 0,
              "ticks": ""
             }
            },
            "type": "scattergl"
           }
          ],
          "scattermapbox": [
           {
            "marker": {
             "colorbar": {
              "outlinewidth": 0,
              "ticks": ""
             }
            },
            "type": "scattermapbox"
           }
          ],
          "scatterpolar": [
           {
            "marker": {
             "colorbar": {
              "outlinewidth": 0,
              "ticks": ""
             }
            },
            "type": "scatterpolar"
           }
          ],
          "scatterpolargl": [
           {
            "marker": {
             "colorbar": {
              "outlinewidth": 0,
              "ticks": ""
             }
            },
            "type": "scatterpolargl"
           }
          ],
          "scatterternary": [
           {
            "marker": {
             "colorbar": {
              "outlinewidth": 0,
              "ticks": ""
             }
            },
            "type": "scatterternary"
           }
          ],
          "surface": [
           {
            "colorbar": {
             "outlinewidth": 0,
             "ticks": ""
            },
            "colorscale": [
             [
              0,
              "#0d0887"
             ],
             [
              0.1111111111111111,
              "#46039f"
             ],
             [
              0.2222222222222222,
              "#7201a8"
             ],
             [
              0.3333333333333333,
              "#9c179e"
             ],
             [
              0.4444444444444444,
              "#bd3786"
             ],
             [
              0.5555555555555556,
              "#d8576b"
             ],
             [
              0.6666666666666666,
              "#ed7953"
             ],
             [
              0.7777777777777778,
              "#fb9f3a"
             ],
             [
              0.8888888888888888,
              "#fdca26"
             ],
             [
              1,
              "#f0f921"
             ]
            ],
            "type": "surface"
           }
          ],
          "table": [
           {
            "cells": {
             "fill": {
              "color": "#EBF0F8"
             },
             "line": {
              "color": "white"
             }
            },
            "header": {
             "fill": {
              "color": "#C8D4E3"
             },
             "line": {
              "color": "white"
             }
            },
            "type": "table"
           }
          ]
         },
         "layout": {
          "annotationdefaults": {
           "arrowcolor": "#2a3f5f",
           "arrowhead": 0,
           "arrowwidth": 1
          },
          "autotypenumbers": "strict",
          "coloraxis": {
           "colorbar": {
            "outlinewidth": 0,
            "ticks": ""
           }
          },
          "colorscale": {
           "diverging": [
            [
             0,
             "#8e0152"
            ],
            [
             0.1,
             "#c51b7d"
            ],
            [
             0.2,
             "#de77ae"
            ],
            [
             0.3,
             "#f1b6da"
            ],
            [
             0.4,
             "#fde0ef"
            ],
            [
             0.5,
             "#f7f7f7"
            ],
            [
             0.6,
             "#e6f5d0"
            ],
            [
             0.7,
             "#b8e186"
            ],
            [
             0.8,
             "#7fbc41"
            ],
            [
             0.9,
             "#4d9221"
            ],
            [
             1,
             "#276419"
            ]
           ],
           "sequential": [
            [
             0,
             "#0d0887"
            ],
            [
             0.1111111111111111,
             "#46039f"
            ],
            [
             0.2222222222222222,
             "#7201a8"
            ],
            [
             0.3333333333333333,
             "#9c179e"
            ],
            [
             0.4444444444444444,
             "#bd3786"
            ],
            [
             0.5555555555555556,
             "#d8576b"
            ],
            [
             0.6666666666666666,
             "#ed7953"
            ],
            [
             0.7777777777777778,
             "#fb9f3a"
            ],
            [
             0.8888888888888888,
             "#fdca26"
            ],
            [
             1,
             "#f0f921"
            ]
           ],
           "sequentialminus": [
            [
             0,
             "#0d0887"
            ],
            [
             0.1111111111111111,
             "#46039f"
            ],
            [
             0.2222222222222222,
             "#7201a8"
            ],
            [
             0.3333333333333333,
             "#9c179e"
            ],
            [
             0.4444444444444444,
             "#bd3786"
            ],
            [
             0.5555555555555556,
             "#d8576b"
            ],
            [
             0.6666666666666666,
             "#ed7953"
            ],
            [
             0.7777777777777778,
             "#fb9f3a"
            ],
            [
             0.8888888888888888,
             "#fdca26"
            ],
            [
             1,
             "#f0f921"
            ]
           ]
          },
          "colorway": [
           "#636efa",
           "#EF553B",
           "#00cc96",
           "#ab63fa",
           "#FFA15A",
           "#19d3f3",
           "#FF6692",
           "#B6E880",
           "#FF97FF",
           "#FECB52"
          ],
          "font": {
           "color": "#2a3f5f"
          },
          "geo": {
           "bgcolor": "white",
           "lakecolor": "white",
           "landcolor": "#E5ECF6",
           "showlakes": true,
           "showland": true,
           "subunitcolor": "white"
          },
          "hoverlabel": {
           "align": "left"
          },
          "hovermode": "closest",
          "mapbox": {
           "style": "light"
          },
          "paper_bgcolor": "white",
          "plot_bgcolor": "#E5ECF6",
          "polar": {
           "angularaxis": {
            "gridcolor": "white",
            "linecolor": "white",
            "ticks": ""
           },
           "bgcolor": "#E5ECF6",
           "radialaxis": {
            "gridcolor": "white",
            "linecolor": "white",
            "ticks": ""
           }
          },
          "scene": {
           "xaxis": {
            "backgroundcolor": "#E5ECF6",
            "gridcolor": "white",
            "gridwidth": 2,
            "linecolor": "white",
            "showbackground": true,
            "ticks": "",
            "zerolinecolor": "white"
           },
           "yaxis": {
            "backgroundcolor": "#E5ECF6",
            "gridcolor": "white",
            "gridwidth": 2,
            "linecolor": "white",
            "showbackground": true,
            "ticks": "",
            "zerolinecolor": "white"
           },
           "zaxis": {
            "backgroundcolor": "#E5ECF6",
            "gridcolor": "white",
            "gridwidth": 2,
            "linecolor": "white",
            "showbackground": true,
            "ticks": "",
            "zerolinecolor": "white"
           }
          },
          "shapedefaults": {
           "line": {
            "color": "#2a3f5f"
           }
          },
          "ternary": {
           "aaxis": {
            "gridcolor": "white",
            "linecolor": "white",
            "ticks": ""
           },
           "baxis": {
            "gridcolor": "white",
            "linecolor": "white",
            "ticks": ""
           },
           "bgcolor": "#E5ECF6",
           "caxis": {
            "gridcolor": "white",
            "linecolor": "white",
            "ticks": ""
           }
          },
          "title": {
           "x": 0.05
          },
          "xaxis": {
           "automargin": true,
           "gridcolor": "white",
           "linecolor": "white",
           "ticks": "",
           "title": {
            "standoff": 15
           },
           "zerolinecolor": "white",
           "zerolinewidth": 2
          },
          "yaxis": {
           "automargin": true,
           "gridcolor": "white",
           "linecolor": "white",
           "ticks": "",
           "title": {
            "standoff": 15
           },
           "zerolinecolor": "white",
           "zerolinewidth": 2
          }
         }
        },
        "title": {
         "font": {
          "color": "#D9D9D9"
         },
         "text": "Box plot of Halstead Error Estimate of Non-Defective Modules"
        },
        "width": 900,
        "xaxis": {
         "gridcolor": "#434343",
         "showgrid": true,
         "tickfont": {
          "color": "#C2C2C2"
         },
         "title": {
          "font": {
           "color": "#D9D9D9"
          },
          "text": ""
         },
         "zerolinecolor": "#666570"
        },
        "yaxis": {
         "gridcolor": "#434343",
         "showgrid": true,
         "tickfont": {
          "color": "#C2C2C2"
         },
         "title": {
          "font": {
           "color": "#D9D9D9"
          },
          "text": ""
         },
         "zerolinecolor": "#666570"
        }
       }
      },
      "text/html": [
       "<div>                            <div id=\"4cabfee6-aec7-4a96-a660-5167b217977d\" class=\"plotly-graph-div\" style=\"height:500px; width:900px;\"></div>            <script type=\"text/javascript\">                require([\"plotly\"], function(Plotly) {                    window.PLOTLYENV=window.PLOTLYENV || {};\n",
       "                    window.PLOTLYENV.BASE_URL='https://plot.ly';                                    if (document.getElementById(\"4cabfee6-aec7-4a96-a660-5167b217977d\")) {                    Plotly.newPlot(                        \"4cabfee6-aec7-4a96-a660-5167b217977d\",                        [{\"boxpoints\":false,\"line\":{\"width\":1.3},\"marker\":{\"color\":\"rgba(255, 153, 51, 1.0)\"},\"name\":\"HALSTEAD_ERROR_EST\",\"orientation\":\"h\",\"x\":[0.02,0.04,0.8,0.16,0.18,0.06,0.09,0.54,0.18,0.3,0.18,0.03,0.1,0.17,0.1,0.24,0.2,0.15,0.09,0.25,1.2,0.06,0.25,0.04,0.03,0.13,0.18,0.13,0.26,0.5,1.34,2.84,0.08,0.02,0.25,0.23,0.24,0.05,1.86,0.21,5.12,0.02,0.24,0.12,1.82,0.54,0.12,0.08,0.35,0.04,0.18,0.16,0.25,0.15,0.18,0.09,0.09,0.38,0.27,0.37,0.43,1.71,0.03,0.04,0.1,0.06,0.17,0.26,0.09,0.13,0.09,0.21,0.11,1.11,0.58,0.09,0.05,0.18,0.16,0.04,0.65,0.11,0.02,0.17,1.14,0.1,1.65,0.07,0.41,0.12,0.07,0.1,0.25,0.34,0.08,0.61,1.74,0.02,0.2,0.12,0.48,1.04,0.16,0.16,0.21,0.18,0.11,0.58,0.12,0.04,0.06,0.11,0.06,0.26,0.45,0.35,0.14,0.04,0.22,0.55,0.17,0.24,0.06,0.04,0.16,0.09,0.38,0.3,0.72,0.09,0.04,0.06,0.1,0.09,1.22,0.06,0.17,0.11,0.28,0.12,0.53,1.56,0.13,0.31,1.15,0.06,0.29,0.08,5.56,0.24,0.16,0.55,0.12,0.06,0.43,0.06,0.27,0.87,0.14,0.08,0.15,1.89,0.57,0.68,0.06,0.1,1.06,0.66,1.0,0.23,0.26,0.3,0.14,0.17,0.1,0.5,1.16,0.18,0.1,0.6,0.06,1.11,0.09,0.11,0.36,1.86,0.03,0.02,0.05,0.21,0.38,1.95,0.12,0.13,0.04,0.87,0.16,0.91,0.3,0.93,0.07,0.07,0.19,0.2,0.12,0.73,0.08,0.03,0.02,0.01,0.09,0.43,0.72,0.19,0.1,0.16,0.28,0.05,1.25,0.12,0.83,0.04,0.02,0.03,0.76,1.09,1.86,0.49,0.06,0.14,0.27,0.29,0.54,0.02,0.08,0.28,0.27,0.43,0.31,0.58,0.12,0.05,0.17,0.35,1.7,0.13,0.06,0.37,0.12,0.44,0.9,0.02,0.03,1.04,0.17,0.34,0.13,0.44,0.22,0.05,0.36,0.3,0.72,0.11,0.14,0.18,0.03,0.06,0.28,0.52,0.07,0.1,0.59,0.04,0.37,0.12,0.24,0.54,0.1,0.31,0.88,0.12,0.05,0.2,0.05],\"type\":\"box\"}],                        {\"height\":500,\"legend\":{\"bgcolor\":\"#151516\",\"font\":{\"color\":\"#D9D9D9\"}},\"paper_bgcolor\":\"#151516\",\"plot_bgcolor\":\"#151516\",\"template\":{\"data\":{\"barpolar\":[{\"marker\":{\"line\":{\"color\":\"#E5ECF6\",\"width\":0.5},\"pattern\":{\"fillmode\":\"overlay\",\"size\":10,\"solidity\":0.2}},\"type\":\"barpolar\"}],\"bar\":[{\"error_x\":{\"color\":\"#2a3f5f\"},\"error_y\":{\"color\":\"#2a3f5f\"},\"marker\":{\"line\":{\"color\":\"#E5ECF6\",\"width\":0.5},\"pattern\":{\"fillmode\":\"overlay\",\"size\":10,\"solidity\":0.2}},\"type\":\"bar\"}],\"carpet\":[{\"aaxis\":{\"endlinecolor\":\"#2a3f5f\",\"gridcolor\":\"white\",\"linecolor\":\"white\",\"minorgridcolor\":\"white\",\"startlinecolor\":\"#2a3f5f\"},\"baxis\":{\"endlinecolor\":\"#2a3f5f\",\"gridcolor\":\"white\",\"linecolor\":\"white\",\"minorgridcolor\":\"white\",\"startlinecolor\":\"#2a3f5f\"},\"type\":\"carpet\"}],\"choropleth\":[{\"colorbar\":{\"outlinewidth\":0,\"ticks\":\"\"},\"type\":\"choropleth\"}],\"contourcarpet\":[{\"colorbar\":{\"outlinewidth\":0,\"ticks\":\"\"},\"type\":\"contourcarpet\"}],\"contour\":[{\"colorbar\":{\"outlinewidth\":0,\"ticks\":\"\"},\"colorscale\":[[0.0,\"#0d0887\"],[0.1111111111111111,\"#46039f\"],[0.2222222222222222,\"#7201a8\"],[0.3333333333333333,\"#9c179e\"],[0.4444444444444444,\"#bd3786\"],[0.5555555555555556,\"#d8576b\"],[0.6666666666666666,\"#ed7953\"],[0.7777777777777778,\"#fb9f3a\"],[0.8888888888888888,\"#fdca26\"],[1.0,\"#f0f921\"]],\"type\":\"contour\"}],\"heatmapgl\":[{\"colorbar\":{\"outlinewidth\":0,\"ticks\":\"\"},\"colorscale\":[[0.0,\"#0d0887\"],[0.1111111111111111,\"#46039f\"],[0.2222222222222222,\"#7201a8\"],[0.3333333333333333,\"#9c179e\"],[0.4444444444444444,\"#bd3786\"],[0.5555555555555556,\"#d8576b\"],[0.6666666666666666,\"#ed7953\"],[0.7777777777777778,\"#fb9f3a\"],[0.8888888888888888,\"#fdca26\"],[1.0,\"#f0f921\"]],\"type\":\"heatmapgl\"}],\"heatmap\":[{\"colorbar\":{\"outlinewidth\":0,\"ticks\":\"\"},\"colorscale\":[[0.0,\"#0d0887\"],[0.1111111111111111,\"#46039f\"],[0.2222222222222222,\"#7201a8\"],[0.3333333333333333,\"#9c179e\"],[0.4444444444444444,\"#bd3786\"],[0.5555555555555556,\"#d8576b\"],[0.6666666666666666,\"#ed7953\"],[0.7777777777777778,\"#fb9f3a\"],[0.8888888888888888,\"#fdca26\"],[1.0,\"#f0f921\"]],\"type\":\"heatmap\"}],\"histogram2dcontour\":[{\"colorbar\":{\"outlinewidth\":0,\"ticks\":\"\"},\"colorscale\":[[0.0,\"#0d0887\"],[0.1111111111111111,\"#46039f\"],[0.2222222222222222,\"#7201a8\"],[0.3333333333333333,\"#9c179e\"],[0.4444444444444444,\"#bd3786\"],[0.5555555555555556,\"#d8576b\"],[0.6666666666666666,\"#ed7953\"],[0.7777777777777778,\"#fb9f3a\"],[0.8888888888888888,\"#fdca26\"],[1.0,\"#f0f921\"]],\"type\":\"histogram2dcontour\"}],\"histogram2d\":[{\"colorbar\":{\"outlinewidth\":0,\"ticks\":\"\"},\"colorscale\":[[0.0,\"#0d0887\"],[0.1111111111111111,\"#46039f\"],[0.2222222222222222,\"#7201a8\"],[0.3333333333333333,\"#9c179e\"],[0.4444444444444444,\"#bd3786\"],[0.5555555555555556,\"#d8576b\"],[0.6666666666666666,\"#ed7953\"],[0.7777777777777778,\"#fb9f3a\"],[0.8888888888888888,\"#fdca26\"],[1.0,\"#f0f921\"]],\"type\":\"histogram2d\"}],\"histogram\":[{\"marker\":{\"pattern\":{\"fillmode\":\"overlay\",\"size\":10,\"solidity\":0.2}},\"type\":\"histogram\"}],\"mesh3d\":[{\"colorbar\":{\"outlinewidth\":0,\"ticks\":\"\"},\"type\":\"mesh3d\"}],\"parcoords\":[{\"line\":{\"colorbar\":{\"outlinewidth\":0,\"ticks\":\"\"}},\"type\":\"parcoords\"}],\"pie\":[{\"automargin\":true,\"type\":\"pie\"}],\"scatter3d\":[{\"line\":{\"colorbar\":{\"outlinewidth\":0,\"ticks\":\"\"}},\"marker\":{\"colorbar\":{\"outlinewidth\":0,\"ticks\":\"\"}},\"type\":\"scatter3d\"}],\"scattercarpet\":[{\"marker\":{\"colorbar\":{\"outlinewidth\":0,\"ticks\":\"\"}},\"type\":\"scattercarpet\"}],\"scattergeo\":[{\"marker\":{\"colorbar\":{\"outlinewidth\":0,\"ticks\":\"\"}},\"type\":\"scattergeo\"}],\"scattergl\":[{\"marker\":{\"colorbar\":{\"outlinewidth\":0,\"ticks\":\"\"}},\"type\":\"scattergl\"}],\"scattermapbox\":[{\"marker\":{\"colorbar\":{\"outlinewidth\":0,\"ticks\":\"\"}},\"type\":\"scattermapbox\"}],\"scatterpolargl\":[{\"marker\":{\"colorbar\":{\"outlinewidth\":0,\"ticks\":\"\"}},\"type\":\"scatterpolargl\"}],\"scatterpolar\":[{\"marker\":{\"colorbar\":{\"outlinewidth\":0,\"ticks\":\"\"}},\"type\":\"scatterpolar\"}],\"scatter\":[{\"fillpattern\":{\"fillmode\":\"overlay\",\"size\":10,\"solidity\":0.2},\"type\":\"scatter\"}],\"scatterternary\":[{\"marker\":{\"colorbar\":{\"outlinewidth\":0,\"ticks\":\"\"}},\"type\":\"scatterternary\"}],\"surface\":[{\"colorbar\":{\"outlinewidth\":0,\"ticks\":\"\"},\"colorscale\":[[0.0,\"#0d0887\"],[0.1111111111111111,\"#46039f\"],[0.2222222222222222,\"#7201a8\"],[0.3333333333333333,\"#9c179e\"],[0.4444444444444444,\"#bd3786\"],[0.5555555555555556,\"#d8576b\"],[0.6666666666666666,\"#ed7953\"],[0.7777777777777778,\"#fb9f3a\"],[0.8888888888888888,\"#fdca26\"],[1.0,\"#f0f921\"]],\"type\":\"surface\"}],\"table\":[{\"cells\":{\"fill\":{\"color\":\"#EBF0F8\"},\"line\":{\"color\":\"white\"}},\"header\":{\"fill\":{\"color\":\"#C8D4E3\"},\"line\":{\"color\":\"white\"}},\"type\":\"table\"}]},\"layout\":{\"annotationdefaults\":{\"arrowcolor\":\"#2a3f5f\",\"arrowhead\":0,\"arrowwidth\":1},\"autotypenumbers\":\"strict\",\"coloraxis\":{\"colorbar\":{\"outlinewidth\":0,\"ticks\":\"\"}},\"colorscale\":{\"diverging\":[[0,\"#8e0152\"],[0.1,\"#c51b7d\"],[0.2,\"#de77ae\"],[0.3,\"#f1b6da\"],[0.4,\"#fde0ef\"],[0.5,\"#f7f7f7\"],[0.6,\"#e6f5d0\"],[0.7,\"#b8e186\"],[0.8,\"#7fbc41\"],[0.9,\"#4d9221\"],[1,\"#276419\"]],\"sequential\":[[0.0,\"#0d0887\"],[0.1111111111111111,\"#46039f\"],[0.2222222222222222,\"#7201a8\"],[0.3333333333333333,\"#9c179e\"],[0.4444444444444444,\"#bd3786\"],[0.5555555555555556,\"#d8576b\"],[0.6666666666666666,\"#ed7953\"],[0.7777777777777778,\"#fb9f3a\"],[0.8888888888888888,\"#fdca26\"],[1.0,\"#f0f921\"]],\"sequentialminus\":[[0.0,\"#0d0887\"],[0.1111111111111111,\"#46039f\"],[0.2222222222222222,\"#7201a8\"],[0.3333333333333333,\"#9c179e\"],[0.4444444444444444,\"#bd3786\"],[0.5555555555555556,\"#d8576b\"],[0.6666666666666666,\"#ed7953\"],[0.7777777777777778,\"#fb9f3a\"],[0.8888888888888888,\"#fdca26\"],[1.0,\"#f0f921\"]]},\"colorway\":[\"#636efa\",\"#EF553B\",\"#00cc96\",\"#ab63fa\",\"#FFA15A\",\"#19d3f3\",\"#FF6692\",\"#B6E880\",\"#FF97FF\",\"#FECB52\"],\"font\":{\"color\":\"#2a3f5f\"},\"geo\":{\"bgcolor\":\"white\",\"lakecolor\":\"white\",\"landcolor\":\"#E5ECF6\",\"showlakes\":true,\"showland\":true,\"subunitcolor\":\"white\"},\"hoverlabel\":{\"align\":\"left\"},\"hovermode\":\"closest\",\"mapbox\":{\"style\":\"light\"},\"paper_bgcolor\":\"white\",\"plot_bgcolor\":\"#E5ECF6\",\"polar\":{\"angularaxis\":{\"gridcolor\":\"white\",\"linecolor\":\"white\",\"ticks\":\"\"},\"bgcolor\":\"#E5ECF6\",\"radialaxis\":{\"gridcolor\":\"white\",\"linecolor\":\"white\",\"ticks\":\"\"}},\"scene\":{\"xaxis\":{\"backgroundcolor\":\"#E5ECF6\",\"gridcolor\":\"white\",\"gridwidth\":2,\"linecolor\":\"white\",\"showbackground\":true,\"ticks\":\"\",\"zerolinecolor\":\"white\"},\"yaxis\":{\"backgroundcolor\":\"#E5ECF6\",\"gridcolor\":\"white\",\"gridwidth\":2,\"linecolor\":\"white\",\"showbackground\":true,\"ticks\":\"\",\"zerolinecolor\":\"white\"},\"zaxis\":{\"backgroundcolor\":\"#E5ECF6\",\"gridcolor\":\"white\",\"gridwidth\":2,\"linecolor\":\"white\",\"showbackground\":true,\"ticks\":\"\",\"zerolinecolor\":\"white\"}},\"shapedefaults\":{\"line\":{\"color\":\"#2a3f5f\"}},\"ternary\":{\"aaxis\":{\"gridcolor\":\"white\",\"linecolor\":\"white\",\"ticks\":\"\"},\"baxis\":{\"gridcolor\":\"white\",\"linecolor\":\"white\",\"ticks\":\"\"},\"bgcolor\":\"#E5ECF6\",\"caxis\":{\"gridcolor\":\"white\",\"linecolor\":\"white\",\"ticks\":\"\"}},\"title\":{\"x\":0.05},\"xaxis\":{\"automargin\":true,\"gridcolor\":\"white\",\"linecolor\":\"white\",\"ticks\":\"\",\"title\":{\"standoff\":15},\"zerolinecolor\":\"white\",\"zerolinewidth\":2},\"yaxis\":{\"automargin\":true,\"gridcolor\":\"white\",\"linecolor\":\"white\",\"ticks\":\"\",\"title\":{\"standoff\":15},\"zerolinecolor\":\"white\",\"zerolinewidth\":2}}},\"title\":{\"font\":{\"color\":\"#D9D9D9\"},\"text\":\"Box plot of Halstead Error Estimate of Non-Defective Modules\"},\"width\":900,\"xaxis\":{\"gridcolor\":\"#434343\",\"showgrid\":true,\"tickfont\":{\"color\":\"#C2C2C2\"},\"title\":{\"font\":{\"color\":\"#D9D9D9\"},\"text\":\"\"},\"zerolinecolor\":\"#666570\"},\"yaxis\":{\"gridcolor\":\"#434343\",\"showgrid\":true,\"tickfont\":{\"color\":\"#C2C2C2\"},\"title\":{\"font\":{\"color\":\"#D9D9D9\"},\"text\":\"\"},\"zerolinecolor\":\"#666570\"}},                        {\"showLink\": true, \"linkText\": \"Export to plot.ly\", \"plotlyServerURL\": \"https://plot.ly\", \"responsive\": true}                    ).then(function(){\n",
       "                            \n",
       "var gd = document.getElementById('4cabfee6-aec7-4a96-a660-5167b217977d');\n",
       "var x = new MutationObserver(function (mutations, observer) {{\n",
       "        var display = window.getComputedStyle(gd).display;\n",
       "        if (!display || display === 'none') {{\n",
       "            console.log([gd, 'removed!']);\n",
       "            Plotly.purge(gd);\n",
       "            observer.disconnect();\n",
       "        }}\n",
       "}});\n",
       "\n",
       "// Listen for the removal of the full notebook cells\n",
       "var notebookContainer = gd.closest('#notebook-container');\n",
       "if (notebookContainer) {{\n",
       "    x.observe(notebookContainer, {childList: true});\n",
       "}}\n",
       "\n",
       "// Listen for the clearing of the current output cell\n",
       "var outputEl = gd.closest('.output');\n",
       "if (outputEl) {{\n",
       "    x.observe(outputEl, {childList: true});\n",
       "}}\n",
       "\n",
       "                        })                };                });            </script>        </div>"
      ]
     },
     "metadata": {},
     "output_type": "display_data"
    }
   ],
   "source": [
    "\n",
    "non_defective_group[[\"HALSTEAD_ERROR_EST\"]].iplot(\n",
    "    kind='box', \n",
    "    title='Box plot of Halstead Error Estimate of Non-Defective Modules',\n",
    "    dimensions=(900, 500),\n",
    "    orientation='h',\n",
    "    theme=\"solar\"\n",
    "    )"
   ]
  },
  {
   "cell_type": "code",
   "execution_count": 11,
   "metadata": {},
   "outputs": [
    {
     "data": {
      "application/vnd.plotly.v1+json": {
       "config": {
        "linkText": "Export to plot.ly",
        "plotlyServerURL": "https://plot.ly",
        "showLink": true
       },
       "data": [
        {
         "boxpoints": false,
         "line": {
          "width": 1.3
         },
         "marker": {
          "color": "rgba(255, 153, 51, 1.0)"
         },
         "name": "HALSTEAD_ERROR_EST",
         "orientation": "h",
         "type": "box",
         "x": [
          0.25,
          0.2,
          1.69,
          1.43,
          0.44,
          0.19,
          0.19,
          0.15,
          0.05,
          0.58,
          0.05,
          1.25,
          0.15,
          1.67,
          0.87,
          0.21,
          4.25,
          0.15,
          2.08,
          0.41,
          0.28,
          1.05,
          0.28,
          0.76,
          0.13,
          0.22,
          0.42,
          0.66,
          1.27,
          0.32,
          1.39,
          0.52,
          1.4,
          0.33,
          1.12,
          0.1,
          0.41,
          0.11,
          0.18,
          0.77,
          0.35,
          3.05
         ]
        }
       ],
       "layout": {
        "height": 500,
        "legend": {
         "bgcolor": "#151516",
         "font": {
          "color": "#D9D9D9"
         }
        },
        "paper_bgcolor": "#151516",
        "plot_bgcolor": "#151516",
        "template": {
         "data": {
          "bar": [
           {
            "error_x": {
             "color": "#2a3f5f"
            },
            "error_y": {
             "color": "#2a3f5f"
            },
            "marker": {
             "line": {
              "color": "#E5ECF6",
              "width": 0.5
             },
             "pattern": {
              "fillmode": "overlay",
              "size": 10,
              "solidity": 0.2
             }
            },
            "type": "bar"
           }
          ],
          "barpolar": [
           {
            "marker": {
             "line": {
              "color": "#E5ECF6",
              "width": 0.5
             },
             "pattern": {
              "fillmode": "overlay",
              "size": 10,
              "solidity": 0.2
             }
            },
            "type": "barpolar"
           }
          ],
          "carpet": [
           {
            "aaxis": {
             "endlinecolor": "#2a3f5f",
             "gridcolor": "white",
             "linecolor": "white",
             "minorgridcolor": "white",
             "startlinecolor": "#2a3f5f"
            },
            "baxis": {
             "endlinecolor": "#2a3f5f",
             "gridcolor": "white",
             "linecolor": "white",
             "minorgridcolor": "white",
             "startlinecolor": "#2a3f5f"
            },
            "type": "carpet"
           }
          ],
          "choropleth": [
           {
            "colorbar": {
             "outlinewidth": 0,
             "ticks": ""
            },
            "type": "choropleth"
           }
          ],
          "contour": [
           {
            "colorbar": {
             "outlinewidth": 0,
             "ticks": ""
            },
            "colorscale": [
             [
              0,
              "#0d0887"
             ],
             [
              0.1111111111111111,
              "#46039f"
             ],
             [
              0.2222222222222222,
              "#7201a8"
             ],
             [
              0.3333333333333333,
              "#9c179e"
             ],
             [
              0.4444444444444444,
              "#bd3786"
             ],
             [
              0.5555555555555556,
              "#d8576b"
             ],
             [
              0.6666666666666666,
              "#ed7953"
             ],
             [
              0.7777777777777778,
              "#fb9f3a"
             ],
             [
              0.8888888888888888,
              "#fdca26"
             ],
             [
              1,
              "#f0f921"
             ]
            ],
            "type": "contour"
           }
          ],
          "contourcarpet": [
           {
            "colorbar": {
             "outlinewidth": 0,
             "ticks": ""
            },
            "type": "contourcarpet"
           }
          ],
          "heatmap": [
           {
            "colorbar": {
             "outlinewidth": 0,
             "ticks": ""
            },
            "colorscale": [
             [
              0,
              "#0d0887"
             ],
             [
              0.1111111111111111,
              "#46039f"
             ],
             [
              0.2222222222222222,
              "#7201a8"
             ],
             [
              0.3333333333333333,
              "#9c179e"
             ],
             [
              0.4444444444444444,
              "#bd3786"
             ],
             [
              0.5555555555555556,
              "#d8576b"
             ],
             [
              0.6666666666666666,
              "#ed7953"
             ],
             [
              0.7777777777777778,
              "#fb9f3a"
             ],
             [
              0.8888888888888888,
              "#fdca26"
             ],
             [
              1,
              "#f0f921"
             ]
            ],
            "type": "heatmap"
           }
          ],
          "heatmapgl": [
           {
            "colorbar": {
             "outlinewidth": 0,
             "ticks": ""
            },
            "colorscale": [
             [
              0,
              "#0d0887"
             ],
             [
              0.1111111111111111,
              "#46039f"
             ],
             [
              0.2222222222222222,
              "#7201a8"
             ],
             [
              0.3333333333333333,
              "#9c179e"
             ],
             [
              0.4444444444444444,
              "#bd3786"
             ],
             [
              0.5555555555555556,
              "#d8576b"
             ],
             [
              0.6666666666666666,
              "#ed7953"
             ],
             [
              0.7777777777777778,
              "#fb9f3a"
             ],
             [
              0.8888888888888888,
              "#fdca26"
             ],
             [
              1,
              "#f0f921"
             ]
            ],
            "type": "heatmapgl"
           }
          ],
          "histogram": [
           {
            "marker": {
             "pattern": {
              "fillmode": "overlay",
              "size": 10,
              "solidity": 0.2
             }
            },
            "type": "histogram"
           }
          ],
          "histogram2d": [
           {
            "colorbar": {
             "outlinewidth": 0,
             "ticks": ""
            },
            "colorscale": [
             [
              0,
              "#0d0887"
             ],
             [
              0.1111111111111111,
              "#46039f"
             ],
             [
              0.2222222222222222,
              "#7201a8"
             ],
             [
              0.3333333333333333,
              "#9c179e"
             ],
             [
              0.4444444444444444,
              "#bd3786"
             ],
             [
              0.5555555555555556,
              "#d8576b"
             ],
             [
              0.6666666666666666,
              "#ed7953"
             ],
             [
              0.7777777777777778,
              "#fb9f3a"
             ],
             [
              0.8888888888888888,
              "#fdca26"
             ],
             [
              1,
              "#f0f921"
             ]
            ],
            "type": "histogram2d"
           }
          ],
          "histogram2dcontour": [
           {
            "colorbar": {
             "outlinewidth": 0,
             "ticks": ""
            },
            "colorscale": [
             [
              0,
              "#0d0887"
             ],
             [
              0.1111111111111111,
              "#46039f"
             ],
             [
              0.2222222222222222,
              "#7201a8"
             ],
             [
              0.3333333333333333,
              "#9c179e"
             ],
             [
              0.4444444444444444,
              "#bd3786"
             ],
             [
              0.5555555555555556,
              "#d8576b"
             ],
             [
              0.6666666666666666,
              "#ed7953"
             ],
             [
              0.7777777777777778,
              "#fb9f3a"
             ],
             [
              0.8888888888888888,
              "#fdca26"
             ],
             [
              1,
              "#f0f921"
             ]
            ],
            "type": "histogram2dcontour"
           }
          ],
          "mesh3d": [
           {
            "colorbar": {
             "outlinewidth": 0,
             "ticks": ""
            },
            "type": "mesh3d"
           }
          ],
          "parcoords": [
           {
            "line": {
             "colorbar": {
              "outlinewidth": 0,
              "ticks": ""
             }
            },
            "type": "parcoords"
           }
          ],
          "pie": [
           {
            "automargin": true,
            "type": "pie"
           }
          ],
          "scatter": [
           {
            "fillpattern": {
             "fillmode": "overlay",
             "size": 10,
             "solidity": 0.2
            },
            "type": "scatter"
           }
          ],
          "scatter3d": [
           {
            "line": {
             "colorbar": {
              "outlinewidth": 0,
              "ticks": ""
             }
            },
            "marker": {
             "colorbar": {
              "outlinewidth": 0,
              "ticks": ""
             }
            },
            "type": "scatter3d"
           }
          ],
          "scattercarpet": [
           {
            "marker": {
             "colorbar": {
              "outlinewidth": 0,
              "ticks": ""
             }
            },
            "type": "scattercarpet"
           }
          ],
          "scattergeo": [
           {
            "marker": {
             "colorbar": {
              "outlinewidth": 0,
              "ticks": ""
             }
            },
            "type": "scattergeo"
           }
          ],
          "scattergl": [
           {
            "marker": {
             "colorbar": {
              "outlinewidth": 0,
              "ticks": ""
             }
            },
            "type": "scattergl"
           }
          ],
          "scattermapbox": [
           {
            "marker": {
             "colorbar": {
              "outlinewidth": 0,
              "ticks": ""
             }
            },
            "type": "scattermapbox"
           }
          ],
          "scatterpolar": [
           {
            "marker": {
             "colorbar": {
              "outlinewidth": 0,
              "ticks": ""
             }
            },
            "type": "scatterpolar"
           }
          ],
          "scatterpolargl": [
           {
            "marker": {
             "colorbar": {
              "outlinewidth": 0,
              "ticks": ""
             }
            },
            "type": "scatterpolargl"
           }
          ],
          "scatterternary": [
           {
            "marker": {
             "colorbar": {
              "outlinewidth": 0,
              "ticks": ""
             }
            },
            "type": "scatterternary"
           }
          ],
          "surface": [
           {
            "colorbar": {
             "outlinewidth": 0,
             "ticks": ""
            },
            "colorscale": [
             [
              0,
              "#0d0887"
             ],
             [
              0.1111111111111111,
              "#46039f"
             ],
             [
              0.2222222222222222,
              "#7201a8"
             ],
             [
              0.3333333333333333,
              "#9c179e"
             ],
             [
              0.4444444444444444,
              "#bd3786"
             ],
             [
              0.5555555555555556,
              "#d8576b"
             ],
             [
              0.6666666666666666,
              "#ed7953"
             ],
             [
              0.7777777777777778,
              "#fb9f3a"
             ],
             [
              0.8888888888888888,
              "#fdca26"
             ],
             [
              1,
              "#f0f921"
             ]
            ],
            "type": "surface"
           }
          ],
          "table": [
           {
            "cells": {
             "fill": {
              "color": "#EBF0F8"
             },
             "line": {
              "color": "white"
             }
            },
            "header": {
             "fill": {
              "color": "#C8D4E3"
             },
             "line": {
              "color": "white"
             }
            },
            "type": "table"
           }
          ]
         },
         "layout": {
          "annotationdefaults": {
           "arrowcolor": "#2a3f5f",
           "arrowhead": 0,
           "arrowwidth": 1
          },
          "autotypenumbers": "strict",
          "coloraxis": {
           "colorbar": {
            "outlinewidth": 0,
            "ticks": ""
           }
          },
          "colorscale": {
           "diverging": [
            [
             0,
             "#8e0152"
            ],
            [
             0.1,
             "#c51b7d"
            ],
            [
             0.2,
             "#de77ae"
            ],
            [
             0.3,
             "#f1b6da"
            ],
            [
             0.4,
             "#fde0ef"
            ],
            [
             0.5,
             "#f7f7f7"
            ],
            [
             0.6,
             "#e6f5d0"
            ],
            [
             0.7,
             "#b8e186"
            ],
            [
             0.8,
             "#7fbc41"
            ],
            [
             0.9,
             "#4d9221"
            ],
            [
             1,
             "#276419"
            ]
           ],
           "sequential": [
            [
             0,
             "#0d0887"
            ],
            [
             0.1111111111111111,
             "#46039f"
            ],
            [
             0.2222222222222222,
             "#7201a8"
            ],
            [
             0.3333333333333333,
             "#9c179e"
            ],
            [
             0.4444444444444444,
             "#bd3786"
            ],
            [
             0.5555555555555556,
             "#d8576b"
            ],
            [
             0.6666666666666666,
             "#ed7953"
            ],
            [
             0.7777777777777778,
             "#fb9f3a"
            ],
            [
             0.8888888888888888,
             "#fdca26"
            ],
            [
             1,
             "#f0f921"
            ]
           ],
           "sequentialminus": [
            [
             0,
             "#0d0887"
            ],
            [
             0.1111111111111111,
             "#46039f"
            ],
            [
             0.2222222222222222,
             "#7201a8"
            ],
            [
             0.3333333333333333,
             "#9c179e"
            ],
            [
             0.4444444444444444,
             "#bd3786"
            ],
            [
             0.5555555555555556,
             "#d8576b"
            ],
            [
             0.6666666666666666,
             "#ed7953"
            ],
            [
             0.7777777777777778,
             "#fb9f3a"
            ],
            [
             0.8888888888888888,
             "#fdca26"
            ],
            [
             1,
             "#f0f921"
            ]
           ]
          },
          "colorway": [
           "#636efa",
           "#EF553B",
           "#00cc96",
           "#ab63fa",
           "#FFA15A",
           "#19d3f3",
           "#FF6692",
           "#B6E880",
           "#FF97FF",
           "#FECB52"
          ],
          "font": {
           "color": "#2a3f5f"
          },
          "geo": {
           "bgcolor": "white",
           "lakecolor": "white",
           "landcolor": "#E5ECF6",
           "showlakes": true,
           "showland": true,
           "subunitcolor": "white"
          },
          "hoverlabel": {
           "align": "left"
          },
          "hovermode": "closest",
          "mapbox": {
           "style": "light"
          },
          "paper_bgcolor": "white",
          "plot_bgcolor": "#E5ECF6",
          "polar": {
           "angularaxis": {
            "gridcolor": "white",
            "linecolor": "white",
            "ticks": ""
           },
           "bgcolor": "#E5ECF6",
           "radialaxis": {
            "gridcolor": "white",
            "linecolor": "white",
            "ticks": ""
           }
          },
          "scene": {
           "xaxis": {
            "backgroundcolor": "#E5ECF6",
            "gridcolor": "white",
            "gridwidth": 2,
            "linecolor": "white",
            "showbackground": true,
            "ticks": "",
            "zerolinecolor": "white"
           },
           "yaxis": {
            "backgroundcolor": "#E5ECF6",
            "gridcolor": "white",
            "gridwidth": 2,
            "linecolor": "white",
            "showbackground": true,
            "ticks": "",
            "zerolinecolor": "white"
           },
           "zaxis": {
            "backgroundcolor": "#E5ECF6",
            "gridcolor": "white",
            "gridwidth": 2,
            "linecolor": "white",
            "showbackground": true,
            "ticks": "",
            "zerolinecolor": "white"
           }
          },
          "shapedefaults": {
           "line": {
            "color": "#2a3f5f"
           }
          },
          "ternary": {
           "aaxis": {
            "gridcolor": "white",
            "linecolor": "white",
            "ticks": ""
           },
           "baxis": {
            "gridcolor": "white",
            "linecolor": "white",
            "ticks": ""
           },
           "bgcolor": "#E5ECF6",
           "caxis": {
            "gridcolor": "white",
            "linecolor": "white",
            "ticks": ""
           }
          },
          "title": {
           "x": 0.05
          },
          "xaxis": {
           "automargin": true,
           "gridcolor": "white",
           "linecolor": "white",
           "ticks": "",
           "title": {
            "standoff": 15
           },
           "zerolinecolor": "white",
           "zerolinewidth": 2
          },
          "yaxis": {
           "automargin": true,
           "gridcolor": "white",
           "linecolor": "white",
           "ticks": "",
           "title": {
            "standoff": 15
           },
           "zerolinecolor": "white",
           "zerolinewidth": 2
          }
         }
        },
        "title": {
         "font": {
          "color": "#D9D9D9"
         },
         "text": "Box plot of Halstead Error Estimate of Defective Modules"
        },
        "width": 900,
        "xaxis": {
         "gridcolor": "#434343",
         "showgrid": true,
         "tickfont": {
          "color": "#C2C2C2"
         },
         "title": {
          "font": {
           "color": "#D9D9D9"
          },
          "text": ""
         },
         "zerolinecolor": "#666570"
        },
        "yaxis": {
         "gridcolor": "#434343",
         "showgrid": true,
         "tickfont": {
          "color": "#C2C2C2"
         },
         "title": {
          "font": {
           "color": "#D9D9D9"
          },
          "text": ""
         },
         "zerolinecolor": "#666570"
        }
       }
      },
      "text/html": [
       "<div>                            <div id=\"a2bda805-5d38-4016-b800-c56467da2acd\" class=\"plotly-graph-div\" style=\"height:500px; width:900px;\"></div>            <script type=\"text/javascript\">                require([\"plotly\"], function(Plotly) {                    window.PLOTLYENV=window.PLOTLYENV || {};\n",
       "                    window.PLOTLYENV.BASE_URL='https://plot.ly';                                    if (document.getElementById(\"a2bda805-5d38-4016-b800-c56467da2acd\")) {                    Plotly.newPlot(                        \"a2bda805-5d38-4016-b800-c56467da2acd\",                        [{\"boxpoints\":false,\"line\":{\"width\":1.3},\"marker\":{\"color\":\"rgba(255, 153, 51, 1.0)\"},\"name\":\"HALSTEAD_ERROR_EST\",\"orientation\":\"h\",\"x\":[0.25,0.2,1.69,1.43,0.44,0.19,0.19,0.15,0.05,0.58,0.05,1.25,0.15,1.67,0.87,0.21,4.25,0.15,2.08,0.41,0.28,1.05,0.28,0.76,0.13,0.22,0.42,0.66,1.27,0.32,1.39,0.52,1.4,0.33,1.12,0.1,0.41,0.11,0.18,0.77,0.35,3.05],\"type\":\"box\"}],                        {\"height\":500,\"legend\":{\"bgcolor\":\"#151516\",\"font\":{\"color\":\"#D9D9D9\"}},\"paper_bgcolor\":\"#151516\",\"plot_bgcolor\":\"#151516\",\"template\":{\"data\":{\"barpolar\":[{\"marker\":{\"line\":{\"color\":\"#E5ECF6\",\"width\":0.5},\"pattern\":{\"fillmode\":\"overlay\",\"size\":10,\"solidity\":0.2}},\"type\":\"barpolar\"}],\"bar\":[{\"error_x\":{\"color\":\"#2a3f5f\"},\"error_y\":{\"color\":\"#2a3f5f\"},\"marker\":{\"line\":{\"color\":\"#E5ECF6\",\"width\":0.5},\"pattern\":{\"fillmode\":\"overlay\",\"size\":10,\"solidity\":0.2}},\"type\":\"bar\"}],\"carpet\":[{\"aaxis\":{\"endlinecolor\":\"#2a3f5f\",\"gridcolor\":\"white\",\"linecolor\":\"white\",\"minorgridcolor\":\"white\",\"startlinecolor\":\"#2a3f5f\"},\"baxis\":{\"endlinecolor\":\"#2a3f5f\",\"gridcolor\":\"white\",\"linecolor\":\"white\",\"minorgridcolor\":\"white\",\"startlinecolor\":\"#2a3f5f\"},\"type\":\"carpet\"}],\"choropleth\":[{\"colorbar\":{\"outlinewidth\":0,\"ticks\":\"\"},\"type\":\"choropleth\"}],\"contourcarpet\":[{\"colorbar\":{\"outlinewidth\":0,\"ticks\":\"\"},\"type\":\"contourcarpet\"}],\"contour\":[{\"colorbar\":{\"outlinewidth\":0,\"ticks\":\"\"},\"colorscale\":[[0.0,\"#0d0887\"],[0.1111111111111111,\"#46039f\"],[0.2222222222222222,\"#7201a8\"],[0.3333333333333333,\"#9c179e\"],[0.4444444444444444,\"#bd3786\"],[0.5555555555555556,\"#d8576b\"],[0.6666666666666666,\"#ed7953\"],[0.7777777777777778,\"#fb9f3a\"],[0.8888888888888888,\"#fdca26\"],[1.0,\"#f0f921\"]],\"type\":\"contour\"}],\"heatmapgl\":[{\"colorbar\":{\"outlinewidth\":0,\"ticks\":\"\"},\"colorscale\":[[0.0,\"#0d0887\"],[0.1111111111111111,\"#46039f\"],[0.2222222222222222,\"#7201a8\"],[0.3333333333333333,\"#9c179e\"],[0.4444444444444444,\"#bd3786\"],[0.5555555555555556,\"#d8576b\"],[0.6666666666666666,\"#ed7953\"],[0.7777777777777778,\"#fb9f3a\"],[0.8888888888888888,\"#fdca26\"],[1.0,\"#f0f921\"]],\"type\":\"heatmapgl\"}],\"heatmap\":[{\"colorbar\":{\"outlinewidth\":0,\"ticks\":\"\"},\"colorscale\":[[0.0,\"#0d0887\"],[0.1111111111111111,\"#46039f\"],[0.2222222222222222,\"#7201a8\"],[0.3333333333333333,\"#9c179e\"],[0.4444444444444444,\"#bd3786\"],[0.5555555555555556,\"#d8576b\"],[0.6666666666666666,\"#ed7953\"],[0.7777777777777778,\"#fb9f3a\"],[0.8888888888888888,\"#fdca26\"],[1.0,\"#f0f921\"]],\"type\":\"heatmap\"}],\"histogram2dcontour\":[{\"colorbar\":{\"outlinewidth\":0,\"ticks\":\"\"},\"colorscale\":[[0.0,\"#0d0887\"],[0.1111111111111111,\"#46039f\"],[0.2222222222222222,\"#7201a8\"],[0.3333333333333333,\"#9c179e\"],[0.4444444444444444,\"#bd3786\"],[0.5555555555555556,\"#d8576b\"],[0.6666666666666666,\"#ed7953\"],[0.7777777777777778,\"#fb9f3a\"],[0.8888888888888888,\"#fdca26\"],[1.0,\"#f0f921\"]],\"type\":\"histogram2dcontour\"}],\"histogram2d\":[{\"colorbar\":{\"outlinewidth\":0,\"ticks\":\"\"},\"colorscale\":[[0.0,\"#0d0887\"],[0.1111111111111111,\"#46039f\"],[0.2222222222222222,\"#7201a8\"],[0.3333333333333333,\"#9c179e\"],[0.4444444444444444,\"#bd3786\"],[0.5555555555555556,\"#d8576b\"],[0.6666666666666666,\"#ed7953\"],[0.7777777777777778,\"#fb9f3a\"],[0.8888888888888888,\"#fdca26\"],[1.0,\"#f0f921\"]],\"type\":\"histogram2d\"}],\"histogram\":[{\"marker\":{\"pattern\":{\"fillmode\":\"overlay\",\"size\":10,\"solidity\":0.2}},\"type\":\"histogram\"}],\"mesh3d\":[{\"colorbar\":{\"outlinewidth\":0,\"ticks\":\"\"},\"type\":\"mesh3d\"}],\"parcoords\":[{\"line\":{\"colorbar\":{\"outlinewidth\":0,\"ticks\":\"\"}},\"type\":\"parcoords\"}],\"pie\":[{\"automargin\":true,\"type\":\"pie\"}],\"scatter3d\":[{\"line\":{\"colorbar\":{\"outlinewidth\":0,\"ticks\":\"\"}},\"marker\":{\"colorbar\":{\"outlinewidth\":0,\"ticks\":\"\"}},\"type\":\"scatter3d\"}],\"scattercarpet\":[{\"marker\":{\"colorbar\":{\"outlinewidth\":0,\"ticks\":\"\"}},\"type\":\"scattercarpet\"}],\"scattergeo\":[{\"marker\":{\"colorbar\":{\"outlinewidth\":0,\"ticks\":\"\"}},\"type\":\"scattergeo\"}],\"scattergl\":[{\"marker\":{\"colorbar\":{\"outlinewidth\":0,\"ticks\":\"\"}},\"type\":\"scattergl\"}],\"scattermapbox\":[{\"marker\":{\"colorbar\":{\"outlinewidth\":0,\"ticks\":\"\"}},\"type\":\"scattermapbox\"}],\"scatterpolargl\":[{\"marker\":{\"colorbar\":{\"outlinewidth\":0,\"ticks\":\"\"}},\"type\":\"scatterpolargl\"}],\"scatterpolar\":[{\"marker\":{\"colorbar\":{\"outlinewidth\":0,\"ticks\":\"\"}},\"type\":\"scatterpolar\"}],\"scatter\":[{\"fillpattern\":{\"fillmode\":\"overlay\",\"size\":10,\"solidity\":0.2},\"type\":\"scatter\"}],\"scatterternary\":[{\"marker\":{\"colorbar\":{\"outlinewidth\":0,\"ticks\":\"\"}},\"type\":\"scatterternary\"}],\"surface\":[{\"colorbar\":{\"outlinewidth\":0,\"ticks\":\"\"},\"colorscale\":[[0.0,\"#0d0887\"],[0.1111111111111111,\"#46039f\"],[0.2222222222222222,\"#7201a8\"],[0.3333333333333333,\"#9c179e\"],[0.4444444444444444,\"#bd3786\"],[0.5555555555555556,\"#d8576b\"],[0.6666666666666666,\"#ed7953\"],[0.7777777777777778,\"#fb9f3a\"],[0.8888888888888888,\"#fdca26\"],[1.0,\"#f0f921\"]],\"type\":\"surface\"}],\"table\":[{\"cells\":{\"fill\":{\"color\":\"#EBF0F8\"},\"line\":{\"color\":\"white\"}},\"header\":{\"fill\":{\"color\":\"#C8D4E3\"},\"line\":{\"color\":\"white\"}},\"type\":\"table\"}]},\"layout\":{\"annotationdefaults\":{\"arrowcolor\":\"#2a3f5f\",\"arrowhead\":0,\"arrowwidth\":1},\"autotypenumbers\":\"strict\",\"coloraxis\":{\"colorbar\":{\"outlinewidth\":0,\"ticks\":\"\"}},\"colorscale\":{\"diverging\":[[0,\"#8e0152\"],[0.1,\"#c51b7d\"],[0.2,\"#de77ae\"],[0.3,\"#f1b6da\"],[0.4,\"#fde0ef\"],[0.5,\"#f7f7f7\"],[0.6,\"#e6f5d0\"],[0.7,\"#b8e186\"],[0.8,\"#7fbc41\"],[0.9,\"#4d9221\"],[1,\"#276419\"]],\"sequential\":[[0.0,\"#0d0887\"],[0.1111111111111111,\"#46039f\"],[0.2222222222222222,\"#7201a8\"],[0.3333333333333333,\"#9c179e\"],[0.4444444444444444,\"#bd3786\"],[0.5555555555555556,\"#d8576b\"],[0.6666666666666666,\"#ed7953\"],[0.7777777777777778,\"#fb9f3a\"],[0.8888888888888888,\"#fdca26\"],[1.0,\"#f0f921\"]],\"sequentialminus\":[[0.0,\"#0d0887\"],[0.1111111111111111,\"#46039f\"],[0.2222222222222222,\"#7201a8\"],[0.3333333333333333,\"#9c179e\"],[0.4444444444444444,\"#bd3786\"],[0.5555555555555556,\"#d8576b\"],[0.6666666666666666,\"#ed7953\"],[0.7777777777777778,\"#fb9f3a\"],[0.8888888888888888,\"#fdca26\"],[1.0,\"#f0f921\"]]},\"colorway\":[\"#636efa\",\"#EF553B\",\"#00cc96\",\"#ab63fa\",\"#FFA15A\",\"#19d3f3\",\"#FF6692\",\"#B6E880\",\"#FF97FF\",\"#FECB52\"],\"font\":{\"color\":\"#2a3f5f\"},\"geo\":{\"bgcolor\":\"white\",\"lakecolor\":\"white\",\"landcolor\":\"#E5ECF6\",\"showlakes\":true,\"showland\":true,\"subunitcolor\":\"white\"},\"hoverlabel\":{\"align\":\"left\"},\"hovermode\":\"closest\",\"mapbox\":{\"style\":\"light\"},\"paper_bgcolor\":\"white\",\"plot_bgcolor\":\"#E5ECF6\",\"polar\":{\"angularaxis\":{\"gridcolor\":\"white\",\"linecolor\":\"white\",\"ticks\":\"\"},\"bgcolor\":\"#E5ECF6\",\"radialaxis\":{\"gridcolor\":\"white\",\"linecolor\":\"white\",\"ticks\":\"\"}},\"scene\":{\"xaxis\":{\"backgroundcolor\":\"#E5ECF6\",\"gridcolor\":\"white\",\"gridwidth\":2,\"linecolor\":\"white\",\"showbackground\":true,\"ticks\":\"\",\"zerolinecolor\":\"white\"},\"yaxis\":{\"backgroundcolor\":\"#E5ECF6\",\"gridcolor\":\"white\",\"gridwidth\":2,\"linecolor\":\"white\",\"showbackground\":true,\"ticks\":\"\",\"zerolinecolor\":\"white\"},\"zaxis\":{\"backgroundcolor\":\"#E5ECF6\",\"gridcolor\":\"white\",\"gridwidth\":2,\"linecolor\":\"white\",\"showbackground\":true,\"ticks\":\"\",\"zerolinecolor\":\"white\"}},\"shapedefaults\":{\"line\":{\"color\":\"#2a3f5f\"}},\"ternary\":{\"aaxis\":{\"gridcolor\":\"white\",\"linecolor\":\"white\",\"ticks\":\"\"},\"baxis\":{\"gridcolor\":\"white\",\"linecolor\":\"white\",\"ticks\":\"\"},\"bgcolor\":\"#E5ECF6\",\"caxis\":{\"gridcolor\":\"white\",\"linecolor\":\"white\",\"ticks\":\"\"}},\"title\":{\"x\":0.05},\"xaxis\":{\"automargin\":true,\"gridcolor\":\"white\",\"linecolor\":\"white\",\"ticks\":\"\",\"title\":{\"standoff\":15},\"zerolinecolor\":\"white\",\"zerolinewidth\":2},\"yaxis\":{\"automargin\":true,\"gridcolor\":\"white\",\"linecolor\":\"white\",\"ticks\":\"\",\"title\":{\"standoff\":15},\"zerolinecolor\":\"white\",\"zerolinewidth\":2}}},\"title\":{\"font\":{\"color\":\"#D9D9D9\"},\"text\":\"Box plot of Halstead Error Estimate of Defective Modules\"},\"width\":900,\"xaxis\":{\"gridcolor\":\"#434343\",\"showgrid\":true,\"tickfont\":{\"color\":\"#C2C2C2\"},\"title\":{\"font\":{\"color\":\"#D9D9D9\"},\"text\":\"\"},\"zerolinecolor\":\"#666570\"},\"yaxis\":{\"gridcolor\":\"#434343\",\"showgrid\":true,\"tickfont\":{\"color\":\"#C2C2C2\"},\"title\":{\"font\":{\"color\":\"#D9D9D9\"},\"text\":\"\"},\"zerolinecolor\":\"#666570\"}},                        {\"showLink\": true, \"linkText\": \"Export to plot.ly\", \"plotlyServerURL\": \"https://plot.ly\", \"responsive\": true}                    ).then(function(){\n",
       "                            \n",
       "var gd = document.getElementById('a2bda805-5d38-4016-b800-c56467da2acd');\n",
       "var x = new MutationObserver(function (mutations, observer) {{\n",
       "        var display = window.getComputedStyle(gd).display;\n",
       "        if (!display || display === 'none') {{\n",
       "            console.log([gd, 'removed!']);\n",
       "            Plotly.purge(gd);\n",
       "            observer.disconnect();\n",
       "        }}\n",
       "}});\n",
       "\n",
       "// Listen for the removal of the full notebook cells\n",
       "var notebookContainer = gd.closest('#notebook-container');\n",
       "if (notebookContainer) {{\n",
       "    x.observe(notebookContainer, {childList: true});\n",
       "}}\n",
       "\n",
       "// Listen for the clearing of the current output cell\n",
       "var outputEl = gd.closest('.output');\n",
       "if (outputEl) {{\n",
       "    x.observe(outputEl, {childList: true});\n",
       "}}\n",
       "\n",
       "                        })                };                });            </script>        </div>"
      ]
     },
     "metadata": {},
     "output_type": "display_data"
    }
   ],
   "source": [
    "defective_group[[\"HALSTEAD_ERROR_EST\"]].iplot(\n",
    "    kind='box', \n",
    "    title='Box plot of Halstead Error Estimate of Defective Modules',\n",
    "    dimensions=(900, 500),\n",
    "    orientation='h',\n",
    "    theme=\"solar\"\n",
    "    )"
   ]
  },
  {
   "cell_type": "markdown",
   "metadata": {},
   "source": [
    "### Bar Plot\n",
    "\n",
    "Bar plot is a way of showing the distribution of the data over a categorical variable. One axis of the plot shows the specific categories being compared, and the other axis represents a measured value. For example, we will take a look at the distribution of the average design complexity score between defective and non-defective modules."
   ]
  },
  {
   "cell_type": "code",
   "execution_count": 12,
   "metadata": {},
   "outputs": [
    {
     "data": {
      "application/vnd.plotly.v1+json": {
       "config": {
        "linkText": "Export to plot.ly",
        "plotlyServerURL": "https://plot.ly",
        "showLink": true
       },
       "data": [
        {
         "marker": {
          "color": "rgba(255, 153, 51, 0.6)",
          "line": {
           "color": "rgba(255, 153, 51, 1.0)",
           "width": 1
          }
         },
         "name": "Defective",
         "orientation": "v",
         "text": "",
         "type": "bar",
         "x": [
          0
         ],
         "y": [
          7.785714285714286
         ]
        },
        {
         "marker": {
          "color": "rgba(55, 128, 191, 0.6)",
          "line": {
           "color": "rgba(55, 128, 191, 1.0)",
           "width": 1
          }
         },
         "name": "Non-Defective",
         "orientation": "v",
         "text": "",
         "type": "bar",
         "x": [
          0
         ],
         "y": [
          4.533333333333333
         ]
        }
       ],
       "layout": {
        "height": 500,
        "legend": {
         "bgcolor": "#151516",
         "font": {
          "color": "#D9D9D9"
         }
        },
        "paper_bgcolor": "#151516",
        "plot_bgcolor": "#151516",
        "template": {
         "data": {
          "bar": [
           {
            "error_x": {
             "color": "#2a3f5f"
            },
            "error_y": {
             "color": "#2a3f5f"
            },
            "marker": {
             "line": {
              "color": "#E5ECF6",
              "width": 0.5
             },
             "pattern": {
              "fillmode": "overlay",
              "size": 10,
              "solidity": 0.2
             }
            },
            "type": "bar"
           }
          ],
          "barpolar": [
           {
            "marker": {
             "line": {
              "color": "#E5ECF6",
              "width": 0.5
             },
             "pattern": {
              "fillmode": "overlay",
              "size": 10,
              "solidity": 0.2
             }
            },
            "type": "barpolar"
           }
          ],
          "carpet": [
           {
            "aaxis": {
             "endlinecolor": "#2a3f5f",
             "gridcolor": "white",
             "linecolor": "white",
             "minorgridcolor": "white",
             "startlinecolor": "#2a3f5f"
            },
            "baxis": {
             "endlinecolor": "#2a3f5f",
             "gridcolor": "white",
             "linecolor": "white",
             "minorgridcolor": "white",
             "startlinecolor": "#2a3f5f"
            },
            "type": "carpet"
           }
          ],
          "choropleth": [
           {
            "colorbar": {
             "outlinewidth": 0,
             "ticks": ""
            },
            "type": "choropleth"
           }
          ],
          "contour": [
           {
            "colorbar": {
             "outlinewidth": 0,
             "ticks": ""
            },
            "colorscale": [
             [
              0,
              "#0d0887"
             ],
             [
              0.1111111111111111,
              "#46039f"
             ],
             [
              0.2222222222222222,
              "#7201a8"
             ],
             [
              0.3333333333333333,
              "#9c179e"
             ],
             [
              0.4444444444444444,
              "#bd3786"
             ],
             [
              0.5555555555555556,
              "#d8576b"
             ],
             [
              0.6666666666666666,
              "#ed7953"
             ],
             [
              0.7777777777777778,
              "#fb9f3a"
             ],
             [
              0.8888888888888888,
              "#fdca26"
             ],
             [
              1,
              "#f0f921"
             ]
            ],
            "type": "contour"
           }
          ],
          "contourcarpet": [
           {
            "colorbar": {
             "outlinewidth": 0,
             "ticks": ""
            },
            "type": "contourcarpet"
           }
          ],
          "heatmap": [
           {
            "colorbar": {
             "outlinewidth": 0,
             "ticks": ""
            },
            "colorscale": [
             [
              0,
              "#0d0887"
             ],
             [
              0.1111111111111111,
              "#46039f"
             ],
             [
              0.2222222222222222,
              "#7201a8"
             ],
             [
              0.3333333333333333,
              "#9c179e"
             ],
             [
              0.4444444444444444,
              "#bd3786"
             ],
             [
              0.5555555555555556,
              "#d8576b"
             ],
             [
              0.6666666666666666,
              "#ed7953"
             ],
             [
              0.7777777777777778,
              "#fb9f3a"
             ],
             [
              0.8888888888888888,
              "#fdca26"
             ],
             [
              1,
              "#f0f921"
             ]
            ],
            "type": "heatmap"
           }
          ],
          "heatmapgl": [
           {
            "colorbar": {
             "outlinewidth": 0,
             "ticks": ""
            },
            "colorscale": [
             [
              0,
              "#0d0887"
             ],
             [
              0.1111111111111111,
              "#46039f"
             ],
             [
              0.2222222222222222,
              "#7201a8"
             ],
             [
              0.3333333333333333,
              "#9c179e"
             ],
             [
              0.4444444444444444,
              "#bd3786"
             ],
             [
              0.5555555555555556,
              "#d8576b"
             ],
             [
              0.6666666666666666,
              "#ed7953"
             ],
             [
              0.7777777777777778,
              "#fb9f3a"
             ],
             [
              0.8888888888888888,
              "#fdca26"
             ],
             [
              1,
              "#f0f921"
             ]
            ],
            "type": "heatmapgl"
           }
          ],
          "histogram": [
           {
            "marker": {
             "pattern": {
              "fillmode": "overlay",
              "size": 10,
              "solidity": 0.2
             }
            },
            "type": "histogram"
           }
          ],
          "histogram2d": [
           {
            "colorbar": {
             "outlinewidth": 0,
             "ticks": ""
            },
            "colorscale": [
             [
              0,
              "#0d0887"
             ],
             [
              0.1111111111111111,
              "#46039f"
             ],
             [
              0.2222222222222222,
              "#7201a8"
             ],
             [
              0.3333333333333333,
              "#9c179e"
             ],
             [
              0.4444444444444444,
              "#bd3786"
             ],
             [
              0.5555555555555556,
              "#d8576b"
             ],
             [
              0.6666666666666666,
              "#ed7953"
             ],
             [
              0.7777777777777778,
              "#fb9f3a"
             ],
             [
              0.8888888888888888,
              "#fdca26"
             ],
             [
              1,
              "#f0f921"
             ]
            ],
            "type": "histogram2d"
           }
          ],
          "histogram2dcontour": [
           {
            "colorbar": {
             "outlinewidth": 0,
             "ticks": ""
            },
            "colorscale": [
             [
              0,
              "#0d0887"
             ],
             [
              0.1111111111111111,
              "#46039f"
             ],
             [
              0.2222222222222222,
              "#7201a8"
             ],
             [
              0.3333333333333333,
              "#9c179e"
             ],
             [
              0.4444444444444444,
              "#bd3786"
             ],
             [
              0.5555555555555556,
              "#d8576b"
             ],
             [
              0.6666666666666666,
              "#ed7953"
             ],
             [
              0.7777777777777778,
              "#fb9f3a"
             ],
             [
              0.8888888888888888,
              "#fdca26"
             ],
             [
              1,
              "#f0f921"
             ]
            ],
            "type": "histogram2dcontour"
           }
          ],
          "mesh3d": [
           {
            "colorbar": {
             "outlinewidth": 0,
             "ticks": ""
            },
            "type": "mesh3d"
           }
          ],
          "parcoords": [
           {
            "line": {
             "colorbar": {
              "outlinewidth": 0,
              "ticks": ""
             }
            },
            "type": "parcoords"
           }
          ],
          "pie": [
           {
            "automargin": true,
            "type": "pie"
           }
          ],
          "scatter": [
           {
            "fillpattern": {
             "fillmode": "overlay",
             "size": 10,
             "solidity": 0.2
            },
            "type": "scatter"
           }
          ],
          "scatter3d": [
           {
            "line": {
             "colorbar": {
              "outlinewidth": 0,
              "ticks": ""
             }
            },
            "marker": {
             "colorbar": {
              "outlinewidth": 0,
              "ticks": ""
             }
            },
            "type": "scatter3d"
           }
          ],
          "scattercarpet": [
           {
            "marker": {
             "colorbar": {
              "outlinewidth": 0,
              "ticks": ""
             }
            },
            "type": "scattercarpet"
           }
          ],
          "scattergeo": [
           {
            "marker": {
             "colorbar": {
              "outlinewidth": 0,
              "ticks": ""
             }
            },
            "type": "scattergeo"
           }
          ],
          "scattergl": [
           {
            "marker": {
             "colorbar": {
              "outlinewidth": 0,
              "ticks": ""
             }
            },
            "type": "scattergl"
           }
          ],
          "scattermapbox": [
           {
            "marker": {
             "colorbar": {
              "outlinewidth": 0,
              "ticks": ""
             }
            },
            "type": "scattermapbox"
           }
          ],
          "scatterpolar": [
           {
            "marker": {
             "colorbar": {
              "outlinewidth": 0,
              "ticks": ""
             }
            },
            "type": "scatterpolar"
           }
          ],
          "scatterpolargl": [
           {
            "marker": {
             "colorbar": {
              "outlinewidth": 0,
              "ticks": ""
             }
            },
            "type": "scatterpolargl"
           }
          ],
          "scatterternary": [
           {
            "marker": {
             "colorbar": {
              "outlinewidth": 0,
              "ticks": ""
             }
            },
            "type": "scatterternary"
           }
          ],
          "surface": [
           {
            "colorbar": {
             "outlinewidth": 0,
             "ticks": ""
            },
            "colorscale": [
             [
              0,
              "#0d0887"
             ],
             [
              0.1111111111111111,
              "#46039f"
             ],
             [
              0.2222222222222222,
              "#7201a8"
             ],
             [
              0.3333333333333333,
              "#9c179e"
             ],
             [
              0.4444444444444444,
              "#bd3786"
             ],
             [
              0.5555555555555556,
              "#d8576b"
             ],
             [
              0.6666666666666666,
              "#ed7953"
             ],
             [
              0.7777777777777778,
              "#fb9f3a"
             ],
             [
              0.8888888888888888,
              "#fdca26"
             ],
             [
              1,
              "#f0f921"
             ]
            ],
            "type": "surface"
           }
          ],
          "table": [
           {
            "cells": {
             "fill": {
              "color": "#EBF0F8"
             },
             "line": {
              "color": "white"
             }
            },
            "header": {
             "fill": {
              "color": "#C8D4E3"
             },
             "line": {
              "color": "white"
             }
            },
            "type": "table"
           }
          ]
         },
         "layout": {
          "annotationdefaults": {
           "arrowcolor": "#2a3f5f",
           "arrowhead": 0,
           "arrowwidth": 1
          },
          "autotypenumbers": "strict",
          "coloraxis": {
           "colorbar": {
            "outlinewidth": 0,
            "ticks": ""
           }
          },
          "colorscale": {
           "diverging": [
            [
             0,
             "#8e0152"
            ],
            [
             0.1,
             "#c51b7d"
            ],
            [
             0.2,
             "#de77ae"
            ],
            [
             0.3,
             "#f1b6da"
            ],
            [
             0.4,
             "#fde0ef"
            ],
            [
             0.5,
             "#f7f7f7"
            ],
            [
             0.6,
             "#e6f5d0"
            ],
            [
             0.7,
             "#b8e186"
            ],
            [
             0.8,
             "#7fbc41"
            ],
            [
             0.9,
             "#4d9221"
            ],
            [
             1,
             "#276419"
            ]
           ],
           "sequential": [
            [
             0,
             "#0d0887"
            ],
            [
             0.1111111111111111,
             "#46039f"
            ],
            [
             0.2222222222222222,
             "#7201a8"
            ],
            [
             0.3333333333333333,
             "#9c179e"
            ],
            [
             0.4444444444444444,
             "#bd3786"
            ],
            [
             0.5555555555555556,
             "#d8576b"
            ],
            [
             0.6666666666666666,
             "#ed7953"
            ],
            [
             0.7777777777777778,
             "#fb9f3a"
            ],
            [
             0.8888888888888888,
             "#fdca26"
            ],
            [
             1,
             "#f0f921"
            ]
           ],
           "sequentialminus": [
            [
             0,
             "#0d0887"
            ],
            [
             0.1111111111111111,
             "#46039f"
            ],
            [
             0.2222222222222222,
             "#7201a8"
            ],
            [
             0.3333333333333333,
             "#9c179e"
            ],
            [
             0.4444444444444444,
             "#bd3786"
            ],
            [
             0.5555555555555556,
             "#d8576b"
            ],
            [
             0.6666666666666666,
             "#ed7953"
            ],
            [
             0.7777777777777778,
             "#fb9f3a"
            ],
            [
             0.8888888888888888,
             "#fdca26"
            ],
            [
             1,
             "#f0f921"
            ]
           ]
          },
          "colorway": [
           "#636efa",
           "#EF553B",
           "#00cc96",
           "#ab63fa",
           "#FFA15A",
           "#19d3f3",
           "#FF6692",
           "#B6E880",
           "#FF97FF",
           "#FECB52"
          ],
          "font": {
           "color": "#2a3f5f"
          },
          "geo": {
           "bgcolor": "white",
           "lakecolor": "white",
           "landcolor": "#E5ECF6",
           "showlakes": true,
           "showland": true,
           "subunitcolor": "white"
          },
          "hoverlabel": {
           "align": "left"
          },
          "hovermode": "closest",
          "mapbox": {
           "style": "light"
          },
          "paper_bgcolor": "white",
          "plot_bgcolor": "#E5ECF6",
          "polar": {
           "angularaxis": {
            "gridcolor": "white",
            "linecolor": "white",
            "ticks": ""
           },
           "bgcolor": "#E5ECF6",
           "radialaxis": {
            "gridcolor": "white",
            "linecolor": "white",
            "ticks": ""
           }
          },
          "scene": {
           "xaxis": {
            "backgroundcolor": "#E5ECF6",
            "gridcolor": "white",
            "gridwidth": 2,
            "linecolor": "white",
            "showbackground": true,
            "ticks": "",
            "zerolinecolor": "white"
           },
           "yaxis": {
            "backgroundcolor": "#E5ECF6",
            "gridcolor": "white",
            "gridwidth": 2,
            "linecolor": "white",
            "showbackground": true,
            "ticks": "",
            "zerolinecolor": "white"
           },
           "zaxis": {
            "backgroundcolor": "#E5ECF6",
            "gridcolor": "white",
            "gridwidth": 2,
            "linecolor": "white",
            "showbackground": true,
            "ticks": "",
            "zerolinecolor": "white"
           }
          },
          "shapedefaults": {
           "line": {
            "color": "#2a3f5f"
           }
          },
          "ternary": {
           "aaxis": {
            "gridcolor": "white",
            "linecolor": "white",
            "ticks": ""
           },
           "baxis": {
            "gridcolor": "white",
            "linecolor": "white",
            "ticks": ""
           },
           "bgcolor": "#E5ECF6",
           "caxis": {
            "gridcolor": "white",
            "linecolor": "white",
            "ticks": ""
           }
          },
          "title": {
           "x": 0.05
          },
          "xaxis": {
           "automargin": true,
           "gridcolor": "white",
           "linecolor": "white",
           "ticks": "",
           "title": {
            "standoff": 15
           },
           "zerolinecolor": "white",
           "zerolinewidth": 2
          },
          "yaxis": {
           "automargin": true,
           "gridcolor": "white",
           "linecolor": "white",
           "ticks": "",
           "title": {
            "standoff": 15
           },
           "zerolinecolor": "white",
           "zerolinewidth": 2
          }
         }
        },
        "title": {
         "font": {
          "color": "#D9D9D9"
         },
         "text": "Bar plot of Average Design Complexity of Defective and Non-Defective Modules"
        },
        "width": 900,
        "xaxis": {
         "gridcolor": "#434343",
         "showgrid": true,
         "tickfont": {
          "color": "#C2C2C2"
         },
         "title": {
          "font": {
           "color": "#D9D9D9"
          },
          "text": ""
         },
         "zerolinecolor": "#666570"
        },
        "yaxis": {
         "gridcolor": "#434343",
         "showgrid": true,
         "tickfont": {
          "color": "#C2C2C2"
         },
         "title": {
          "font": {
           "color": "#D9D9D9"
          },
          "text": ""
         },
         "zerolinecolor": "#666570"
        }
       }
      },
      "text/html": [
       "<div>                            <div id=\"12251dd9-77a9-46d4-b0a2-583d723e5ba9\" class=\"plotly-graph-div\" style=\"height:500px; width:900px;\"></div>            <script type=\"text/javascript\">                require([\"plotly\"], function(Plotly) {                    window.PLOTLYENV=window.PLOTLYENV || {};\n",
       "                    window.PLOTLYENV.BASE_URL='https://plot.ly';                                    if (document.getElementById(\"12251dd9-77a9-46d4-b0a2-583d723e5ba9\")) {                    Plotly.newPlot(                        \"12251dd9-77a9-46d4-b0a2-583d723e5ba9\",                        [{\"marker\":{\"color\":\"rgba(255, 153, 51, 0.6)\",\"line\":{\"color\":\"rgba(255, 153, 51, 1.0)\",\"width\":1}},\"name\":\"Defective\",\"orientation\":\"v\",\"text\":\"\",\"x\":[0],\"y\":[7.785714285714286],\"type\":\"bar\"},{\"marker\":{\"color\":\"rgba(55, 128, 191, 0.6)\",\"line\":{\"color\":\"rgba(55, 128, 191, 1.0)\",\"width\":1}},\"name\":\"Non-Defective\",\"orientation\":\"v\",\"text\":\"\",\"x\":[0],\"y\":[4.533333333333333],\"type\":\"bar\"}],                        {\"height\":500,\"legend\":{\"bgcolor\":\"#151516\",\"font\":{\"color\":\"#D9D9D9\"}},\"paper_bgcolor\":\"#151516\",\"plot_bgcolor\":\"#151516\",\"template\":{\"data\":{\"barpolar\":[{\"marker\":{\"line\":{\"color\":\"#E5ECF6\",\"width\":0.5},\"pattern\":{\"fillmode\":\"overlay\",\"size\":10,\"solidity\":0.2}},\"type\":\"barpolar\"}],\"bar\":[{\"error_x\":{\"color\":\"#2a3f5f\"},\"error_y\":{\"color\":\"#2a3f5f\"},\"marker\":{\"line\":{\"color\":\"#E5ECF6\",\"width\":0.5},\"pattern\":{\"fillmode\":\"overlay\",\"size\":10,\"solidity\":0.2}},\"type\":\"bar\"}],\"carpet\":[{\"aaxis\":{\"endlinecolor\":\"#2a3f5f\",\"gridcolor\":\"white\",\"linecolor\":\"white\",\"minorgridcolor\":\"white\",\"startlinecolor\":\"#2a3f5f\"},\"baxis\":{\"endlinecolor\":\"#2a3f5f\",\"gridcolor\":\"white\",\"linecolor\":\"white\",\"minorgridcolor\":\"white\",\"startlinecolor\":\"#2a3f5f\"},\"type\":\"carpet\"}],\"choropleth\":[{\"colorbar\":{\"outlinewidth\":0,\"ticks\":\"\"},\"type\":\"choropleth\"}],\"contourcarpet\":[{\"colorbar\":{\"outlinewidth\":0,\"ticks\":\"\"},\"type\":\"contourcarpet\"}],\"contour\":[{\"colorbar\":{\"outlinewidth\":0,\"ticks\":\"\"},\"colorscale\":[[0.0,\"#0d0887\"],[0.1111111111111111,\"#46039f\"],[0.2222222222222222,\"#7201a8\"],[0.3333333333333333,\"#9c179e\"],[0.4444444444444444,\"#bd3786\"],[0.5555555555555556,\"#d8576b\"],[0.6666666666666666,\"#ed7953\"],[0.7777777777777778,\"#fb9f3a\"],[0.8888888888888888,\"#fdca26\"],[1.0,\"#f0f921\"]],\"type\":\"contour\"}],\"heatmapgl\":[{\"colorbar\":{\"outlinewidth\":0,\"ticks\":\"\"},\"colorscale\":[[0.0,\"#0d0887\"],[0.1111111111111111,\"#46039f\"],[0.2222222222222222,\"#7201a8\"],[0.3333333333333333,\"#9c179e\"],[0.4444444444444444,\"#bd3786\"],[0.5555555555555556,\"#d8576b\"],[0.6666666666666666,\"#ed7953\"],[0.7777777777777778,\"#fb9f3a\"],[0.8888888888888888,\"#fdca26\"],[1.0,\"#f0f921\"]],\"type\":\"heatmapgl\"}],\"heatmap\":[{\"colorbar\":{\"outlinewidth\":0,\"ticks\":\"\"},\"colorscale\":[[0.0,\"#0d0887\"],[0.1111111111111111,\"#46039f\"],[0.2222222222222222,\"#7201a8\"],[0.3333333333333333,\"#9c179e\"],[0.4444444444444444,\"#bd3786\"],[0.5555555555555556,\"#d8576b\"],[0.6666666666666666,\"#ed7953\"],[0.7777777777777778,\"#fb9f3a\"],[0.8888888888888888,\"#fdca26\"],[1.0,\"#f0f921\"]],\"type\":\"heatmap\"}],\"histogram2dcontour\":[{\"colorbar\":{\"outlinewidth\":0,\"ticks\":\"\"},\"colorscale\":[[0.0,\"#0d0887\"],[0.1111111111111111,\"#46039f\"],[0.2222222222222222,\"#7201a8\"],[0.3333333333333333,\"#9c179e\"],[0.4444444444444444,\"#bd3786\"],[0.5555555555555556,\"#d8576b\"],[0.6666666666666666,\"#ed7953\"],[0.7777777777777778,\"#fb9f3a\"],[0.8888888888888888,\"#fdca26\"],[1.0,\"#f0f921\"]],\"type\":\"histogram2dcontour\"}],\"histogram2d\":[{\"colorbar\":{\"outlinewidth\":0,\"ticks\":\"\"},\"colorscale\":[[0.0,\"#0d0887\"],[0.1111111111111111,\"#46039f\"],[0.2222222222222222,\"#7201a8\"],[0.3333333333333333,\"#9c179e\"],[0.4444444444444444,\"#bd3786\"],[0.5555555555555556,\"#d8576b\"],[0.6666666666666666,\"#ed7953\"],[0.7777777777777778,\"#fb9f3a\"],[0.8888888888888888,\"#fdca26\"],[1.0,\"#f0f921\"]],\"type\":\"histogram2d\"}],\"histogram\":[{\"marker\":{\"pattern\":{\"fillmode\":\"overlay\",\"size\":10,\"solidity\":0.2}},\"type\":\"histogram\"}],\"mesh3d\":[{\"colorbar\":{\"outlinewidth\":0,\"ticks\":\"\"},\"type\":\"mesh3d\"}],\"parcoords\":[{\"line\":{\"colorbar\":{\"outlinewidth\":0,\"ticks\":\"\"}},\"type\":\"parcoords\"}],\"pie\":[{\"automargin\":true,\"type\":\"pie\"}],\"scatter3d\":[{\"line\":{\"colorbar\":{\"outlinewidth\":0,\"ticks\":\"\"}},\"marker\":{\"colorbar\":{\"outlinewidth\":0,\"ticks\":\"\"}},\"type\":\"scatter3d\"}],\"scattercarpet\":[{\"marker\":{\"colorbar\":{\"outlinewidth\":0,\"ticks\":\"\"}},\"type\":\"scattercarpet\"}],\"scattergeo\":[{\"marker\":{\"colorbar\":{\"outlinewidth\":0,\"ticks\":\"\"}},\"type\":\"scattergeo\"}],\"scattergl\":[{\"marker\":{\"colorbar\":{\"outlinewidth\":0,\"ticks\":\"\"}},\"type\":\"scattergl\"}],\"scattermapbox\":[{\"marker\":{\"colorbar\":{\"outlinewidth\":0,\"ticks\":\"\"}},\"type\":\"scattermapbox\"}],\"scatterpolargl\":[{\"marker\":{\"colorbar\":{\"outlinewidth\":0,\"ticks\":\"\"}},\"type\":\"scatterpolargl\"}],\"scatterpolar\":[{\"marker\":{\"colorbar\":{\"outlinewidth\":0,\"ticks\":\"\"}},\"type\":\"scatterpolar\"}],\"scatter\":[{\"fillpattern\":{\"fillmode\":\"overlay\",\"size\":10,\"solidity\":0.2},\"type\":\"scatter\"}],\"scatterternary\":[{\"marker\":{\"colorbar\":{\"outlinewidth\":0,\"ticks\":\"\"}},\"type\":\"scatterternary\"}],\"surface\":[{\"colorbar\":{\"outlinewidth\":0,\"ticks\":\"\"},\"colorscale\":[[0.0,\"#0d0887\"],[0.1111111111111111,\"#46039f\"],[0.2222222222222222,\"#7201a8\"],[0.3333333333333333,\"#9c179e\"],[0.4444444444444444,\"#bd3786\"],[0.5555555555555556,\"#d8576b\"],[0.6666666666666666,\"#ed7953\"],[0.7777777777777778,\"#fb9f3a\"],[0.8888888888888888,\"#fdca26\"],[1.0,\"#f0f921\"]],\"type\":\"surface\"}],\"table\":[{\"cells\":{\"fill\":{\"color\":\"#EBF0F8\"},\"line\":{\"color\":\"white\"}},\"header\":{\"fill\":{\"color\":\"#C8D4E3\"},\"line\":{\"color\":\"white\"}},\"type\":\"table\"}]},\"layout\":{\"annotationdefaults\":{\"arrowcolor\":\"#2a3f5f\",\"arrowhead\":0,\"arrowwidth\":1},\"autotypenumbers\":\"strict\",\"coloraxis\":{\"colorbar\":{\"outlinewidth\":0,\"ticks\":\"\"}},\"colorscale\":{\"diverging\":[[0,\"#8e0152\"],[0.1,\"#c51b7d\"],[0.2,\"#de77ae\"],[0.3,\"#f1b6da\"],[0.4,\"#fde0ef\"],[0.5,\"#f7f7f7\"],[0.6,\"#e6f5d0\"],[0.7,\"#b8e186\"],[0.8,\"#7fbc41\"],[0.9,\"#4d9221\"],[1,\"#276419\"]],\"sequential\":[[0.0,\"#0d0887\"],[0.1111111111111111,\"#46039f\"],[0.2222222222222222,\"#7201a8\"],[0.3333333333333333,\"#9c179e\"],[0.4444444444444444,\"#bd3786\"],[0.5555555555555556,\"#d8576b\"],[0.6666666666666666,\"#ed7953\"],[0.7777777777777778,\"#fb9f3a\"],[0.8888888888888888,\"#fdca26\"],[1.0,\"#f0f921\"]],\"sequentialminus\":[[0.0,\"#0d0887\"],[0.1111111111111111,\"#46039f\"],[0.2222222222222222,\"#7201a8\"],[0.3333333333333333,\"#9c179e\"],[0.4444444444444444,\"#bd3786\"],[0.5555555555555556,\"#d8576b\"],[0.6666666666666666,\"#ed7953\"],[0.7777777777777778,\"#fb9f3a\"],[0.8888888888888888,\"#fdca26\"],[1.0,\"#f0f921\"]]},\"colorway\":[\"#636efa\",\"#EF553B\",\"#00cc96\",\"#ab63fa\",\"#FFA15A\",\"#19d3f3\",\"#FF6692\",\"#B6E880\",\"#FF97FF\",\"#FECB52\"],\"font\":{\"color\":\"#2a3f5f\"},\"geo\":{\"bgcolor\":\"white\",\"lakecolor\":\"white\",\"landcolor\":\"#E5ECF6\",\"showlakes\":true,\"showland\":true,\"subunitcolor\":\"white\"},\"hoverlabel\":{\"align\":\"left\"},\"hovermode\":\"closest\",\"mapbox\":{\"style\":\"light\"},\"paper_bgcolor\":\"white\",\"plot_bgcolor\":\"#E5ECF6\",\"polar\":{\"angularaxis\":{\"gridcolor\":\"white\",\"linecolor\":\"white\",\"ticks\":\"\"},\"bgcolor\":\"#E5ECF6\",\"radialaxis\":{\"gridcolor\":\"white\",\"linecolor\":\"white\",\"ticks\":\"\"}},\"scene\":{\"xaxis\":{\"backgroundcolor\":\"#E5ECF6\",\"gridcolor\":\"white\",\"gridwidth\":2,\"linecolor\":\"white\",\"showbackground\":true,\"ticks\":\"\",\"zerolinecolor\":\"white\"},\"yaxis\":{\"backgroundcolor\":\"#E5ECF6\",\"gridcolor\":\"white\",\"gridwidth\":2,\"linecolor\":\"white\",\"showbackground\":true,\"ticks\":\"\",\"zerolinecolor\":\"white\"},\"zaxis\":{\"backgroundcolor\":\"#E5ECF6\",\"gridcolor\":\"white\",\"gridwidth\":2,\"linecolor\":\"white\",\"showbackground\":true,\"ticks\":\"\",\"zerolinecolor\":\"white\"}},\"shapedefaults\":{\"line\":{\"color\":\"#2a3f5f\"}},\"ternary\":{\"aaxis\":{\"gridcolor\":\"white\",\"linecolor\":\"white\",\"ticks\":\"\"},\"baxis\":{\"gridcolor\":\"white\",\"linecolor\":\"white\",\"ticks\":\"\"},\"bgcolor\":\"#E5ECF6\",\"caxis\":{\"gridcolor\":\"white\",\"linecolor\":\"white\",\"ticks\":\"\"}},\"title\":{\"x\":0.05},\"xaxis\":{\"automargin\":true,\"gridcolor\":\"white\",\"linecolor\":\"white\",\"ticks\":\"\",\"title\":{\"standoff\":15},\"zerolinecolor\":\"white\",\"zerolinewidth\":2},\"yaxis\":{\"automargin\":true,\"gridcolor\":\"white\",\"linecolor\":\"white\",\"ticks\":\"\",\"title\":{\"standoff\":15},\"zerolinecolor\":\"white\",\"zerolinewidth\":2}}},\"title\":{\"font\":{\"color\":\"#D9D9D9\"},\"text\":\"Bar plot of Average Design Complexity of Defective and Non-Defective Modules\"},\"width\":900,\"xaxis\":{\"gridcolor\":\"#434343\",\"showgrid\":true,\"tickfont\":{\"color\":\"#C2C2C2\"},\"title\":{\"font\":{\"color\":\"#D9D9D9\"},\"text\":\"\"},\"zerolinecolor\":\"#666570\"},\"yaxis\":{\"gridcolor\":\"#434343\",\"showgrid\":true,\"tickfont\":{\"color\":\"#C2C2C2\"},\"title\":{\"font\":{\"color\":\"#D9D9D9\"},\"text\":\"\"},\"zerolinecolor\":\"#666570\"}},                        {\"showLink\": true, \"linkText\": \"Export to plot.ly\", \"plotlyServerURL\": \"https://plot.ly\", \"responsive\": true}                    ).then(function(){\n",
       "                            \n",
       "var gd = document.getElementById('12251dd9-77a9-46d4-b0a2-583d723e5ba9');\n",
       "var x = new MutationObserver(function (mutations, observer) {{\n",
       "        var display = window.getComputedStyle(gd).display;\n",
       "        if (!display || display === 'none') {{\n",
       "            console.log([gd, 'removed!']);\n",
       "            Plotly.purge(gd);\n",
       "            observer.disconnect();\n",
       "        }}\n",
       "}});\n",
       "\n",
       "// Listen for the removal of the full notebook cells\n",
       "var notebookContainer = gd.closest('#notebook-container');\n",
       "if (notebookContainer) {{\n",
       "    x.observe(notebookContainer, {childList: true});\n",
       "}}\n",
       "\n",
       "// Listen for the clearing of the current output cell\n",
       "var outputEl = gd.closest('.output');\n",
       "if (outputEl) {{\n",
       "    x.observe(outputEl, {childList: true});\n",
       "}}\n",
       "\n",
       "                        })                };                });            </script>        </div>"
      ]
     },
     "metadata": {},
     "output_type": "display_data"
    }
   ],
   "source": [
    "avg_design_complexity_of_defective = defective_group[\"DESIGN_COMPLEXITY\"].mean()\n",
    "avg_design_complexity_of_non_defective = non_defective_group[\"DESIGN_COMPLEXITY\"].mean()\n",
    "\n",
    "pd.DataFrame({\n",
    "    \"Defective\": [avg_design_complexity_of_defective],\n",
    "    \"Non-Defective\": [avg_design_complexity_of_non_defective]\n",
    "}).iplot(\n",
    "    kind='bar',\n",
    "    title='Bar plot of Average Design Complexity of Defective and Non-Defective Modules',\n",
    "    dimensions=(900, 500),\n",
    "    theme=\"solar\"\n",
    ")\n"
   ]
  },
  {
   "cell_type": "markdown",
   "metadata": {},
   "source": [
    "For another example, we will see the Average Halstead Error Estimate for the defective and non-defective modules."
   ]
  },
  {
   "cell_type": "code",
   "execution_count": 13,
   "metadata": {},
   "outputs": [
    {
     "data": {
      "application/vnd.plotly.v1+json": {
       "config": {
        "linkText": "Export to plot.ly",
        "plotlyServerURL": "https://plot.ly",
        "showLink": true
       },
       "data": [
        {
         "marker": {
          "color": "rgba(255, 153, 51, 0.6)",
          "line": {
           "color": "rgba(255, 153, 51, 1.0)",
           "width": 1
          }
         },
         "name": "Defective",
         "orientation": "v",
         "text": "",
         "type": "bar",
         "x": [
          0
         ],
         "y": [
          0.7471428571428573
         ]
        },
        {
         "marker": {
          "color": "rgba(55, 128, 191, 0.6)",
          "line": {
           "color": "rgba(55, 128, 191, 1.0)",
           "width": 1
          }
         },
         "name": "Non-Defective",
         "orientation": "v",
         "text": "",
         "type": "bar",
         "x": [
          0
         ],
         "y": [
          0.3742456140350877
         ]
        }
       ],
       "layout": {
        "height": 500,
        "legend": {
         "bgcolor": "#151516",
         "font": {
          "color": "#D9D9D9"
         }
        },
        "paper_bgcolor": "#151516",
        "plot_bgcolor": "#151516",
        "template": {
         "data": {
          "bar": [
           {
            "error_x": {
             "color": "#2a3f5f"
            },
            "error_y": {
             "color": "#2a3f5f"
            },
            "marker": {
             "line": {
              "color": "#E5ECF6",
              "width": 0.5
             },
             "pattern": {
              "fillmode": "overlay",
              "size": 10,
              "solidity": 0.2
             }
            },
            "type": "bar"
           }
          ],
          "barpolar": [
           {
            "marker": {
             "line": {
              "color": "#E5ECF6",
              "width": 0.5
             },
             "pattern": {
              "fillmode": "overlay",
              "size": 10,
              "solidity": 0.2
             }
            },
            "type": "barpolar"
           }
          ],
          "carpet": [
           {
            "aaxis": {
             "endlinecolor": "#2a3f5f",
             "gridcolor": "white",
             "linecolor": "white",
             "minorgridcolor": "white",
             "startlinecolor": "#2a3f5f"
            },
            "baxis": {
             "endlinecolor": "#2a3f5f",
             "gridcolor": "white",
             "linecolor": "white",
             "minorgridcolor": "white",
             "startlinecolor": "#2a3f5f"
            },
            "type": "carpet"
           }
          ],
          "choropleth": [
           {
            "colorbar": {
             "outlinewidth": 0,
             "ticks": ""
            },
            "type": "choropleth"
           }
          ],
          "contour": [
           {
            "colorbar": {
             "outlinewidth": 0,
             "ticks": ""
            },
            "colorscale": [
             [
              0,
              "#0d0887"
             ],
             [
              0.1111111111111111,
              "#46039f"
             ],
             [
              0.2222222222222222,
              "#7201a8"
             ],
             [
              0.3333333333333333,
              "#9c179e"
             ],
             [
              0.4444444444444444,
              "#bd3786"
             ],
             [
              0.5555555555555556,
              "#d8576b"
             ],
             [
              0.6666666666666666,
              "#ed7953"
             ],
             [
              0.7777777777777778,
              "#fb9f3a"
             ],
             [
              0.8888888888888888,
              "#fdca26"
             ],
             [
              1,
              "#f0f921"
             ]
            ],
            "type": "contour"
           }
          ],
          "contourcarpet": [
           {
            "colorbar": {
             "outlinewidth": 0,
             "ticks": ""
            },
            "type": "contourcarpet"
           }
          ],
          "heatmap": [
           {
            "colorbar": {
             "outlinewidth": 0,
             "ticks": ""
            },
            "colorscale": [
             [
              0,
              "#0d0887"
             ],
             [
              0.1111111111111111,
              "#46039f"
             ],
             [
              0.2222222222222222,
              "#7201a8"
             ],
             [
              0.3333333333333333,
              "#9c179e"
             ],
             [
              0.4444444444444444,
              "#bd3786"
             ],
             [
              0.5555555555555556,
              "#d8576b"
             ],
             [
              0.6666666666666666,
              "#ed7953"
             ],
             [
              0.7777777777777778,
              "#fb9f3a"
             ],
             [
              0.8888888888888888,
              "#fdca26"
             ],
             [
              1,
              "#f0f921"
             ]
            ],
            "type": "heatmap"
           }
          ],
          "heatmapgl": [
           {
            "colorbar": {
             "outlinewidth": 0,
             "ticks": ""
            },
            "colorscale": [
             [
              0,
              "#0d0887"
             ],
             [
              0.1111111111111111,
              "#46039f"
             ],
             [
              0.2222222222222222,
              "#7201a8"
             ],
             [
              0.3333333333333333,
              "#9c179e"
             ],
             [
              0.4444444444444444,
              "#bd3786"
             ],
             [
              0.5555555555555556,
              "#d8576b"
             ],
             [
              0.6666666666666666,
              "#ed7953"
             ],
             [
              0.7777777777777778,
              "#fb9f3a"
             ],
             [
              0.8888888888888888,
              "#fdca26"
             ],
             [
              1,
              "#f0f921"
             ]
            ],
            "type": "heatmapgl"
           }
          ],
          "histogram": [
           {
            "marker": {
             "pattern": {
              "fillmode": "overlay",
              "size": 10,
              "solidity": 0.2
             }
            },
            "type": "histogram"
           }
          ],
          "histogram2d": [
           {
            "colorbar": {
             "outlinewidth": 0,
             "ticks": ""
            },
            "colorscale": [
             [
              0,
              "#0d0887"
             ],
             [
              0.1111111111111111,
              "#46039f"
             ],
             [
              0.2222222222222222,
              "#7201a8"
             ],
             [
              0.3333333333333333,
              "#9c179e"
             ],
             [
              0.4444444444444444,
              "#bd3786"
             ],
             [
              0.5555555555555556,
              "#d8576b"
             ],
             [
              0.6666666666666666,
              "#ed7953"
             ],
             [
              0.7777777777777778,
              "#fb9f3a"
             ],
             [
              0.8888888888888888,
              "#fdca26"
             ],
             [
              1,
              "#f0f921"
             ]
            ],
            "type": "histogram2d"
           }
          ],
          "histogram2dcontour": [
           {
            "colorbar": {
             "outlinewidth": 0,
             "ticks": ""
            },
            "colorscale": [
             [
              0,
              "#0d0887"
             ],
             [
              0.1111111111111111,
              "#46039f"
             ],
             [
              0.2222222222222222,
              "#7201a8"
             ],
             [
              0.3333333333333333,
              "#9c179e"
             ],
             [
              0.4444444444444444,
              "#bd3786"
             ],
             [
              0.5555555555555556,
              "#d8576b"
             ],
             [
              0.6666666666666666,
              "#ed7953"
             ],
             [
              0.7777777777777778,
              "#fb9f3a"
             ],
             [
              0.8888888888888888,
              "#fdca26"
             ],
             [
              1,
              "#f0f921"
             ]
            ],
            "type": "histogram2dcontour"
           }
          ],
          "mesh3d": [
           {
            "colorbar": {
             "outlinewidth": 0,
             "ticks": ""
            },
            "type": "mesh3d"
           }
          ],
          "parcoords": [
           {
            "line": {
             "colorbar": {
              "outlinewidth": 0,
              "ticks": ""
             }
            },
            "type": "parcoords"
           }
          ],
          "pie": [
           {
            "automargin": true,
            "type": "pie"
           }
          ],
          "scatter": [
           {
            "fillpattern": {
             "fillmode": "overlay",
             "size": 10,
             "solidity": 0.2
            },
            "type": "scatter"
           }
          ],
          "scatter3d": [
           {
            "line": {
             "colorbar": {
              "outlinewidth": 0,
              "ticks": ""
             }
            },
            "marker": {
             "colorbar": {
              "outlinewidth": 0,
              "ticks": ""
             }
            },
            "type": "scatter3d"
           }
          ],
          "scattercarpet": [
           {
            "marker": {
             "colorbar": {
              "outlinewidth": 0,
              "ticks": ""
             }
            },
            "type": "scattercarpet"
           }
          ],
          "scattergeo": [
           {
            "marker": {
             "colorbar": {
              "outlinewidth": 0,
              "ticks": ""
             }
            },
            "type": "scattergeo"
           }
          ],
          "scattergl": [
           {
            "marker": {
             "colorbar": {
              "outlinewidth": 0,
              "ticks": ""
             }
            },
            "type": "scattergl"
           }
          ],
          "scattermapbox": [
           {
            "marker": {
             "colorbar": {
              "outlinewidth": 0,
              "ticks": ""
             }
            },
            "type": "scattermapbox"
           }
          ],
          "scatterpolar": [
           {
            "marker": {
             "colorbar": {
              "outlinewidth": 0,
              "ticks": ""
             }
            },
            "type": "scatterpolar"
           }
          ],
          "scatterpolargl": [
           {
            "marker": {
             "colorbar": {
              "outlinewidth": 0,
              "ticks": ""
             }
            },
            "type": "scatterpolargl"
           }
          ],
          "scatterternary": [
           {
            "marker": {
             "colorbar": {
              "outlinewidth": 0,
              "ticks": ""
             }
            },
            "type": "scatterternary"
           }
          ],
          "surface": [
           {
            "colorbar": {
             "outlinewidth": 0,
             "ticks": ""
            },
            "colorscale": [
             [
              0,
              "#0d0887"
             ],
             [
              0.1111111111111111,
              "#46039f"
             ],
             [
              0.2222222222222222,
              "#7201a8"
             ],
             [
              0.3333333333333333,
              "#9c179e"
             ],
             [
              0.4444444444444444,
              "#bd3786"
             ],
             [
              0.5555555555555556,
              "#d8576b"
             ],
             [
              0.6666666666666666,
              "#ed7953"
             ],
             [
              0.7777777777777778,
              "#fb9f3a"
             ],
             [
              0.8888888888888888,
              "#fdca26"
             ],
             [
              1,
              "#f0f921"
             ]
            ],
            "type": "surface"
           }
          ],
          "table": [
           {
            "cells": {
             "fill": {
              "color": "#EBF0F8"
             },
             "line": {
              "color": "white"
             }
            },
            "header": {
             "fill": {
              "color": "#C8D4E3"
             },
             "line": {
              "color": "white"
             }
            },
            "type": "table"
           }
          ]
         },
         "layout": {
          "annotationdefaults": {
           "arrowcolor": "#2a3f5f",
           "arrowhead": 0,
           "arrowwidth": 1
          },
          "autotypenumbers": "strict",
          "coloraxis": {
           "colorbar": {
            "outlinewidth": 0,
            "ticks": ""
           }
          },
          "colorscale": {
           "diverging": [
            [
             0,
             "#8e0152"
            ],
            [
             0.1,
             "#c51b7d"
            ],
            [
             0.2,
             "#de77ae"
            ],
            [
             0.3,
             "#f1b6da"
            ],
            [
             0.4,
             "#fde0ef"
            ],
            [
             0.5,
             "#f7f7f7"
            ],
            [
             0.6,
             "#e6f5d0"
            ],
            [
             0.7,
             "#b8e186"
            ],
            [
             0.8,
             "#7fbc41"
            ],
            [
             0.9,
             "#4d9221"
            ],
            [
             1,
             "#276419"
            ]
           ],
           "sequential": [
            [
             0,
             "#0d0887"
            ],
            [
             0.1111111111111111,
             "#46039f"
            ],
            [
             0.2222222222222222,
             "#7201a8"
            ],
            [
             0.3333333333333333,
             "#9c179e"
            ],
            [
             0.4444444444444444,
             "#bd3786"
            ],
            [
             0.5555555555555556,
             "#d8576b"
            ],
            [
             0.6666666666666666,
             "#ed7953"
            ],
            [
             0.7777777777777778,
             "#fb9f3a"
            ],
            [
             0.8888888888888888,
             "#fdca26"
            ],
            [
             1,
             "#f0f921"
            ]
           ],
           "sequentialminus": [
            [
             0,
             "#0d0887"
            ],
            [
             0.1111111111111111,
             "#46039f"
            ],
            [
             0.2222222222222222,
             "#7201a8"
            ],
            [
             0.3333333333333333,
             "#9c179e"
            ],
            [
             0.4444444444444444,
             "#bd3786"
            ],
            [
             0.5555555555555556,
             "#d8576b"
            ],
            [
             0.6666666666666666,
             "#ed7953"
            ],
            [
             0.7777777777777778,
             "#fb9f3a"
            ],
            [
             0.8888888888888888,
             "#fdca26"
            ],
            [
             1,
             "#f0f921"
            ]
           ]
          },
          "colorway": [
           "#636efa",
           "#EF553B",
           "#00cc96",
           "#ab63fa",
           "#FFA15A",
           "#19d3f3",
           "#FF6692",
           "#B6E880",
           "#FF97FF",
           "#FECB52"
          ],
          "font": {
           "color": "#2a3f5f"
          },
          "geo": {
           "bgcolor": "white",
           "lakecolor": "white",
           "landcolor": "#E5ECF6",
           "showlakes": true,
           "showland": true,
           "subunitcolor": "white"
          },
          "hoverlabel": {
           "align": "left"
          },
          "hovermode": "closest",
          "mapbox": {
           "style": "light"
          },
          "paper_bgcolor": "white",
          "plot_bgcolor": "#E5ECF6",
          "polar": {
           "angularaxis": {
            "gridcolor": "white",
            "linecolor": "white",
            "ticks": ""
           },
           "bgcolor": "#E5ECF6",
           "radialaxis": {
            "gridcolor": "white",
            "linecolor": "white",
            "ticks": ""
           }
          },
          "scene": {
           "xaxis": {
            "backgroundcolor": "#E5ECF6",
            "gridcolor": "white",
            "gridwidth": 2,
            "linecolor": "white",
            "showbackground": true,
            "ticks": "",
            "zerolinecolor": "white"
           },
           "yaxis": {
            "backgroundcolor": "#E5ECF6",
            "gridcolor": "white",
            "gridwidth": 2,
            "linecolor": "white",
            "showbackground": true,
            "ticks": "",
            "zerolinecolor": "white"
           },
           "zaxis": {
            "backgroundcolor": "#E5ECF6",
            "gridcolor": "white",
            "gridwidth": 2,
            "linecolor": "white",
            "showbackground": true,
            "ticks": "",
            "zerolinecolor": "white"
           }
          },
          "shapedefaults": {
           "line": {
            "color": "#2a3f5f"
           }
          },
          "ternary": {
           "aaxis": {
            "gridcolor": "white",
            "linecolor": "white",
            "ticks": ""
           },
           "baxis": {
            "gridcolor": "white",
            "linecolor": "white",
            "ticks": ""
           },
           "bgcolor": "#E5ECF6",
           "caxis": {
            "gridcolor": "white",
            "linecolor": "white",
            "ticks": ""
           }
          },
          "title": {
           "x": 0.05
          },
          "xaxis": {
           "automargin": true,
           "gridcolor": "white",
           "linecolor": "white",
           "ticks": "",
           "title": {
            "standoff": 15
           },
           "zerolinecolor": "white",
           "zerolinewidth": 2
          },
          "yaxis": {
           "automargin": true,
           "gridcolor": "white",
           "linecolor": "white",
           "ticks": "",
           "title": {
            "standoff": 15
           },
           "zerolinecolor": "white",
           "zerolinewidth": 2
          }
         }
        },
        "title": {
         "font": {
          "color": "#D9D9D9"
         },
         "text": "Bar plot of Average Halstead Error Estimate of Defective and Non-Defective Modules"
        },
        "width": 900,
        "xaxis": {
         "gridcolor": "#434343",
         "showgrid": true,
         "tickfont": {
          "color": "#C2C2C2"
         },
         "title": {
          "font": {
           "color": "#D9D9D9"
          },
          "text": ""
         },
         "zerolinecolor": "#666570"
        },
        "yaxis": {
         "gridcolor": "#434343",
         "showgrid": true,
         "tickfont": {
          "color": "#C2C2C2"
         },
         "title": {
          "font": {
           "color": "#D9D9D9"
          },
          "text": ""
         },
         "zerolinecolor": "#666570"
        }
       }
      },
      "text/html": [
       "<div>                            <div id=\"d51a06f7-e175-4740-8885-e21685f33e3f\" class=\"plotly-graph-div\" style=\"height:500px; width:900px;\"></div>            <script type=\"text/javascript\">                require([\"plotly\"], function(Plotly) {                    window.PLOTLYENV=window.PLOTLYENV || {};\n",
       "                    window.PLOTLYENV.BASE_URL='https://plot.ly';                                    if (document.getElementById(\"d51a06f7-e175-4740-8885-e21685f33e3f\")) {                    Plotly.newPlot(                        \"d51a06f7-e175-4740-8885-e21685f33e3f\",                        [{\"marker\":{\"color\":\"rgba(255, 153, 51, 0.6)\",\"line\":{\"color\":\"rgba(255, 153, 51, 1.0)\",\"width\":1}},\"name\":\"Defective\",\"orientation\":\"v\",\"text\":\"\",\"x\":[0],\"y\":[0.7471428571428573],\"type\":\"bar\"},{\"marker\":{\"color\":\"rgba(55, 128, 191, 0.6)\",\"line\":{\"color\":\"rgba(55, 128, 191, 1.0)\",\"width\":1}},\"name\":\"Non-Defective\",\"orientation\":\"v\",\"text\":\"\",\"x\":[0],\"y\":[0.3742456140350877],\"type\":\"bar\"}],                        {\"height\":500,\"legend\":{\"bgcolor\":\"#151516\",\"font\":{\"color\":\"#D9D9D9\"}},\"paper_bgcolor\":\"#151516\",\"plot_bgcolor\":\"#151516\",\"template\":{\"data\":{\"barpolar\":[{\"marker\":{\"line\":{\"color\":\"#E5ECF6\",\"width\":0.5},\"pattern\":{\"fillmode\":\"overlay\",\"size\":10,\"solidity\":0.2}},\"type\":\"barpolar\"}],\"bar\":[{\"error_x\":{\"color\":\"#2a3f5f\"},\"error_y\":{\"color\":\"#2a3f5f\"},\"marker\":{\"line\":{\"color\":\"#E5ECF6\",\"width\":0.5},\"pattern\":{\"fillmode\":\"overlay\",\"size\":10,\"solidity\":0.2}},\"type\":\"bar\"}],\"carpet\":[{\"aaxis\":{\"endlinecolor\":\"#2a3f5f\",\"gridcolor\":\"white\",\"linecolor\":\"white\",\"minorgridcolor\":\"white\",\"startlinecolor\":\"#2a3f5f\"},\"baxis\":{\"endlinecolor\":\"#2a3f5f\",\"gridcolor\":\"white\",\"linecolor\":\"white\",\"minorgridcolor\":\"white\",\"startlinecolor\":\"#2a3f5f\"},\"type\":\"carpet\"}],\"choropleth\":[{\"colorbar\":{\"outlinewidth\":0,\"ticks\":\"\"},\"type\":\"choropleth\"}],\"contourcarpet\":[{\"colorbar\":{\"outlinewidth\":0,\"ticks\":\"\"},\"type\":\"contourcarpet\"}],\"contour\":[{\"colorbar\":{\"outlinewidth\":0,\"ticks\":\"\"},\"colorscale\":[[0.0,\"#0d0887\"],[0.1111111111111111,\"#46039f\"],[0.2222222222222222,\"#7201a8\"],[0.3333333333333333,\"#9c179e\"],[0.4444444444444444,\"#bd3786\"],[0.5555555555555556,\"#d8576b\"],[0.6666666666666666,\"#ed7953\"],[0.7777777777777778,\"#fb9f3a\"],[0.8888888888888888,\"#fdca26\"],[1.0,\"#f0f921\"]],\"type\":\"contour\"}],\"heatmapgl\":[{\"colorbar\":{\"outlinewidth\":0,\"ticks\":\"\"},\"colorscale\":[[0.0,\"#0d0887\"],[0.1111111111111111,\"#46039f\"],[0.2222222222222222,\"#7201a8\"],[0.3333333333333333,\"#9c179e\"],[0.4444444444444444,\"#bd3786\"],[0.5555555555555556,\"#d8576b\"],[0.6666666666666666,\"#ed7953\"],[0.7777777777777778,\"#fb9f3a\"],[0.8888888888888888,\"#fdca26\"],[1.0,\"#f0f921\"]],\"type\":\"heatmapgl\"}],\"heatmap\":[{\"colorbar\":{\"outlinewidth\":0,\"ticks\":\"\"},\"colorscale\":[[0.0,\"#0d0887\"],[0.1111111111111111,\"#46039f\"],[0.2222222222222222,\"#7201a8\"],[0.3333333333333333,\"#9c179e\"],[0.4444444444444444,\"#bd3786\"],[0.5555555555555556,\"#d8576b\"],[0.6666666666666666,\"#ed7953\"],[0.7777777777777778,\"#fb9f3a\"],[0.8888888888888888,\"#fdca26\"],[1.0,\"#f0f921\"]],\"type\":\"heatmap\"}],\"histogram2dcontour\":[{\"colorbar\":{\"outlinewidth\":0,\"ticks\":\"\"},\"colorscale\":[[0.0,\"#0d0887\"],[0.1111111111111111,\"#46039f\"],[0.2222222222222222,\"#7201a8\"],[0.3333333333333333,\"#9c179e\"],[0.4444444444444444,\"#bd3786\"],[0.5555555555555556,\"#d8576b\"],[0.6666666666666666,\"#ed7953\"],[0.7777777777777778,\"#fb9f3a\"],[0.8888888888888888,\"#fdca26\"],[1.0,\"#f0f921\"]],\"type\":\"histogram2dcontour\"}],\"histogram2d\":[{\"colorbar\":{\"outlinewidth\":0,\"ticks\":\"\"},\"colorscale\":[[0.0,\"#0d0887\"],[0.1111111111111111,\"#46039f\"],[0.2222222222222222,\"#7201a8\"],[0.3333333333333333,\"#9c179e\"],[0.4444444444444444,\"#bd3786\"],[0.5555555555555556,\"#d8576b\"],[0.6666666666666666,\"#ed7953\"],[0.7777777777777778,\"#fb9f3a\"],[0.8888888888888888,\"#fdca26\"],[1.0,\"#f0f921\"]],\"type\":\"histogram2d\"}],\"histogram\":[{\"marker\":{\"pattern\":{\"fillmode\":\"overlay\",\"size\":10,\"solidity\":0.2}},\"type\":\"histogram\"}],\"mesh3d\":[{\"colorbar\":{\"outlinewidth\":0,\"ticks\":\"\"},\"type\":\"mesh3d\"}],\"parcoords\":[{\"line\":{\"colorbar\":{\"outlinewidth\":0,\"ticks\":\"\"}},\"type\":\"parcoords\"}],\"pie\":[{\"automargin\":true,\"type\":\"pie\"}],\"scatter3d\":[{\"line\":{\"colorbar\":{\"outlinewidth\":0,\"ticks\":\"\"}},\"marker\":{\"colorbar\":{\"outlinewidth\":0,\"ticks\":\"\"}},\"type\":\"scatter3d\"}],\"scattercarpet\":[{\"marker\":{\"colorbar\":{\"outlinewidth\":0,\"ticks\":\"\"}},\"type\":\"scattercarpet\"}],\"scattergeo\":[{\"marker\":{\"colorbar\":{\"outlinewidth\":0,\"ticks\":\"\"}},\"type\":\"scattergeo\"}],\"scattergl\":[{\"marker\":{\"colorbar\":{\"outlinewidth\":0,\"ticks\":\"\"}},\"type\":\"scattergl\"}],\"scattermapbox\":[{\"marker\":{\"colorbar\":{\"outlinewidth\":0,\"ticks\":\"\"}},\"type\":\"scattermapbox\"}],\"scatterpolargl\":[{\"marker\":{\"colorbar\":{\"outlinewidth\":0,\"ticks\":\"\"}},\"type\":\"scatterpolargl\"}],\"scatterpolar\":[{\"marker\":{\"colorbar\":{\"outlinewidth\":0,\"ticks\":\"\"}},\"type\":\"scatterpolar\"}],\"scatter\":[{\"fillpattern\":{\"fillmode\":\"overlay\",\"size\":10,\"solidity\":0.2},\"type\":\"scatter\"}],\"scatterternary\":[{\"marker\":{\"colorbar\":{\"outlinewidth\":0,\"ticks\":\"\"}},\"type\":\"scatterternary\"}],\"surface\":[{\"colorbar\":{\"outlinewidth\":0,\"ticks\":\"\"},\"colorscale\":[[0.0,\"#0d0887\"],[0.1111111111111111,\"#46039f\"],[0.2222222222222222,\"#7201a8\"],[0.3333333333333333,\"#9c179e\"],[0.4444444444444444,\"#bd3786\"],[0.5555555555555556,\"#d8576b\"],[0.6666666666666666,\"#ed7953\"],[0.7777777777777778,\"#fb9f3a\"],[0.8888888888888888,\"#fdca26\"],[1.0,\"#f0f921\"]],\"type\":\"surface\"}],\"table\":[{\"cells\":{\"fill\":{\"color\":\"#EBF0F8\"},\"line\":{\"color\":\"white\"}},\"header\":{\"fill\":{\"color\":\"#C8D4E3\"},\"line\":{\"color\":\"white\"}},\"type\":\"table\"}]},\"layout\":{\"annotationdefaults\":{\"arrowcolor\":\"#2a3f5f\",\"arrowhead\":0,\"arrowwidth\":1},\"autotypenumbers\":\"strict\",\"coloraxis\":{\"colorbar\":{\"outlinewidth\":0,\"ticks\":\"\"}},\"colorscale\":{\"diverging\":[[0,\"#8e0152\"],[0.1,\"#c51b7d\"],[0.2,\"#de77ae\"],[0.3,\"#f1b6da\"],[0.4,\"#fde0ef\"],[0.5,\"#f7f7f7\"],[0.6,\"#e6f5d0\"],[0.7,\"#b8e186\"],[0.8,\"#7fbc41\"],[0.9,\"#4d9221\"],[1,\"#276419\"]],\"sequential\":[[0.0,\"#0d0887\"],[0.1111111111111111,\"#46039f\"],[0.2222222222222222,\"#7201a8\"],[0.3333333333333333,\"#9c179e\"],[0.4444444444444444,\"#bd3786\"],[0.5555555555555556,\"#d8576b\"],[0.6666666666666666,\"#ed7953\"],[0.7777777777777778,\"#fb9f3a\"],[0.8888888888888888,\"#fdca26\"],[1.0,\"#f0f921\"]],\"sequentialminus\":[[0.0,\"#0d0887\"],[0.1111111111111111,\"#46039f\"],[0.2222222222222222,\"#7201a8\"],[0.3333333333333333,\"#9c179e\"],[0.4444444444444444,\"#bd3786\"],[0.5555555555555556,\"#d8576b\"],[0.6666666666666666,\"#ed7953\"],[0.7777777777777778,\"#fb9f3a\"],[0.8888888888888888,\"#fdca26\"],[1.0,\"#f0f921\"]]},\"colorway\":[\"#636efa\",\"#EF553B\",\"#00cc96\",\"#ab63fa\",\"#FFA15A\",\"#19d3f3\",\"#FF6692\",\"#B6E880\",\"#FF97FF\",\"#FECB52\"],\"font\":{\"color\":\"#2a3f5f\"},\"geo\":{\"bgcolor\":\"white\",\"lakecolor\":\"white\",\"landcolor\":\"#E5ECF6\",\"showlakes\":true,\"showland\":true,\"subunitcolor\":\"white\"},\"hoverlabel\":{\"align\":\"left\"},\"hovermode\":\"closest\",\"mapbox\":{\"style\":\"light\"},\"paper_bgcolor\":\"white\",\"plot_bgcolor\":\"#E5ECF6\",\"polar\":{\"angularaxis\":{\"gridcolor\":\"white\",\"linecolor\":\"white\",\"ticks\":\"\"},\"bgcolor\":\"#E5ECF6\",\"radialaxis\":{\"gridcolor\":\"white\",\"linecolor\":\"white\",\"ticks\":\"\"}},\"scene\":{\"xaxis\":{\"backgroundcolor\":\"#E5ECF6\",\"gridcolor\":\"white\",\"gridwidth\":2,\"linecolor\":\"white\",\"showbackground\":true,\"ticks\":\"\",\"zerolinecolor\":\"white\"},\"yaxis\":{\"backgroundcolor\":\"#E5ECF6\",\"gridcolor\":\"white\",\"gridwidth\":2,\"linecolor\":\"white\",\"showbackground\":true,\"ticks\":\"\",\"zerolinecolor\":\"white\"},\"zaxis\":{\"backgroundcolor\":\"#E5ECF6\",\"gridcolor\":\"white\",\"gridwidth\":2,\"linecolor\":\"white\",\"showbackground\":true,\"ticks\":\"\",\"zerolinecolor\":\"white\"}},\"shapedefaults\":{\"line\":{\"color\":\"#2a3f5f\"}},\"ternary\":{\"aaxis\":{\"gridcolor\":\"white\",\"linecolor\":\"white\",\"ticks\":\"\"},\"baxis\":{\"gridcolor\":\"white\",\"linecolor\":\"white\",\"ticks\":\"\"},\"bgcolor\":\"#E5ECF6\",\"caxis\":{\"gridcolor\":\"white\",\"linecolor\":\"white\",\"ticks\":\"\"}},\"title\":{\"x\":0.05},\"xaxis\":{\"automargin\":true,\"gridcolor\":\"white\",\"linecolor\":\"white\",\"ticks\":\"\",\"title\":{\"standoff\":15},\"zerolinecolor\":\"white\",\"zerolinewidth\":2},\"yaxis\":{\"automargin\":true,\"gridcolor\":\"white\",\"linecolor\":\"white\",\"ticks\":\"\",\"title\":{\"standoff\":15},\"zerolinecolor\":\"white\",\"zerolinewidth\":2}}},\"title\":{\"font\":{\"color\":\"#D9D9D9\"},\"text\":\"Bar plot of Average Halstead Error Estimate of Defective and Non-Defective Modules\"},\"width\":900,\"xaxis\":{\"gridcolor\":\"#434343\",\"showgrid\":true,\"tickfont\":{\"color\":\"#C2C2C2\"},\"title\":{\"font\":{\"color\":\"#D9D9D9\"},\"text\":\"\"},\"zerolinecolor\":\"#666570\"},\"yaxis\":{\"gridcolor\":\"#434343\",\"showgrid\":true,\"tickfont\":{\"color\":\"#C2C2C2\"},\"title\":{\"font\":{\"color\":\"#D9D9D9\"},\"text\":\"\"},\"zerolinecolor\":\"#666570\"}},                        {\"showLink\": true, \"linkText\": \"Export to plot.ly\", \"plotlyServerURL\": \"https://plot.ly\", \"responsive\": true}                    ).then(function(){\n",
       "                            \n",
       "var gd = document.getElementById('d51a06f7-e175-4740-8885-e21685f33e3f');\n",
       "var x = new MutationObserver(function (mutations, observer) {{\n",
       "        var display = window.getComputedStyle(gd).display;\n",
       "        if (!display || display === 'none') {{\n",
       "            console.log([gd, 'removed!']);\n",
       "            Plotly.purge(gd);\n",
       "            observer.disconnect();\n",
       "        }}\n",
       "}});\n",
       "\n",
       "// Listen for the removal of the full notebook cells\n",
       "var notebookContainer = gd.closest('#notebook-container');\n",
       "if (notebookContainer) {{\n",
       "    x.observe(notebookContainer, {childList: true});\n",
       "}}\n",
       "\n",
       "// Listen for the clearing of the current output cell\n",
       "var outputEl = gd.closest('.output');\n",
       "if (outputEl) {{\n",
       "    x.observe(outputEl, {childList: true});\n",
       "}}\n",
       "\n",
       "                        })                };                });            </script>        </div>"
      ]
     },
     "metadata": {},
     "output_type": "display_data"
    }
   ],
   "source": [
    "average_error_for_defective = defective_group[\"HALSTEAD_ERROR_EST\"].mean()\n",
    "average_error_for_non_defective = non_defective_group[\"HALSTEAD_ERROR_EST\"].mean()\n",
    "\n",
    "pd.DataFrame({\n",
    "    \"Defective\": [average_error_for_defective],\n",
    "    \"Non-Defective\": [average_error_for_non_defective]\n",
    "}).iplot(\n",
    "    kind='bar',\n",
    "    title='Bar plot of Average Halstead Error Estimate of Defective and Non-Defective Modules',\n",
    "    dimensions=(900, 500),\n",
    "    theme=\"solar\"\n",
    ")"
   ]
  },
  {
   "cell_type": "markdown",
   "metadata": {},
   "source": [
    "### Scatter Plot\n",
    "\n",
    "Scatter plot is a way of showing the distribution of the data over two variables. One axis of the plot shows the specific categories being compared, and the other axis represents a measured value (Note the specific category may be a measured value themself).\n",
    "\n",
    "Previously from the bar plot, we could infer that there might be a relation between Design complexity and Halstead Error Estimate. We will plot a scatter plot to see if there is a relation between the two attributes. The upper limit is denoted by a red line and the mean is denoted by a green line."
   ]
  },
  {
   "cell_type": "code",
   "execution_count": 14,
   "metadata": {},
   "outputs": [
    {
     "data": {
      "application/vnd.plotly.v1+json": {
       "config": {
        "linkText": "Export to plot.ly",
        "plotlyServerURL": "https://plot.ly",
        "showLink": true
       },
       "data": [
        {
         "line": {
          "color": "rgba(255, 153, 51, 1.0)",
          "dash": "solid",
          "shape": "linear",
          "width": 1.3
         },
         "marker": {
          "size": 12,
          "symbol": "circle"
         },
         "mode": "markers",
         "name": "DESIGN_COMPLEXITY",
         "text": "",
         "type": "scatter",
         "x": [
          0.02,
          0.04,
          0.8,
          0.25,
          0.16,
          0.18,
          0.06,
          0.2,
          0.09,
          0.54,
          1.69,
          0.18,
          0.3,
          0.18,
          0.03,
          0.1,
          0.17,
          0.1,
          0.24,
          0.2,
          0.15,
          1.43,
          0.44,
          0.09,
          0.25,
          0.19,
          1.2,
          0.06,
          0.25,
          0.04,
          0.03,
          0.19,
          0.15,
          0.13,
          0.18,
          0.13,
          0.26,
          0.05,
          0.5,
          0.58,
          1.34,
          2.84,
          0.08,
          0.02,
          0.25,
          0.05,
          0.23,
          0.24,
          0.05,
          1.86,
          0.21,
          5.12,
          0.02,
          0.24,
          0.12,
          1.82,
          0.54,
          0.12,
          0.08,
          0.35,
          0.04,
          1.25,
          0.18,
          0.16,
          0.25,
          0.15,
          0.18,
          0.09,
          0.09,
          0.15,
          0.38,
          1.67,
          0.27,
          0.37,
          0.43,
          1.71,
          0.03,
          0.04,
          0.1,
          0.06,
          0.17,
          0.26,
          0.09,
          0.13,
          0.09,
          0.21,
          0.11,
          1.11,
          0.58,
          0.09,
          0.05,
          0.87,
          0.18,
          0.16,
          0.04,
          0.65,
          0.11,
          0.02,
          0.17,
          1.14,
          0.1,
          1.65,
          0.07,
          0.41,
          0.12,
          0.21,
          0.07,
          0.1,
          0.25,
          0.34,
          0.08,
          0.61,
          4.25,
          1.74,
          0.02,
          0.15,
          0.2,
          0.12,
          0.48,
          1.04,
          0.16,
          0.16,
          0.21,
          2.08,
          0.18,
          0.11,
          0.58,
          0.41,
          0.12,
          0.04,
          0.06,
          0.11,
          0.06,
          0.26,
          0.45,
          0.35,
          0.14,
          0.04,
          0.22,
          0.28,
          1.05,
          0.55,
          0.17,
          0.24,
          0.06,
          0.04,
          0.16,
          0.09,
          0.38,
          0.3,
          0.72,
          0.28,
          0.09,
          0.04,
          0.06,
          0.1,
          0.09,
          1.22,
          0.76,
          0.06,
          0.17,
          0.11,
          0.28,
          0.12,
          0.53,
          1.56,
          0.13,
          0.13,
          0.31,
          1.15,
          0.06,
          0.29,
          0.08,
          5.56,
          0.24,
          0.16,
          0.55,
          0.12,
          0.06,
          0.22,
          0.43,
          0.06,
          0.27,
          0.87,
          0.14,
          0.08,
          0.15,
          1.89,
          0.57,
          0.68,
          0.06,
          0.1,
          0.42,
          1.06,
          0.66,
          1,
          0.23,
          0.26,
          0.3,
          0.14,
          0.17,
          0.1,
          0.5,
          0.66,
          1.16,
          0.18,
          0.1,
          1.27,
          0.6,
          0.06,
          1.11,
          0.09,
          0.11,
          0.36,
          1.86,
          0.03,
          0.02,
          0.05,
          0.21,
          0.38,
          1.95,
          0.12,
          0.13,
          0.04,
          0.87,
          0.32,
          0.16,
          0.91,
          0.3,
          0.93,
          0.07,
          0.07,
          0.19,
          1.39,
          0.2,
          0.12,
          0.73,
          0.08,
          0.52,
          0.03,
          0.02,
          0.01,
          0.09,
          0.43,
          0.72,
          0.19,
          0.1,
          0.16,
          0.28,
          1.4,
          0.05,
          1.25,
          0.12,
          0.33,
          0.83,
          0.04,
          0.02,
          0.03,
          0.76,
          1.09,
          1.86,
          0.49,
          0.06,
          0.14,
          0.27,
          0.29,
          0.54,
          0.02,
          0.08,
          0.28,
          0.27,
          0.43,
          0.31,
          0.58,
          0.12,
          0.05,
          0.17,
          0.35,
          1.7,
          0.13,
          0.06,
          0.37,
          1.12,
          0.12,
          0.44,
          0.9,
          0.02,
          0.03,
          1.04,
          0.17,
          0.34,
          0.1,
          0.13,
          0.41,
          0.11,
          0.44,
          0.22,
          0.05,
          0.36,
          0.3,
          0.72,
          0.11,
          0.18,
          0.14,
          0.18,
          0.77,
          0.03,
          0.06,
          0.28,
          0.35,
          0.52,
          0.07,
          0.1,
          0.59,
          0.04,
          0.37,
          0.12,
          0.24,
          0.54,
          0.1,
          3.05,
          0.31,
          0.88,
          0.12,
          0.05,
          0.2,
          0.05
         ],
         "y": [
          1,
          1,
          7,
          3,
          6,
          5,
          1,
          3,
          1,
          2,
          18,
          4,
          6,
          3,
          2,
          2,
          2,
          1,
          4,
          2,
          3,
          10,
          7,
          1,
          3,
          2,
          8,
          2,
          2,
          1,
          2,
          2,
          3,
          5,
          3,
          4,
          6,
          1,
          5,
          7,
          10,
          22,
          1,
          2,
          9,
          3,
          6,
          9,
          1,
          6,
          5,
          46,
          1,
          4,
          2,
          10,
          7,
          2,
          5,
          5,
          1,
          4,
          3,
          1,
          3,
          1,
          3,
          4,
          4,
          3,
          2,
          12,
          2,
          6,
          2,
          13,
          3,
          1,
          3,
          2,
          2,
          3,
          1,
          3,
          2,
          4,
          4,
          9,
          7,
          3,
          1,
          19,
          2,
          4,
          1,
          10,
          5,
          2,
          3,
          7,
          1,
          8,
          1,
          5,
          1,
          3,
          1,
          1,
          1,
          6,
          3,
          12,
          41,
          17,
          2,
          1,
          2,
          1,
          4,
          13,
          3,
          1,
          8,
          4,
          2,
          2,
          9,
          5,
          8,
          3,
          3,
          3,
          1,
          13,
          1,
          5,
          2,
          1,
          2,
          3,
          10,
          8,
          2,
          6,
          3,
          2,
          3,
          2,
          7,
          4,
          9,
          2,
          1,
          1,
          1,
          4,
          2,
          11,
          9,
          1,
          1,
          1,
          14,
          3,
          10,
          24,
          4,
          2,
          2,
          20,
          1,
          2,
          1,
          63,
          5,
          3,
          4,
          3,
          2,
          4,
          1,
          1,
          5,
          3,
          4,
          1,
          1,
          9,
          9,
          6,
          1,
          1,
          9,
          11,
          7,
          6,
          3,
          1,
          6,
          4,
          3,
          4,
          10,
          7,
          10,
          5,
          2,
          12,
          8,
          1,
          1,
          1,
          3,
          3,
          24,
          1,
          1,
          1,
          2,
          2,
          15,
          1,
          3,
          1,
          8,
          7,
          4,
          11,
          1,
          13,
          1,
          2,
          4,
          16,
          4,
          3,
          7,
          1,
          3,
          1,
          1,
          1,
          4,
          2,
          5,
          2,
          2,
          3,
          4,
          26,
          1,
          6,
          2,
          5,
          4,
          1,
          1,
          2,
          6,
          10,
          23,
          2,
          2,
          3,
          5,
          1,
          4,
          1,
          1,
          2,
          5,
          9,
          6,
          3,
          3,
          3,
          2,
          5,
          27,
          3,
          2,
          4,
          10,
          3,
          2,
          6,
          2,
          1,
          1,
          2,
          6,
          3,
          4,
          6,
          3,
          8,
          4,
          2,
          5,
          3,
          6,
          2,
          5,
          2,
          4,
          7,
          2,
          1,
          4,
          1,
          7,
          2,
          2,
          4,
          2,
          5,
          2,
          3,
          3,
          3,
          26,
          1,
          15,
          2,
          1,
          2,
          2
         ]
        }
       ],
       "layout": {
        "height": 500,
        "legend": {
         "bgcolor": "#151516",
         "font": {
          "color": "#D9D9D9"
         }
        },
        "paper_bgcolor": "#151516",
        "plot_bgcolor": "#151516",
        "template": {
         "data": {
          "bar": [
           {
            "error_x": {
             "color": "#2a3f5f"
            },
            "error_y": {
             "color": "#2a3f5f"
            },
            "marker": {
             "line": {
              "color": "#E5ECF6",
              "width": 0.5
             },
             "pattern": {
              "fillmode": "overlay",
              "size": 10,
              "solidity": 0.2
             }
            },
            "type": "bar"
           }
          ],
          "barpolar": [
           {
            "marker": {
             "line": {
              "color": "#E5ECF6",
              "width": 0.5
             },
             "pattern": {
              "fillmode": "overlay",
              "size": 10,
              "solidity": 0.2
             }
            },
            "type": "barpolar"
           }
          ],
          "carpet": [
           {
            "aaxis": {
             "endlinecolor": "#2a3f5f",
             "gridcolor": "white",
             "linecolor": "white",
             "minorgridcolor": "white",
             "startlinecolor": "#2a3f5f"
            },
            "baxis": {
             "endlinecolor": "#2a3f5f",
             "gridcolor": "white",
             "linecolor": "white",
             "minorgridcolor": "white",
             "startlinecolor": "#2a3f5f"
            },
            "type": "carpet"
           }
          ],
          "choropleth": [
           {
            "colorbar": {
             "outlinewidth": 0,
             "ticks": ""
            },
            "type": "choropleth"
           }
          ],
          "contour": [
           {
            "colorbar": {
             "outlinewidth": 0,
             "ticks": ""
            },
            "colorscale": [
             [
              0,
              "#0d0887"
             ],
             [
              0.1111111111111111,
              "#46039f"
             ],
             [
              0.2222222222222222,
              "#7201a8"
             ],
             [
              0.3333333333333333,
              "#9c179e"
             ],
             [
              0.4444444444444444,
              "#bd3786"
             ],
             [
              0.5555555555555556,
              "#d8576b"
             ],
             [
              0.6666666666666666,
              "#ed7953"
             ],
             [
              0.7777777777777778,
              "#fb9f3a"
             ],
             [
              0.8888888888888888,
              "#fdca26"
             ],
             [
              1,
              "#f0f921"
             ]
            ],
            "type": "contour"
           }
          ],
          "contourcarpet": [
           {
            "colorbar": {
             "outlinewidth": 0,
             "ticks": ""
            },
            "type": "contourcarpet"
           }
          ],
          "heatmap": [
           {
            "colorbar": {
             "outlinewidth": 0,
             "ticks": ""
            },
            "colorscale": [
             [
              0,
              "#0d0887"
             ],
             [
              0.1111111111111111,
              "#46039f"
             ],
             [
              0.2222222222222222,
              "#7201a8"
             ],
             [
              0.3333333333333333,
              "#9c179e"
             ],
             [
              0.4444444444444444,
              "#bd3786"
             ],
             [
              0.5555555555555556,
              "#d8576b"
             ],
             [
              0.6666666666666666,
              "#ed7953"
             ],
             [
              0.7777777777777778,
              "#fb9f3a"
             ],
             [
              0.8888888888888888,
              "#fdca26"
             ],
             [
              1,
              "#f0f921"
             ]
            ],
            "type": "heatmap"
           }
          ],
          "heatmapgl": [
           {
            "colorbar": {
             "outlinewidth": 0,
             "ticks": ""
            },
            "colorscale": [
             [
              0,
              "#0d0887"
             ],
             [
              0.1111111111111111,
              "#46039f"
             ],
             [
              0.2222222222222222,
              "#7201a8"
             ],
             [
              0.3333333333333333,
              "#9c179e"
             ],
             [
              0.4444444444444444,
              "#bd3786"
             ],
             [
              0.5555555555555556,
              "#d8576b"
             ],
             [
              0.6666666666666666,
              "#ed7953"
             ],
             [
              0.7777777777777778,
              "#fb9f3a"
             ],
             [
              0.8888888888888888,
              "#fdca26"
             ],
             [
              1,
              "#f0f921"
             ]
            ],
            "type": "heatmapgl"
           }
          ],
          "histogram": [
           {
            "marker": {
             "pattern": {
              "fillmode": "overlay",
              "size": 10,
              "solidity": 0.2
             }
            },
            "type": "histogram"
           }
          ],
          "histogram2d": [
           {
            "colorbar": {
             "outlinewidth": 0,
             "ticks": ""
            },
            "colorscale": [
             [
              0,
              "#0d0887"
             ],
             [
              0.1111111111111111,
              "#46039f"
             ],
             [
              0.2222222222222222,
              "#7201a8"
             ],
             [
              0.3333333333333333,
              "#9c179e"
             ],
             [
              0.4444444444444444,
              "#bd3786"
             ],
             [
              0.5555555555555556,
              "#d8576b"
             ],
             [
              0.6666666666666666,
              "#ed7953"
             ],
             [
              0.7777777777777778,
              "#fb9f3a"
             ],
             [
              0.8888888888888888,
              "#fdca26"
             ],
             [
              1,
              "#f0f921"
             ]
            ],
            "type": "histogram2d"
           }
          ],
          "histogram2dcontour": [
           {
            "colorbar": {
             "outlinewidth": 0,
             "ticks": ""
            },
            "colorscale": [
             [
              0,
              "#0d0887"
             ],
             [
              0.1111111111111111,
              "#46039f"
             ],
             [
              0.2222222222222222,
              "#7201a8"
             ],
             [
              0.3333333333333333,
              "#9c179e"
             ],
             [
              0.4444444444444444,
              "#bd3786"
             ],
             [
              0.5555555555555556,
              "#d8576b"
             ],
             [
              0.6666666666666666,
              "#ed7953"
             ],
             [
              0.7777777777777778,
              "#fb9f3a"
             ],
             [
              0.8888888888888888,
              "#fdca26"
             ],
             [
              1,
              "#f0f921"
             ]
            ],
            "type": "histogram2dcontour"
           }
          ],
          "mesh3d": [
           {
            "colorbar": {
             "outlinewidth": 0,
             "ticks": ""
            },
            "type": "mesh3d"
           }
          ],
          "parcoords": [
           {
            "line": {
             "colorbar": {
              "outlinewidth": 0,
              "ticks": ""
             }
            },
            "type": "parcoords"
           }
          ],
          "pie": [
           {
            "automargin": true,
            "type": "pie"
           }
          ],
          "scatter": [
           {
            "fillpattern": {
             "fillmode": "overlay",
             "size": 10,
             "solidity": 0.2
            },
            "type": "scatter"
           }
          ],
          "scatter3d": [
           {
            "line": {
             "colorbar": {
              "outlinewidth": 0,
              "ticks": ""
             }
            },
            "marker": {
             "colorbar": {
              "outlinewidth": 0,
              "ticks": ""
             }
            },
            "type": "scatter3d"
           }
          ],
          "scattercarpet": [
           {
            "marker": {
             "colorbar": {
              "outlinewidth": 0,
              "ticks": ""
             }
            },
            "type": "scattercarpet"
           }
          ],
          "scattergeo": [
           {
            "marker": {
             "colorbar": {
              "outlinewidth": 0,
              "ticks": ""
             }
            },
            "type": "scattergeo"
           }
          ],
          "scattergl": [
           {
            "marker": {
             "colorbar": {
              "outlinewidth": 0,
              "ticks": ""
             }
            },
            "type": "scattergl"
           }
          ],
          "scattermapbox": [
           {
            "marker": {
             "colorbar": {
              "outlinewidth": 0,
              "ticks": ""
             }
            },
            "type": "scattermapbox"
           }
          ],
          "scatterpolar": [
           {
            "marker": {
             "colorbar": {
              "outlinewidth": 0,
              "ticks": ""
             }
            },
            "type": "scatterpolar"
           }
          ],
          "scatterpolargl": [
           {
            "marker": {
             "colorbar": {
              "outlinewidth": 0,
              "ticks": ""
             }
            },
            "type": "scatterpolargl"
           }
          ],
          "scatterternary": [
           {
            "marker": {
             "colorbar": {
              "outlinewidth": 0,
              "ticks": ""
             }
            },
            "type": "scatterternary"
           }
          ],
          "surface": [
           {
            "colorbar": {
             "outlinewidth": 0,
             "ticks": ""
            },
            "colorscale": [
             [
              0,
              "#0d0887"
             ],
             [
              0.1111111111111111,
              "#46039f"
             ],
             [
              0.2222222222222222,
              "#7201a8"
             ],
             [
              0.3333333333333333,
              "#9c179e"
             ],
             [
              0.4444444444444444,
              "#bd3786"
             ],
             [
              0.5555555555555556,
              "#d8576b"
             ],
             [
              0.6666666666666666,
              "#ed7953"
             ],
             [
              0.7777777777777778,
              "#fb9f3a"
             ],
             [
              0.8888888888888888,
              "#fdca26"
             ],
             [
              1,
              "#f0f921"
             ]
            ],
            "type": "surface"
           }
          ],
          "table": [
           {
            "cells": {
             "fill": {
              "color": "#EBF0F8"
             },
             "line": {
              "color": "white"
             }
            },
            "header": {
             "fill": {
              "color": "#C8D4E3"
             },
             "line": {
              "color": "white"
             }
            },
            "type": "table"
           }
          ]
         },
         "layout": {
          "annotationdefaults": {
           "arrowcolor": "#2a3f5f",
           "arrowhead": 0,
           "arrowwidth": 1
          },
          "autotypenumbers": "strict",
          "coloraxis": {
           "colorbar": {
            "outlinewidth": 0,
            "ticks": ""
           }
          },
          "colorscale": {
           "diverging": [
            [
             0,
             "#8e0152"
            ],
            [
             0.1,
             "#c51b7d"
            ],
            [
             0.2,
             "#de77ae"
            ],
            [
             0.3,
             "#f1b6da"
            ],
            [
             0.4,
             "#fde0ef"
            ],
            [
             0.5,
             "#f7f7f7"
            ],
            [
             0.6,
             "#e6f5d0"
            ],
            [
             0.7,
             "#b8e186"
            ],
            [
             0.8,
             "#7fbc41"
            ],
            [
             0.9,
             "#4d9221"
            ],
            [
             1,
             "#276419"
            ]
           ],
           "sequential": [
            [
             0,
             "#0d0887"
            ],
            [
             0.1111111111111111,
             "#46039f"
            ],
            [
             0.2222222222222222,
             "#7201a8"
            ],
            [
             0.3333333333333333,
             "#9c179e"
            ],
            [
             0.4444444444444444,
             "#bd3786"
            ],
            [
             0.5555555555555556,
             "#d8576b"
            ],
            [
             0.6666666666666666,
             "#ed7953"
            ],
            [
             0.7777777777777778,
             "#fb9f3a"
            ],
            [
             0.8888888888888888,
             "#fdca26"
            ],
            [
             1,
             "#f0f921"
            ]
           ],
           "sequentialminus": [
            [
             0,
             "#0d0887"
            ],
            [
             0.1111111111111111,
             "#46039f"
            ],
            [
             0.2222222222222222,
             "#7201a8"
            ],
            [
             0.3333333333333333,
             "#9c179e"
            ],
            [
             0.4444444444444444,
             "#bd3786"
            ],
            [
             0.5555555555555556,
             "#d8576b"
            ],
            [
             0.6666666666666666,
             "#ed7953"
            ],
            [
             0.7777777777777778,
             "#fb9f3a"
            ],
            [
             0.8888888888888888,
             "#fdca26"
            ],
            [
             1,
             "#f0f921"
            ]
           ]
          },
          "colorway": [
           "#636efa",
           "#EF553B",
           "#00cc96",
           "#ab63fa",
           "#FFA15A",
           "#19d3f3",
           "#FF6692",
           "#B6E880",
           "#FF97FF",
           "#FECB52"
          ],
          "font": {
           "color": "#2a3f5f"
          },
          "geo": {
           "bgcolor": "white",
           "lakecolor": "white",
           "landcolor": "#E5ECF6",
           "showlakes": true,
           "showland": true,
           "subunitcolor": "white"
          },
          "hoverlabel": {
           "align": "left"
          },
          "hovermode": "closest",
          "mapbox": {
           "style": "light"
          },
          "paper_bgcolor": "white",
          "plot_bgcolor": "#E5ECF6",
          "polar": {
           "angularaxis": {
            "gridcolor": "white",
            "linecolor": "white",
            "ticks": ""
           },
           "bgcolor": "#E5ECF6",
           "radialaxis": {
            "gridcolor": "white",
            "linecolor": "white",
            "ticks": ""
           }
          },
          "scene": {
           "xaxis": {
            "backgroundcolor": "#E5ECF6",
            "gridcolor": "white",
            "gridwidth": 2,
            "linecolor": "white",
            "showbackground": true,
            "ticks": "",
            "zerolinecolor": "white"
           },
           "yaxis": {
            "backgroundcolor": "#E5ECF6",
            "gridcolor": "white",
            "gridwidth": 2,
            "linecolor": "white",
            "showbackground": true,
            "ticks": "",
            "zerolinecolor": "white"
           },
           "zaxis": {
            "backgroundcolor": "#E5ECF6",
            "gridcolor": "white",
            "gridwidth": 2,
            "linecolor": "white",
            "showbackground": true,
            "ticks": "",
            "zerolinecolor": "white"
           }
          },
          "shapedefaults": {
           "line": {
            "color": "#2a3f5f"
           }
          },
          "ternary": {
           "aaxis": {
            "gridcolor": "white",
            "linecolor": "white",
            "ticks": ""
           },
           "baxis": {
            "gridcolor": "white",
            "linecolor": "white",
            "ticks": ""
           },
           "bgcolor": "#E5ECF6",
           "caxis": {
            "gridcolor": "white",
            "linecolor": "white",
            "ticks": ""
           }
          },
          "title": {
           "x": 0.05
          },
          "xaxis": {
           "automargin": true,
           "gridcolor": "white",
           "linecolor": "white",
           "ticks": "",
           "title": {
            "standoff": 15
           },
           "zerolinecolor": "white",
           "zerolinewidth": 2
          },
          "yaxis": {
           "automargin": true,
           "gridcolor": "white",
           "linecolor": "white",
           "ticks": "",
           "title": {
            "standoff": 15
           },
           "zerolinecolor": "white",
           "zerolinewidth": 2
          }
         }
        },
        "title": {
         "font": {
          "color": "#D9D9D9"
         },
         "text": "Scatter plot of Halstead Error Estimate vs Design Complexity"
        },
        "width": 900,
        "xaxis": {
         "gridcolor": "#434343",
         "showgrid": true,
         "tickfont": {
          "color": "#C2C2C2"
         },
         "title": {
          "font": {
           "color": "#D9D9D9"
          },
          "text": "Halstead Error Estimate"
         },
         "zerolinecolor": "#666570"
        },
        "yaxis": {
         "gridcolor": "#434343",
         "showgrid": true,
         "tickfont": {
          "color": "#C2C2C2"
         },
         "title": {
          "font": {
           "color": "#D9D9D9"
          },
          "text": "Design Complexity"
         },
         "zerolinecolor": "#666570"
        }
       }
      },
      "text/html": [
       "<div>                            <div id=\"83cf0d90-f9bc-4a49-a199-b3dda1c02905\" class=\"plotly-graph-div\" style=\"height:500px; width:900px;\"></div>            <script type=\"text/javascript\">                require([\"plotly\"], function(Plotly) {                    window.PLOTLYENV=window.PLOTLYENV || {};\n",
       "                    window.PLOTLYENV.BASE_URL='https://plot.ly';                                    if (document.getElementById(\"83cf0d90-f9bc-4a49-a199-b3dda1c02905\")) {                    Plotly.newPlot(                        \"83cf0d90-f9bc-4a49-a199-b3dda1c02905\",                        [{\"line\":{\"color\":\"rgba(255, 153, 51, 1.0)\",\"dash\":\"solid\",\"shape\":\"linear\",\"width\":1.3},\"marker\":{\"size\":12,\"symbol\":\"circle\"},\"mode\":\"markers\",\"name\":\"DESIGN_COMPLEXITY\",\"text\":\"\",\"x\":[0.02,0.04,0.8,0.25,0.16,0.18,0.06,0.2,0.09,0.54,1.69,0.18,0.3,0.18,0.03,0.1,0.17,0.1,0.24,0.2,0.15,1.43,0.44,0.09,0.25,0.19,1.2,0.06,0.25,0.04,0.03,0.19,0.15,0.13,0.18,0.13,0.26,0.05,0.5,0.58,1.34,2.84,0.08,0.02,0.25,0.05,0.23,0.24,0.05,1.86,0.21,5.12,0.02,0.24,0.12,1.82,0.54,0.12,0.08,0.35,0.04,1.25,0.18,0.16,0.25,0.15,0.18,0.09,0.09,0.15,0.38,1.67,0.27,0.37,0.43,1.71,0.03,0.04,0.1,0.06,0.17,0.26,0.09,0.13,0.09,0.21,0.11,1.11,0.58,0.09,0.05,0.87,0.18,0.16,0.04,0.65,0.11,0.02,0.17,1.14,0.1,1.65,0.07,0.41,0.12,0.21,0.07,0.1,0.25,0.34,0.08,0.61,4.25,1.74,0.02,0.15,0.2,0.12,0.48,1.04,0.16,0.16,0.21,2.08,0.18,0.11,0.58,0.41,0.12,0.04,0.06,0.11,0.06,0.26,0.45,0.35,0.14,0.04,0.22,0.28,1.05,0.55,0.17,0.24,0.06,0.04,0.16,0.09,0.38,0.3,0.72,0.28,0.09,0.04,0.06,0.1,0.09,1.22,0.76,0.06,0.17,0.11,0.28,0.12,0.53,1.56,0.13,0.13,0.31,1.15,0.06,0.29,0.08,5.56,0.24,0.16,0.55,0.12,0.06,0.22,0.43,0.06,0.27,0.87,0.14,0.08,0.15,1.89,0.57,0.68,0.06,0.1,0.42,1.06,0.66,1.0,0.23,0.26,0.3,0.14,0.17,0.1,0.5,0.66,1.16,0.18,0.1,1.27,0.6,0.06,1.11,0.09,0.11,0.36,1.86,0.03,0.02,0.05,0.21,0.38,1.95,0.12,0.13,0.04,0.87,0.32,0.16,0.91,0.3,0.93,0.07,0.07,0.19,1.39,0.2,0.12,0.73,0.08,0.52,0.03,0.02,0.01,0.09,0.43,0.72,0.19,0.1,0.16,0.28,1.4,0.05,1.25,0.12,0.33,0.83,0.04,0.02,0.03,0.76,1.09,1.86,0.49,0.06,0.14,0.27,0.29,0.54,0.02,0.08,0.28,0.27,0.43,0.31,0.58,0.12,0.05,0.17,0.35,1.7,0.13,0.06,0.37,1.12,0.12,0.44,0.9,0.02,0.03,1.04,0.17,0.34,0.1,0.13,0.41,0.11,0.44,0.22,0.05,0.36,0.3,0.72,0.11,0.18,0.14,0.18,0.77,0.03,0.06,0.28,0.35,0.52,0.07,0.1,0.59,0.04,0.37,0.12,0.24,0.54,0.1,3.05,0.31,0.88,0.12,0.05,0.2,0.05],\"y\":[1.0,1.0,7.0,3.0,6.0,5.0,1.0,3.0,1.0,2.0,18.0,4.0,6.0,3.0,2.0,2.0,2.0,1.0,4.0,2.0,3.0,10.0,7.0,1.0,3.0,2.0,8.0,2.0,2.0,1.0,2.0,2.0,3.0,5.0,3.0,4.0,6.0,1.0,5.0,7.0,10.0,22.0,1.0,2.0,9.0,3.0,6.0,9.0,1.0,6.0,5.0,46.0,1.0,4.0,2.0,10.0,7.0,2.0,5.0,5.0,1.0,4.0,3.0,1.0,3.0,1.0,3.0,4.0,4.0,3.0,2.0,12.0,2.0,6.0,2.0,13.0,3.0,1.0,3.0,2.0,2.0,3.0,1.0,3.0,2.0,4.0,4.0,9.0,7.0,3.0,1.0,19.0,2.0,4.0,1.0,10.0,5.0,2.0,3.0,7.0,1.0,8.0,1.0,5.0,1.0,3.0,1.0,1.0,1.0,6.0,3.0,12.0,41.0,17.0,2.0,1.0,2.0,1.0,4.0,13.0,3.0,1.0,8.0,4.0,2.0,2.0,9.0,5.0,8.0,3.0,3.0,3.0,1.0,13.0,1.0,5.0,2.0,1.0,2.0,3.0,10.0,8.0,2.0,6.0,3.0,2.0,3.0,2.0,7.0,4.0,9.0,2.0,1.0,1.0,1.0,4.0,2.0,11.0,9.0,1.0,1.0,1.0,14.0,3.0,10.0,24.0,4.0,2.0,2.0,20.0,1.0,2.0,1.0,63.0,5.0,3.0,4.0,3.0,2.0,4.0,1.0,1.0,5.0,3.0,4.0,1.0,1.0,9.0,9.0,6.0,1.0,1.0,9.0,11.0,7.0,6.0,3.0,1.0,6.0,4.0,3.0,4.0,10.0,7.0,10.0,5.0,2.0,12.0,8.0,1.0,1.0,1.0,3.0,3.0,24.0,1.0,1.0,1.0,2.0,2.0,15.0,1.0,3.0,1.0,8.0,7.0,4.0,11.0,1.0,13.0,1.0,2.0,4.0,16.0,4.0,3.0,7.0,1.0,3.0,1.0,1.0,1.0,4.0,2.0,5.0,2.0,2.0,3.0,4.0,26.0,1.0,6.0,2.0,5.0,4.0,1.0,1.0,2.0,6.0,10.0,23.0,2.0,2.0,3.0,5.0,1.0,4.0,1.0,1.0,2.0,5.0,9.0,6.0,3.0,3.0,3.0,2.0,5.0,27.0,3.0,2.0,4.0,10.0,3.0,2.0,6.0,2.0,1.0,1.0,2.0,6.0,3.0,4.0,6.0,3.0,8.0,4.0,2.0,5.0,3.0,6.0,2.0,5.0,2.0,4.0,7.0,2.0,1.0,4.0,1.0,7.0,2.0,2.0,4.0,2.0,5.0,2.0,3.0,3.0,3.0,26.0,1.0,15.0,2.0,1.0,2.0,2.0],\"type\":\"scatter\"}],                        {\"height\":500,\"legend\":{\"bgcolor\":\"#151516\",\"font\":{\"color\":\"#D9D9D9\"}},\"paper_bgcolor\":\"#151516\",\"plot_bgcolor\":\"#151516\",\"template\":{\"data\":{\"barpolar\":[{\"marker\":{\"line\":{\"color\":\"#E5ECF6\",\"width\":0.5},\"pattern\":{\"fillmode\":\"overlay\",\"size\":10,\"solidity\":0.2}},\"type\":\"barpolar\"}],\"bar\":[{\"error_x\":{\"color\":\"#2a3f5f\"},\"error_y\":{\"color\":\"#2a3f5f\"},\"marker\":{\"line\":{\"color\":\"#E5ECF6\",\"width\":0.5},\"pattern\":{\"fillmode\":\"overlay\",\"size\":10,\"solidity\":0.2}},\"type\":\"bar\"}],\"carpet\":[{\"aaxis\":{\"endlinecolor\":\"#2a3f5f\",\"gridcolor\":\"white\",\"linecolor\":\"white\",\"minorgridcolor\":\"white\",\"startlinecolor\":\"#2a3f5f\"},\"baxis\":{\"endlinecolor\":\"#2a3f5f\",\"gridcolor\":\"white\",\"linecolor\":\"white\",\"minorgridcolor\":\"white\",\"startlinecolor\":\"#2a3f5f\"},\"type\":\"carpet\"}],\"choropleth\":[{\"colorbar\":{\"outlinewidth\":0,\"ticks\":\"\"},\"type\":\"choropleth\"}],\"contourcarpet\":[{\"colorbar\":{\"outlinewidth\":0,\"ticks\":\"\"},\"type\":\"contourcarpet\"}],\"contour\":[{\"colorbar\":{\"outlinewidth\":0,\"ticks\":\"\"},\"colorscale\":[[0.0,\"#0d0887\"],[0.1111111111111111,\"#46039f\"],[0.2222222222222222,\"#7201a8\"],[0.3333333333333333,\"#9c179e\"],[0.4444444444444444,\"#bd3786\"],[0.5555555555555556,\"#d8576b\"],[0.6666666666666666,\"#ed7953\"],[0.7777777777777778,\"#fb9f3a\"],[0.8888888888888888,\"#fdca26\"],[1.0,\"#f0f921\"]],\"type\":\"contour\"}],\"heatmapgl\":[{\"colorbar\":{\"outlinewidth\":0,\"ticks\":\"\"},\"colorscale\":[[0.0,\"#0d0887\"],[0.1111111111111111,\"#46039f\"],[0.2222222222222222,\"#7201a8\"],[0.3333333333333333,\"#9c179e\"],[0.4444444444444444,\"#bd3786\"],[0.5555555555555556,\"#d8576b\"],[0.6666666666666666,\"#ed7953\"],[0.7777777777777778,\"#fb9f3a\"],[0.8888888888888888,\"#fdca26\"],[1.0,\"#f0f921\"]],\"type\":\"heatmapgl\"}],\"heatmap\":[{\"colorbar\":{\"outlinewidth\":0,\"ticks\":\"\"},\"colorscale\":[[0.0,\"#0d0887\"],[0.1111111111111111,\"#46039f\"],[0.2222222222222222,\"#7201a8\"],[0.3333333333333333,\"#9c179e\"],[0.4444444444444444,\"#bd3786\"],[0.5555555555555556,\"#d8576b\"],[0.6666666666666666,\"#ed7953\"],[0.7777777777777778,\"#fb9f3a\"],[0.8888888888888888,\"#fdca26\"],[1.0,\"#f0f921\"]],\"type\":\"heatmap\"}],\"histogram2dcontour\":[{\"colorbar\":{\"outlinewidth\":0,\"ticks\":\"\"},\"colorscale\":[[0.0,\"#0d0887\"],[0.1111111111111111,\"#46039f\"],[0.2222222222222222,\"#7201a8\"],[0.3333333333333333,\"#9c179e\"],[0.4444444444444444,\"#bd3786\"],[0.5555555555555556,\"#d8576b\"],[0.6666666666666666,\"#ed7953\"],[0.7777777777777778,\"#fb9f3a\"],[0.8888888888888888,\"#fdca26\"],[1.0,\"#f0f921\"]],\"type\":\"histogram2dcontour\"}],\"histogram2d\":[{\"colorbar\":{\"outlinewidth\":0,\"ticks\":\"\"},\"colorscale\":[[0.0,\"#0d0887\"],[0.1111111111111111,\"#46039f\"],[0.2222222222222222,\"#7201a8\"],[0.3333333333333333,\"#9c179e\"],[0.4444444444444444,\"#bd3786\"],[0.5555555555555556,\"#d8576b\"],[0.6666666666666666,\"#ed7953\"],[0.7777777777777778,\"#fb9f3a\"],[0.8888888888888888,\"#fdca26\"],[1.0,\"#f0f921\"]],\"type\":\"histogram2d\"}],\"histogram\":[{\"marker\":{\"pattern\":{\"fillmode\":\"overlay\",\"size\":10,\"solidity\":0.2}},\"type\":\"histogram\"}],\"mesh3d\":[{\"colorbar\":{\"outlinewidth\":0,\"ticks\":\"\"},\"type\":\"mesh3d\"}],\"parcoords\":[{\"line\":{\"colorbar\":{\"outlinewidth\":0,\"ticks\":\"\"}},\"type\":\"parcoords\"}],\"pie\":[{\"automargin\":true,\"type\":\"pie\"}],\"scatter3d\":[{\"line\":{\"colorbar\":{\"outlinewidth\":0,\"ticks\":\"\"}},\"marker\":{\"colorbar\":{\"outlinewidth\":0,\"ticks\":\"\"}},\"type\":\"scatter3d\"}],\"scattercarpet\":[{\"marker\":{\"colorbar\":{\"outlinewidth\":0,\"ticks\":\"\"}},\"type\":\"scattercarpet\"}],\"scattergeo\":[{\"marker\":{\"colorbar\":{\"outlinewidth\":0,\"ticks\":\"\"}},\"type\":\"scattergeo\"}],\"scattergl\":[{\"marker\":{\"colorbar\":{\"outlinewidth\":0,\"ticks\":\"\"}},\"type\":\"scattergl\"}],\"scattermapbox\":[{\"marker\":{\"colorbar\":{\"outlinewidth\":0,\"ticks\":\"\"}},\"type\":\"scattermapbox\"}],\"scatterpolargl\":[{\"marker\":{\"colorbar\":{\"outlinewidth\":0,\"ticks\":\"\"}},\"type\":\"scatterpolargl\"}],\"scatterpolar\":[{\"marker\":{\"colorbar\":{\"outlinewidth\":0,\"ticks\":\"\"}},\"type\":\"scatterpolar\"}],\"scatter\":[{\"fillpattern\":{\"fillmode\":\"overlay\",\"size\":10,\"solidity\":0.2},\"type\":\"scatter\"}],\"scatterternary\":[{\"marker\":{\"colorbar\":{\"outlinewidth\":0,\"ticks\":\"\"}},\"type\":\"scatterternary\"}],\"surface\":[{\"colorbar\":{\"outlinewidth\":0,\"ticks\":\"\"},\"colorscale\":[[0.0,\"#0d0887\"],[0.1111111111111111,\"#46039f\"],[0.2222222222222222,\"#7201a8\"],[0.3333333333333333,\"#9c179e\"],[0.4444444444444444,\"#bd3786\"],[0.5555555555555556,\"#d8576b\"],[0.6666666666666666,\"#ed7953\"],[0.7777777777777778,\"#fb9f3a\"],[0.8888888888888888,\"#fdca26\"],[1.0,\"#f0f921\"]],\"type\":\"surface\"}],\"table\":[{\"cells\":{\"fill\":{\"color\":\"#EBF0F8\"},\"line\":{\"color\":\"white\"}},\"header\":{\"fill\":{\"color\":\"#C8D4E3\"},\"line\":{\"color\":\"white\"}},\"type\":\"table\"}]},\"layout\":{\"annotationdefaults\":{\"arrowcolor\":\"#2a3f5f\",\"arrowhead\":0,\"arrowwidth\":1},\"autotypenumbers\":\"strict\",\"coloraxis\":{\"colorbar\":{\"outlinewidth\":0,\"ticks\":\"\"}},\"colorscale\":{\"diverging\":[[0,\"#8e0152\"],[0.1,\"#c51b7d\"],[0.2,\"#de77ae\"],[0.3,\"#f1b6da\"],[0.4,\"#fde0ef\"],[0.5,\"#f7f7f7\"],[0.6,\"#e6f5d0\"],[0.7,\"#b8e186\"],[0.8,\"#7fbc41\"],[0.9,\"#4d9221\"],[1,\"#276419\"]],\"sequential\":[[0.0,\"#0d0887\"],[0.1111111111111111,\"#46039f\"],[0.2222222222222222,\"#7201a8\"],[0.3333333333333333,\"#9c179e\"],[0.4444444444444444,\"#bd3786\"],[0.5555555555555556,\"#d8576b\"],[0.6666666666666666,\"#ed7953\"],[0.7777777777777778,\"#fb9f3a\"],[0.8888888888888888,\"#fdca26\"],[1.0,\"#f0f921\"]],\"sequentialminus\":[[0.0,\"#0d0887\"],[0.1111111111111111,\"#46039f\"],[0.2222222222222222,\"#7201a8\"],[0.3333333333333333,\"#9c179e\"],[0.4444444444444444,\"#bd3786\"],[0.5555555555555556,\"#d8576b\"],[0.6666666666666666,\"#ed7953\"],[0.7777777777777778,\"#fb9f3a\"],[0.8888888888888888,\"#fdca26\"],[1.0,\"#f0f921\"]]},\"colorway\":[\"#636efa\",\"#EF553B\",\"#00cc96\",\"#ab63fa\",\"#FFA15A\",\"#19d3f3\",\"#FF6692\",\"#B6E880\",\"#FF97FF\",\"#FECB52\"],\"font\":{\"color\":\"#2a3f5f\"},\"geo\":{\"bgcolor\":\"white\",\"lakecolor\":\"white\",\"landcolor\":\"#E5ECF6\",\"showlakes\":true,\"showland\":true,\"subunitcolor\":\"white\"},\"hoverlabel\":{\"align\":\"left\"},\"hovermode\":\"closest\",\"mapbox\":{\"style\":\"light\"},\"paper_bgcolor\":\"white\",\"plot_bgcolor\":\"#E5ECF6\",\"polar\":{\"angularaxis\":{\"gridcolor\":\"white\",\"linecolor\":\"white\",\"ticks\":\"\"},\"bgcolor\":\"#E5ECF6\",\"radialaxis\":{\"gridcolor\":\"white\",\"linecolor\":\"white\",\"ticks\":\"\"}},\"scene\":{\"xaxis\":{\"backgroundcolor\":\"#E5ECF6\",\"gridcolor\":\"white\",\"gridwidth\":2,\"linecolor\":\"white\",\"showbackground\":true,\"ticks\":\"\",\"zerolinecolor\":\"white\"},\"yaxis\":{\"backgroundcolor\":\"#E5ECF6\",\"gridcolor\":\"white\",\"gridwidth\":2,\"linecolor\":\"white\",\"showbackground\":true,\"ticks\":\"\",\"zerolinecolor\":\"white\"},\"zaxis\":{\"backgroundcolor\":\"#E5ECF6\",\"gridcolor\":\"white\",\"gridwidth\":2,\"linecolor\":\"white\",\"showbackground\":true,\"ticks\":\"\",\"zerolinecolor\":\"white\"}},\"shapedefaults\":{\"line\":{\"color\":\"#2a3f5f\"}},\"ternary\":{\"aaxis\":{\"gridcolor\":\"white\",\"linecolor\":\"white\",\"ticks\":\"\"},\"baxis\":{\"gridcolor\":\"white\",\"linecolor\":\"white\",\"ticks\":\"\"},\"bgcolor\":\"#E5ECF6\",\"caxis\":{\"gridcolor\":\"white\",\"linecolor\":\"white\",\"ticks\":\"\"}},\"title\":{\"x\":0.05},\"xaxis\":{\"automargin\":true,\"gridcolor\":\"white\",\"linecolor\":\"white\",\"ticks\":\"\",\"title\":{\"standoff\":15},\"zerolinecolor\":\"white\",\"zerolinewidth\":2},\"yaxis\":{\"automargin\":true,\"gridcolor\":\"white\",\"linecolor\":\"white\",\"ticks\":\"\",\"title\":{\"standoff\":15},\"zerolinecolor\":\"white\",\"zerolinewidth\":2}}},\"title\":{\"font\":{\"color\":\"#D9D9D9\"},\"text\":\"Scatter plot of Halstead Error Estimate vs Design Complexity\"},\"width\":900,\"xaxis\":{\"gridcolor\":\"#434343\",\"showgrid\":true,\"tickfont\":{\"color\":\"#C2C2C2\"},\"title\":{\"font\":{\"color\":\"#D9D9D9\"},\"text\":\"Halstead Error Estimate\"},\"zerolinecolor\":\"#666570\"},\"yaxis\":{\"gridcolor\":\"#434343\",\"showgrid\":true,\"tickfont\":{\"color\":\"#C2C2C2\"},\"title\":{\"font\":{\"color\":\"#D9D9D9\"},\"text\":\"Design Complexity\"},\"zerolinecolor\":\"#666570\"}},                        {\"showLink\": true, \"linkText\": \"Export to plot.ly\", \"plotlyServerURL\": \"https://plot.ly\", \"responsive\": true}                    ).then(function(){\n",
       "                            \n",
       "var gd = document.getElementById('83cf0d90-f9bc-4a49-a199-b3dda1c02905');\n",
       "var x = new MutationObserver(function (mutations, observer) {{\n",
       "        var display = window.getComputedStyle(gd).display;\n",
       "        if (!display || display === 'none') {{\n",
       "            console.log([gd, 'removed!']);\n",
       "            Plotly.purge(gd);\n",
       "            observer.disconnect();\n",
       "        }}\n",
       "}});\n",
       "\n",
       "// Listen for the removal of the full notebook cells\n",
       "var notebookContainer = gd.closest('#notebook-container');\n",
       "if (notebookContainer) {{\n",
       "    x.observe(notebookContainer, {childList: true});\n",
       "}}\n",
       "\n",
       "// Listen for the clearing of the current output cell\n",
       "var outputEl = gd.closest('.output');\n",
       "if (outputEl) {{\n",
       "    x.observe(outputEl, {childList: true});\n",
       "}}\n",
       "\n",
       "                        })                };                });            </script>        </div>"
      ]
     },
     "metadata": {},
     "output_type": "display_data"
    }
   ],
   "source": [
    "analysis_dataset.iplot(\n",
    "    kind='scatter',\n",
    "    x='HALSTEAD_ERROR_EST',\n",
    "    y='DESIGN_COMPLEXITY',\n",
    "    dimensions=(900, 500),\n",
    "    theme=\"solar\",\n",
    "    xTitle='Halstead Error Estimate',\n",
    "    yTitle='Design Complexity',\n",
    "    title='Scatter plot of Halstead Error Estimate vs Design Complexity',\n",
    "    mode=\"markers\",\n",
    ")"
   ]
  },
  {
   "cell_type": "markdown",
   "metadata": {},
   "source": [
    "Now for the distribution between defective and non-defective groups:"
   ]
  },
  {
   "cell_type": "code",
   "execution_count": 15,
   "metadata": {},
   "outputs": [
    {
     "data": {
      "application/vnd.plotly.v1+json": {
       "config": {
        "linkText": "Export to plot.ly",
        "plotlyServerURL": "https://plot.ly",
        "showLink": true
       },
       "data": [
        {
         "line": {
          "color": "rgba(255, 153, 51, 1.0)",
          "dash": "solid",
          "shape": "linear",
          "width": 1.3
         },
         "marker": {
          "size": 12,
          "symbol": "circle"
         },
         "mode": "markers",
         "name": "DESIGN_COMPLEXITY",
         "text": "",
         "type": "scatter",
         "x": [
          0.25,
          0.2,
          1.69,
          1.43,
          0.44,
          0.19,
          0.19,
          0.15,
          0.05,
          0.58,
          0.05,
          1.25,
          0.15,
          1.67,
          0.87,
          0.21,
          4.25,
          0.15,
          2.08,
          0.41,
          0.28,
          1.05,
          0.28,
          0.76,
          0.13,
          0.22,
          0.42,
          0.66,
          1.27,
          0.32,
          1.39,
          0.52,
          1.4,
          0.33,
          1.12,
          0.1,
          0.41,
          0.11,
          0.18,
          0.77,
          0.35,
          3.05
         ],
         "y": [
          3,
          3,
          18,
          10,
          7,
          2,
          2,
          3,
          1,
          7,
          3,
          4,
          3,
          12,
          19,
          3,
          41,
          1,
          4,
          5,
          3,
          10,
          2,
          9,
          2,
          4,
          9,
          7,
          12,
          7,
          16,
          3,
          26,
          5,
          10,
          3,
          6,
          3,
          5,
          7,
          1,
          26
         ]
        }
       ],
       "layout": {
        "height": 500,
        "legend": {
         "bgcolor": "#151516",
         "font": {
          "color": "#D9D9D9"
         }
        },
        "paper_bgcolor": "#151516",
        "plot_bgcolor": "#151516",
        "template": {
         "data": {
          "bar": [
           {
            "error_x": {
             "color": "#2a3f5f"
            },
            "error_y": {
             "color": "#2a3f5f"
            },
            "marker": {
             "line": {
              "color": "#E5ECF6",
              "width": 0.5
             },
             "pattern": {
              "fillmode": "overlay",
              "size": 10,
              "solidity": 0.2
             }
            },
            "type": "bar"
           }
          ],
          "barpolar": [
           {
            "marker": {
             "line": {
              "color": "#E5ECF6",
              "width": 0.5
             },
             "pattern": {
              "fillmode": "overlay",
              "size": 10,
              "solidity": 0.2
             }
            },
            "type": "barpolar"
           }
          ],
          "carpet": [
           {
            "aaxis": {
             "endlinecolor": "#2a3f5f",
             "gridcolor": "white",
             "linecolor": "white",
             "minorgridcolor": "white",
             "startlinecolor": "#2a3f5f"
            },
            "baxis": {
             "endlinecolor": "#2a3f5f",
             "gridcolor": "white",
             "linecolor": "white",
             "minorgridcolor": "white",
             "startlinecolor": "#2a3f5f"
            },
            "type": "carpet"
           }
          ],
          "choropleth": [
           {
            "colorbar": {
             "outlinewidth": 0,
             "ticks": ""
            },
            "type": "choropleth"
           }
          ],
          "contour": [
           {
            "colorbar": {
             "outlinewidth": 0,
             "ticks": ""
            },
            "colorscale": [
             [
              0,
              "#0d0887"
             ],
             [
              0.1111111111111111,
              "#46039f"
             ],
             [
              0.2222222222222222,
              "#7201a8"
             ],
             [
              0.3333333333333333,
              "#9c179e"
             ],
             [
              0.4444444444444444,
              "#bd3786"
             ],
             [
              0.5555555555555556,
              "#d8576b"
             ],
             [
              0.6666666666666666,
              "#ed7953"
             ],
             [
              0.7777777777777778,
              "#fb9f3a"
             ],
             [
              0.8888888888888888,
              "#fdca26"
             ],
             [
              1,
              "#f0f921"
             ]
            ],
            "type": "contour"
           }
          ],
          "contourcarpet": [
           {
            "colorbar": {
             "outlinewidth": 0,
             "ticks": ""
            },
            "type": "contourcarpet"
           }
          ],
          "heatmap": [
           {
            "colorbar": {
             "outlinewidth": 0,
             "ticks": ""
            },
            "colorscale": [
             [
              0,
              "#0d0887"
             ],
             [
              0.1111111111111111,
              "#46039f"
             ],
             [
              0.2222222222222222,
              "#7201a8"
             ],
             [
              0.3333333333333333,
              "#9c179e"
             ],
             [
              0.4444444444444444,
              "#bd3786"
             ],
             [
              0.5555555555555556,
              "#d8576b"
             ],
             [
              0.6666666666666666,
              "#ed7953"
             ],
             [
              0.7777777777777778,
              "#fb9f3a"
             ],
             [
              0.8888888888888888,
              "#fdca26"
             ],
             [
              1,
              "#f0f921"
             ]
            ],
            "type": "heatmap"
           }
          ],
          "heatmapgl": [
           {
            "colorbar": {
             "outlinewidth": 0,
             "ticks": ""
            },
            "colorscale": [
             [
              0,
              "#0d0887"
             ],
             [
              0.1111111111111111,
              "#46039f"
             ],
             [
              0.2222222222222222,
              "#7201a8"
             ],
             [
              0.3333333333333333,
              "#9c179e"
             ],
             [
              0.4444444444444444,
              "#bd3786"
             ],
             [
              0.5555555555555556,
              "#d8576b"
             ],
             [
              0.6666666666666666,
              "#ed7953"
             ],
             [
              0.7777777777777778,
              "#fb9f3a"
             ],
             [
              0.8888888888888888,
              "#fdca26"
             ],
             [
              1,
              "#f0f921"
             ]
            ],
            "type": "heatmapgl"
           }
          ],
          "histogram": [
           {
            "marker": {
             "pattern": {
              "fillmode": "overlay",
              "size": 10,
              "solidity": 0.2
             }
            },
            "type": "histogram"
           }
          ],
          "histogram2d": [
           {
            "colorbar": {
             "outlinewidth": 0,
             "ticks": ""
            },
            "colorscale": [
             [
              0,
              "#0d0887"
             ],
             [
              0.1111111111111111,
              "#46039f"
             ],
             [
              0.2222222222222222,
              "#7201a8"
             ],
             [
              0.3333333333333333,
              "#9c179e"
             ],
             [
              0.4444444444444444,
              "#bd3786"
             ],
             [
              0.5555555555555556,
              "#d8576b"
             ],
             [
              0.6666666666666666,
              "#ed7953"
             ],
             [
              0.7777777777777778,
              "#fb9f3a"
             ],
             [
              0.8888888888888888,
              "#fdca26"
             ],
             [
              1,
              "#f0f921"
             ]
            ],
            "type": "histogram2d"
           }
          ],
          "histogram2dcontour": [
           {
            "colorbar": {
             "outlinewidth": 0,
             "ticks": ""
            },
            "colorscale": [
             [
              0,
              "#0d0887"
             ],
             [
              0.1111111111111111,
              "#46039f"
             ],
             [
              0.2222222222222222,
              "#7201a8"
             ],
             [
              0.3333333333333333,
              "#9c179e"
             ],
             [
              0.4444444444444444,
              "#bd3786"
             ],
             [
              0.5555555555555556,
              "#d8576b"
             ],
             [
              0.6666666666666666,
              "#ed7953"
             ],
             [
              0.7777777777777778,
              "#fb9f3a"
             ],
             [
              0.8888888888888888,
              "#fdca26"
             ],
             [
              1,
              "#f0f921"
             ]
            ],
            "type": "histogram2dcontour"
           }
          ],
          "mesh3d": [
           {
            "colorbar": {
             "outlinewidth": 0,
             "ticks": ""
            },
            "type": "mesh3d"
           }
          ],
          "parcoords": [
           {
            "line": {
             "colorbar": {
              "outlinewidth": 0,
              "ticks": ""
             }
            },
            "type": "parcoords"
           }
          ],
          "pie": [
           {
            "automargin": true,
            "type": "pie"
           }
          ],
          "scatter": [
           {
            "fillpattern": {
             "fillmode": "overlay",
             "size": 10,
             "solidity": 0.2
            },
            "type": "scatter"
           }
          ],
          "scatter3d": [
           {
            "line": {
             "colorbar": {
              "outlinewidth": 0,
              "ticks": ""
             }
            },
            "marker": {
             "colorbar": {
              "outlinewidth": 0,
              "ticks": ""
             }
            },
            "type": "scatter3d"
           }
          ],
          "scattercarpet": [
           {
            "marker": {
             "colorbar": {
              "outlinewidth": 0,
              "ticks": ""
             }
            },
            "type": "scattercarpet"
           }
          ],
          "scattergeo": [
           {
            "marker": {
             "colorbar": {
              "outlinewidth": 0,
              "ticks": ""
             }
            },
            "type": "scattergeo"
           }
          ],
          "scattergl": [
           {
            "marker": {
             "colorbar": {
              "outlinewidth": 0,
              "ticks": ""
             }
            },
            "type": "scattergl"
           }
          ],
          "scattermapbox": [
           {
            "marker": {
             "colorbar": {
              "outlinewidth": 0,
              "ticks": ""
             }
            },
            "type": "scattermapbox"
           }
          ],
          "scatterpolar": [
           {
            "marker": {
             "colorbar": {
              "outlinewidth": 0,
              "ticks": ""
             }
            },
            "type": "scatterpolar"
           }
          ],
          "scatterpolargl": [
           {
            "marker": {
             "colorbar": {
              "outlinewidth": 0,
              "ticks": ""
             }
            },
            "type": "scatterpolargl"
           }
          ],
          "scatterternary": [
           {
            "marker": {
             "colorbar": {
              "outlinewidth": 0,
              "ticks": ""
             }
            },
            "type": "scatterternary"
           }
          ],
          "surface": [
           {
            "colorbar": {
             "outlinewidth": 0,
             "ticks": ""
            },
            "colorscale": [
             [
              0,
              "#0d0887"
             ],
             [
              0.1111111111111111,
              "#46039f"
             ],
             [
              0.2222222222222222,
              "#7201a8"
             ],
             [
              0.3333333333333333,
              "#9c179e"
             ],
             [
              0.4444444444444444,
              "#bd3786"
             ],
             [
              0.5555555555555556,
              "#d8576b"
             ],
             [
              0.6666666666666666,
              "#ed7953"
             ],
             [
              0.7777777777777778,
              "#fb9f3a"
             ],
             [
              0.8888888888888888,
              "#fdca26"
             ],
             [
              1,
              "#f0f921"
             ]
            ],
            "type": "surface"
           }
          ],
          "table": [
           {
            "cells": {
             "fill": {
              "color": "#EBF0F8"
             },
             "line": {
              "color": "white"
             }
            },
            "header": {
             "fill": {
              "color": "#C8D4E3"
             },
             "line": {
              "color": "white"
             }
            },
            "type": "table"
           }
          ]
         },
         "layout": {
          "annotationdefaults": {
           "arrowcolor": "#2a3f5f",
           "arrowhead": 0,
           "arrowwidth": 1
          },
          "autotypenumbers": "strict",
          "coloraxis": {
           "colorbar": {
            "outlinewidth": 0,
            "ticks": ""
           }
          },
          "colorscale": {
           "diverging": [
            [
             0,
             "#8e0152"
            ],
            [
             0.1,
             "#c51b7d"
            ],
            [
             0.2,
             "#de77ae"
            ],
            [
             0.3,
             "#f1b6da"
            ],
            [
             0.4,
             "#fde0ef"
            ],
            [
             0.5,
             "#f7f7f7"
            ],
            [
             0.6,
             "#e6f5d0"
            ],
            [
             0.7,
             "#b8e186"
            ],
            [
             0.8,
             "#7fbc41"
            ],
            [
             0.9,
             "#4d9221"
            ],
            [
             1,
             "#276419"
            ]
           ],
           "sequential": [
            [
             0,
             "#0d0887"
            ],
            [
             0.1111111111111111,
             "#46039f"
            ],
            [
             0.2222222222222222,
             "#7201a8"
            ],
            [
             0.3333333333333333,
             "#9c179e"
            ],
            [
             0.4444444444444444,
             "#bd3786"
            ],
            [
             0.5555555555555556,
             "#d8576b"
            ],
            [
             0.6666666666666666,
             "#ed7953"
            ],
            [
             0.7777777777777778,
             "#fb9f3a"
            ],
            [
             0.8888888888888888,
             "#fdca26"
            ],
            [
             1,
             "#f0f921"
            ]
           ],
           "sequentialminus": [
            [
             0,
             "#0d0887"
            ],
            [
             0.1111111111111111,
             "#46039f"
            ],
            [
             0.2222222222222222,
             "#7201a8"
            ],
            [
             0.3333333333333333,
             "#9c179e"
            ],
            [
             0.4444444444444444,
             "#bd3786"
            ],
            [
             0.5555555555555556,
             "#d8576b"
            ],
            [
             0.6666666666666666,
             "#ed7953"
            ],
            [
             0.7777777777777778,
             "#fb9f3a"
            ],
            [
             0.8888888888888888,
             "#fdca26"
            ],
            [
             1,
             "#f0f921"
            ]
           ]
          },
          "colorway": [
           "#636efa",
           "#EF553B",
           "#00cc96",
           "#ab63fa",
           "#FFA15A",
           "#19d3f3",
           "#FF6692",
           "#B6E880",
           "#FF97FF",
           "#FECB52"
          ],
          "font": {
           "color": "#2a3f5f"
          },
          "geo": {
           "bgcolor": "white",
           "lakecolor": "white",
           "landcolor": "#E5ECF6",
           "showlakes": true,
           "showland": true,
           "subunitcolor": "white"
          },
          "hoverlabel": {
           "align": "left"
          },
          "hovermode": "closest",
          "mapbox": {
           "style": "light"
          },
          "paper_bgcolor": "white",
          "plot_bgcolor": "#E5ECF6",
          "polar": {
           "angularaxis": {
            "gridcolor": "white",
            "linecolor": "white",
            "ticks": ""
           },
           "bgcolor": "#E5ECF6",
           "radialaxis": {
            "gridcolor": "white",
            "linecolor": "white",
            "ticks": ""
           }
          },
          "scene": {
           "xaxis": {
            "backgroundcolor": "#E5ECF6",
            "gridcolor": "white",
            "gridwidth": 2,
            "linecolor": "white",
            "showbackground": true,
            "ticks": "",
            "zerolinecolor": "white"
           },
           "yaxis": {
            "backgroundcolor": "#E5ECF6",
            "gridcolor": "white",
            "gridwidth": 2,
            "linecolor": "white",
            "showbackground": true,
            "ticks": "",
            "zerolinecolor": "white"
           },
           "zaxis": {
            "backgroundcolor": "#E5ECF6",
            "gridcolor": "white",
            "gridwidth": 2,
            "linecolor": "white",
            "showbackground": true,
            "ticks": "",
            "zerolinecolor": "white"
           }
          },
          "shapedefaults": {
           "line": {
            "color": "#2a3f5f"
           }
          },
          "ternary": {
           "aaxis": {
            "gridcolor": "white",
            "linecolor": "white",
            "ticks": ""
           },
           "baxis": {
            "gridcolor": "white",
            "linecolor": "white",
            "ticks": ""
           },
           "bgcolor": "#E5ECF6",
           "caxis": {
            "gridcolor": "white",
            "linecolor": "white",
            "ticks": ""
           }
          },
          "title": {
           "x": 0.05
          },
          "xaxis": {
           "automargin": true,
           "gridcolor": "white",
           "linecolor": "white",
           "ticks": "",
           "title": {
            "standoff": 15
           },
           "zerolinecolor": "white",
           "zerolinewidth": 2
          },
          "yaxis": {
           "automargin": true,
           "gridcolor": "white",
           "linecolor": "white",
           "ticks": "",
           "title": {
            "standoff": 15
           },
           "zerolinecolor": "white",
           "zerolinewidth": 2
          }
         }
        },
        "title": {
         "font": {
          "color": "#D9D9D9"
         },
         "text": "Scatter plot of Halstead Error Estimate vs Design Complexity of Defective Modules"
        },
        "width": 900,
        "xaxis": {
         "gridcolor": "#434343",
         "showgrid": true,
         "tickfont": {
          "color": "#C2C2C2"
         },
         "title": {
          "font": {
           "color": "#D9D9D9"
          },
          "text": "Halstead Error Estimate"
         },
         "zerolinecolor": "#666570"
        },
        "yaxis": {
         "gridcolor": "#434343",
         "showgrid": true,
         "tickfont": {
          "color": "#C2C2C2"
         },
         "title": {
          "font": {
           "color": "#D9D9D9"
          },
          "text": "Design Complexity"
         },
         "zerolinecolor": "#666570"
        }
       }
      },
      "text/html": [
       "<div>                            <div id=\"718e2cab-1163-4770-a634-77a6fc000afa\" class=\"plotly-graph-div\" style=\"height:500px; width:900px;\"></div>            <script type=\"text/javascript\">                require([\"plotly\"], function(Plotly) {                    window.PLOTLYENV=window.PLOTLYENV || {};\n",
       "                    window.PLOTLYENV.BASE_URL='https://plot.ly';                                    if (document.getElementById(\"718e2cab-1163-4770-a634-77a6fc000afa\")) {                    Plotly.newPlot(                        \"718e2cab-1163-4770-a634-77a6fc000afa\",                        [{\"line\":{\"color\":\"rgba(255, 153, 51, 1.0)\",\"dash\":\"solid\",\"shape\":\"linear\",\"width\":1.3},\"marker\":{\"size\":12,\"symbol\":\"circle\"},\"mode\":\"markers\",\"name\":\"DESIGN_COMPLEXITY\",\"text\":\"\",\"x\":[0.25,0.2,1.69,1.43,0.44,0.19,0.19,0.15,0.05,0.58,0.05,1.25,0.15,1.67,0.87,0.21,4.25,0.15,2.08,0.41,0.28,1.05,0.28,0.76,0.13,0.22,0.42,0.66,1.27,0.32,1.39,0.52,1.4,0.33,1.12,0.1,0.41,0.11,0.18,0.77,0.35,3.05],\"y\":[3.0,3.0,18.0,10.0,7.0,2.0,2.0,3.0,1.0,7.0,3.0,4.0,3.0,12.0,19.0,3.0,41.0,1.0,4.0,5.0,3.0,10.0,2.0,9.0,2.0,4.0,9.0,7.0,12.0,7.0,16.0,3.0,26.0,5.0,10.0,3.0,6.0,3.0,5.0,7.0,1.0,26.0],\"type\":\"scatter\"}],                        {\"height\":500,\"legend\":{\"bgcolor\":\"#151516\",\"font\":{\"color\":\"#D9D9D9\"}},\"paper_bgcolor\":\"#151516\",\"plot_bgcolor\":\"#151516\",\"template\":{\"data\":{\"barpolar\":[{\"marker\":{\"line\":{\"color\":\"#E5ECF6\",\"width\":0.5},\"pattern\":{\"fillmode\":\"overlay\",\"size\":10,\"solidity\":0.2}},\"type\":\"barpolar\"}],\"bar\":[{\"error_x\":{\"color\":\"#2a3f5f\"},\"error_y\":{\"color\":\"#2a3f5f\"},\"marker\":{\"line\":{\"color\":\"#E5ECF6\",\"width\":0.5},\"pattern\":{\"fillmode\":\"overlay\",\"size\":10,\"solidity\":0.2}},\"type\":\"bar\"}],\"carpet\":[{\"aaxis\":{\"endlinecolor\":\"#2a3f5f\",\"gridcolor\":\"white\",\"linecolor\":\"white\",\"minorgridcolor\":\"white\",\"startlinecolor\":\"#2a3f5f\"},\"baxis\":{\"endlinecolor\":\"#2a3f5f\",\"gridcolor\":\"white\",\"linecolor\":\"white\",\"minorgridcolor\":\"white\",\"startlinecolor\":\"#2a3f5f\"},\"type\":\"carpet\"}],\"choropleth\":[{\"colorbar\":{\"outlinewidth\":0,\"ticks\":\"\"},\"type\":\"choropleth\"}],\"contourcarpet\":[{\"colorbar\":{\"outlinewidth\":0,\"ticks\":\"\"},\"type\":\"contourcarpet\"}],\"contour\":[{\"colorbar\":{\"outlinewidth\":0,\"ticks\":\"\"},\"colorscale\":[[0.0,\"#0d0887\"],[0.1111111111111111,\"#46039f\"],[0.2222222222222222,\"#7201a8\"],[0.3333333333333333,\"#9c179e\"],[0.4444444444444444,\"#bd3786\"],[0.5555555555555556,\"#d8576b\"],[0.6666666666666666,\"#ed7953\"],[0.7777777777777778,\"#fb9f3a\"],[0.8888888888888888,\"#fdca26\"],[1.0,\"#f0f921\"]],\"type\":\"contour\"}],\"heatmapgl\":[{\"colorbar\":{\"outlinewidth\":0,\"ticks\":\"\"},\"colorscale\":[[0.0,\"#0d0887\"],[0.1111111111111111,\"#46039f\"],[0.2222222222222222,\"#7201a8\"],[0.3333333333333333,\"#9c179e\"],[0.4444444444444444,\"#bd3786\"],[0.5555555555555556,\"#d8576b\"],[0.6666666666666666,\"#ed7953\"],[0.7777777777777778,\"#fb9f3a\"],[0.8888888888888888,\"#fdca26\"],[1.0,\"#f0f921\"]],\"type\":\"heatmapgl\"}],\"heatmap\":[{\"colorbar\":{\"outlinewidth\":0,\"ticks\":\"\"},\"colorscale\":[[0.0,\"#0d0887\"],[0.1111111111111111,\"#46039f\"],[0.2222222222222222,\"#7201a8\"],[0.3333333333333333,\"#9c179e\"],[0.4444444444444444,\"#bd3786\"],[0.5555555555555556,\"#d8576b\"],[0.6666666666666666,\"#ed7953\"],[0.7777777777777778,\"#fb9f3a\"],[0.8888888888888888,\"#fdca26\"],[1.0,\"#f0f921\"]],\"type\":\"heatmap\"}],\"histogram2dcontour\":[{\"colorbar\":{\"outlinewidth\":0,\"ticks\":\"\"},\"colorscale\":[[0.0,\"#0d0887\"],[0.1111111111111111,\"#46039f\"],[0.2222222222222222,\"#7201a8\"],[0.3333333333333333,\"#9c179e\"],[0.4444444444444444,\"#bd3786\"],[0.5555555555555556,\"#d8576b\"],[0.6666666666666666,\"#ed7953\"],[0.7777777777777778,\"#fb9f3a\"],[0.8888888888888888,\"#fdca26\"],[1.0,\"#f0f921\"]],\"type\":\"histogram2dcontour\"}],\"histogram2d\":[{\"colorbar\":{\"outlinewidth\":0,\"ticks\":\"\"},\"colorscale\":[[0.0,\"#0d0887\"],[0.1111111111111111,\"#46039f\"],[0.2222222222222222,\"#7201a8\"],[0.3333333333333333,\"#9c179e\"],[0.4444444444444444,\"#bd3786\"],[0.5555555555555556,\"#d8576b\"],[0.6666666666666666,\"#ed7953\"],[0.7777777777777778,\"#fb9f3a\"],[0.8888888888888888,\"#fdca26\"],[1.0,\"#f0f921\"]],\"type\":\"histogram2d\"}],\"histogram\":[{\"marker\":{\"pattern\":{\"fillmode\":\"overlay\",\"size\":10,\"solidity\":0.2}},\"type\":\"histogram\"}],\"mesh3d\":[{\"colorbar\":{\"outlinewidth\":0,\"ticks\":\"\"},\"type\":\"mesh3d\"}],\"parcoords\":[{\"line\":{\"colorbar\":{\"outlinewidth\":0,\"ticks\":\"\"}},\"type\":\"parcoords\"}],\"pie\":[{\"automargin\":true,\"type\":\"pie\"}],\"scatter3d\":[{\"line\":{\"colorbar\":{\"outlinewidth\":0,\"ticks\":\"\"}},\"marker\":{\"colorbar\":{\"outlinewidth\":0,\"ticks\":\"\"}},\"type\":\"scatter3d\"}],\"scattercarpet\":[{\"marker\":{\"colorbar\":{\"outlinewidth\":0,\"ticks\":\"\"}},\"type\":\"scattercarpet\"}],\"scattergeo\":[{\"marker\":{\"colorbar\":{\"outlinewidth\":0,\"ticks\":\"\"}},\"type\":\"scattergeo\"}],\"scattergl\":[{\"marker\":{\"colorbar\":{\"outlinewidth\":0,\"ticks\":\"\"}},\"type\":\"scattergl\"}],\"scattermapbox\":[{\"marker\":{\"colorbar\":{\"outlinewidth\":0,\"ticks\":\"\"}},\"type\":\"scattermapbox\"}],\"scatterpolargl\":[{\"marker\":{\"colorbar\":{\"outlinewidth\":0,\"ticks\":\"\"}},\"type\":\"scatterpolargl\"}],\"scatterpolar\":[{\"marker\":{\"colorbar\":{\"outlinewidth\":0,\"ticks\":\"\"}},\"type\":\"scatterpolar\"}],\"scatter\":[{\"fillpattern\":{\"fillmode\":\"overlay\",\"size\":10,\"solidity\":0.2},\"type\":\"scatter\"}],\"scatterternary\":[{\"marker\":{\"colorbar\":{\"outlinewidth\":0,\"ticks\":\"\"}},\"type\":\"scatterternary\"}],\"surface\":[{\"colorbar\":{\"outlinewidth\":0,\"ticks\":\"\"},\"colorscale\":[[0.0,\"#0d0887\"],[0.1111111111111111,\"#46039f\"],[0.2222222222222222,\"#7201a8\"],[0.3333333333333333,\"#9c179e\"],[0.4444444444444444,\"#bd3786\"],[0.5555555555555556,\"#d8576b\"],[0.6666666666666666,\"#ed7953\"],[0.7777777777777778,\"#fb9f3a\"],[0.8888888888888888,\"#fdca26\"],[1.0,\"#f0f921\"]],\"type\":\"surface\"}],\"table\":[{\"cells\":{\"fill\":{\"color\":\"#EBF0F8\"},\"line\":{\"color\":\"white\"}},\"header\":{\"fill\":{\"color\":\"#C8D4E3\"},\"line\":{\"color\":\"white\"}},\"type\":\"table\"}]},\"layout\":{\"annotationdefaults\":{\"arrowcolor\":\"#2a3f5f\",\"arrowhead\":0,\"arrowwidth\":1},\"autotypenumbers\":\"strict\",\"coloraxis\":{\"colorbar\":{\"outlinewidth\":0,\"ticks\":\"\"}},\"colorscale\":{\"diverging\":[[0,\"#8e0152\"],[0.1,\"#c51b7d\"],[0.2,\"#de77ae\"],[0.3,\"#f1b6da\"],[0.4,\"#fde0ef\"],[0.5,\"#f7f7f7\"],[0.6,\"#e6f5d0\"],[0.7,\"#b8e186\"],[0.8,\"#7fbc41\"],[0.9,\"#4d9221\"],[1,\"#276419\"]],\"sequential\":[[0.0,\"#0d0887\"],[0.1111111111111111,\"#46039f\"],[0.2222222222222222,\"#7201a8\"],[0.3333333333333333,\"#9c179e\"],[0.4444444444444444,\"#bd3786\"],[0.5555555555555556,\"#d8576b\"],[0.6666666666666666,\"#ed7953\"],[0.7777777777777778,\"#fb9f3a\"],[0.8888888888888888,\"#fdca26\"],[1.0,\"#f0f921\"]],\"sequentialminus\":[[0.0,\"#0d0887\"],[0.1111111111111111,\"#46039f\"],[0.2222222222222222,\"#7201a8\"],[0.3333333333333333,\"#9c179e\"],[0.4444444444444444,\"#bd3786\"],[0.5555555555555556,\"#d8576b\"],[0.6666666666666666,\"#ed7953\"],[0.7777777777777778,\"#fb9f3a\"],[0.8888888888888888,\"#fdca26\"],[1.0,\"#f0f921\"]]},\"colorway\":[\"#636efa\",\"#EF553B\",\"#00cc96\",\"#ab63fa\",\"#FFA15A\",\"#19d3f3\",\"#FF6692\",\"#B6E880\",\"#FF97FF\",\"#FECB52\"],\"font\":{\"color\":\"#2a3f5f\"},\"geo\":{\"bgcolor\":\"white\",\"lakecolor\":\"white\",\"landcolor\":\"#E5ECF6\",\"showlakes\":true,\"showland\":true,\"subunitcolor\":\"white\"},\"hoverlabel\":{\"align\":\"left\"},\"hovermode\":\"closest\",\"mapbox\":{\"style\":\"light\"},\"paper_bgcolor\":\"white\",\"plot_bgcolor\":\"#E5ECF6\",\"polar\":{\"angularaxis\":{\"gridcolor\":\"white\",\"linecolor\":\"white\",\"ticks\":\"\"},\"bgcolor\":\"#E5ECF6\",\"radialaxis\":{\"gridcolor\":\"white\",\"linecolor\":\"white\",\"ticks\":\"\"}},\"scene\":{\"xaxis\":{\"backgroundcolor\":\"#E5ECF6\",\"gridcolor\":\"white\",\"gridwidth\":2,\"linecolor\":\"white\",\"showbackground\":true,\"ticks\":\"\",\"zerolinecolor\":\"white\"},\"yaxis\":{\"backgroundcolor\":\"#E5ECF6\",\"gridcolor\":\"white\",\"gridwidth\":2,\"linecolor\":\"white\",\"showbackground\":true,\"ticks\":\"\",\"zerolinecolor\":\"white\"},\"zaxis\":{\"backgroundcolor\":\"#E5ECF6\",\"gridcolor\":\"white\",\"gridwidth\":2,\"linecolor\":\"white\",\"showbackground\":true,\"ticks\":\"\",\"zerolinecolor\":\"white\"}},\"shapedefaults\":{\"line\":{\"color\":\"#2a3f5f\"}},\"ternary\":{\"aaxis\":{\"gridcolor\":\"white\",\"linecolor\":\"white\",\"ticks\":\"\"},\"baxis\":{\"gridcolor\":\"white\",\"linecolor\":\"white\",\"ticks\":\"\"},\"bgcolor\":\"#E5ECF6\",\"caxis\":{\"gridcolor\":\"white\",\"linecolor\":\"white\",\"ticks\":\"\"}},\"title\":{\"x\":0.05},\"xaxis\":{\"automargin\":true,\"gridcolor\":\"white\",\"linecolor\":\"white\",\"ticks\":\"\",\"title\":{\"standoff\":15},\"zerolinecolor\":\"white\",\"zerolinewidth\":2},\"yaxis\":{\"automargin\":true,\"gridcolor\":\"white\",\"linecolor\":\"white\",\"ticks\":\"\",\"title\":{\"standoff\":15},\"zerolinecolor\":\"white\",\"zerolinewidth\":2}}},\"title\":{\"font\":{\"color\":\"#D9D9D9\"},\"text\":\"Scatter plot of Halstead Error Estimate vs Design Complexity of Defective Modules\"},\"width\":900,\"xaxis\":{\"gridcolor\":\"#434343\",\"showgrid\":true,\"tickfont\":{\"color\":\"#C2C2C2\"},\"title\":{\"font\":{\"color\":\"#D9D9D9\"},\"text\":\"Halstead Error Estimate\"},\"zerolinecolor\":\"#666570\"},\"yaxis\":{\"gridcolor\":\"#434343\",\"showgrid\":true,\"tickfont\":{\"color\":\"#C2C2C2\"},\"title\":{\"font\":{\"color\":\"#D9D9D9\"},\"text\":\"Design Complexity\"},\"zerolinecolor\":\"#666570\"}},                        {\"showLink\": true, \"linkText\": \"Export to plot.ly\", \"plotlyServerURL\": \"https://plot.ly\", \"responsive\": true}                    ).then(function(){\n",
       "                            \n",
       "var gd = document.getElementById('718e2cab-1163-4770-a634-77a6fc000afa');\n",
       "var x = new MutationObserver(function (mutations, observer) {{\n",
       "        var display = window.getComputedStyle(gd).display;\n",
       "        if (!display || display === 'none') {{\n",
       "            console.log([gd, 'removed!']);\n",
       "            Plotly.purge(gd);\n",
       "            observer.disconnect();\n",
       "        }}\n",
       "}});\n",
       "\n",
       "// Listen for the removal of the full notebook cells\n",
       "var notebookContainer = gd.closest('#notebook-container');\n",
       "if (notebookContainer) {{\n",
       "    x.observe(notebookContainer, {childList: true});\n",
       "}}\n",
       "\n",
       "// Listen for the clearing of the current output cell\n",
       "var outputEl = gd.closest('.output');\n",
       "if (outputEl) {{\n",
       "    x.observe(outputEl, {childList: true});\n",
       "}}\n",
       "\n",
       "                        })                };                });            </script>        </div>"
      ]
     },
     "metadata": {},
     "output_type": "display_data"
    }
   ],
   "source": [
    "defective_group.iplot(\n",
    "    kind='scatter',\n",
    "    x='HALSTEAD_ERROR_EST',\n",
    "    y='DESIGN_COMPLEXITY',\n",
    "    dimensions=(900, 500),\n",
    "    theme=\"solar\",\n",
    "    xTitle='Halstead Error Estimate',\n",
    "    yTitle='Design Complexity',\n",
    "    title='Scatter plot of Halstead Error Estimate vs Design Complexity of Defective Modules',\n",
    "    mode='markers',\n",
    ")"
   ]
  },
  {
   "cell_type": "code",
   "execution_count": 16,
   "metadata": {},
   "outputs": [
    {
     "data": {
      "application/vnd.plotly.v1+json": {
       "config": {
        "linkText": "Export to plot.ly",
        "plotlyServerURL": "https://plot.ly",
        "showLink": true
       },
       "data": [
        {
         "line": {
          "color": "rgba(255, 153, 51, 1.0)",
          "dash": "solid",
          "shape": "linear",
          "width": 1.3
         },
         "marker": {
          "size": 12,
          "symbol": "circle"
         },
         "mode": "markers",
         "name": "DESIGN_COMPLEXITY",
         "text": "",
         "type": "scatter",
         "x": [
          0.02,
          0.04,
          0.8,
          0.16,
          0.18,
          0.06,
          0.09,
          0.54,
          0.18,
          0.3,
          0.18,
          0.03,
          0.1,
          0.17,
          0.1,
          0.24,
          0.2,
          0.15,
          0.09,
          0.25,
          1.2,
          0.06,
          0.25,
          0.04,
          0.03,
          0.13,
          0.18,
          0.13,
          0.26,
          0.5,
          1.34,
          2.84,
          0.08,
          0.02,
          0.25,
          0.23,
          0.24,
          0.05,
          1.86,
          0.21,
          5.12,
          0.02,
          0.24,
          0.12,
          1.82,
          0.54,
          0.12,
          0.08,
          0.35,
          0.04,
          0.18,
          0.16,
          0.25,
          0.15,
          0.18,
          0.09,
          0.09,
          0.38,
          0.27,
          0.37,
          0.43,
          1.71,
          0.03,
          0.04,
          0.1,
          0.06,
          0.17,
          0.26,
          0.09,
          0.13,
          0.09,
          0.21,
          0.11,
          1.11,
          0.58,
          0.09,
          0.05,
          0.18,
          0.16,
          0.04,
          0.65,
          0.11,
          0.02,
          0.17,
          1.14,
          0.1,
          1.65,
          0.07,
          0.41,
          0.12,
          0.07,
          0.1,
          0.25,
          0.34,
          0.08,
          0.61,
          1.74,
          0.02,
          0.2,
          0.12,
          0.48,
          1.04,
          0.16,
          0.16,
          0.21,
          0.18,
          0.11,
          0.58,
          0.12,
          0.04,
          0.06,
          0.11,
          0.06,
          0.26,
          0.45,
          0.35,
          0.14,
          0.04,
          0.22,
          0.55,
          0.17,
          0.24,
          0.06,
          0.04,
          0.16,
          0.09,
          0.38,
          0.3,
          0.72,
          0.09,
          0.04,
          0.06,
          0.1,
          0.09,
          1.22,
          0.06,
          0.17,
          0.11,
          0.28,
          0.12,
          0.53,
          1.56,
          0.13,
          0.31,
          1.15,
          0.06,
          0.29,
          0.08,
          5.56,
          0.24,
          0.16,
          0.55,
          0.12,
          0.06,
          0.43,
          0.06,
          0.27,
          0.87,
          0.14,
          0.08,
          0.15,
          1.89,
          0.57,
          0.68,
          0.06,
          0.1,
          1.06,
          0.66,
          1,
          0.23,
          0.26,
          0.3,
          0.14,
          0.17,
          0.1,
          0.5,
          1.16,
          0.18,
          0.1,
          0.6,
          0.06,
          1.11,
          0.09,
          0.11,
          0.36,
          1.86,
          0.03,
          0.02,
          0.05,
          0.21,
          0.38,
          1.95,
          0.12,
          0.13,
          0.04,
          0.87,
          0.16,
          0.91,
          0.3,
          0.93,
          0.07,
          0.07,
          0.19,
          0.2,
          0.12,
          0.73,
          0.08,
          0.03,
          0.02,
          0.01,
          0.09,
          0.43,
          0.72,
          0.19,
          0.1,
          0.16,
          0.28,
          0.05,
          1.25,
          0.12,
          0.83,
          0.04,
          0.02,
          0.03,
          0.76,
          1.09,
          1.86,
          0.49,
          0.06,
          0.14,
          0.27,
          0.29,
          0.54,
          0.02,
          0.08,
          0.28,
          0.27,
          0.43,
          0.31,
          0.58,
          0.12,
          0.05,
          0.17,
          0.35,
          1.7,
          0.13,
          0.06,
          0.37,
          0.12,
          0.44,
          0.9,
          0.02,
          0.03,
          1.04,
          0.17,
          0.34,
          0.13,
          0.44,
          0.22,
          0.05,
          0.36,
          0.3,
          0.72,
          0.11,
          0.14,
          0.18,
          0.03,
          0.06,
          0.28,
          0.52,
          0.07,
          0.1,
          0.59,
          0.04,
          0.37,
          0.12,
          0.24,
          0.54,
          0.1,
          0.31,
          0.88,
          0.12,
          0.05,
          0.2,
          0.05
         ],
         "y": [
          1,
          1,
          7,
          6,
          5,
          1,
          1,
          2,
          4,
          6,
          3,
          2,
          2,
          2,
          1,
          4,
          2,
          3,
          1,
          3,
          8,
          2,
          2,
          1,
          2,
          5,
          3,
          4,
          6,
          5,
          10,
          22,
          1,
          2,
          9,
          6,
          9,
          1,
          6,
          5,
          46,
          1,
          4,
          2,
          10,
          7,
          2,
          5,
          5,
          1,
          3,
          1,
          3,
          1,
          3,
          4,
          4,
          2,
          2,
          6,
          2,
          13,
          3,
          1,
          3,
          2,
          2,
          3,
          1,
          3,
          2,
          4,
          4,
          9,
          7,
          3,
          1,
          2,
          4,
          1,
          10,
          5,
          2,
          3,
          7,
          1,
          8,
          1,
          5,
          1,
          1,
          1,
          1,
          6,
          3,
          12,
          17,
          2,
          2,
          1,
          4,
          13,
          3,
          1,
          8,
          2,
          2,
          9,
          8,
          3,
          3,
          3,
          1,
          13,
          1,
          5,
          2,
          1,
          2,
          8,
          2,
          6,
          3,
          2,
          3,
          2,
          7,
          4,
          9,
          1,
          1,
          1,
          4,
          2,
          11,
          1,
          1,
          1,
          14,
          3,
          10,
          24,
          4,
          2,
          20,
          1,
          2,
          1,
          63,
          5,
          3,
          4,
          3,
          2,
          1,
          1,
          5,
          3,
          4,
          1,
          1,
          9,
          9,
          6,
          1,
          1,
          11,
          7,
          6,
          3,
          1,
          6,
          4,
          3,
          4,
          10,
          10,
          5,
          2,
          8,
          1,
          1,
          1,
          3,
          3,
          24,
          1,
          1,
          1,
          2,
          2,
          15,
          1,
          3,
          1,
          8,
          4,
          11,
          1,
          13,
          1,
          2,
          4,
          4,
          3,
          7,
          1,
          1,
          1,
          1,
          4,
          2,
          5,
          2,
          2,
          3,
          4,
          1,
          6,
          2,
          4,
          1,
          1,
          2,
          6,
          10,
          23,
          2,
          2,
          3,
          5,
          1,
          4,
          1,
          1,
          2,
          5,
          9,
          6,
          3,
          3,
          3,
          2,
          5,
          27,
          3,
          2,
          4,
          3,
          2,
          6,
          2,
          1,
          1,
          2,
          6,
          4,
          8,
          4,
          2,
          5,
          3,
          6,
          2,
          2,
          4,
          2,
          1,
          4,
          7,
          2,
          2,
          4,
          2,
          5,
          2,
          3,
          3,
          3,
          1,
          15,
          2,
          1,
          2,
          2
         ]
        }
       ],
       "layout": {
        "height": 500,
        "legend": {
         "bgcolor": "#151516",
         "font": {
          "color": "#D9D9D9"
         }
        },
        "paper_bgcolor": "#151516",
        "plot_bgcolor": "#151516",
        "template": {
         "data": {
          "bar": [
           {
            "error_x": {
             "color": "#2a3f5f"
            },
            "error_y": {
             "color": "#2a3f5f"
            },
            "marker": {
             "line": {
              "color": "#E5ECF6",
              "width": 0.5
             },
             "pattern": {
              "fillmode": "overlay",
              "size": 10,
              "solidity": 0.2
             }
            },
            "type": "bar"
           }
          ],
          "barpolar": [
           {
            "marker": {
             "line": {
              "color": "#E5ECF6",
              "width": 0.5
             },
             "pattern": {
              "fillmode": "overlay",
              "size": 10,
              "solidity": 0.2
             }
            },
            "type": "barpolar"
           }
          ],
          "carpet": [
           {
            "aaxis": {
             "endlinecolor": "#2a3f5f",
             "gridcolor": "white",
             "linecolor": "white",
             "minorgridcolor": "white",
             "startlinecolor": "#2a3f5f"
            },
            "baxis": {
             "endlinecolor": "#2a3f5f",
             "gridcolor": "white",
             "linecolor": "white",
             "minorgridcolor": "white",
             "startlinecolor": "#2a3f5f"
            },
            "type": "carpet"
           }
          ],
          "choropleth": [
           {
            "colorbar": {
             "outlinewidth": 0,
             "ticks": ""
            },
            "type": "choropleth"
           }
          ],
          "contour": [
           {
            "colorbar": {
             "outlinewidth": 0,
             "ticks": ""
            },
            "colorscale": [
             [
              0,
              "#0d0887"
             ],
             [
              0.1111111111111111,
              "#46039f"
             ],
             [
              0.2222222222222222,
              "#7201a8"
             ],
             [
              0.3333333333333333,
              "#9c179e"
             ],
             [
              0.4444444444444444,
              "#bd3786"
             ],
             [
              0.5555555555555556,
              "#d8576b"
             ],
             [
              0.6666666666666666,
              "#ed7953"
             ],
             [
              0.7777777777777778,
              "#fb9f3a"
             ],
             [
              0.8888888888888888,
              "#fdca26"
             ],
             [
              1,
              "#f0f921"
             ]
            ],
            "type": "contour"
           }
          ],
          "contourcarpet": [
           {
            "colorbar": {
             "outlinewidth": 0,
             "ticks": ""
            },
            "type": "contourcarpet"
           }
          ],
          "heatmap": [
           {
            "colorbar": {
             "outlinewidth": 0,
             "ticks": ""
            },
            "colorscale": [
             [
              0,
              "#0d0887"
             ],
             [
              0.1111111111111111,
              "#46039f"
             ],
             [
              0.2222222222222222,
              "#7201a8"
             ],
             [
              0.3333333333333333,
              "#9c179e"
             ],
             [
              0.4444444444444444,
              "#bd3786"
             ],
             [
              0.5555555555555556,
              "#d8576b"
             ],
             [
              0.6666666666666666,
              "#ed7953"
             ],
             [
              0.7777777777777778,
              "#fb9f3a"
             ],
             [
              0.8888888888888888,
              "#fdca26"
             ],
             [
              1,
              "#f0f921"
             ]
            ],
            "type": "heatmap"
           }
          ],
          "heatmapgl": [
           {
            "colorbar": {
             "outlinewidth": 0,
             "ticks": ""
            },
            "colorscale": [
             [
              0,
              "#0d0887"
             ],
             [
              0.1111111111111111,
              "#46039f"
             ],
             [
              0.2222222222222222,
              "#7201a8"
             ],
             [
              0.3333333333333333,
              "#9c179e"
             ],
             [
              0.4444444444444444,
              "#bd3786"
             ],
             [
              0.5555555555555556,
              "#d8576b"
             ],
             [
              0.6666666666666666,
              "#ed7953"
             ],
             [
              0.7777777777777778,
              "#fb9f3a"
             ],
             [
              0.8888888888888888,
              "#fdca26"
             ],
             [
              1,
              "#f0f921"
             ]
            ],
            "type": "heatmapgl"
           }
          ],
          "histogram": [
           {
            "marker": {
             "pattern": {
              "fillmode": "overlay",
              "size": 10,
              "solidity": 0.2
             }
            },
            "type": "histogram"
           }
          ],
          "histogram2d": [
           {
            "colorbar": {
             "outlinewidth": 0,
             "ticks": ""
            },
            "colorscale": [
             [
              0,
              "#0d0887"
             ],
             [
              0.1111111111111111,
              "#46039f"
             ],
             [
              0.2222222222222222,
              "#7201a8"
             ],
             [
              0.3333333333333333,
              "#9c179e"
             ],
             [
              0.4444444444444444,
              "#bd3786"
             ],
             [
              0.5555555555555556,
              "#d8576b"
             ],
             [
              0.6666666666666666,
              "#ed7953"
             ],
             [
              0.7777777777777778,
              "#fb9f3a"
             ],
             [
              0.8888888888888888,
              "#fdca26"
             ],
             [
              1,
              "#f0f921"
             ]
            ],
            "type": "histogram2d"
           }
          ],
          "histogram2dcontour": [
           {
            "colorbar": {
             "outlinewidth": 0,
             "ticks": ""
            },
            "colorscale": [
             [
              0,
              "#0d0887"
             ],
             [
              0.1111111111111111,
              "#46039f"
             ],
             [
              0.2222222222222222,
              "#7201a8"
             ],
             [
              0.3333333333333333,
              "#9c179e"
             ],
             [
              0.4444444444444444,
              "#bd3786"
             ],
             [
              0.5555555555555556,
              "#d8576b"
             ],
             [
              0.6666666666666666,
              "#ed7953"
             ],
             [
              0.7777777777777778,
              "#fb9f3a"
             ],
             [
              0.8888888888888888,
              "#fdca26"
             ],
             [
              1,
              "#f0f921"
             ]
            ],
            "type": "histogram2dcontour"
           }
          ],
          "mesh3d": [
           {
            "colorbar": {
             "outlinewidth": 0,
             "ticks": ""
            },
            "type": "mesh3d"
           }
          ],
          "parcoords": [
           {
            "line": {
             "colorbar": {
              "outlinewidth": 0,
              "ticks": ""
             }
            },
            "type": "parcoords"
           }
          ],
          "pie": [
           {
            "automargin": true,
            "type": "pie"
           }
          ],
          "scatter": [
           {
            "fillpattern": {
             "fillmode": "overlay",
             "size": 10,
             "solidity": 0.2
            },
            "type": "scatter"
           }
          ],
          "scatter3d": [
           {
            "line": {
             "colorbar": {
              "outlinewidth": 0,
              "ticks": ""
             }
            },
            "marker": {
             "colorbar": {
              "outlinewidth": 0,
              "ticks": ""
             }
            },
            "type": "scatter3d"
           }
          ],
          "scattercarpet": [
           {
            "marker": {
             "colorbar": {
              "outlinewidth": 0,
              "ticks": ""
             }
            },
            "type": "scattercarpet"
           }
          ],
          "scattergeo": [
           {
            "marker": {
             "colorbar": {
              "outlinewidth": 0,
              "ticks": ""
             }
            },
            "type": "scattergeo"
           }
          ],
          "scattergl": [
           {
            "marker": {
             "colorbar": {
              "outlinewidth": 0,
              "ticks": ""
             }
            },
            "type": "scattergl"
           }
          ],
          "scattermapbox": [
           {
            "marker": {
             "colorbar": {
              "outlinewidth": 0,
              "ticks": ""
             }
            },
            "type": "scattermapbox"
           }
          ],
          "scatterpolar": [
           {
            "marker": {
             "colorbar": {
              "outlinewidth": 0,
              "ticks": ""
             }
            },
            "type": "scatterpolar"
           }
          ],
          "scatterpolargl": [
           {
            "marker": {
             "colorbar": {
              "outlinewidth": 0,
              "ticks": ""
             }
            },
            "type": "scatterpolargl"
           }
          ],
          "scatterternary": [
           {
            "marker": {
             "colorbar": {
              "outlinewidth": 0,
              "ticks": ""
             }
            },
            "type": "scatterternary"
           }
          ],
          "surface": [
           {
            "colorbar": {
             "outlinewidth": 0,
             "ticks": ""
            },
            "colorscale": [
             [
              0,
              "#0d0887"
             ],
             [
              0.1111111111111111,
              "#46039f"
             ],
             [
              0.2222222222222222,
              "#7201a8"
             ],
             [
              0.3333333333333333,
              "#9c179e"
             ],
             [
              0.4444444444444444,
              "#bd3786"
             ],
             [
              0.5555555555555556,
              "#d8576b"
             ],
             [
              0.6666666666666666,
              "#ed7953"
             ],
             [
              0.7777777777777778,
              "#fb9f3a"
             ],
             [
              0.8888888888888888,
              "#fdca26"
             ],
             [
              1,
              "#f0f921"
             ]
            ],
            "type": "surface"
           }
          ],
          "table": [
           {
            "cells": {
             "fill": {
              "color": "#EBF0F8"
             },
             "line": {
              "color": "white"
             }
            },
            "header": {
             "fill": {
              "color": "#C8D4E3"
             },
             "line": {
              "color": "white"
             }
            },
            "type": "table"
           }
          ]
         },
         "layout": {
          "annotationdefaults": {
           "arrowcolor": "#2a3f5f",
           "arrowhead": 0,
           "arrowwidth": 1
          },
          "autotypenumbers": "strict",
          "coloraxis": {
           "colorbar": {
            "outlinewidth": 0,
            "ticks": ""
           }
          },
          "colorscale": {
           "diverging": [
            [
             0,
             "#8e0152"
            ],
            [
             0.1,
             "#c51b7d"
            ],
            [
             0.2,
             "#de77ae"
            ],
            [
             0.3,
             "#f1b6da"
            ],
            [
             0.4,
             "#fde0ef"
            ],
            [
             0.5,
             "#f7f7f7"
            ],
            [
             0.6,
             "#e6f5d0"
            ],
            [
             0.7,
             "#b8e186"
            ],
            [
             0.8,
             "#7fbc41"
            ],
            [
             0.9,
             "#4d9221"
            ],
            [
             1,
             "#276419"
            ]
           ],
           "sequential": [
            [
             0,
             "#0d0887"
            ],
            [
             0.1111111111111111,
             "#46039f"
            ],
            [
             0.2222222222222222,
             "#7201a8"
            ],
            [
             0.3333333333333333,
             "#9c179e"
            ],
            [
             0.4444444444444444,
             "#bd3786"
            ],
            [
             0.5555555555555556,
             "#d8576b"
            ],
            [
             0.6666666666666666,
             "#ed7953"
            ],
            [
             0.7777777777777778,
             "#fb9f3a"
            ],
            [
             0.8888888888888888,
             "#fdca26"
            ],
            [
             1,
             "#f0f921"
            ]
           ],
           "sequentialminus": [
            [
             0,
             "#0d0887"
            ],
            [
             0.1111111111111111,
             "#46039f"
            ],
            [
             0.2222222222222222,
             "#7201a8"
            ],
            [
             0.3333333333333333,
             "#9c179e"
            ],
            [
             0.4444444444444444,
             "#bd3786"
            ],
            [
             0.5555555555555556,
             "#d8576b"
            ],
            [
             0.6666666666666666,
             "#ed7953"
            ],
            [
             0.7777777777777778,
             "#fb9f3a"
            ],
            [
             0.8888888888888888,
             "#fdca26"
            ],
            [
             1,
             "#f0f921"
            ]
           ]
          },
          "colorway": [
           "#636efa",
           "#EF553B",
           "#00cc96",
           "#ab63fa",
           "#FFA15A",
           "#19d3f3",
           "#FF6692",
           "#B6E880",
           "#FF97FF",
           "#FECB52"
          ],
          "font": {
           "color": "#2a3f5f"
          },
          "geo": {
           "bgcolor": "white",
           "lakecolor": "white",
           "landcolor": "#E5ECF6",
           "showlakes": true,
           "showland": true,
           "subunitcolor": "white"
          },
          "hoverlabel": {
           "align": "left"
          },
          "hovermode": "closest",
          "mapbox": {
           "style": "light"
          },
          "paper_bgcolor": "white",
          "plot_bgcolor": "#E5ECF6",
          "polar": {
           "angularaxis": {
            "gridcolor": "white",
            "linecolor": "white",
            "ticks": ""
           },
           "bgcolor": "#E5ECF6",
           "radialaxis": {
            "gridcolor": "white",
            "linecolor": "white",
            "ticks": ""
           }
          },
          "scene": {
           "xaxis": {
            "backgroundcolor": "#E5ECF6",
            "gridcolor": "white",
            "gridwidth": 2,
            "linecolor": "white",
            "showbackground": true,
            "ticks": "",
            "zerolinecolor": "white"
           },
           "yaxis": {
            "backgroundcolor": "#E5ECF6",
            "gridcolor": "white",
            "gridwidth": 2,
            "linecolor": "white",
            "showbackground": true,
            "ticks": "",
            "zerolinecolor": "white"
           },
           "zaxis": {
            "backgroundcolor": "#E5ECF6",
            "gridcolor": "white",
            "gridwidth": 2,
            "linecolor": "white",
            "showbackground": true,
            "ticks": "",
            "zerolinecolor": "white"
           }
          },
          "shapedefaults": {
           "line": {
            "color": "#2a3f5f"
           }
          },
          "ternary": {
           "aaxis": {
            "gridcolor": "white",
            "linecolor": "white",
            "ticks": ""
           },
           "baxis": {
            "gridcolor": "white",
            "linecolor": "white",
            "ticks": ""
           },
           "bgcolor": "#E5ECF6",
           "caxis": {
            "gridcolor": "white",
            "linecolor": "white",
            "ticks": ""
           }
          },
          "title": {
           "x": 0.05
          },
          "xaxis": {
           "automargin": true,
           "gridcolor": "white",
           "linecolor": "white",
           "ticks": "",
           "title": {
            "standoff": 15
           },
           "zerolinecolor": "white",
           "zerolinewidth": 2
          },
          "yaxis": {
           "automargin": true,
           "gridcolor": "white",
           "linecolor": "white",
           "ticks": "",
           "title": {
            "standoff": 15
           },
           "zerolinecolor": "white",
           "zerolinewidth": 2
          }
         }
        },
        "title": {
         "font": {
          "color": "#D9D9D9"
         },
         "text": "Scatter plot of Halstead Error Estimate vs Design Complexity of Non-Defective Modules"
        },
        "width": 900,
        "xaxis": {
         "gridcolor": "#434343",
         "showgrid": true,
         "tickfont": {
          "color": "#C2C2C2"
         },
         "title": {
          "font": {
           "color": "#D9D9D9"
          },
          "text": "Halstead Error Estimate"
         },
         "zerolinecolor": "#666570"
        },
        "yaxis": {
         "gridcolor": "#434343",
         "showgrid": true,
         "tickfont": {
          "color": "#C2C2C2"
         },
         "title": {
          "font": {
           "color": "#D9D9D9"
          },
          "text": "Design Complexity"
         },
         "zerolinecolor": "#666570"
        }
       }
      },
      "text/html": [
       "<div>                            <div id=\"918a9048-4dfe-46e3-bb7b-58910cde0438\" class=\"plotly-graph-div\" style=\"height:500px; width:900px;\"></div>            <script type=\"text/javascript\">                require([\"plotly\"], function(Plotly) {                    window.PLOTLYENV=window.PLOTLYENV || {};\n",
       "                    window.PLOTLYENV.BASE_URL='https://plot.ly';                                    if (document.getElementById(\"918a9048-4dfe-46e3-bb7b-58910cde0438\")) {                    Plotly.newPlot(                        \"918a9048-4dfe-46e3-bb7b-58910cde0438\",                        [{\"line\":{\"color\":\"rgba(255, 153, 51, 1.0)\",\"dash\":\"solid\",\"shape\":\"linear\",\"width\":1.3},\"marker\":{\"size\":12,\"symbol\":\"circle\"},\"mode\":\"markers\",\"name\":\"DESIGN_COMPLEXITY\",\"text\":\"\",\"x\":[0.02,0.04,0.8,0.16,0.18,0.06,0.09,0.54,0.18,0.3,0.18,0.03,0.1,0.17,0.1,0.24,0.2,0.15,0.09,0.25,1.2,0.06,0.25,0.04,0.03,0.13,0.18,0.13,0.26,0.5,1.34,2.84,0.08,0.02,0.25,0.23,0.24,0.05,1.86,0.21,5.12,0.02,0.24,0.12,1.82,0.54,0.12,0.08,0.35,0.04,0.18,0.16,0.25,0.15,0.18,0.09,0.09,0.38,0.27,0.37,0.43,1.71,0.03,0.04,0.1,0.06,0.17,0.26,0.09,0.13,0.09,0.21,0.11,1.11,0.58,0.09,0.05,0.18,0.16,0.04,0.65,0.11,0.02,0.17,1.14,0.1,1.65,0.07,0.41,0.12,0.07,0.1,0.25,0.34,0.08,0.61,1.74,0.02,0.2,0.12,0.48,1.04,0.16,0.16,0.21,0.18,0.11,0.58,0.12,0.04,0.06,0.11,0.06,0.26,0.45,0.35,0.14,0.04,0.22,0.55,0.17,0.24,0.06,0.04,0.16,0.09,0.38,0.3,0.72,0.09,0.04,0.06,0.1,0.09,1.22,0.06,0.17,0.11,0.28,0.12,0.53,1.56,0.13,0.31,1.15,0.06,0.29,0.08,5.56,0.24,0.16,0.55,0.12,0.06,0.43,0.06,0.27,0.87,0.14,0.08,0.15,1.89,0.57,0.68,0.06,0.1,1.06,0.66,1.0,0.23,0.26,0.3,0.14,0.17,0.1,0.5,1.16,0.18,0.1,0.6,0.06,1.11,0.09,0.11,0.36,1.86,0.03,0.02,0.05,0.21,0.38,1.95,0.12,0.13,0.04,0.87,0.16,0.91,0.3,0.93,0.07,0.07,0.19,0.2,0.12,0.73,0.08,0.03,0.02,0.01,0.09,0.43,0.72,0.19,0.1,0.16,0.28,0.05,1.25,0.12,0.83,0.04,0.02,0.03,0.76,1.09,1.86,0.49,0.06,0.14,0.27,0.29,0.54,0.02,0.08,0.28,0.27,0.43,0.31,0.58,0.12,0.05,0.17,0.35,1.7,0.13,0.06,0.37,0.12,0.44,0.9,0.02,0.03,1.04,0.17,0.34,0.13,0.44,0.22,0.05,0.36,0.3,0.72,0.11,0.14,0.18,0.03,0.06,0.28,0.52,0.07,0.1,0.59,0.04,0.37,0.12,0.24,0.54,0.1,0.31,0.88,0.12,0.05,0.2,0.05],\"y\":[1.0,1.0,7.0,6.0,5.0,1.0,1.0,2.0,4.0,6.0,3.0,2.0,2.0,2.0,1.0,4.0,2.0,3.0,1.0,3.0,8.0,2.0,2.0,1.0,2.0,5.0,3.0,4.0,6.0,5.0,10.0,22.0,1.0,2.0,9.0,6.0,9.0,1.0,6.0,5.0,46.0,1.0,4.0,2.0,10.0,7.0,2.0,5.0,5.0,1.0,3.0,1.0,3.0,1.0,3.0,4.0,4.0,2.0,2.0,6.0,2.0,13.0,3.0,1.0,3.0,2.0,2.0,3.0,1.0,3.0,2.0,4.0,4.0,9.0,7.0,3.0,1.0,2.0,4.0,1.0,10.0,5.0,2.0,3.0,7.0,1.0,8.0,1.0,5.0,1.0,1.0,1.0,1.0,6.0,3.0,12.0,17.0,2.0,2.0,1.0,4.0,13.0,3.0,1.0,8.0,2.0,2.0,9.0,8.0,3.0,3.0,3.0,1.0,13.0,1.0,5.0,2.0,1.0,2.0,8.0,2.0,6.0,3.0,2.0,3.0,2.0,7.0,4.0,9.0,1.0,1.0,1.0,4.0,2.0,11.0,1.0,1.0,1.0,14.0,3.0,10.0,24.0,4.0,2.0,20.0,1.0,2.0,1.0,63.0,5.0,3.0,4.0,3.0,2.0,1.0,1.0,5.0,3.0,4.0,1.0,1.0,9.0,9.0,6.0,1.0,1.0,11.0,7.0,6.0,3.0,1.0,6.0,4.0,3.0,4.0,10.0,10.0,5.0,2.0,8.0,1.0,1.0,1.0,3.0,3.0,24.0,1.0,1.0,1.0,2.0,2.0,15.0,1.0,3.0,1.0,8.0,4.0,11.0,1.0,13.0,1.0,2.0,4.0,4.0,3.0,7.0,1.0,1.0,1.0,1.0,4.0,2.0,5.0,2.0,2.0,3.0,4.0,1.0,6.0,2.0,4.0,1.0,1.0,2.0,6.0,10.0,23.0,2.0,2.0,3.0,5.0,1.0,4.0,1.0,1.0,2.0,5.0,9.0,6.0,3.0,3.0,3.0,2.0,5.0,27.0,3.0,2.0,4.0,3.0,2.0,6.0,2.0,1.0,1.0,2.0,6.0,4.0,8.0,4.0,2.0,5.0,3.0,6.0,2.0,2.0,4.0,2.0,1.0,4.0,7.0,2.0,2.0,4.0,2.0,5.0,2.0,3.0,3.0,3.0,1.0,15.0,2.0,1.0,2.0,2.0],\"type\":\"scatter\"}],                        {\"height\":500,\"legend\":{\"bgcolor\":\"#151516\",\"font\":{\"color\":\"#D9D9D9\"}},\"paper_bgcolor\":\"#151516\",\"plot_bgcolor\":\"#151516\",\"template\":{\"data\":{\"barpolar\":[{\"marker\":{\"line\":{\"color\":\"#E5ECF6\",\"width\":0.5},\"pattern\":{\"fillmode\":\"overlay\",\"size\":10,\"solidity\":0.2}},\"type\":\"barpolar\"}],\"bar\":[{\"error_x\":{\"color\":\"#2a3f5f\"},\"error_y\":{\"color\":\"#2a3f5f\"},\"marker\":{\"line\":{\"color\":\"#E5ECF6\",\"width\":0.5},\"pattern\":{\"fillmode\":\"overlay\",\"size\":10,\"solidity\":0.2}},\"type\":\"bar\"}],\"carpet\":[{\"aaxis\":{\"endlinecolor\":\"#2a3f5f\",\"gridcolor\":\"white\",\"linecolor\":\"white\",\"minorgridcolor\":\"white\",\"startlinecolor\":\"#2a3f5f\"},\"baxis\":{\"endlinecolor\":\"#2a3f5f\",\"gridcolor\":\"white\",\"linecolor\":\"white\",\"minorgridcolor\":\"white\",\"startlinecolor\":\"#2a3f5f\"},\"type\":\"carpet\"}],\"choropleth\":[{\"colorbar\":{\"outlinewidth\":0,\"ticks\":\"\"},\"type\":\"choropleth\"}],\"contourcarpet\":[{\"colorbar\":{\"outlinewidth\":0,\"ticks\":\"\"},\"type\":\"contourcarpet\"}],\"contour\":[{\"colorbar\":{\"outlinewidth\":0,\"ticks\":\"\"},\"colorscale\":[[0.0,\"#0d0887\"],[0.1111111111111111,\"#46039f\"],[0.2222222222222222,\"#7201a8\"],[0.3333333333333333,\"#9c179e\"],[0.4444444444444444,\"#bd3786\"],[0.5555555555555556,\"#d8576b\"],[0.6666666666666666,\"#ed7953\"],[0.7777777777777778,\"#fb9f3a\"],[0.8888888888888888,\"#fdca26\"],[1.0,\"#f0f921\"]],\"type\":\"contour\"}],\"heatmapgl\":[{\"colorbar\":{\"outlinewidth\":0,\"ticks\":\"\"},\"colorscale\":[[0.0,\"#0d0887\"],[0.1111111111111111,\"#46039f\"],[0.2222222222222222,\"#7201a8\"],[0.3333333333333333,\"#9c179e\"],[0.4444444444444444,\"#bd3786\"],[0.5555555555555556,\"#d8576b\"],[0.6666666666666666,\"#ed7953\"],[0.7777777777777778,\"#fb9f3a\"],[0.8888888888888888,\"#fdca26\"],[1.0,\"#f0f921\"]],\"type\":\"heatmapgl\"}],\"heatmap\":[{\"colorbar\":{\"outlinewidth\":0,\"ticks\":\"\"},\"colorscale\":[[0.0,\"#0d0887\"],[0.1111111111111111,\"#46039f\"],[0.2222222222222222,\"#7201a8\"],[0.3333333333333333,\"#9c179e\"],[0.4444444444444444,\"#bd3786\"],[0.5555555555555556,\"#d8576b\"],[0.6666666666666666,\"#ed7953\"],[0.7777777777777778,\"#fb9f3a\"],[0.8888888888888888,\"#fdca26\"],[1.0,\"#f0f921\"]],\"type\":\"heatmap\"}],\"histogram2dcontour\":[{\"colorbar\":{\"outlinewidth\":0,\"ticks\":\"\"},\"colorscale\":[[0.0,\"#0d0887\"],[0.1111111111111111,\"#46039f\"],[0.2222222222222222,\"#7201a8\"],[0.3333333333333333,\"#9c179e\"],[0.4444444444444444,\"#bd3786\"],[0.5555555555555556,\"#d8576b\"],[0.6666666666666666,\"#ed7953\"],[0.7777777777777778,\"#fb9f3a\"],[0.8888888888888888,\"#fdca26\"],[1.0,\"#f0f921\"]],\"type\":\"histogram2dcontour\"}],\"histogram2d\":[{\"colorbar\":{\"outlinewidth\":0,\"ticks\":\"\"},\"colorscale\":[[0.0,\"#0d0887\"],[0.1111111111111111,\"#46039f\"],[0.2222222222222222,\"#7201a8\"],[0.3333333333333333,\"#9c179e\"],[0.4444444444444444,\"#bd3786\"],[0.5555555555555556,\"#d8576b\"],[0.6666666666666666,\"#ed7953\"],[0.7777777777777778,\"#fb9f3a\"],[0.8888888888888888,\"#fdca26\"],[1.0,\"#f0f921\"]],\"type\":\"histogram2d\"}],\"histogram\":[{\"marker\":{\"pattern\":{\"fillmode\":\"overlay\",\"size\":10,\"solidity\":0.2}},\"type\":\"histogram\"}],\"mesh3d\":[{\"colorbar\":{\"outlinewidth\":0,\"ticks\":\"\"},\"type\":\"mesh3d\"}],\"parcoords\":[{\"line\":{\"colorbar\":{\"outlinewidth\":0,\"ticks\":\"\"}},\"type\":\"parcoords\"}],\"pie\":[{\"automargin\":true,\"type\":\"pie\"}],\"scatter3d\":[{\"line\":{\"colorbar\":{\"outlinewidth\":0,\"ticks\":\"\"}},\"marker\":{\"colorbar\":{\"outlinewidth\":0,\"ticks\":\"\"}},\"type\":\"scatter3d\"}],\"scattercarpet\":[{\"marker\":{\"colorbar\":{\"outlinewidth\":0,\"ticks\":\"\"}},\"type\":\"scattercarpet\"}],\"scattergeo\":[{\"marker\":{\"colorbar\":{\"outlinewidth\":0,\"ticks\":\"\"}},\"type\":\"scattergeo\"}],\"scattergl\":[{\"marker\":{\"colorbar\":{\"outlinewidth\":0,\"ticks\":\"\"}},\"type\":\"scattergl\"}],\"scattermapbox\":[{\"marker\":{\"colorbar\":{\"outlinewidth\":0,\"ticks\":\"\"}},\"type\":\"scattermapbox\"}],\"scatterpolargl\":[{\"marker\":{\"colorbar\":{\"outlinewidth\":0,\"ticks\":\"\"}},\"type\":\"scatterpolargl\"}],\"scatterpolar\":[{\"marker\":{\"colorbar\":{\"outlinewidth\":0,\"ticks\":\"\"}},\"type\":\"scatterpolar\"}],\"scatter\":[{\"fillpattern\":{\"fillmode\":\"overlay\",\"size\":10,\"solidity\":0.2},\"type\":\"scatter\"}],\"scatterternary\":[{\"marker\":{\"colorbar\":{\"outlinewidth\":0,\"ticks\":\"\"}},\"type\":\"scatterternary\"}],\"surface\":[{\"colorbar\":{\"outlinewidth\":0,\"ticks\":\"\"},\"colorscale\":[[0.0,\"#0d0887\"],[0.1111111111111111,\"#46039f\"],[0.2222222222222222,\"#7201a8\"],[0.3333333333333333,\"#9c179e\"],[0.4444444444444444,\"#bd3786\"],[0.5555555555555556,\"#d8576b\"],[0.6666666666666666,\"#ed7953\"],[0.7777777777777778,\"#fb9f3a\"],[0.8888888888888888,\"#fdca26\"],[1.0,\"#f0f921\"]],\"type\":\"surface\"}],\"table\":[{\"cells\":{\"fill\":{\"color\":\"#EBF0F8\"},\"line\":{\"color\":\"white\"}},\"header\":{\"fill\":{\"color\":\"#C8D4E3\"},\"line\":{\"color\":\"white\"}},\"type\":\"table\"}]},\"layout\":{\"annotationdefaults\":{\"arrowcolor\":\"#2a3f5f\",\"arrowhead\":0,\"arrowwidth\":1},\"autotypenumbers\":\"strict\",\"coloraxis\":{\"colorbar\":{\"outlinewidth\":0,\"ticks\":\"\"}},\"colorscale\":{\"diverging\":[[0,\"#8e0152\"],[0.1,\"#c51b7d\"],[0.2,\"#de77ae\"],[0.3,\"#f1b6da\"],[0.4,\"#fde0ef\"],[0.5,\"#f7f7f7\"],[0.6,\"#e6f5d0\"],[0.7,\"#b8e186\"],[0.8,\"#7fbc41\"],[0.9,\"#4d9221\"],[1,\"#276419\"]],\"sequential\":[[0.0,\"#0d0887\"],[0.1111111111111111,\"#46039f\"],[0.2222222222222222,\"#7201a8\"],[0.3333333333333333,\"#9c179e\"],[0.4444444444444444,\"#bd3786\"],[0.5555555555555556,\"#d8576b\"],[0.6666666666666666,\"#ed7953\"],[0.7777777777777778,\"#fb9f3a\"],[0.8888888888888888,\"#fdca26\"],[1.0,\"#f0f921\"]],\"sequentialminus\":[[0.0,\"#0d0887\"],[0.1111111111111111,\"#46039f\"],[0.2222222222222222,\"#7201a8\"],[0.3333333333333333,\"#9c179e\"],[0.4444444444444444,\"#bd3786\"],[0.5555555555555556,\"#d8576b\"],[0.6666666666666666,\"#ed7953\"],[0.7777777777777778,\"#fb9f3a\"],[0.8888888888888888,\"#fdca26\"],[1.0,\"#f0f921\"]]},\"colorway\":[\"#636efa\",\"#EF553B\",\"#00cc96\",\"#ab63fa\",\"#FFA15A\",\"#19d3f3\",\"#FF6692\",\"#B6E880\",\"#FF97FF\",\"#FECB52\"],\"font\":{\"color\":\"#2a3f5f\"},\"geo\":{\"bgcolor\":\"white\",\"lakecolor\":\"white\",\"landcolor\":\"#E5ECF6\",\"showlakes\":true,\"showland\":true,\"subunitcolor\":\"white\"},\"hoverlabel\":{\"align\":\"left\"},\"hovermode\":\"closest\",\"mapbox\":{\"style\":\"light\"},\"paper_bgcolor\":\"white\",\"plot_bgcolor\":\"#E5ECF6\",\"polar\":{\"angularaxis\":{\"gridcolor\":\"white\",\"linecolor\":\"white\",\"ticks\":\"\"},\"bgcolor\":\"#E5ECF6\",\"radialaxis\":{\"gridcolor\":\"white\",\"linecolor\":\"white\",\"ticks\":\"\"}},\"scene\":{\"xaxis\":{\"backgroundcolor\":\"#E5ECF6\",\"gridcolor\":\"white\",\"gridwidth\":2,\"linecolor\":\"white\",\"showbackground\":true,\"ticks\":\"\",\"zerolinecolor\":\"white\"},\"yaxis\":{\"backgroundcolor\":\"#E5ECF6\",\"gridcolor\":\"white\",\"gridwidth\":2,\"linecolor\":\"white\",\"showbackground\":true,\"ticks\":\"\",\"zerolinecolor\":\"white\"},\"zaxis\":{\"backgroundcolor\":\"#E5ECF6\",\"gridcolor\":\"white\",\"gridwidth\":2,\"linecolor\":\"white\",\"showbackground\":true,\"ticks\":\"\",\"zerolinecolor\":\"white\"}},\"shapedefaults\":{\"line\":{\"color\":\"#2a3f5f\"}},\"ternary\":{\"aaxis\":{\"gridcolor\":\"white\",\"linecolor\":\"white\",\"ticks\":\"\"},\"baxis\":{\"gridcolor\":\"white\",\"linecolor\":\"white\",\"ticks\":\"\"},\"bgcolor\":\"#E5ECF6\",\"caxis\":{\"gridcolor\":\"white\",\"linecolor\":\"white\",\"ticks\":\"\"}},\"title\":{\"x\":0.05},\"xaxis\":{\"automargin\":true,\"gridcolor\":\"white\",\"linecolor\":\"white\",\"ticks\":\"\",\"title\":{\"standoff\":15},\"zerolinecolor\":\"white\",\"zerolinewidth\":2},\"yaxis\":{\"automargin\":true,\"gridcolor\":\"white\",\"linecolor\":\"white\",\"ticks\":\"\",\"title\":{\"standoff\":15},\"zerolinecolor\":\"white\",\"zerolinewidth\":2}}},\"title\":{\"font\":{\"color\":\"#D9D9D9\"},\"text\":\"Scatter plot of Halstead Error Estimate vs Design Complexity of Non-Defective Modules\"},\"width\":900,\"xaxis\":{\"gridcolor\":\"#434343\",\"showgrid\":true,\"tickfont\":{\"color\":\"#C2C2C2\"},\"title\":{\"font\":{\"color\":\"#D9D9D9\"},\"text\":\"Halstead Error Estimate\"},\"zerolinecolor\":\"#666570\"},\"yaxis\":{\"gridcolor\":\"#434343\",\"showgrid\":true,\"tickfont\":{\"color\":\"#C2C2C2\"},\"title\":{\"font\":{\"color\":\"#D9D9D9\"},\"text\":\"Design Complexity\"},\"zerolinecolor\":\"#666570\"}},                        {\"showLink\": true, \"linkText\": \"Export to plot.ly\", \"plotlyServerURL\": \"https://plot.ly\", \"responsive\": true}                    ).then(function(){\n",
       "                            \n",
       "var gd = document.getElementById('918a9048-4dfe-46e3-bb7b-58910cde0438');\n",
       "var x = new MutationObserver(function (mutations, observer) {{\n",
       "        var display = window.getComputedStyle(gd).display;\n",
       "        if (!display || display === 'none') {{\n",
       "            console.log([gd, 'removed!']);\n",
       "            Plotly.purge(gd);\n",
       "            observer.disconnect();\n",
       "        }}\n",
       "}});\n",
       "\n",
       "// Listen for the removal of the full notebook cells\n",
       "var notebookContainer = gd.closest('#notebook-container');\n",
       "if (notebookContainer) {{\n",
       "    x.observe(notebookContainer, {childList: true});\n",
       "}}\n",
       "\n",
       "// Listen for the clearing of the current output cell\n",
       "var outputEl = gd.closest('.output');\n",
       "if (outputEl) {{\n",
       "    x.observe(outputEl, {childList: true});\n",
       "}}\n",
       "\n",
       "                        })                };                });            </script>        </div>"
      ]
     },
     "metadata": {},
     "output_type": "display_data"
    }
   ],
   "source": [
    "non_defective_group.iplot(\n",
    "    kind='scatter',\n",
    "    x='HALSTEAD_ERROR_EST',\n",
    "    y='DESIGN_COMPLEXITY',\n",
    "    dimensions=(900, 500),\n",
    "    theme=\"solar\",\n",
    "    xTitle='Halstead Error Estimate',\n",
    "    yTitle='Design Complexity',\n",
    "    title='Scatter plot of Halstead Error Estimate vs Design Complexity of Non-Defective Modules',\n",
    "    mode=\"markers\"\n",
    ")"
   ]
  },
  {
   "cell_type": "markdown",
   "metadata": {},
   "source": [
    "### Control Chart\n",
    "\n",
    "A control chart is a chart that shows the distribution of the data, usually over time or some similar frame. It is used to determine if a process is in control or not. A process is said to be in control if the points on the chart are within the control limits. The control limits are calculated using the mean and standard deviation of the data. The control limits are usually set at 3 standard deviations from the mean.\n",
    "\n",
    "In this case, we can plot the Halstead Error Estimate of all the modules over time to see if there is a trend in the data. We can do it for both the defective and non-defective modules.\n",
    "\n",
    "(Note that the x axis of the data is the index of the data frame, which can be considered as the index of the modules in the repository. It can be assumed that the modules are ordered by time of creation.)\n",
    "\n",
    "Again, we will use the mean and standard deviation obtained from the non-defective modules to plot the control chart for the defective modules."
   ]
  },
  {
   "cell_type": "code",
   "execution_count": 17,
   "metadata": {},
   "outputs": [],
   "source": [
    "error_mean = non_defective_group[\"HALSTEAD_ERROR_EST\"].mean()\n",
    "error_std_dev = non_defective_group[\"HALSTEAD_ERROR_EST\"].std()\n",
    "\n",
    "upper_bound = error_mean + 3 * error_std_dev"
   ]
  },
  {
   "cell_type": "code",
   "execution_count": 18,
   "metadata": {},
   "outputs": [
    {
     "data": {
      "application/vnd.plotly.v1+json": {
       "config": {
        "linkText": "Export to plot.ly",
        "plotlyServerURL": "https://plot.ly",
        "showLink": true
       },
       "data": [
        {
         "line": {
          "color": "rgba(255, 153, 51, 1.0)",
          "dash": "solid",
          "shape": "linear",
          "width": 1.3
         },
         "marker": {
          "size": 12,
          "symbol": "circle"
         },
         "mode": "lines+markers",
         "name": "HALSTEAD_ERROR_EST",
         "text": "",
         "type": "scatter",
         "x": [
          0,
          1,
          2,
          3,
          4,
          5,
          6,
          7,
          8,
          9,
          10,
          11,
          12,
          13,
          14,
          15,
          16,
          17,
          18,
          19,
          20,
          21,
          22,
          23,
          24,
          25,
          26,
          27,
          28,
          29,
          30,
          31,
          32,
          33,
          34,
          35,
          36,
          37,
          38,
          39,
          40,
          41,
          42,
          43,
          44,
          45,
          46,
          47,
          48,
          49,
          50,
          51,
          52,
          53,
          54,
          55,
          56,
          57,
          58,
          59,
          60,
          61,
          62,
          63,
          64,
          65,
          66,
          67,
          68,
          69,
          70,
          71,
          72,
          73,
          74,
          75,
          76,
          77,
          78,
          79,
          80,
          81,
          82,
          83,
          84,
          85,
          86,
          87,
          88,
          89,
          90,
          91,
          92,
          93,
          94,
          95,
          96,
          97,
          98,
          99,
          100,
          101,
          102,
          103,
          104,
          105,
          106,
          107,
          108,
          109,
          110,
          111,
          112,
          113,
          114,
          115,
          116,
          117,
          118,
          119,
          120,
          121,
          122,
          123,
          124,
          125,
          126,
          127,
          128,
          129,
          130,
          131,
          132,
          133,
          134,
          135,
          136,
          137,
          138,
          139,
          140,
          141,
          142,
          143,
          144,
          145,
          146,
          147,
          148,
          149,
          150,
          151,
          152,
          153,
          154,
          155,
          156,
          157,
          158,
          159,
          160,
          161,
          162,
          163,
          164,
          165,
          166,
          167,
          168,
          169,
          170,
          171,
          172,
          173,
          174,
          175,
          176,
          177,
          178,
          179,
          180,
          181,
          182,
          183,
          184,
          185,
          186,
          187,
          188,
          189,
          190,
          191,
          192,
          193,
          194,
          195,
          196,
          197,
          198,
          199,
          200,
          201,
          202,
          203,
          204,
          205,
          206,
          207,
          208,
          209,
          210,
          211,
          212,
          213,
          214,
          215,
          216,
          217,
          218,
          219,
          220,
          221,
          222,
          223,
          224,
          225,
          226,
          227,
          228,
          229,
          230,
          231,
          232,
          233,
          234,
          235,
          236,
          237,
          238,
          239,
          240,
          241,
          242,
          243,
          244,
          245,
          246,
          247,
          248,
          249,
          250,
          251,
          252,
          253,
          254,
          255,
          256,
          257,
          258,
          259,
          260,
          261,
          262,
          263,
          264,
          265,
          266,
          267,
          268,
          269,
          270,
          271,
          272,
          273,
          274,
          275,
          276,
          277,
          278,
          279,
          280,
          281,
          282,
          283,
          284,
          285,
          286,
          287,
          288,
          289,
          290,
          291,
          292,
          293,
          294,
          295,
          296,
          297,
          298,
          299,
          300,
          301,
          302,
          303,
          304,
          305,
          306,
          307,
          308,
          309,
          310,
          311,
          312,
          313,
          314,
          315,
          316,
          317,
          318,
          319,
          320,
          321,
          322,
          323,
          324,
          325,
          326
         ],
         "y": [
          0.02,
          0.04,
          0.8,
          0.25,
          0.16,
          0.18,
          0.06,
          0.2,
          0.09,
          0.54,
          1.69,
          0.18,
          0.3,
          0.18,
          0.03,
          0.1,
          0.17,
          0.1,
          0.24,
          0.2,
          0.15,
          1.43,
          0.44,
          0.09,
          0.25,
          0.19,
          1.2,
          0.06,
          0.25,
          0.04,
          0.03,
          0.19,
          0.15,
          0.13,
          0.18,
          0.13,
          0.26,
          0.05,
          0.5,
          0.58,
          1.34,
          2.84,
          0.08,
          0.02,
          0.25,
          0.05,
          0.23,
          0.24,
          0.05,
          1.86,
          0.21,
          5.12,
          0.02,
          0.24,
          0.12,
          1.82,
          0.54,
          0.12,
          0.08,
          0.35,
          0.04,
          1.25,
          0.18,
          0.16,
          0.25,
          0.15,
          0.18,
          0.09,
          0.09,
          0.15,
          0.38,
          1.67,
          0.27,
          0.37,
          0.43,
          1.71,
          0.03,
          0.04,
          0.1,
          0.06,
          0.17,
          0.26,
          0.09,
          0.13,
          0.09,
          0.21,
          0.11,
          1.11,
          0.58,
          0.09,
          0.05,
          0.87,
          0.18,
          0.16,
          0.04,
          0.65,
          0.11,
          0.02,
          0.17,
          1.14,
          0.1,
          1.65,
          0.07,
          0.41,
          0.12,
          0.21,
          0.07,
          0.1,
          0.25,
          0.34,
          0.08,
          0.61,
          4.25,
          1.74,
          0.02,
          0.15,
          0.2,
          0.12,
          0.48,
          1.04,
          0.16,
          0.16,
          0.21,
          2.08,
          0.18,
          0.11,
          0.58,
          0.41,
          0.12,
          0.04,
          0.06,
          0.11,
          0.06,
          0.26,
          0.45,
          0.35,
          0.14,
          0.04,
          0.22,
          0.28,
          1.05,
          0.55,
          0.17,
          0.24,
          0.06,
          0.04,
          0.16,
          0.09,
          0.38,
          0.3,
          0.72,
          0.28,
          0.09,
          0.04,
          0.06,
          0.1,
          0.09,
          1.22,
          0.76,
          0.06,
          0.17,
          0.11,
          0.28,
          0.12,
          0.53,
          1.56,
          0.13,
          0.13,
          0.31,
          1.15,
          0.06,
          0.29,
          0.08,
          5.56,
          0.24,
          0.16,
          0.55,
          0.12,
          0.06,
          0.22,
          0.43,
          0.06,
          0.27,
          0.87,
          0.14,
          0.08,
          0.15,
          1.89,
          0.57,
          0.68,
          0.06,
          0.1,
          0.42,
          1.06,
          0.66,
          1,
          0.23,
          0.26,
          0.3,
          0.14,
          0.17,
          0.1,
          0.5,
          0.66,
          1.16,
          0.18,
          0.1,
          1.27,
          0.6,
          0.06,
          1.11,
          0.09,
          0.11,
          0.36,
          1.86,
          0.03,
          0.02,
          0.05,
          0.21,
          0.38,
          1.95,
          0.12,
          0.13,
          0.04,
          0.87,
          0.32,
          0.16,
          0.91,
          0.3,
          0.93,
          0.07,
          0.07,
          0.19,
          1.39,
          0.2,
          0.12,
          0.73,
          0.08,
          0.52,
          0.03,
          0.02,
          0.01,
          0.09,
          0.43,
          0.72,
          0.19,
          0.1,
          0.16,
          0.28,
          1.4,
          0.05,
          1.25,
          0.12,
          0.33,
          0.83,
          0.04,
          0.02,
          0.03,
          0.76,
          1.09,
          1.86,
          0.49,
          0.06,
          0.14,
          0.27,
          0.29,
          0.54,
          0.02,
          0.08,
          0.28,
          0.27,
          0.43,
          0.31,
          0.58,
          0.12,
          0.05,
          0.17,
          0.35,
          1.7,
          0.13,
          0.06,
          0.37,
          1.12,
          0.12,
          0.44,
          0.9,
          0.02,
          0.03,
          1.04,
          0.17,
          0.34,
          0.1,
          0.13,
          0.41,
          0.11,
          0.44,
          0.22,
          0.05,
          0.36,
          0.3,
          0.72,
          0.11,
          0.18,
          0.14,
          0.18,
          0.77,
          0.03,
          0.06,
          0.28,
          0.35,
          0.52,
          0.07,
          0.1,
          0.59,
          0.04,
          0.37,
          0.12,
          0.24,
          0.54,
          0.1,
          3.05,
          0.31,
          0.88,
          0.12,
          0.05,
          0.2,
          0.05
         ]
        }
       ],
       "layout": {
        "height": 500,
        "legend": {
         "bgcolor": "#151516",
         "font": {
          "color": "#D9D9D9"
         }
        },
        "paper_bgcolor": "#151516",
        "plot_bgcolor": "#151516",
        "shapes": [
         {
          "line": {
           "color": "#db4052",
           "dash": "line",
           "width": 2
          },
          "type": "line",
          "x0": 0,
          "x1": 1,
          "xref": "paper",
          "y0": 2.1751974997301455,
          "y1": 2.1751974997301455,
          "yref": "y"
         },
         {
          "line": {
           "color": "#008000",
           "dash": "line",
           "width": 2
          },
          "type": "line",
          "x0": 0,
          "x1": 1,
          "xref": "paper",
          "y0": 0.3742456140350877,
          "y1": 0.3742456140350877,
          "yref": "y"
         }
        ],
        "title": "Line plot of Halstead Error Estimate over time",
        "titlefont": {
         "color": "#D9D9D9"
        },
        "width": 900,
        "xaxis": {
         "gridcolor": "#434343",
         "showgrid": true,
         "tickfont": {
          "color": "#C2C2C2"
         },
         "title": "Repository Index (By Time)",
         "titlefont": {
          "color": "#D9D9D9"
         },
         "zerolinecolor": "#666570"
        },
        "yaxis": {
         "gridcolor": "#434343",
         "showgrid": true,
         "tickfont": {
          "color": "#C2C2C2"
         },
         "title": "Halstead Error Estimate",
         "titlefont": {
          "color": "#D9D9D9"
         },
         "zerolinecolor": "#666570"
        }
       }
      },
      "text/html": [
       "<div>                            <div id=\"ba6c5eee-3ae9-4686-ae7b-e04086c4690f\" class=\"plotly-graph-div\" style=\"height:500px; width:900px;\"></div>            <script type=\"text/javascript\">                require([\"plotly\"], function(Plotly) {                    window.PLOTLYENV=window.PLOTLYENV || {};\n",
       "                    window.PLOTLYENV.BASE_URL='https://plot.ly';                                    if (document.getElementById(\"ba6c5eee-3ae9-4686-ae7b-e04086c4690f\")) {                    Plotly.newPlot(                        \"ba6c5eee-3ae9-4686-ae7b-e04086c4690f\",                        [{\"line\":{\"color\":\"rgba(255, 153, 51, 1.0)\",\"dash\":\"solid\",\"shape\":\"linear\",\"width\":1.3},\"marker\":{\"size\":12,\"symbol\":\"circle\"},\"mode\":\"lines+markers\",\"name\":\"HALSTEAD_ERROR_EST\",\"text\":\"\",\"x\":[0,1,2,3,4,5,6,7,8,9,10,11,12,13,14,15,16,17,18,19,20,21,22,23,24,25,26,27,28,29,30,31,32,33,34,35,36,37,38,39,40,41,42,43,44,45,46,47,48,49,50,51,52,53,54,55,56,57,58,59,60,61,62,63,64,65,66,67,68,69,70,71,72,73,74,75,76,77,78,79,80,81,82,83,84,85,86,87,88,89,90,91,92,93,94,95,96,97,98,99,100,101,102,103,104,105,106,107,108,109,110,111,112,113,114,115,116,117,118,119,120,121,122,123,124,125,126,127,128,129,130,131,132,133,134,135,136,137,138,139,140,141,142,143,144,145,146,147,148,149,150,151,152,153,154,155,156,157,158,159,160,161,162,163,164,165,166,167,168,169,170,171,172,173,174,175,176,177,178,179,180,181,182,183,184,185,186,187,188,189,190,191,192,193,194,195,196,197,198,199,200,201,202,203,204,205,206,207,208,209,210,211,212,213,214,215,216,217,218,219,220,221,222,223,224,225,226,227,228,229,230,231,232,233,234,235,236,237,238,239,240,241,242,243,244,245,246,247,248,249,250,251,252,253,254,255,256,257,258,259,260,261,262,263,264,265,266,267,268,269,270,271,272,273,274,275,276,277,278,279,280,281,282,283,284,285,286,287,288,289,290,291,292,293,294,295,296,297,298,299,300,301,302,303,304,305,306,307,308,309,310,311,312,313,314,315,316,317,318,319,320,321,322,323,324,325,326],\"y\":[0.02,0.04,0.8,0.25,0.16,0.18,0.06,0.2,0.09,0.54,1.69,0.18,0.3,0.18,0.03,0.1,0.17,0.1,0.24,0.2,0.15,1.43,0.44,0.09,0.25,0.19,1.2,0.06,0.25,0.04,0.03,0.19,0.15,0.13,0.18,0.13,0.26,0.05,0.5,0.58,1.34,2.84,0.08,0.02,0.25,0.05,0.23,0.24,0.05,1.86,0.21,5.12,0.02,0.24,0.12,1.82,0.54,0.12,0.08,0.35,0.04,1.25,0.18,0.16,0.25,0.15,0.18,0.09,0.09,0.15,0.38,1.67,0.27,0.37,0.43,1.71,0.03,0.04,0.1,0.06,0.17,0.26,0.09,0.13,0.09,0.21,0.11,1.11,0.58,0.09,0.05,0.87,0.18,0.16,0.04,0.65,0.11,0.02,0.17,1.14,0.1,1.65,0.07,0.41,0.12,0.21,0.07,0.1,0.25,0.34,0.08,0.61,4.25,1.74,0.02,0.15,0.2,0.12,0.48,1.04,0.16,0.16,0.21,2.08,0.18,0.11,0.58,0.41,0.12,0.04,0.06,0.11,0.06,0.26,0.45,0.35,0.14,0.04,0.22,0.28,1.05,0.55,0.17,0.24,0.06,0.04,0.16,0.09,0.38,0.3,0.72,0.28,0.09,0.04,0.06,0.1,0.09,1.22,0.76,0.06,0.17,0.11,0.28,0.12,0.53,1.56,0.13,0.13,0.31,1.15,0.06,0.29,0.08,5.56,0.24,0.16,0.55,0.12,0.06,0.22,0.43,0.06,0.27,0.87,0.14,0.08,0.15,1.89,0.57,0.68,0.06,0.1,0.42,1.06,0.66,1.0,0.23,0.26,0.3,0.14,0.17,0.1,0.5,0.66,1.16,0.18,0.1,1.27,0.6,0.06,1.11,0.09,0.11,0.36,1.86,0.03,0.02,0.05,0.21,0.38,1.95,0.12,0.13,0.04,0.87,0.32,0.16,0.91,0.3,0.93,0.07,0.07,0.19,1.39,0.2,0.12,0.73,0.08,0.52,0.03,0.02,0.01,0.09,0.43,0.72,0.19,0.1,0.16,0.28,1.4,0.05,1.25,0.12,0.33,0.83,0.04,0.02,0.03,0.76,1.09,1.86,0.49,0.06,0.14,0.27,0.29,0.54,0.02,0.08,0.28,0.27,0.43,0.31,0.58,0.12,0.05,0.17,0.35,1.7,0.13,0.06,0.37,1.12,0.12,0.44,0.9,0.02,0.03,1.04,0.17,0.34,0.1,0.13,0.41,0.11,0.44,0.22,0.05,0.36,0.3,0.72,0.11,0.18,0.14,0.18,0.77,0.03,0.06,0.28,0.35,0.52,0.07,0.1,0.59,0.04,0.37,0.12,0.24,0.54,0.1,3.05,0.31,0.88,0.12,0.05,0.2,0.05],\"type\":\"scatter\"}],                        {\"legend\":{\"bgcolor\":\"#151516\",\"font\":{\"color\":\"#D9D9D9\"}},\"paper_bgcolor\":\"#151516\",\"plot_bgcolor\":\"#151516\",\"yaxis\":{\"tickfont\":{\"color\":\"#C2C2C2\"},\"gridcolor\":\"#434343\",\"titlefont\":{\"color\":\"#D9D9D9\"},\"zerolinecolor\":\"#666570\",\"showgrid\":true,\"title\":\"Halstead Error Estimate\"},\"xaxis\":{\"tickfont\":{\"color\":\"#C2C2C2\"},\"gridcolor\":\"#434343\",\"titlefont\":{\"color\":\"#D9D9D9\"},\"zerolinecolor\":\"#666570\",\"showgrid\":true,\"title\":\"Repository Index (By Time)\"},\"titlefont\":{\"color\":\"#D9D9D9\"},\"title\":\"Line plot of Halstead Error Estimate over time\",\"width\":900,\"height\":500,\"shapes\":[{\"x0\":0,\"y0\":2.1751974997301455,\"x1\":1,\"y1\":2.1751974997301455,\"line\":{\"color\":\"#db4052\",\"width\":2,\"dash\":\"line\"},\"xref\":\"paper\",\"yref\":\"y\",\"type\":\"line\"},{\"x0\":0,\"y0\":0.3742456140350877,\"x1\":1,\"y1\":0.3742456140350877,\"line\":{\"color\":\"#008000\",\"width\":2,\"dash\":\"line\"},\"xref\":\"paper\",\"yref\":\"y\",\"type\":\"line\"}]},                        {\"showLink\": true, \"linkText\": \"Export to plot.ly\", \"plotlyServerURL\": \"https://plot.ly\", \"responsive\": true}                    ).then(function(){\n",
       "                            \n",
       "var gd = document.getElementById('ba6c5eee-3ae9-4686-ae7b-e04086c4690f');\n",
       "var x = new MutationObserver(function (mutations, observer) {{\n",
       "        var display = window.getComputedStyle(gd).display;\n",
       "        if (!display || display === 'none') {{\n",
       "            console.log([gd, 'removed!']);\n",
       "            Plotly.purge(gd);\n",
       "            observer.disconnect();\n",
       "        }}\n",
       "}});\n",
       "\n",
       "// Listen for the removal of the full notebook cells\n",
       "var notebookContainer = gd.closest('#notebook-container');\n",
       "if (notebookContainer) {{\n",
       "    x.observe(notebookContainer, {childList: true});\n",
       "}}\n",
       "\n",
       "// Listen for the clearing of the current output cell\n",
       "var outputEl = gd.closest('.output');\n",
       "if (outputEl) {{\n",
       "    x.observe(outputEl, {childList: true});\n",
       "}}\n",
       "\n",
       "                        })                };                });            </script>        </div>"
      ]
     },
     "metadata": {},
     "output_type": "display_data"
    }
   ],
   "source": [
    "analysis_dataset[[\"HALSTEAD_ERROR_EST\"]].iplot(\n",
    "    kind=\"scatter\",\n",
    "    dimensions=(900, 500),\n",
    "    theme=\"solar\",\n",
    "    yTitle='Halstead Error Estimate',\n",
    "    xTitle='Repository Index (By Time)',\n",
    "    mode=\"lines+markers\",\n",
    "    title='Line plot of Halstead Error Estimate over time',\n",
    "    hline= [\n",
    "        {\n",
    "            'y': upper_bound,\n",
    "            'color': 'red',\n",
    "            'dash': 'line',\n",
    "            'width': 2,\n",
    "        },\n",
    "        {\n",
    "            'y': error_mean,\n",
    "            'color': 'green',\n",
    "            'dash': 'line',\n",
    "            \"width\": 2\n",
    "        }\n",
    "    ]\n",
    ")"
   ]
  },
  {
   "cell_type": "markdown",
   "metadata": {},
   "source": [
    "Now for to show the distribution between defective and non-defective groups:"
   ]
  },
  {
   "cell_type": "code",
   "execution_count": 19,
   "metadata": {},
   "outputs": [
    {
     "data": {
      "application/vnd.plotly.v1+json": {
       "config": {
        "linkText": "Export to plot.ly",
        "plotlyServerURL": "https://plot.ly",
        "showLink": true
       },
       "data": [
        {
         "line": {
          "color": "rgba(255, 153, 51, 1.0)",
          "dash": "solid",
          "shape": "linear",
          "width": 1.3
         },
         "marker": {
          "size": 12,
          "symbol": "circle"
         },
         "mode": "lines+markers",
         "name": "HALSTEAD_ERROR_EST",
         "text": "",
         "type": "scatter",
         "x": [
          3,
          7,
          10,
          21,
          22,
          25,
          31,
          32,
          37,
          39,
          45,
          61,
          69,
          71,
          91,
          105,
          112,
          115,
          123,
          127,
          139,
          140,
          151,
          158,
          167,
          179,
          192,
          203,
          207,
          225,
          233,
          238,
          249,
          253,
          282,
          291,
          293,
          294,
          302,
          305,
          309,
          320
         ],
         "y": [
          0.25,
          0.2,
          1.69,
          1.43,
          0.44,
          0.19,
          0.19,
          0.15,
          0.05,
          0.58,
          0.05,
          1.25,
          0.15,
          1.67,
          0.87,
          0.21,
          4.25,
          0.15,
          2.08,
          0.41,
          0.28,
          1.05,
          0.28,
          0.76,
          0.13,
          0.22,
          0.42,
          0.66,
          1.27,
          0.32,
          1.39,
          0.52,
          1.4,
          0.33,
          1.12,
          0.1,
          0.41,
          0.11,
          0.18,
          0.77,
          0.35,
          3.05
         ]
        }
       ],
       "layout": {
        "height": 500,
        "legend": {
         "bgcolor": "#151516",
         "font": {
          "color": "#D9D9D9"
         }
        },
        "paper_bgcolor": "#151516",
        "plot_bgcolor": "#151516",
        "shapes": [
         {
          "line": {
           "color": "#db4052",
           "dash": "line",
           "width": 2
          },
          "type": "line",
          "x0": 0,
          "x1": 1,
          "xref": "paper",
          "y0": 2.1751974997301455,
          "y1": 2.1751974997301455,
          "yref": "y"
         },
         {
          "line": {
           "color": "#008000",
           "dash": "line",
           "width": 2
          },
          "type": "line",
          "x0": 0,
          "x1": 1,
          "xref": "paper",
          "y0": 0.3742456140350877,
          "y1": 0.3742456140350877,
          "yref": "y"
         }
        ],
        "title": "Line plot of Halstead Error Estimate over time for Defective Modules",
        "titlefont": {
         "color": "#D9D9D9"
        },
        "width": 900,
        "xaxis": {
         "gridcolor": "#434343",
         "showgrid": true,
         "tickfont": {
          "color": "#C2C2C2"
         },
         "title": "Repository Index (By Time)",
         "titlefont": {
          "color": "#D9D9D9"
         },
         "zerolinecolor": "#666570"
        },
        "yaxis": {
         "gridcolor": "#434343",
         "showgrid": true,
         "tickfont": {
          "color": "#C2C2C2"
         },
         "title": "Halstead Error Estimate",
         "titlefont": {
          "color": "#D9D9D9"
         },
         "zerolinecolor": "#666570"
        }
       }
      },
      "text/html": [
       "<div>                            <div id=\"45ec75b8-3852-453e-8378-fe58126e8a39\" class=\"plotly-graph-div\" style=\"height:500px; width:900px;\"></div>            <script type=\"text/javascript\">                require([\"plotly\"], function(Plotly) {                    window.PLOTLYENV=window.PLOTLYENV || {};\n",
       "                    window.PLOTLYENV.BASE_URL='https://plot.ly';                                    if (document.getElementById(\"45ec75b8-3852-453e-8378-fe58126e8a39\")) {                    Plotly.newPlot(                        \"45ec75b8-3852-453e-8378-fe58126e8a39\",                        [{\"line\":{\"color\":\"rgba(255, 153, 51, 1.0)\",\"dash\":\"solid\",\"shape\":\"linear\",\"width\":1.3},\"marker\":{\"size\":12,\"symbol\":\"circle\"},\"mode\":\"lines+markers\",\"name\":\"HALSTEAD_ERROR_EST\",\"text\":\"\",\"x\":[3,7,10,21,22,25,31,32,37,39,45,61,69,71,91,105,112,115,123,127,139,140,151,158,167,179,192,203,207,225,233,238,249,253,282,291,293,294,302,305,309,320],\"y\":[0.25,0.2,1.69,1.43,0.44,0.19,0.19,0.15,0.05,0.58,0.05,1.25,0.15,1.67,0.87,0.21,4.25,0.15,2.08,0.41,0.28,1.05,0.28,0.76,0.13,0.22,0.42,0.66,1.27,0.32,1.39,0.52,1.4,0.33,1.12,0.1,0.41,0.11,0.18,0.77,0.35,3.05],\"type\":\"scatter\"}],                        {\"legend\":{\"bgcolor\":\"#151516\",\"font\":{\"color\":\"#D9D9D9\"}},\"paper_bgcolor\":\"#151516\",\"plot_bgcolor\":\"#151516\",\"yaxis\":{\"tickfont\":{\"color\":\"#C2C2C2\"},\"gridcolor\":\"#434343\",\"titlefont\":{\"color\":\"#D9D9D9\"},\"zerolinecolor\":\"#666570\",\"showgrid\":true,\"title\":\"Halstead Error Estimate\"},\"xaxis\":{\"tickfont\":{\"color\":\"#C2C2C2\"},\"gridcolor\":\"#434343\",\"titlefont\":{\"color\":\"#D9D9D9\"},\"zerolinecolor\":\"#666570\",\"showgrid\":true,\"title\":\"Repository Index (By Time)\"},\"titlefont\":{\"color\":\"#D9D9D9\"},\"title\":\"Line plot of Halstead Error Estimate over time for Defective Modules\",\"width\":900,\"height\":500,\"shapes\":[{\"x0\":0,\"y0\":2.1751974997301455,\"x1\":1,\"y1\":2.1751974997301455,\"line\":{\"color\":\"#db4052\",\"width\":2,\"dash\":\"line\"},\"xref\":\"paper\",\"yref\":\"y\",\"type\":\"line\"},{\"x0\":0,\"y0\":0.3742456140350877,\"x1\":1,\"y1\":0.3742456140350877,\"line\":{\"color\":\"#008000\",\"width\":2,\"dash\":\"line\"},\"xref\":\"paper\",\"yref\":\"y\",\"type\":\"line\"}]},                        {\"showLink\": true, \"linkText\": \"Export to plot.ly\", \"plotlyServerURL\": \"https://plot.ly\", \"responsive\": true}                    ).then(function(){\n",
       "                            \n",
       "var gd = document.getElementById('45ec75b8-3852-453e-8378-fe58126e8a39');\n",
       "var x = new MutationObserver(function (mutations, observer) {{\n",
       "        var display = window.getComputedStyle(gd).display;\n",
       "        if (!display || display === 'none') {{\n",
       "            console.log([gd, 'removed!']);\n",
       "            Plotly.purge(gd);\n",
       "            observer.disconnect();\n",
       "        }}\n",
       "}});\n",
       "\n",
       "// Listen for the removal of the full notebook cells\n",
       "var notebookContainer = gd.closest('#notebook-container');\n",
       "if (notebookContainer) {{\n",
       "    x.observe(notebookContainer, {childList: true});\n",
       "}}\n",
       "\n",
       "// Listen for the clearing of the current output cell\n",
       "var outputEl = gd.closest('.output');\n",
       "if (outputEl) {{\n",
       "    x.observe(outputEl, {childList: true});\n",
       "}}\n",
       "\n",
       "                        })                };                });            </script>        </div>"
      ]
     },
     "metadata": {},
     "output_type": "display_data"
    }
   ],
   "source": [
    "defective_group[[\"HALSTEAD_ERROR_EST\"]].iplot(\n",
    "    kind=\"scatter\",\n",
    "    dimensions=(900, 500),\n",
    "    theme=\"solar\",\n",
    "    yTitle='Halstead Error Estimate',\n",
    "    xTitle='Repository Index (By Time)',\n",
    "    mode=\"lines+markers\",\n",
    "    title='Line plot of Halstead Error Estimate over time for Defective Modules',\n",
    "    hline= [\n",
    "        {\n",
    "            'y': upper_bound,\n",
    "            'color': 'red',\n",
    "            'dash': 'line',\n",
    "            'width': 2,\n",
    "        },\n",
    "        {\n",
    "            'y': error_mean,\n",
    "            'color': 'green',\n",
    "            'dash': 'line',\n",
    "            \"width\": 2\n",
    "        }\n",
    "    ]\n",
    ")"
   ]
  },
  {
   "cell_type": "code",
   "execution_count": 20,
   "metadata": {},
   "outputs": [
    {
     "data": {
      "application/vnd.plotly.v1+json": {
       "config": {
        "linkText": "Export to plot.ly",
        "plotlyServerURL": "https://plot.ly",
        "showLink": true
       },
       "data": [
        {
         "line": {
          "color": "rgba(255, 153, 51, 1.0)",
          "dash": "solid",
          "shape": "linear",
          "width": 1.3
         },
         "marker": {
          "size": 12,
          "symbol": "circle"
         },
         "mode": "lines+markers",
         "name": "HALSTEAD_ERROR_EST",
         "text": "",
         "type": "scatter",
         "x": [
          0,
          1,
          2,
          4,
          5,
          6,
          8,
          9,
          11,
          12,
          13,
          14,
          15,
          16,
          17,
          18,
          19,
          20,
          23,
          24,
          26,
          27,
          28,
          29,
          30,
          33,
          34,
          35,
          36,
          38,
          40,
          41,
          42,
          43,
          44,
          46,
          47,
          48,
          49,
          50,
          51,
          52,
          53,
          54,
          55,
          56,
          57,
          58,
          59,
          60,
          62,
          63,
          64,
          65,
          66,
          67,
          68,
          70,
          72,
          73,
          74,
          75,
          76,
          77,
          78,
          79,
          80,
          81,
          82,
          83,
          84,
          85,
          86,
          87,
          88,
          89,
          90,
          92,
          93,
          94,
          95,
          96,
          97,
          98,
          99,
          100,
          101,
          102,
          103,
          104,
          106,
          107,
          108,
          109,
          110,
          111,
          113,
          114,
          116,
          117,
          118,
          119,
          120,
          121,
          122,
          124,
          125,
          126,
          128,
          129,
          130,
          131,
          132,
          133,
          134,
          135,
          136,
          137,
          138,
          141,
          142,
          143,
          144,
          145,
          146,
          147,
          148,
          149,
          150,
          152,
          153,
          154,
          155,
          156,
          157,
          159,
          160,
          161,
          162,
          163,
          164,
          165,
          166,
          168,
          169,
          170,
          171,
          172,
          173,
          174,
          175,
          176,
          177,
          178,
          180,
          181,
          182,
          183,
          184,
          185,
          186,
          187,
          188,
          189,
          190,
          191,
          193,
          194,
          195,
          196,
          197,
          198,
          199,
          200,
          201,
          202,
          204,
          205,
          206,
          208,
          209,
          210,
          211,
          212,
          213,
          214,
          215,
          216,
          217,
          218,
          219,
          220,
          221,
          222,
          223,
          224,
          226,
          227,
          228,
          229,
          230,
          231,
          232,
          234,
          235,
          236,
          237,
          239,
          240,
          241,
          242,
          243,
          244,
          245,
          246,
          247,
          248,
          250,
          251,
          252,
          254,
          255,
          256,
          257,
          258,
          259,
          260,
          261,
          262,
          263,
          264,
          265,
          266,
          267,
          268,
          269,
          270,
          271,
          272,
          273,
          274,
          275,
          276,
          277,
          278,
          279,
          280,
          281,
          283,
          284,
          285,
          286,
          287,
          288,
          289,
          290,
          292,
          295,
          296,
          297,
          298,
          299,
          300,
          301,
          303,
          304,
          306,
          307,
          308,
          310,
          311,
          312,
          313,
          314,
          315,
          316,
          317,
          318,
          319,
          321,
          322,
          323,
          324,
          325,
          326
         ],
         "y": [
          0.02,
          0.04,
          0.8,
          0.16,
          0.18,
          0.06,
          0.09,
          0.54,
          0.18,
          0.3,
          0.18,
          0.03,
          0.1,
          0.17,
          0.1,
          0.24,
          0.2,
          0.15,
          0.09,
          0.25,
          1.2,
          0.06,
          0.25,
          0.04,
          0.03,
          0.13,
          0.18,
          0.13,
          0.26,
          0.5,
          1.34,
          2.84,
          0.08,
          0.02,
          0.25,
          0.23,
          0.24,
          0.05,
          1.86,
          0.21,
          5.12,
          0.02,
          0.24,
          0.12,
          1.82,
          0.54,
          0.12,
          0.08,
          0.35,
          0.04,
          0.18,
          0.16,
          0.25,
          0.15,
          0.18,
          0.09,
          0.09,
          0.38,
          0.27,
          0.37,
          0.43,
          1.71,
          0.03,
          0.04,
          0.1,
          0.06,
          0.17,
          0.26,
          0.09,
          0.13,
          0.09,
          0.21,
          0.11,
          1.11,
          0.58,
          0.09,
          0.05,
          0.18,
          0.16,
          0.04,
          0.65,
          0.11,
          0.02,
          0.17,
          1.14,
          0.1,
          1.65,
          0.07,
          0.41,
          0.12,
          0.07,
          0.1,
          0.25,
          0.34,
          0.08,
          0.61,
          1.74,
          0.02,
          0.2,
          0.12,
          0.48,
          1.04,
          0.16,
          0.16,
          0.21,
          0.18,
          0.11,
          0.58,
          0.12,
          0.04,
          0.06,
          0.11,
          0.06,
          0.26,
          0.45,
          0.35,
          0.14,
          0.04,
          0.22,
          0.55,
          0.17,
          0.24,
          0.06,
          0.04,
          0.16,
          0.09,
          0.38,
          0.3,
          0.72,
          0.09,
          0.04,
          0.06,
          0.1,
          0.09,
          1.22,
          0.06,
          0.17,
          0.11,
          0.28,
          0.12,
          0.53,
          1.56,
          0.13,
          0.31,
          1.15,
          0.06,
          0.29,
          0.08,
          5.56,
          0.24,
          0.16,
          0.55,
          0.12,
          0.06,
          0.43,
          0.06,
          0.27,
          0.87,
          0.14,
          0.08,
          0.15,
          1.89,
          0.57,
          0.68,
          0.06,
          0.1,
          1.06,
          0.66,
          1,
          0.23,
          0.26,
          0.3,
          0.14,
          0.17,
          0.1,
          0.5,
          1.16,
          0.18,
          0.1,
          0.6,
          0.06,
          1.11,
          0.09,
          0.11,
          0.36,
          1.86,
          0.03,
          0.02,
          0.05,
          0.21,
          0.38,
          1.95,
          0.12,
          0.13,
          0.04,
          0.87,
          0.16,
          0.91,
          0.3,
          0.93,
          0.07,
          0.07,
          0.19,
          0.2,
          0.12,
          0.73,
          0.08,
          0.03,
          0.02,
          0.01,
          0.09,
          0.43,
          0.72,
          0.19,
          0.1,
          0.16,
          0.28,
          0.05,
          1.25,
          0.12,
          0.83,
          0.04,
          0.02,
          0.03,
          0.76,
          1.09,
          1.86,
          0.49,
          0.06,
          0.14,
          0.27,
          0.29,
          0.54,
          0.02,
          0.08,
          0.28,
          0.27,
          0.43,
          0.31,
          0.58,
          0.12,
          0.05,
          0.17,
          0.35,
          1.7,
          0.13,
          0.06,
          0.37,
          0.12,
          0.44,
          0.9,
          0.02,
          0.03,
          1.04,
          0.17,
          0.34,
          0.13,
          0.44,
          0.22,
          0.05,
          0.36,
          0.3,
          0.72,
          0.11,
          0.14,
          0.18,
          0.03,
          0.06,
          0.28,
          0.52,
          0.07,
          0.1,
          0.59,
          0.04,
          0.37,
          0.12,
          0.24,
          0.54,
          0.1,
          0.31,
          0.88,
          0.12,
          0.05,
          0.2,
          0.05
         ]
        }
       ],
       "layout": {
        "height": 500,
        "legend": {
         "bgcolor": "#151516",
         "font": {
          "color": "#D9D9D9"
         }
        },
        "paper_bgcolor": "#151516",
        "plot_bgcolor": "#151516",
        "shapes": [
         {
          "line": {
           "color": "#db4052",
           "dash": "line",
           "width": 2
          },
          "type": "line",
          "x0": 0,
          "x1": 1,
          "xref": "paper",
          "y0": 2.1751974997301455,
          "y1": 2.1751974997301455,
          "yref": "y"
         },
         {
          "line": {
           "color": "#008000",
           "dash": "line",
           "width": 2
          },
          "type": "line",
          "x0": 0,
          "x1": 1,
          "xref": "paper",
          "y0": 0.3742456140350877,
          "y1": 0.3742456140350877,
          "yref": "y"
         }
        ],
        "title": "Line plot of Halstead Error Estimate over time for Non-Defective Modules",
        "titlefont": {
         "color": "#D9D9D9"
        },
        "width": 900,
        "xaxis": {
         "gridcolor": "#434343",
         "showgrid": true,
         "tickfont": {
          "color": "#C2C2C2"
         },
         "title": "Repository Index (By Time)",
         "titlefont": {
          "color": "#D9D9D9"
         },
         "zerolinecolor": "#666570"
        },
        "yaxis": {
         "gridcolor": "#434343",
         "showgrid": true,
         "tickfont": {
          "color": "#C2C2C2"
         },
         "title": "Halstead Error Estimate",
         "titlefont": {
          "color": "#D9D9D9"
         },
         "zerolinecolor": "#666570"
        }
       }
      },
      "text/html": [
       "<div>                            <div id=\"573a7054-aca6-4d05-b9a4-cdfd057337de\" class=\"plotly-graph-div\" style=\"height:500px; width:900px;\"></div>            <script type=\"text/javascript\">                require([\"plotly\"], function(Plotly) {                    window.PLOTLYENV=window.PLOTLYENV || {};\n",
       "                    window.PLOTLYENV.BASE_URL='https://plot.ly';                                    if (document.getElementById(\"573a7054-aca6-4d05-b9a4-cdfd057337de\")) {                    Plotly.newPlot(                        \"573a7054-aca6-4d05-b9a4-cdfd057337de\",                        [{\"line\":{\"color\":\"rgba(255, 153, 51, 1.0)\",\"dash\":\"solid\",\"shape\":\"linear\",\"width\":1.3},\"marker\":{\"size\":12,\"symbol\":\"circle\"},\"mode\":\"lines+markers\",\"name\":\"HALSTEAD_ERROR_EST\",\"text\":\"\",\"x\":[0,1,2,4,5,6,8,9,11,12,13,14,15,16,17,18,19,20,23,24,26,27,28,29,30,33,34,35,36,38,40,41,42,43,44,46,47,48,49,50,51,52,53,54,55,56,57,58,59,60,62,63,64,65,66,67,68,70,72,73,74,75,76,77,78,79,80,81,82,83,84,85,86,87,88,89,90,92,93,94,95,96,97,98,99,100,101,102,103,104,106,107,108,109,110,111,113,114,116,117,118,119,120,121,122,124,125,126,128,129,130,131,132,133,134,135,136,137,138,141,142,143,144,145,146,147,148,149,150,152,153,154,155,156,157,159,160,161,162,163,164,165,166,168,169,170,171,172,173,174,175,176,177,178,180,181,182,183,184,185,186,187,188,189,190,191,193,194,195,196,197,198,199,200,201,202,204,205,206,208,209,210,211,212,213,214,215,216,217,218,219,220,221,222,223,224,226,227,228,229,230,231,232,234,235,236,237,239,240,241,242,243,244,245,246,247,248,250,251,252,254,255,256,257,258,259,260,261,262,263,264,265,266,267,268,269,270,271,272,273,274,275,276,277,278,279,280,281,283,284,285,286,287,288,289,290,292,295,296,297,298,299,300,301,303,304,306,307,308,310,311,312,313,314,315,316,317,318,319,321,322,323,324,325,326],\"y\":[0.02,0.04,0.8,0.16,0.18,0.06,0.09,0.54,0.18,0.3,0.18,0.03,0.1,0.17,0.1,0.24,0.2,0.15,0.09,0.25,1.2,0.06,0.25,0.04,0.03,0.13,0.18,0.13,0.26,0.5,1.34,2.84,0.08,0.02,0.25,0.23,0.24,0.05,1.86,0.21,5.12,0.02,0.24,0.12,1.82,0.54,0.12,0.08,0.35,0.04,0.18,0.16,0.25,0.15,0.18,0.09,0.09,0.38,0.27,0.37,0.43,1.71,0.03,0.04,0.1,0.06,0.17,0.26,0.09,0.13,0.09,0.21,0.11,1.11,0.58,0.09,0.05,0.18,0.16,0.04,0.65,0.11,0.02,0.17,1.14,0.1,1.65,0.07,0.41,0.12,0.07,0.1,0.25,0.34,0.08,0.61,1.74,0.02,0.2,0.12,0.48,1.04,0.16,0.16,0.21,0.18,0.11,0.58,0.12,0.04,0.06,0.11,0.06,0.26,0.45,0.35,0.14,0.04,0.22,0.55,0.17,0.24,0.06,0.04,0.16,0.09,0.38,0.3,0.72,0.09,0.04,0.06,0.1,0.09,1.22,0.06,0.17,0.11,0.28,0.12,0.53,1.56,0.13,0.31,1.15,0.06,0.29,0.08,5.56,0.24,0.16,0.55,0.12,0.06,0.43,0.06,0.27,0.87,0.14,0.08,0.15,1.89,0.57,0.68,0.06,0.1,1.06,0.66,1.0,0.23,0.26,0.3,0.14,0.17,0.1,0.5,1.16,0.18,0.1,0.6,0.06,1.11,0.09,0.11,0.36,1.86,0.03,0.02,0.05,0.21,0.38,1.95,0.12,0.13,0.04,0.87,0.16,0.91,0.3,0.93,0.07,0.07,0.19,0.2,0.12,0.73,0.08,0.03,0.02,0.01,0.09,0.43,0.72,0.19,0.1,0.16,0.28,0.05,1.25,0.12,0.83,0.04,0.02,0.03,0.76,1.09,1.86,0.49,0.06,0.14,0.27,0.29,0.54,0.02,0.08,0.28,0.27,0.43,0.31,0.58,0.12,0.05,0.17,0.35,1.7,0.13,0.06,0.37,0.12,0.44,0.9,0.02,0.03,1.04,0.17,0.34,0.13,0.44,0.22,0.05,0.36,0.3,0.72,0.11,0.14,0.18,0.03,0.06,0.28,0.52,0.07,0.1,0.59,0.04,0.37,0.12,0.24,0.54,0.1,0.31,0.88,0.12,0.05,0.2,0.05],\"type\":\"scatter\"}],                        {\"legend\":{\"bgcolor\":\"#151516\",\"font\":{\"color\":\"#D9D9D9\"}},\"paper_bgcolor\":\"#151516\",\"plot_bgcolor\":\"#151516\",\"yaxis\":{\"tickfont\":{\"color\":\"#C2C2C2\"},\"gridcolor\":\"#434343\",\"titlefont\":{\"color\":\"#D9D9D9\"},\"zerolinecolor\":\"#666570\",\"showgrid\":true,\"title\":\"Halstead Error Estimate\"},\"xaxis\":{\"tickfont\":{\"color\":\"#C2C2C2\"},\"gridcolor\":\"#434343\",\"titlefont\":{\"color\":\"#D9D9D9\"},\"zerolinecolor\":\"#666570\",\"showgrid\":true,\"title\":\"Repository Index (By Time)\"},\"titlefont\":{\"color\":\"#D9D9D9\"},\"title\":\"Line plot of Halstead Error Estimate over time for Non-Defective Modules\",\"width\":900,\"height\":500,\"shapes\":[{\"x0\":0,\"y0\":2.1751974997301455,\"x1\":1,\"y1\":2.1751974997301455,\"line\":{\"color\":\"#db4052\",\"width\":2,\"dash\":\"line\"},\"xref\":\"paper\",\"yref\":\"y\",\"type\":\"line\"},{\"x0\":0,\"y0\":0.3742456140350877,\"x1\":1,\"y1\":0.3742456140350877,\"line\":{\"color\":\"#008000\",\"width\":2,\"dash\":\"line\"},\"xref\":\"paper\",\"yref\":\"y\",\"type\":\"line\"}]},                        {\"showLink\": true, \"linkText\": \"Export to plot.ly\", \"plotlyServerURL\": \"https://plot.ly\", \"responsive\": true}                    ).then(function(){\n",
       "                            \n",
       "var gd = document.getElementById('573a7054-aca6-4d05-b9a4-cdfd057337de');\n",
       "var x = new MutationObserver(function (mutations, observer) {{\n",
       "        var display = window.getComputedStyle(gd).display;\n",
       "        if (!display || display === 'none') {{\n",
       "            console.log([gd, 'removed!']);\n",
       "            Plotly.purge(gd);\n",
       "            observer.disconnect();\n",
       "        }}\n",
       "}});\n",
       "\n",
       "// Listen for the removal of the full notebook cells\n",
       "var notebookContainer = gd.closest('#notebook-container');\n",
       "if (notebookContainer) {{\n",
       "    x.observe(notebookContainer, {childList: true});\n",
       "}}\n",
       "\n",
       "// Listen for the clearing of the current output cell\n",
       "var outputEl = gd.closest('.output');\n",
       "if (outputEl) {{\n",
       "    x.observe(outputEl, {childList: true});\n",
       "}}\n",
       "\n",
       "                        })                };                });            </script>        </div>"
      ]
     },
     "metadata": {},
     "output_type": "display_data"
    }
   ],
   "source": [
    "non_defective_group[[\"HALSTEAD_ERROR_EST\"]].iplot(\n",
    "    kind=\"scatter\",\n",
    "    dimensions=(900, 500),\n",
    "    theme=\"solar\",\n",
    "    yTitle='Halstead Error Estimate',\n",
    "    xTitle='Repository Index (By Time)',\n",
    "    mode=\"lines+markers\",\n",
    "    title='Line plot of Halstead Error Estimate over time for Non-Defective Modules',\n",
    "    hline= [\n",
    "        {\n",
    "            'y': upper_bound,\n",
    "            'color': 'red',\n",
    "            'dash': 'line',\n",
    "            'width': 2,\n",
    "        },\n",
    "        {\n",
    "            'y': error_mean,\n",
    "            'color': 'green',\n",
    "            'dash': 'line',\n",
    "            \"width\": 2\n",
    "        }\n",
    "    ]\n",
    ")"
   ]
  },
  {
   "cell_type": "markdown",
   "metadata": {},
   "source": [
    "# Measures of Association\n",
    "\n",
    "Measures of associations are statistical tests that are used to determine if there is a relationship between two variables. In this case, we will be performing various correlation tests to find a relationship between the attributes of the dataset. For the attributes, we will be focusing on the Halstead Error Estimate and Design Complexity (Which we already visualized in the plotting and found some degrees of association). We wil also be highlighting results based on the defective and non-defective modules."
   ]
  },
  {
   "cell_type": "markdown",
   "metadata": {},
   "source": [
    "### Spearman's Rank Correlation\n",
    "\n",
    "Spearman's Rank Correlation is a non-parametric test that is used to measure the degree of association between two variables. It is used to find the monotonic relationship between the two variables. It is calculated by first calculating the rank of each value in the data and then calculating the Pearson's correlation coefficient between the ranks of the two variables. The value of the Spearman's Rank Correlation coefficient lies between -1 and 1. A value of 1 indicates a perfect monotonic relationship between the two variables, while a value of -1 indicates a perfect negative monotonic relationship between the two variables. A value of 0 indicates that there is no monotonic relationship between the two variables. This method of correlation is used when the data is not normally distributed.\n",
    "\n",
    "The drawback of this test is that it does not take into account the actual values of the variables, only the ranks. This means that if the data is not monotonic, the test will still show a high correlation.\n",
    "\n",
    "In the pandas library, the Spearman's Rank Correlation can be calculated using the `corr()` function with the parameter `method='spearman'`."
   ]
  },
  {
   "cell_type": "code",
   "execution_count": 21,
   "metadata": {},
   "outputs": [
    {
     "name": "stdout",
     "output_type": "stream",
     "text": [
      "Correlation between Halstead Error Estimate and Design Complexity for all modules:\n",
      "\n",
      "                     HALSTEAD_ERROR_EST  DESIGN_COMPLEXITY\n",
      "HALSTEAD_ERROR_EST            1.000000           0.739244\n",
      "DESIGN_COMPLEXITY             0.739244           1.000000\n",
      "\n",
      "\n",
      "Correlation between Halstead Error Estimate and Design Complexity for defective modules:\n",
      "\n",
      "                     HALSTEAD_ERROR_EST  DESIGN_COMPLEXITY\n",
      "HALSTEAD_ERROR_EST            1.000000           0.821493\n",
      "DESIGN_COMPLEXITY             0.821493           1.000000\n",
      "\n",
      "\n",
      "Correlation between Halstead Error Estimate and Design Complexity for non-defective modules:\n",
      "\n",
      "                     HALSTEAD_ERROR_EST  DESIGN_COMPLEXITY\n",
      "HALSTEAD_ERROR_EST            1.000000           0.716593\n",
      "DESIGN_COMPLEXITY             0.716593           1.000000\n"
     ]
    }
   ],
   "source": [
    "general_corr_matrix = analysis_dataset[[\"HALSTEAD_ERROR_EST\", \"DESIGN_COMPLEXITY\"]].corr(method='spearman')\n",
    "defective_corr_matrix = defective_group[[\"HALSTEAD_ERROR_EST\", \"DESIGN_COMPLEXITY\"]].corr(method='spearman')\n",
    "non_defective_corr_matrix = non_defective_group[[\"HALSTEAD_ERROR_EST\", \"DESIGN_COMPLEXITY\"]].corr(method='spearman')\n",
    "print(\"Correlation between Halstead Error Estimate and Design Complexity for all modules:\\n\\n\", general_corr_matrix)\n",
    "print(\"\\n\\nCorrelation between Halstead Error Estimate and Design Complexity for defective modules:\\n\\n\", defective_corr_matrix)\n",
    "print(\"\\n\\nCorrelation between Halstead Error Estimate and Design Complexity for non-defective modules:\\n\\n\", non_defective_corr_matrix)"
   ]
  },
  {
   "cell_type": "markdown",
   "metadata": {},
   "source": [
    "### Pearson's Correlation\n",
    "\n",
    "Pearson's Correlation is a parametric test that is used to measure the degree of association between two variables. It is used to find the linear relationship between the two variables. It is calculated by calculating the covariance between the two variables and dividing it by the product of the standard deviation of the two variables. The value of the Pearson's Correlation coefficient lies between -1 and 1. A value of 1 indicates a perfect linear relationship between the two variables, while a value of -1 indicates a perfect negative linear relationship between the two variables. A value of 0 indicates that there is no linear relationship between the two variables. This method of correlation is used when the data is normally distributed. Unlike the Spearman's Rank Correlation, this test takes into account the actual values of the variables, hence is not bound by the issues of ranking that assumes a monotonicity.\n",
    "\n",
    "However, this test assumes that the data is normally distributed. If the data is not normally distributed, the test will show a low correlation even if there is a strong relationship between the two variables. Also, this test is sensitive to outliers.\n",
    "\n",
    "In the pandas library, the Pearson's Correlation can be calculated using the `corr()` function with the parameter `method='pearson'`."
   ]
  },
  {
   "cell_type": "code",
   "execution_count": 22,
   "metadata": {},
   "outputs": [
    {
     "name": "stdout",
     "output_type": "stream",
     "text": [
      "\n",
      "\n",
      "Pearson Correlation between Halstead Error Estimate and Design Complexity for all modules:\n",
      "\n",
      "                     HALSTEAD_ERROR_EST  DESIGN_COMPLEXITY\n",
      "HALSTEAD_ERROR_EST            1.000000           0.884746\n",
      "DESIGN_COMPLEXITY             0.884746           1.000000\n",
      "\n",
      "\n",
      "Pearson Correlation between Halstead Error Estimate and Design Complexity for defective modules:\n",
      "\n",
      "                     HALSTEAD_ERROR_EST  DESIGN_COMPLEXITY\n",
      "HALSTEAD_ERROR_EST            1.000000           0.865149\n",
      "DESIGN_COMPLEXITY             0.865149           1.000000\n",
      "\n",
      "\n",
      "Pearson Correlation between Halstead Error Estimate and Design Complexity for non-defective modules:\n",
      "\n",
      "                     HALSTEAD_ERROR_EST  DESIGN_COMPLEXITY\n",
      "HALSTEAD_ERROR_EST             1.00000            0.88567\n",
      "DESIGN_COMPLEXITY              0.88567            1.00000\n"
     ]
    }
   ],
   "source": [
    "general_pearson_corr_matrix = analysis_dataset[[\"HALSTEAD_ERROR_EST\", \"DESIGN_COMPLEXITY\"]].corr(method='pearson')\n",
    "defective_pearson_corr_matrix = defective_group[[\"HALSTEAD_ERROR_EST\", \"DESIGN_COMPLEXITY\"]].corr(method='pearson')\n",
    "non_defective_pearson_corr_matrix = non_defective_group[[\"HALSTEAD_ERROR_EST\", \"DESIGN_COMPLEXITY\"]].corr(method='pearson')\n",
    "\n",
    "print(\"\\n\\nPearson Correlation between Halstead Error Estimate and Design Complexity for all modules:\\n\\n\", general_pearson_corr_matrix)\n",
    "print(\"\\n\\nPearson Correlation between Halstead Error Estimate and Design Complexity for defective modules:\\n\\n\", defective_pearson_corr_matrix)\n",
    "print(\"\\n\\nPearson Correlation between Halstead Error Estimate and Design Complexity for non-defective modules:\\n\\n\", non_defective_pearson_corr_matrix)"
   ]
  },
  {
   "cell_type": "markdown",
   "metadata": {},
   "source": [
    "Note that we can see that the Pearson's Correlation is higher than the Spearman's Rank Correlation. This is because the data is normally distributed and the Spearman's Rank Correlation is not able to take into account the actual values of the variables."
   ]
  },
  {
   "cell_type": "markdown",
   "metadata": {},
   "source": [
    "# Regression Analysis\n",
    "\n",
    "Regression analysis is a statistical process for estimating the relationships between a dependent variable (often called the 'outcome variable') and one or more independent variables (often called 'predictors', 'covariates', or 'features'). Regression analysis is widely used for prediction and forecasting, where its use has substantial overlap with the field of machine learning.\n",
    "\n",
    "In this section, we will be performing Linear Regression, Multivariate Regression and Robust regression on the data. As from the previous section, we can see that there is a linear relationship between the Halstead Error Estimate and Design Complexity. We will be using these two attributes for the regression analysis. For further analysis we will be using the defective and non-defective modules separately."
   ]
  },
  {
   "cell_type": "markdown",
   "metadata": {},
   "source": [
    "### Linear Regression\n",
    "\n",
    "Linear regression is a linear approach to determining the relationship between one or more dependent and one independent variable. Linear regression models the relationship between the dependent and independent variables using a linear function. The linear function is defined as: `y = mx + c`, where `y` is the dependent variable, `x` is the independent variable, `m` is the slope of the line and `c` is the intercept. The slope and intercept are calculated using the least squares method. The least squares method calculates the line of best fit by minimizing the sum of the squares of the residuals (the difference between the actual value and the predicted value). The line of best fit is the line that minimizes the sum of the squares of the residuals.\n",
    "\n",
    "\n",
    "The drawback of this method is that it is sensitive to outliers. If there are outliers in the data, the line of best fit will be skewed towards the outliers. This will result in a poor fit for the data. Also, real world data may not be linear, hence this method may not be suitable for all data.\n",
    "\n",
    "We will use the `LinearRegression()` function from the `sklearn.linear_model` library to perform the linear regression.\n"
   ]
  },
  {
   "cell_type": "code",
   "execution_count": 23,
   "metadata": {},
   "outputs": [],
   "source": [
    "from sklearn.linear_model import LinearRegression"
   ]
  },
  {
   "cell_type": "markdown",
   "metadata": {},
   "source": [
    "Now for regression analysis on the entire dataset:"
   ]
  },
  {
   "cell_type": "code",
   "execution_count": 24,
   "metadata": {},
   "outputs": [
    {
     "name": "stdout",
     "output_type": "stream",
     "text": [
      "R-squared:  0.7827758886593525\n",
      "The equation of the line is: y = 0.09029529497036086x + -0.024917683660593992\n"
     ]
    }
   ],
   "source": [
    "Y = analysis_dataset[\"HALSTEAD_ERROR_EST\"]\n",
    "X = analysis_dataset[[\"DESIGN_COMPLEXITY\"]]\n",
    "\n",
    "linear_regression_model = LinearRegression()\n",
    "linear_regression_model.fit(X, Y)\n",
    "\n",
    "print(\"R-squared: \", linear_regression_model.score(X, Y))\n",
    "print(\"The equation of the line is: y = \", linear_regression_model.coef_[0], \"x + \", linear_regression_model.intercept_, sep='')"
   ]
  },
  {
   "cell_type": "code",
   "execution_count": 25,
   "metadata": {},
   "outputs": [
    {
     "data": {
      "application/vnd.plotly.v1+json": {
       "config": {
        "linkText": "Export to plot.ly",
        "plotlyServerURL": "https://plot.ly",
        "showLink": true
       },
       "data": [
        {
         "line": {
          "color": "rgba(255, 153, 51, 1.0)",
          "dash": "solid",
          "shape": "linear",
          "width": 1.3
         },
         "marker": {
          "size": 12,
          "symbol": "circle"
         },
         "mode": "markers",
         "name": "HALSTEAD_ERROR_EST",
         "text": "",
         "type": "scatter",
         "x": [
          1,
          1,
          7,
          3,
          6,
          5,
          1,
          3,
          1,
          2,
          18,
          4,
          6,
          3,
          2,
          2,
          2,
          1,
          4,
          2,
          3,
          10,
          7,
          1,
          3,
          2,
          8,
          2,
          2,
          1,
          2,
          2,
          3,
          5,
          3,
          4,
          6,
          1,
          5,
          7,
          10,
          22,
          1,
          2,
          9,
          3,
          6,
          9,
          1,
          6,
          5,
          46,
          1,
          4,
          2,
          10,
          7,
          2,
          5,
          5,
          1,
          4,
          3,
          1,
          3,
          1,
          3,
          4,
          4,
          3,
          2,
          12,
          2,
          6,
          2,
          13,
          3,
          1,
          3,
          2,
          2,
          3,
          1,
          3,
          2,
          4,
          4,
          9,
          7,
          3,
          1,
          19,
          2,
          4,
          1,
          10,
          5,
          2,
          3,
          7,
          1,
          8,
          1,
          5,
          1,
          3,
          1,
          1,
          1,
          6,
          3,
          12,
          41,
          17,
          2,
          1,
          2,
          1,
          4,
          13,
          3,
          1,
          8,
          4,
          2,
          2,
          9,
          5,
          8,
          3,
          3,
          3,
          1,
          13,
          1,
          5,
          2,
          1,
          2,
          3,
          10,
          8,
          2,
          6,
          3,
          2,
          3,
          2,
          7,
          4,
          9,
          2,
          1,
          1,
          1,
          4,
          2,
          11,
          9,
          1,
          1,
          1,
          14,
          3,
          10,
          24,
          4,
          2,
          2,
          20,
          1,
          2,
          1,
          63,
          5,
          3,
          4,
          3,
          2,
          4,
          1,
          1,
          5,
          3,
          4,
          1,
          1,
          9,
          9,
          6,
          1,
          1,
          9,
          11,
          7,
          6,
          3,
          1,
          6,
          4,
          3,
          4,
          10,
          7,
          10,
          5,
          2,
          12,
          8,
          1,
          1,
          1,
          3,
          3,
          24,
          1,
          1,
          1,
          2,
          2,
          15,
          1,
          3,
          1,
          8,
          7,
          4,
          11,
          1,
          13,
          1,
          2,
          4,
          16,
          4,
          3,
          7,
          1,
          3,
          1,
          1,
          1,
          4,
          2,
          5,
          2,
          2,
          3,
          4,
          26,
          1,
          6,
          2,
          5,
          4,
          1,
          1,
          2,
          6,
          10,
          23,
          2,
          2,
          3,
          5,
          1,
          4,
          1,
          1,
          2,
          5,
          9,
          6,
          3,
          3,
          3,
          2,
          5,
          27,
          3,
          2,
          4,
          10,
          3,
          2,
          6,
          2,
          1,
          1,
          2,
          6,
          3,
          4,
          6,
          3,
          8,
          4,
          2,
          5,
          3,
          6,
          2,
          5,
          2,
          4,
          7,
          2,
          1,
          4,
          1,
          7,
          2,
          2,
          4,
          2,
          5,
          2,
          3,
          3,
          3,
          26,
          1,
          15,
          2,
          1,
          2,
          2
         ],
         "y": [
          0.02,
          0.04,
          0.8,
          0.25,
          0.16,
          0.18,
          0.06,
          0.2,
          0.09,
          0.54,
          1.69,
          0.18,
          0.3,
          0.18,
          0.03,
          0.1,
          0.17,
          0.1,
          0.24,
          0.2,
          0.15,
          1.43,
          0.44,
          0.09,
          0.25,
          0.19,
          1.2,
          0.06,
          0.25,
          0.04,
          0.03,
          0.19,
          0.15,
          0.13,
          0.18,
          0.13,
          0.26,
          0.05,
          0.5,
          0.58,
          1.34,
          2.84,
          0.08,
          0.02,
          0.25,
          0.05,
          0.23,
          0.24,
          0.05,
          1.86,
          0.21,
          5.12,
          0.02,
          0.24,
          0.12,
          1.82,
          0.54,
          0.12,
          0.08,
          0.35,
          0.04,
          1.25,
          0.18,
          0.16,
          0.25,
          0.15,
          0.18,
          0.09,
          0.09,
          0.15,
          0.38,
          1.67,
          0.27,
          0.37,
          0.43,
          1.71,
          0.03,
          0.04,
          0.1,
          0.06,
          0.17,
          0.26,
          0.09,
          0.13,
          0.09,
          0.21,
          0.11,
          1.11,
          0.58,
          0.09,
          0.05,
          0.87,
          0.18,
          0.16,
          0.04,
          0.65,
          0.11,
          0.02,
          0.17,
          1.14,
          0.1,
          1.65,
          0.07,
          0.41,
          0.12,
          0.21,
          0.07,
          0.1,
          0.25,
          0.34,
          0.08,
          0.61,
          4.25,
          1.74,
          0.02,
          0.15,
          0.2,
          0.12,
          0.48,
          1.04,
          0.16,
          0.16,
          0.21,
          2.08,
          0.18,
          0.11,
          0.58,
          0.41,
          0.12,
          0.04,
          0.06,
          0.11,
          0.06,
          0.26,
          0.45,
          0.35,
          0.14,
          0.04,
          0.22,
          0.28,
          1.05,
          0.55,
          0.17,
          0.24,
          0.06,
          0.04,
          0.16,
          0.09,
          0.38,
          0.3,
          0.72,
          0.28,
          0.09,
          0.04,
          0.06,
          0.1,
          0.09,
          1.22,
          0.76,
          0.06,
          0.17,
          0.11,
          0.28,
          0.12,
          0.53,
          1.56,
          0.13,
          0.13,
          0.31,
          1.15,
          0.06,
          0.29,
          0.08,
          5.56,
          0.24,
          0.16,
          0.55,
          0.12,
          0.06,
          0.22,
          0.43,
          0.06,
          0.27,
          0.87,
          0.14,
          0.08,
          0.15,
          1.89,
          0.57,
          0.68,
          0.06,
          0.1,
          0.42,
          1.06,
          0.66,
          1,
          0.23,
          0.26,
          0.3,
          0.14,
          0.17,
          0.1,
          0.5,
          0.66,
          1.16,
          0.18,
          0.1,
          1.27,
          0.6,
          0.06,
          1.11,
          0.09,
          0.11,
          0.36,
          1.86,
          0.03,
          0.02,
          0.05,
          0.21,
          0.38,
          1.95,
          0.12,
          0.13,
          0.04,
          0.87,
          0.32,
          0.16,
          0.91,
          0.3,
          0.93,
          0.07,
          0.07,
          0.19,
          1.39,
          0.2,
          0.12,
          0.73,
          0.08,
          0.52,
          0.03,
          0.02,
          0.01,
          0.09,
          0.43,
          0.72,
          0.19,
          0.1,
          0.16,
          0.28,
          1.4,
          0.05,
          1.25,
          0.12,
          0.33,
          0.83,
          0.04,
          0.02,
          0.03,
          0.76,
          1.09,
          1.86,
          0.49,
          0.06,
          0.14,
          0.27,
          0.29,
          0.54,
          0.02,
          0.08,
          0.28,
          0.27,
          0.43,
          0.31,
          0.58,
          0.12,
          0.05,
          0.17,
          0.35,
          1.7,
          0.13,
          0.06,
          0.37,
          1.12,
          0.12,
          0.44,
          0.9,
          0.02,
          0.03,
          1.04,
          0.17,
          0.34,
          0.1,
          0.13,
          0.41,
          0.11,
          0.44,
          0.22,
          0.05,
          0.36,
          0.3,
          0.72,
          0.11,
          0.18,
          0.14,
          0.18,
          0.77,
          0.03,
          0.06,
          0.28,
          0.35,
          0.52,
          0.07,
          0.1,
          0.59,
          0.04,
          0.37,
          0.12,
          0.24,
          0.54,
          0.1,
          3.05,
          0.31,
          0.88,
          0.12,
          0.05,
          0.2,
          0.05
         ]
        },
        {
         "line": {
          "color": "rgba(0, 128, 0, 1.0)",
          "dash": "dash",
          "shape": "linear",
          "width": 3
         },
         "mode": "lines",
         "name": "0.09*x+-0.02",
         "type": "scatter",
         "x": [
          1,
          1,
          7,
          3,
          6,
          5,
          1,
          3,
          1,
          2,
          18,
          4,
          6,
          3,
          2,
          2,
          2,
          1,
          4,
          2,
          3,
          10,
          7,
          1,
          3,
          2,
          8,
          2,
          2,
          1,
          2,
          2,
          3,
          5,
          3,
          4,
          6,
          1,
          5,
          7,
          10,
          22,
          1,
          2,
          9,
          3,
          6,
          9,
          1,
          6,
          5,
          46,
          1,
          4,
          2,
          10,
          7,
          2,
          5,
          5,
          1,
          4,
          3,
          1,
          3,
          1,
          3,
          4,
          4,
          3,
          2,
          12,
          2,
          6,
          2,
          13,
          3,
          1,
          3,
          2,
          2,
          3,
          1,
          3,
          2,
          4,
          4,
          9,
          7,
          3,
          1,
          19,
          2,
          4,
          1,
          10,
          5,
          2,
          3,
          7,
          1,
          8,
          1,
          5,
          1,
          3,
          1,
          1,
          1,
          6,
          3,
          12,
          41,
          17,
          2,
          1,
          2,
          1,
          4,
          13,
          3,
          1,
          8,
          4,
          2,
          2,
          9,
          5,
          8,
          3,
          3,
          3,
          1,
          13,
          1,
          5,
          2,
          1,
          2,
          3,
          10,
          8,
          2,
          6,
          3,
          2,
          3,
          2,
          7,
          4,
          9,
          2,
          1,
          1,
          1,
          4,
          2,
          11,
          9,
          1,
          1,
          1,
          14,
          3,
          10,
          24,
          4,
          2,
          2,
          20,
          1,
          2,
          1,
          63,
          5,
          3,
          4,
          3,
          2,
          4,
          1,
          1,
          5,
          3,
          4,
          1,
          1,
          9,
          9,
          6,
          1,
          1,
          9,
          11,
          7,
          6,
          3,
          1,
          6,
          4,
          3,
          4,
          10,
          7,
          10,
          5,
          2,
          12,
          8,
          1,
          1,
          1,
          3,
          3,
          24,
          1,
          1,
          1,
          2,
          2,
          15,
          1,
          3,
          1,
          8,
          7,
          4,
          11,
          1,
          13,
          1,
          2,
          4,
          16,
          4,
          3,
          7,
          1,
          3,
          1,
          1,
          1,
          4,
          2,
          5,
          2,
          2,
          3,
          4,
          26,
          1,
          6,
          2,
          5,
          4,
          1,
          1,
          2,
          6,
          10,
          23,
          2,
          2,
          3,
          5,
          1,
          4,
          1,
          1,
          2,
          5,
          9,
          6,
          3,
          3,
          3,
          2,
          5,
          27,
          3,
          2,
          4,
          10,
          3,
          2,
          6,
          2,
          1,
          1,
          2,
          6,
          3,
          4,
          6,
          3,
          8,
          4,
          2,
          5,
          3,
          6,
          2,
          5,
          2,
          4,
          7,
          2,
          1,
          4,
          1,
          7,
          2,
          2,
          4,
          2,
          5,
          2,
          3,
          3,
          3,
          26,
          1,
          15,
          2,
          1,
          2,
          2
         ],
         "y": [
          0.06537761130976706,
          0.06537761130976706,
          0.6071493811319322,
          0.2459682012504888,
          0.5168540861615714,
          0.42655879119121043,
          0.06537761130976706,
          0.2459682012504888,
          0.06537761130976706,
          0.15567290628012792,
          1.6003976258059014,
          0.3362634962208496,
          0.5168540861615714,
          0.2459682012504888,
          0.15567290628012792,
          0.15567290628012792,
          0.15567290628012792,
          0.06537761130976706,
          0.3362634962208496,
          0.15567290628012792,
          0.2459682012504888,
          0.8780352660430146,
          0.6071493811319322,
          0.06537761130976706,
          0.2459682012504888,
          0.15567290628012792,
          0.697444676102293,
          0.15567290628012792,
          0.15567290628012792,
          0.06537761130976706,
          0.15567290628012792,
          0.15567290628012792,
          0.2459682012504888,
          0.42655879119121043,
          0.2459682012504888,
          0.3362634962208496,
          0.5168540861615714,
          0.06537761130976706,
          0.42655879119121043,
          0.6071493811319322,
          0.8780352660430146,
          1.9615788056873449,
          0.06537761130976706,
          0.15567290628012792,
          0.7877399710726538,
          0.2459682012504888,
          0.5168540861615714,
          0.7877399710726538,
          0.06537761130976706,
          0.5168540861615714,
          0.42655879119121043,
          4.128665884976004,
          0.06537761130976706,
          0.3362634962208496,
          0.15567290628012792,
          0.8780352660430146,
          0.6071493811319322,
          0.15567290628012792,
          0.42655879119121043,
          0.42655879119121043,
          0.06537761130976706,
          0.3362634962208496,
          0.2459682012504888,
          0.06537761130976706,
          0.2459682012504888,
          0.06537761130976706,
          0.2459682012504888,
          0.3362634962208496,
          0.3362634962208496,
          0.2459682012504888,
          0.15567290628012792,
          1.0586258559837365,
          0.15567290628012792,
          0.5168540861615714,
          0.15567290628012792,
          1.1489211509540973,
          0.2459682012504888,
          0.06537761130976706,
          0.2459682012504888,
          0.15567290628012792,
          0.15567290628012792,
          0.2459682012504888,
          0.06537761130976706,
          0.2459682012504888,
          0.15567290628012792,
          0.3362634962208496,
          0.3362634962208496,
          0.7877399710726538,
          0.6071493811319322,
          0.2459682012504888,
          0.06537761130976706,
          1.6906929207762622,
          0.15567290628012792,
          0.3362634962208496,
          0.06537761130976706,
          0.8780352660430146,
          0.42655879119121043,
          0.15567290628012792,
          0.2459682012504888,
          0.6071493811319322,
          0.06537761130976706,
          0.697444676102293,
          0.06537761130976706,
          0.42655879119121043,
          0.06537761130976706,
          0.2459682012504888,
          0.06537761130976706,
          0.06537761130976706,
          0.06537761130976706,
          0.5168540861615714,
          0.2459682012504888,
          1.0586258559837365,
          3.677189410124201,
          1.5101023308355406,
          0.15567290628012792,
          0.06537761130976706,
          0.15567290628012792,
          0.06537761130976706,
          0.3362634962208496,
          1.1489211509540973,
          0.2459682012504888,
          0.06537761130976706,
          0.697444676102293,
          0.3362634962208496,
          0.15567290628012792,
          0.15567290628012792,
          0.7877399710726538,
          0.42655879119121043,
          0.697444676102293,
          0.2459682012504888,
          0.2459682012504888,
          0.2459682012504888,
          0.06537761130976706,
          1.1489211509540973,
          0.06537761130976706,
          0.42655879119121043,
          0.15567290628012792,
          0.06537761130976706,
          0.15567290628012792,
          0.2459682012504888,
          0.8780352660430146,
          0.697444676102293,
          0.15567290628012792,
          0.5168540861615714,
          0.2459682012504888,
          0.15567290628012792,
          0.2459682012504888,
          0.15567290628012792,
          0.6071493811319322,
          0.3362634962208496,
          0.7877399710726538,
          0.15567290628012792,
          0.06537761130976706,
          0.06537761130976706,
          0.06537761130976706,
          0.3362634962208496,
          0.15567290628012792,
          0.9683305610133756,
          0.7877399710726538,
          0.06537761130976706,
          0.06537761130976706,
          0.06537761130976706,
          1.2392164459244581,
          0.2459682012504888,
          0.8780352660430146,
          2.1421693956280667,
          0.3362634962208496,
          0.15567290628012792,
          0.15567290628012792,
          1.780988215746623,
          0.06537761130976706,
          0.15567290628012792,
          0.06537761130976706,
          5.663685899472139,
          0.42655879119121043,
          0.2459682012504888,
          0.3362634962208496,
          0.2459682012504888,
          0.15567290628012792,
          0.3362634962208496,
          0.06537761130976706,
          0.06537761130976706,
          0.42655879119121043,
          0.2459682012504888,
          0.3362634962208496,
          0.06537761130976706,
          0.06537761130976706,
          0.7877399710726538,
          0.7877399710726538,
          0.5168540861615714,
          0.06537761130976706,
          0.06537761130976706,
          0.7877399710726538,
          0.9683305610133756,
          0.6071493811319322,
          0.5168540861615714,
          0.2459682012504888,
          0.06537761130976706,
          0.5168540861615714,
          0.3362634962208496,
          0.2459682012504888,
          0.3362634962208496,
          0.8780352660430146,
          0.6071493811319322,
          0.8780352660430146,
          0.42655879119121043,
          0.15567290628012792,
          1.0586258559837365,
          0.697444676102293,
          0.06537761130976706,
          0.06537761130976706,
          0.06537761130976706,
          0.2459682012504888,
          0.2459682012504888,
          2.1421693956280667,
          0.06537761130976706,
          0.06537761130976706,
          0.06537761130976706,
          0.15567290628012792,
          0.15567290628012792,
          1.329511740894819,
          0.06537761130976706,
          0.2459682012504888,
          0.06537761130976706,
          0.697444676102293,
          0.6071493811319322,
          0.3362634962208496,
          0.9683305610133756,
          0.06537761130976706,
          1.1489211509540973,
          0.06537761130976706,
          0.15567290628012792,
          0.3362634962208496,
          1.4198070358651798,
          0.3362634962208496,
          0.2459682012504888,
          0.6071493811319322,
          0.06537761130976706,
          0.2459682012504888,
          0.06537761130976706,
          0.06537761130976706,
          0.06537761130976706,
          0.3362634962208496,
          0.15567290628012792,
          0.42655879119121043,
          0.15567290628012792,
          0.15567290628012792,
          0.2459682012504888,
          0.3362634962208496,
          2.3227599855687884,
          0.06537761130976706,
          0.5168540861615714,
          0.15567290628012792,
          0.42655879119121043,
          0.3362634962208496,
          0.06537761130976706,
          0.06537761130976706,
          0.15567290628012792,
          0.5168540861615714,
          0.8780352660430146,
          2.0518741006577055,
          0.15567290628012792,
          0.15567290628012792,
          0.2459682012504888,
          0.42655879119121043,
          0.06537761130976706,
          0.3362634962208496,
          0.06537761130976706,
          0.06537761130976706,
          0.15567290628012792,
          0.42655879119121043,
          0.7877399710726538,
          0.5168540861615714,
          0.2459682012504888,
          0.2459682012504888,
          0.2459682012504888,
          0.15567290628012792,
          0.42655879119121043,
          2.413055280539149,
          0.2459682012504888,
          0.15567290628012792,
          0.3362634962208496,
          0.8780352660430146,
          0.2459682012504888,
          0.15567290628012792,
          0.5168540861615714,
          0.15567290628012792,
          0.06537761130976706,
          0.06537761130976706,
          0.15567290628012792,
          0.5168540861615714,
          0.2459682012504888,
          0.3362634962208496,
          0.5168540861615714,
          0.2459682012504888,
          0.697444676102293,
          0.3362634962208496,
          0.15567290628012792,
          0.42655879119121043,
          0.2459682012504888,
          0.5168540861615714,
          0.15567290628012792,
          0.42655879119121043,
          0.15567290628012792,
          0.3362634962208496,
          0.6071493811319322,
          0.15567290628012792,
          0.06537761130976706,
          0.3362634962208496,
          0.06537761130976706,
          0.6071493811319322,
          0.15567290628012792,
          0.15567290628012792,
          0.3362634962208496,
          0.15567290628012792,
          0.42655879119121043,
          0.15567290628012792,
          0.2459682012504888,
          0.2459682012504888,
          0.2459682012504888,
          2.3227599855687884,
          0.06537761130976706,
          1.329511740894819,
          0.15567290628012792,
          0.06537761130976706,
          0.15567290628012792,
          0.15567290628012792
         ]
        }
       ],
       "layout": {
        "height": 500,
        "legend": {
         "bgcolor": "#151516",
         "font": {
          "color": "#D9D9D9"
         }
        },
        "paper_bgcolor": "#151516",
        "plot_bgcolor": "#151516",
        "template": {
         "data": {
          "bar": [
           {
            "error_x": {
             "color": "#2a3f5f"
            },
            "error_y": {
             "color": "#2a3f5f"
            },
            "marker": {
             "line": {
              "color": "#E5ECF6",
              "width": 0.5
             },
             "pattern": {
              "fillmode": "overlay",
              "size": 10,
              "solidity": 0.2
             }
            },
            "type": "bar"
           }
          ],
          "barpolar": [
           {
            "marker": {
             "line": {
              "color": "#E5ECF6",
              "width": 0.5
             },
             "pattern": {
              "fillmode": "overlay",
              "size": 10,
              "solidity": 0.2
             }
            },
            "type": "barpolar"
           }
          ],
          "carpet": [
           {
            "aaxis": {
             "endlinecolor": "#2a3f5f",
             "gridcolor": "white",
             "linecolor": "white",
             "minorgridcolor": "white",
             "startlinecolor": "#2a3f5f"
            },
            "baxis": {
             "endlinecolor": "#2a3f5f",
             "gridcolor": "white",
             "linecolor": "white",
             "minorgridcolor": "white",
             "startlinecolor": "#2a3f5f"
            },
            "type": "carpet"
           }
          ],
          "choropleth": [
           {
            "colorbar": {
             "outlinewidth": 0,
             "ticks": ""
            },
            "type": "choropleth"
           }
          ],
          "contour": [
           {
            "colorbar": {
             "outlinewidth": 0,
             "ticks": ""
            },
            "colorscale": [
             [
              0,
              "#0d0887"
             ],
             [
              0.1111111111111111,
              "#46039f"
             ],
             [
              0.2222222222222222,
              "#7201a8"
             ],
             [
              0.3333333333333333,
              "#9c179e"
             ],
             [
              0.4444444444444444,
              "#bd3786"
             ],
             [
              0.5555555555555556,
              "#d8576b"
             ],
             [
              0.6666666666666666,
              "#ed7953"
             ],
             [
              0.7777777777777778,
              "#fb9f3a"
             ],
             [
              0.8888888888888888,
              "#fdca26"
             ],
             [
              1,
              "#f0f921"
             ]
            ],
            "type": "contour"
           }
          ],
          "contourcarpet": [
           {
            "colorbar": {
             "outlinewidth": 0,
             "ticks": ""
            },
            "type": "contourcarpet"
           }
          ],
          "heatmap": [
           {
            "colorbar": {
             "outlinewidth": 0,
             "ticks": ""
            },
            "colorscale": [
             [
              0,
              "#0d0887"
             ],
             [
              0.1111111111111111,
              "#46039f"
             ],
             [
              0.2222222222222222,
              "#7201a8"
             ],
             [
              0.3333333333333333,
              "#9c179e"
             ],
             [
              0.4444444444444444,
              "#bd3786"
             ],
             [
              0.5555555555555556,
              "#d8576b"
             ],
             [
              0.6666666666666666,
              "#ed7953"
             ],
             [
              0.7777777777777778,
              "#fb9f3a"
             ],
             [
              0.8888888888888888,
              "#fdca26"
             ],
             [
              1,
              "#f0f921"
             ]
            ],
            "type": "heatmap"
           }
          ],
          "heatmapgl": [
           {
            "colorbar": {
             "outlinewidth": 0,
             "ticks": ""
            },
            "colorscale": [
             [
              0,
              "#0d0887"
             ],
             [
              0.1111111111111111,
              "#46039f"
             ],
             [
              0.2222222222222222,
              "#7201a8"
             ],
             [
              0.3333333333333333,
              "#9c179e"
             ],
             [
              0.4444444444444444,
              "#bd3786"
             ],
             [
              0.5555555555555556,
              "#d8576b"
             ],
             [
              0.6666666666666666,
              "#ed7953"
             ],
             [
              0.7777777777777778,
              "#fb9f3a"
             ],
             [
              0.8888888888888888,
              "#fdca26"
             ],
             [
              1,
              "#f0f921"
             ]
            ],
            "type": "heatmapgl"
           }
          ],
          "histogram": [
           {
            "marker": {
             "pattern": {
              "fillmode": "overlay",
              "size": 10,
              "solidity": 0.2
             }
            },
            "type": "histogram"
           }
          ],
          "histogram2d": [
           {
            "colorbar": {
             "outlinewidth": 0,
             "ticks": ""
            },
            "colorscale": [
             [
              0,
              "#0d0887"
             ],
             [
              0.1111111111111111,
              "#46039f"
             ],
             [
              0.2222222222222222,
              "#7201a8"
             ],
             [
              0.3333333333333333,
              "#9c179e"
             ],
             [
              0.4444444444444444,
              "#bd3786"
             ],
             [
              0.5555555555555556,
              "#d8576b"
             ],
             [
              0.6666666666666666,
              "#ed7953"
             ],
             [
              0.7777777777777778,
              "#fb9f3a"
             ],
             [
              0.8888888888888888,
              "#fdca26"
             ],
             [
              1,
              "#f0f921"
             ]
            ],
            "type": "histogram2d"
           }
          ],
          "histogram2dcontour": [
           {
            "colorbar": {
             "outlinewidth": 0,
             "ticks": ""
            },
            "colorscale": [
             [
              0,
              "#0d0887"
             ],
             [
              0.1111111111111111,
              "#46039f"
             ],
             [
              0.2222222222222222,
              "#7201a8"
             ],
             [
              0.3333333333333333,
              "#9c179e"
             ],
             [
              0.4444444444444444,
              "#bd3786"
             ],
             [
              0.5555555555555556,
              "#d8576b"
             ],
             [
              0.6666666666666666,
              "#ed7953"
             ],
             [
              0.7777777777777778,
              "#fb9f3a"
             ],
             [
              0.8888888888888888,
              "#fdca26"
             ],
             [
              1,
              "#f0f921"
             ]
            ],
            "type": "histogram2dcontour"
           }
          ],
          "mesh3d": [
           {
            "colorbar": {
             "outlinewidth": 0,
             "ticks": ""
            },
            "type": "mesh3d"
           }
          ],
          "parcoords": [
           {
            "line": {
             "colorbar": {
              "outlinewidth": 0,
              "ticks": ""
             }
            },
            "type": "parcoords"
           }
          ],
          "pie": [
           {
            "automargin": true,
            "type": "pie"
           }
          ],
          "scatter": [
           {
            "fillpattern": {
             "fillmode": "overlay",
             "size": 10,
             "solidity": 0.2
            },
            "type": "scatter"
           }
          ],
          "scatter3d": [
           {
            "line": {
             "colorbar": {
              "outlinewidth": 0,
              "ticks": ""
             }
            },
            "marker": {
             "colorbar": {
              "outlinewidth": 0,
              "ticks": ""
             }
            },
            "type": "scatter3d"
           }
          ],
          "scattercarpet": [
           {
            "marker": {
             "colorbar": {
              "outlinewidth": 0,
              "ticks": ""
             }
            },
            "type": "scattercarpet"
           }
          ],
          "scattergeo": [
           {
            "marker": {
             "colorbar": {
              "outlinewidth": 0,
              "ticks": ""
             }
            },
            "type": "scattergeo"
           }
          ],
          "scattergl": [
           {
            "marker": {
             "colorbar": {
              "outlinewidth": 0,
              "ticks": ""
             }
            },
            "type": "scattergl"
           }
          ],
          "scattermapbox": [
           {
            "marker": {
             "colorbar": {
              "outlinewidth": 0,
              "ticks": ""
             }
            },
            "type": "scattermapbox"
           }
          ],
          "scatterpolar": [
           {
            "marker": {
             "colorbar": {
              "outlinewidth": 0,
              "ticks": ""
             }
            },
            "type": "scatterpolar"
           }
          ],
          "scatterpolargl": [
           {
            "marker": {
             "colorbar": {
              "outlinewidth": 0,
              "ticks": ""
             }
            },
            "type": "scatterpolargl"
           }
          ],
          "scatterternary": [
           {
            "marker": {
             "colorbar": {
              "outlinewidth": 0,
              "ticks": ""
             }
            },
            "type": "scatterternary"
           }
          ],
          "surface": [
           {
            "colorbar": {
             "outlinewidth": 0,
             "ticks": ""
            },
            "colorscale": [
             [
              0,
              "#0d0887"
             ],
             [
              0.1111111111111111,
              "#46039f"
             ],
             [
              0.2222222222222222,
              "#7201a8"
             ],
             [
              0.3333333333333333,
              "#9c179e"
             ],
             [
              0.4444444444444444,
              "#bd3786"
             ],
             [
              0.5555555555555556,
              "#d8576b"
             ],
             [
              0.6666666666666666,
              "#ed7953"
             ],
             [
              0.7777777777777778,
              "#fb9f3a"
             ],
             [
              0.8888888888888888,
              "#fdca26"
             ],
             [
              1,
              "#f0f921"
             ]
            ],
            "type": "surface"
           }
          ],
          "table": [
           {
            "cells": {
             "fill": {
              "color": "#EBF0F8"
             },
             "line": {
              "color": "white"
             }
            },
            "header": {
             "fill": {
              "color": "#C8D4E3"
             },
             "line": {
              "color": "white"
             }
            },
            "type": "table"
           }
          ]
         },
         "layout": {
          "annotationdefaults": {
           "arrowcolor": "#2a3f5f",
           "arrowhead": 0,
           "arrowwidth": 1
          },
          "autotypenumbers": "strict",
          "coloraxis": {
           "colorbar": {
            "outlinewidth": 0,
            "ticks": ""
           }
          },
          "colorscale": {
           "diverging": [
            [
             0,
             "#8e0152"
            ],
            [
             0.1,
             "#c51b7d"
            ],
            [
             0.2,
             "#de77ae"
            ],
            [
             0.3,
             "#f1b6da"
            ],
            [
             0.4,
             "#fde0ef"
            ],
            [
             0.5,
             "#f7f7f7"
            ],
            [
             0.6,
             "#e6f5d0"
            ],
            [
             0.7,
             "#b8e186"
            ],
            [
             0.8,
             "#7fbc41"
            ],
            [
             0.9,
             "#4d9221"
            ],
            [
             1,
             "#276419"
            ]
           ],
           "sequential": [
            [
             0,
             "#0d0887"
            ],
            [
             0.1111111111111111,
             "#46039f"
            ],
            [
             0.2222222222222222,
             "#7201a8"
            ],
            [
             0.3333333333333333,
             "#9c179e"
            ],
            [
             0.4444444444444444,
             "#bd3786"
            ],
            [
             0.5555555555555556,
             "#d8576b"
            ],
            [
             0.6666666666666666,
             "#ed7953"
            ],
            [
             0.7777777777777778,
             "#fb9f3a"
            ],
            [
             0.8888888888888888,
             "#fdca26"
            ],
            [
             1,
             "#f0f921"
            ]
           ],
           "sequentialminus": [
            [
             0,
             "#0d0887"
            ],
            [
             0.1111111111111111,
             "#46039f"
            ],
            [
             0.2222222222222222,
             "#7201a8"
            ],
            [
             0.3333333333333333,
             "#9c179e"
            ],
            [
             0.4444444444444444,
             "#bd3786"
            ],
            [
             0.5555555555555556,
             "#d8576b"
            ],
            [
             0.6666666666666666,
             "#ed7953"
            ],
            [
             0.7777777777777778,
             "#fb9f3a"
            ],
            [
             0.8888888888888888,
             "#fdca26"
            ],
            [
             1,
             "#f0f921"
            ]
           ]
          },
          "colorway": [
           "#636efa",
           "#EF553B",
           "#00cc96",
           "#ab63fa",
           "#FFA15A",
           "#19d3f3",
           "#FF6692",
           "#B6E880",
           "#FF97FF",
           "#FECB52"
          ],
          "font": {
           "color": "#2a3f5f"
          },
          "geo": {
           "bgcolor": "white",
           "lakecolor": "white",
           "landcolor": "#E5ECF6",
           "showlakes": true,
           "showland": true,
           "subunitcolor": "white"
          },
          "hoverlabel": {
           "align": "left"
          },
          "hovermode": "closest",
          "mapbox": {
           "style": "light"
          },
          "paper_bgcolor": "white",
          "plot_bgcolor": "#E5ECF6",
          "polar": {
           "angularaxis": {
            "gridcolor": "white",
            "linecolor": "white",
            "ticks": ""
           },
           "bgcolor": "#E5ECF6",
           "radialaxis": {
            "gridcolor": "white",
            "linecolor": "white",
            "ticks": ""
           }
          },
          "scene": {
           "xaxis": {
            "backgroundcolor": "#E5ECF6",
            "gridcolor": "white",
            "gridwidth": 2,
            "linecolor": "white",
            "showbackground": true,
            "ticks": "",
            "zerolinecolor": "white"
           },
           "yaxis": {
            "backgroundcolor": "#E5ECF6",
            "gridcolor": "white",
            "gridwidth": 2,
            "linecolor": "white",
            "showbackground": true,
            "ticks": "",
            "zerolinecolor": "white"
           },
           "zaxis": {
            "backgroundcolor": "#E5ECF6",
            "gridcolor": "white",
            "gridwidth": 2,
            "linecolor": "white",
            "showbackground": true,
            "ticks": "",
            "zerolinecolor": "white"
           }
          },
          "shapedefaults": {
           "line": {
            "color": "#2a3f5f"
           }
          },
          "ternary": {
           "aaxis": {
            "gridcolor": "white",
            "linecolor": "white",
            "ticks": ""
           },
           "baxis": {
            "gridcolor": "white",
            "linecolor": "white",
            "ticks": ""
           },
           "bgcolor": "#E5ECF6",
           "caxis": {
            "gridcolor": "white",
            "linecolor": "white",
            "ticks": ""
           }
          },
          "title": {
           "x": 0.05
          },
          "xaxis": {
           "automargin": true,
           "gridcolor": "white",
           "linecolor": "white",
           "ticks": "",
           "title": {
            "standoff": 15
           },
           "zerolinecolor": "white",
           "zerolinewidth": 2
          },
          "yaxis": {
           "automargin": true,
           "gridcolor": "white",
           "linecolor": "white",
           "ticks": "",
           "title": {
            "standoff": 15
           },
           "zerolinecolor": "white",
           "zerolinewidth": 2
          }
         }
        },
        "title": {
         "font": {
          "color": "#D9D9D9"
         },
         "text": "Scatter plot of Halstead Error Estimate vs Design Complexity"
        },
        "width": 900,
        "xaxis": {
         "gridcolor": "#434343",
         "showgrid": true,
         "tickfont": {
          "color": "#C2C2C2"
         },
         "title": {
          "font": {
           "color": "#D9D9D9"
          },
          "text": "Design Complexity"
         },
         "zerolinecolor": "#666570"
        },
        "yaxis": {
         "gridcolor": "#434343",
         "showgrid": true,
         "tickfont": {
          "color": "#C2C2C2"
         },
         "title": {
          "font": {
           "color": "#D9D9D9"
          },
          "text": "Halstead Error Estimate"
         },
         "zerolinecolor": "#666570"
        }
       }
      },
      "text/html": [
       "<div>                            <div id=\"1f1b2fe3-d32f-4999-aa3d-935046cbe5eb\" class=\"plotly-graph-div\" style=\"height:500px; width:900px;\"></div>            <script type=\"text/javascript\">                require([\"plotly\"], function(Plotly) {                    window.PLOTLYENV=window.PLOTLYENV || {};\n",
       "                    window.PLOTLYENV.BASE_URL='https://plot.ly';                                    if (document.getElementById(\"1f1b2fe3-d32f-4999-aa3d-935046cbe5eb\")) {                    Plotly.newPlot(                        \"1f1b2fe3-d32f-4999-aa3d-935046cbe5eb\",                        [{\"line\":{\"color\":\"rgba(255, 153, 51, 1.0)\",\"dash\":\"solid\",\"shape\":\"linear\",\"width\":1.3},\"marker\":{\"size\":12,\"symbol\":\"circle\"},\"mode\":\"markers\",\"name\":\"HALSTEAD_ERROR_EST\",\"text\":\"\",\"x\":[1.0,1.0,7.0,3.0,6.0,5.0,1.0,3.0,1.0,2.0,18.0,4.0,6.0,3.0,2.0,2.0,2.0,1.0,4.0,2.0,3.0,10.0,7.0,1.0,3.0,2.0,8.0,2.0,2.0,1.0,2.0,2.0,3.0,5.0,3.0,4.0,6.0,1.0,5.0,7.0,10.0,22.0,1.0,2.0,9.0,3.0,6.0,9.0,1.0,6.0,5.0,46.0,1.0,4.0,2.0,10.0,7.0,2.0,5.0,5.0,1.0,4.0,3.0,1.0,3.0,1.0,3.0,4.0,4.0,3.0,2.0,12.0,2.0,6.0,2.0,13.0,3.0,1.0,3.0,2.0,2.0,3.0,1.0,3.0,2.0,4.0,4.0,9.0,7.0,3.0,1.0,19.0,2.0,4.0,1.0,10.0,5.0,2.0,3.0,7.0,1.0,8.0,1.0,5.0,1.0,3.0,1.0,1.0,1.0,6.0,3.0,12.0,41.0,17.0,2.0,1.0,2.0,1.0,4.0,13.0,3.0,1.0,8.0,4.0,2.0,2.0,9.0,5.0,8.0,3.0,3.0,3.0,1.0,13.0,1.0,5.0,2.0,1.0,2.0,3.0,10.0,8.0,2.0,6.0,3.0,2.0,3.0,2.0,7.0,4.0,9.0,2.0,1.0,1.0,1.0,4.0,2.0,11.0,9.0,1.0,1.0,1.0,14.0,3.0,10.0,24.0,4.0,2.0,2.0,20.0,1.0,2.0,1.0,63.0,5.0,3.0,4.0,3.0,2.0,4.0,1.0,1.0,5.0,3.0,4.0,1.0,1.0,9.0,9.0,6.0,1.0,1.0,9.0,11.0,7.0,6.0,3.0,1.0,6.0,4.0,3.0,4.0,10.0,7.0,10.0,5.0,2.0,12.0,8.0,1.0,1.0,1.0,3.0,3.0,24.0,1.0,1.0,1.0,2.0,2.0,15.0,1.0,3.0,1.0,8.0,7.0,4.0,11.0,1.0,13.0,1.0,2.0,4.0,16.0,4.0,3.0,7.0,1.0,3.0,1.0,1.0,1.0,4.0,2.0,5.0,2.0,2.0,3.0,4.0,26.0,1.0,6.0,2.0,5.0,4.0,1.0,1.0,2.0,6.0,10.0,23.0,2.0,2.0,3.0,5.0,1.0,4.0,1.0,1.0,2.0,5.0,9.0,6.0,3.0,3.0,3.0,2.0,5.0,27.0,3.0,2.0,4.0,10.0,3.0,2.0,6.0,2.0,1.0,1.0,2.0,6.0,3.0,4.0,6.0,3.0,8.0,4.0,2.0,5.0,3.0,6.0,2.0,5.0,2.0,4.0,7.0,2.0,1.0,4.0,1.0,7.0,2.0,2.0,4.0,2.0,5.0,2.0,3.0,3.0,3.0,26.0,1.0,15.0,2.0,1.0,2.0,2.0],\"y\":[0.02,0.04,0.8,0.25,0.16,0.18,0.06,0.2,0.09,0.54,1.69,0.18,0.3,0.18,0.03,0.1,0.17,0.1,0.24,0.2,0.15,1.43,0.44,0.09,0.25,0.19,1.2,0.06,0.25,0.04,0.03,0.19,0.15,0.13,0.18,0.13,0.26,0.05,0.5,0.58,1.34,2.84,0.08,0.02,0.25,0.05,0.23,0.24,0.05,1.86,0.21,5.12,0.02,0.24,0.12,1.82,0.54,0.12,0.08,0.35,0.04,1.25,0.18,0.16,0.25,0.15,0.18,0.09,0.09,0.15,0.38,1.67,0.27,0.37,0.43,1.71,0.03,0.04,0.1,0.06,0.17,0.26,0.09,0.13,0.09,0.21,0.11,1.11,0.58,0.09,0.05,0.87,0.18,0.16,0.04,0.65,0.11,0.02,0.17,1.14,0.1,1.65,0.07,0.41,0.12,0.21,0.07,0.1,0.25,0.34,0.08,0.61,4.25,1.74,0.02,0.15,0.2,0.12,0.48,1.04,0.16,0.16,0.21,2.08,0.18,0.11,0.58,0.41,0.12,0.04,0.06,0.11,0.06,0.26,0.45,0.35,0.14,0.04,0.22,0.28,1.05,0.55,0.17,0.24,0.06,0.04,0.16,0.09,0.38,0.3,0.72,0.28,0.09,0.04,0.06,0.1,0.09,1.22,0.76,0.06,0.17,0.11,0.28,0.12,0.53,1.56,0.13,0.13,0.31,1.15,0.06,0.29,0.08,5.56,0.24,0.16,0.55,0.12,0.06,0.22,0.43,0.06,0.27,0.87,0.14,0.08,0.15,1.89,0.57,0.68,0.06,0.1,0.42,1.06,0.66,1.0,0.23,0.26,0.3,0.14,0.17,0.1,0.5,0.66,1.16,0.18,0.1,1.27,0.6,0.06,1.11,0.09,0.11,0.36,1.86,0.03,0.02,0.05,0.21,0.38,1.95,0.12,0.13,0.04,0.87,0.32,0.16,0.91,0.3,0.93,0.07,0.07,0.19,1.39,0.2,0.12,0.73,0.08,0.52,0.03,0.02,0.01,0.09,0.43,0.72,0.19,0.1,0.16,0.28,1.4,0.05,1.25,0.12,0.33,0.83,0.04,0.02,0.03,0.76,1.09,1.86,0.49,0.06,0.14,0.27,0.29,0.54,0.02,0.08,0.28,0.27,0.43,0.31,0.58,0.12,0.05,0.17,0.35,1.7,0.13,0.06,0.37,1.12,0.12,0.44,0.9,0.02,0.03,1.04,0.17,0.34,0.1,0.13,0.41,0.11,0.44,0.22,0.05,0.36,0.3,0.72,0.11,0.18,0.14,0.18,0.77,0.03,0.06,0.28,0.35,0.52,0.07,0.1,0.59,0.04,0.37,0.12,0.24,0.54,0.1,3.05,0.31,0.88,0.12,0.05,0.2,0.05],\"type\":\"scatter\"},{\"line\":{\"color\":\"rgba(0, 128, 0, 1.0)\",\"dash\":\"dash\",\"shape\":\"linear\",\"width\":3},\"mode\":\"lines\",\"name\":\"0.09*x+-0.02\",\"x\":[1.0,1.0,7.0,3.0,6.0,5.0,1.0,3.0,1.0,2.0,18.0,4.0,6.0,3.0,2.0,2.0,2.0,1.0,4.0,2.0,3.0,10.0,7.0,1.0,3.0,2.0,8.0,2.0,2.0,1.0,2.0,2.0,3.0,5.0,3.0,4.0,6.0,1.0,5.0,7.0,10.0,22.0,1.0,2.0,9.0,3.0,6.0,9.0,1.0,6.0,5.0,46.0,1.0,4.0,2.0,10.0,7.0,2.0,5.0,5.0,1.0,4.0,3.0,1.0,3.0,1.0,3.0,4.0,4.0,3.0,2.0,12.0,2.0,6.0,2.0,13.0,3.0,1.0,3.0,2.0,2.0,3.0,1.0,3.0,2.0,4.0,4.0,9.0,7.0,3.0,1.0,19.0,2.0,4.0,1.0,10.0,5.0,2.0,3.0,7.0,1.0,8.0,1.0,5.0,1.0,3.0,1.0,1.0,1.0,6.0,3.0,12.0,41.0,17.0,2.0,1.0,2.0,1.0,4.0,13.0,3.0,1.0,8.0,4.0,2.0,2.0,9.0,5.0,8.0,3.0,3.0,3.0,1.0,13.0,1.0,5.0,2.0,1.0,2.0,3.0,10.0,8.0,2.0,6.0,3.0,2.0,3.0,2.0,7.0,4.0,9.0,2.0,1.0,1.0,1.0,4.0,2.0,11.0,9.0,1.0,1.0,1.0,14.0,3.0,10.0,24.0,4.0,2.0,2.0,20.0,1.0,2.0,1.0,63.0,5.0,3.0,4.0,3.0,2.0,4.0,1.0,1.0,5.0,3.0,4.0,1.0,1.0,9.0,9.0,6.0,1.0,1.0,9.0,11.0,7.0,6.0,3.0,1.0,6.0,4.0,3.0,4.0,10.0,7.0,10.0,5.0,2.0,12.0,8.0,1.0,1.0,1.0,3.0,3.0,24.0,1.0,1.0,1.0,2.0,2.0,15.0,1.0,3.0,1.0,8.0,7.0,4.0,11.0,1.0,13.0,1.0,2.0,4.0,16.0,4.0,3.0,7.0,1.0,3.0,1.0,1.0,1.0,4.0,2.0,5.0,2.0,2.0,3.0,4.0,26.0,1.0,6.0,2.0,5.0,4.0,1.0,1.0,2.0,6.0,10.0,23.0,2.0,2.0,3.0,5.0,1.0,4.0,1.0,1.0,2.0,5.0,9.0,6.0,3.0,3.0,3.0,2.0,5.0,27.0,3.0,2.0,4.0,10.0,3.0,2.0,6.0,2.0,1.0,1.0,2.0,6.0,3.0,4.0,6.0,3.0,8.0,4.0,2.0,5.0,3.0,6.0,2.0,5.0,2.0,4.0,7.0,2.0,1.0,4.0,1.0,7.0,2.0,2.0,4.0,2.0,5.0,2.0,3.0,3.0,3.0,26.0,1.0,15.0,2.0,1.0,2.0,2.0],\"y\":[0.06537761130976706,0.06537761130976706,0.6071493811319322,0.2459682012504888,0.5168540861615714,0.42655879119121043,0.06537761130976706,0.2459682012504888,0.06537761130976706,0.15567290628012792,1.6003976258059014,0.3362634962208496,0.5168540861615714,0.2459682012504888,0.15567290628012792,0.15567290628012792,0.15567290628012792,0.06537761130976706,0.3362634962208496,0.15567290628012792,0.2459682012504888,0.8780352660430146,0.6071493811319322,0.06537761130976706,0.2459682012504888,0.15567290628012792,0.697444676102293,0.15567290628012792,0.15567290628012792,0.06537761130976706,0.15567290628012792,0.15567290628012792,0.2459682012504888,0.42655879119121043,0.2459682012504888,0.3362634962208496,0.5168540861615714,0.06537761130976706,0.42655879119121043,0.6071493811319322,0.8780352660430146,1.9615788056873449,0.06537761130976706,0.15567290628012792,0.7877399710726538,0.2459682012504888,0.5168540861615714,0.7877399710726538,0.06537761130976706,0.5168540861615714,0.42655879119121043,4.128665884976004,0.06537761130976706,0.3362634962208496,0.15567290628012792,0.8780352660430146,0.6071493811319322,0.15567290628012792,0.42655879119121043,0.42655879119121043,0.06537761130976706,0.3362634962208496,0.2459682012504888,0.06537761130976706,0.2459682012504888,0.06537761130976706,0.2459682012504888,0.3362634962208496,0.3362634962208496,0.2459682012504888,0.15567290628012792,1.0586258559837365,0.15567290628012792,0.5168540861615714,0.15567290628012792,1.1489211509540973,0.2459682012504888,0.06537761130976706,0.2459682012504888,0.15567290628012792,0.15567290628012792,0.2459682012504888,0.06537761130976706,0.2459682012504888,0.15567290628012792,0.3362634962208496,0.3362634962208496,0.7877399710726538,0.6071493811319322,0.2459682012504888,0.06537761130976706,1.6906929207762622,0.15567290628012792,0.3362634962208496,0.06537761130976706,0.8780352660430146,0.42655879119121043,0.15567290628012792,0.2459682012504888,0.6071493811319322,0.06537761130976706,0.697444676102293,0.06537761130976706,0.42655879119121043,0.06537761130976706,0.2459682012504888,0.06537761130976706,0.06537761130976706,0.06537761130976706,0.5168540861615714,0.2459682012504888,1.0586258559837365,3.677189410124201,1.5101023308355406,0.15567290628012792,0.06537761130976706,0.15567290628012792,0.06537761130976706,0.3362634962208496,1.1489211509540973,0.2459682012504888,0.06537761130976706,0.697444676102293,0.3362634962208496,0.15567290628012792,0.15567290628012792,0.7877399710726538,0.42655879119121043,0.697444676102293,0.2459682012504888,0.2459682012504888,0.2459682012504888,0.06537761130976706,1.1489211509540973,0.06537761130976706,0.42655879119121043,0.15567290628012792,0.06537761130976706,0.15567290628012792,0.2459682012504888,0.8780352660430146,0.697444676102293,0.15567290628012792,0.5168540861615714,0.2459682012504888,0.15567290628012792,0.2459682012504888,0.15567290628012792,0.6071493811319322,0.3362634962208496,0.7877399710726538,0.15567290628012792,0.06537761130976706,0.06537761130976706,0.06537761130976706,0.3362634962208496,0.15567290628012792,0.9683305610133756,0.7877399710726538,0.06537761130976706,0.06537761130976706,0.06537761130976706,1.2392164459244581,0.2459682012504888,0.8780352660430146,2.1421693956280667,0.3362634962208496,0.15567290628012792,0.15567290628012792,1.780988215746623,0.06537761130976706,0.15567290628012792,0.06537761130976706,5.663685899472139,0.42655879119121043,0.2459682012504888,0.3362634962208496,0.2459682012504888,0.15567290628012792,0.3362634962208496,0.06537761130976706,0.06537761130976706,0.42655879119121043,0.2459682012504888,0.3362634962208496,0.06537761130976706,0.06537761130976706,0.7877399710726538,0.7877399710726538,0.5168540861615714,0.06537761130976706,0.06537761130976706,0.7877399710726538,0.9683305610133756,0.6071493811319322,0.5168540861615714,0.2459682012504888,0.06537761130976706,0.5168540861615714,0.3362634962208496,0.2459682012504888,0.3362634962208496,0.8780352660430146,0.6071493811319322,0.8780352660430146,0.42655879119121043,0.15567290628012792,1.0586258559837365,0.697444676102293,0.06537761130976706,0.06537761130976706,0.06537761130976706,0.2459682012504888,0.2459682012504888,2.1421693956280667,0.06537761130976706,0.06537761130976706,0.06537761130976706,0.15567290628012792,0.15567290628012792,1.329511740894819,0.06537761130976706,0.2459682012504888,0.06537761130976706,0.697444676102293,0.6071493811319322,0.3362634962208496,0.9683305610133756,0.06537761130976706,1.1489211509540973,0.06537761130976706,0.15567290628012792,0.3362634962208496,1.4198070358651798,0.3362634962208496,0.2459682012504888,0.6071493811319322,0.06537761130976706,0.2459682012504888,0.06537761130976706,0.06537761130976706,0.06537761130976706,0.3362634962208496,0.15567290628012792,0.42655879119121043,0.15567290628012792,0.15567290628012792,0.2459682012504888,0.3362634962208496,2.3227599855687884,0.06537761130976706,0.5168540861615714,0.15567290628012792,0.42655879119121043,0.3362634962208496,0.06537761130976706,0.06537761130976706,0.15567290628012792,0.5168540861615714,0.8780352660430146,2.0518741006577055,0.15567290628012792,0.15567290628012792,0.2459682012504888,0.42655879119121043,0.06537761130976706,0.3362634962208496,0.06537761130976706,0.06537761130976706,0.15567290628012792,0.42655879119121043,0.7877399710726538,0.5168540861615714,0.2459682012504888,0.2459682012504888,0.2459682012504888,0.15567290628012792,0.42655879119121043,2.413055280539149,0.2459682012504888,0.15567290628012792,0.3362634962208496,0.8780352660430146,0.2459682012504888,0.15567290628012792,0.5168540861615714,0.15567290628012792,0.06537761130976706,0.06537761130976706,0.15567290628012792,0.5168540861615714,0.2459682012504888,0.3362634962208496,0.5168540861615714,0.2459682012504888,0.697444676102293,0.3362634962208496,0.15567290628012792,0.42655879119121043,0.2459682012504888,0.5168540861615714,0.15567290628012792,0.42655879119121043,0.15567290628012792,0.3362634962208496,0.6071493811319322,0.15567290628012792,0.06537761130976706,0.3362634962208496,0.06537761130976706,0.6071493811319322,0.15567290628012792,0.15567290628012792,0.3362634962208496,0.15567290628012792,0.42655879119121043,0.15567290628012792,0.2459682012504888,0.2459682012504888,0.2459682012504888,2.3227599855687884,0.06537761130976706,1.329511740894819,0.15567290628012792,0.06537761130976706,0.15567290628012792,0.15567290628012792],\"type\":\"scatter\"}],                        {\"height\":500,\"legend\":{\"bgcolor\":\"#151516\",\"font\":{\"color\":\"#D9D9D9\"}},\"paper_bgcolor\":\"#151516\",\"plot_bgcolor\":\"#151516\",\"template\":{\"data\":{\"barpolar\":[{\"marker\":{\"line\":{\"color\":\"#E5ECF6\",\"width\":0.5},\"pattern\":{\"fillmode\":\"overlay\",\"size\":10,\"solidity\":0.2}},\"type\":\"barpolar\"}],\"bar\":[{\"error_x\":{\"color\":\"#2a3f5f\"},\"error_y\":{\"color\":\"#2a3f5f\"},\"marker\":{\"line\":{\"color\":\"#E5ECF6\",\"width\":0.5},\"pattern\":{\"fillmode\":\"overlay\",\"size\":10,\"solidity\":0.2}},\"type\":\"bar\"}],\"carpet\":[{\"aaxis\":{\"endlinecolor\":\"#2a3f5f\",\"gridcolor\":\"white\",\"linecolor\":\"white\",\"minorgridcolor\":\"white\",\"startlinecolor\":\"#2a3f5f\"},\"baxis\":{\"endlinecolor\":\"#2a3f5f\",\"gridcolor\":\"white\",\"linecolor\":\"white\",\"minorgridcolor\":\"white\",\"startlinecolor\":\"#2a3f5f\"},\"type\":\"carpet\"}],\"choropleth\":[{\"colorbar\":{\"outlinewidth\":0,\"ticks\":\"\"},\"type\":\"choropleth\"}],\"contourcarpet\":[{\"colorbar\":{\"outlinewidth\":0,\"ticks\":\"\"},\"type\":\"contourcarpet\"}],\"contour\":[{\"colorbar\":{\"outlinewidth\":0,\"ticks\":\"\"},\"colorscale\":[[0.0,\"#0d0887\"],[0.1111111111111111,\"#46039f\"],[0.2222222222222222,\"#7201a8\"],[0.3333333333333333,\"#9c179e\"],[0.4444444444444444,\"#bd3786\"],[0.5555555555555556,\"#d8576b\"],[0.6666666666666666,\"#ed7953\"],[0.7777777777777778,\"#fb9f3a\"],[0.8888888888888888,\"#fdca26\"],[1.0,\"#f0f921\"]],\"type\":\"contour\"}],\"heatmapgl\":[{\"colorbar\":{\"outlinewidth\":0,\"ticks\":\"\"},\"colorscale\":[[0.0,\"#0d0887\"],[0.1111111111111111,\"#46039f\"],[0.2222222222222222,\"#7201a8\"],[0.3333333333333333,\"#9c179e\"],[0.4444444444444444,\"#bd3786\"],[0.5555555555555556,\"#d8576b\"],[0.6666666666666666,\"#ed7953\"],[0.7777777777777778,\"#fb9f3a\"],[0.8888888888888888,\"#fdca26\"],[1.0,\"#f0f921\"]],\"type\":\"heatmapgl\"}],\"heatmap\":[{\"colorbar\":{\"outlinewidth\":0,\"ticks\":\"\"},\"colorscale\":[[0.0,\"#0d0887\"],[0.1111111111111111,\"#46039f\"],[0.2222222222222222,\"#7201a8\"],[0.3333333333333333,\"#9c179e\"],[0.4444444444444444,\"#bd3786\"],[0.5555555555555556,\"#d8576b\"],[0.6666666666666666,\"#ed7953\"],[0.7777777777777778,\"#fb9f3a\"],[0.8888888888888888,\"#fdca26\"],[1.0,\"#f0f921\"]],\"type\":\"heatmap\"}],\"histogram2dcontour\":[{\"colorbar\":{\"outlinewidth\":0,\"ticks\":\"\"},\"colorscale\":[[0.0,\"#0d0887\"],[0.1111111111111111,\"#46039f\"],[0.2222222222222222,\"#7201a8\"],[0.3333333333333333,\"#9c179e\"],[0.4444444444444444,\"#bd3786\"],[0.5555555555555556,\"#d8576b\"],[0.6666666666666666,\"#ed7953\"],[0.7777777777777778,\"#fb9f3a\"],[0.8888888888888888,\"#fdca26\"],[1.0,\"#f0f921\"]],\"type\":\"histogram2dcontour\"}],\"histogram2d\":[{\"colorbar\":{\"outlinewidth\":0,\"ticks\":\"\"},\"colorscale\":[[0.0,\"#0d0887\"],[0.1111111111111111,\"#46039f\"],[0.2222222222222222,\"#7201a8\"],[0.3333333333333333,\"#9c179e\"],[0.4444444444444444,\"#bd3786\"],[0.5555555555555556,\"#d8576b\"],[0.6666666666666666,\"#ed7953\"],[0.7777777777777778,\"#fb9f3a\"],[0.8888888888888888,\"#fdca26\"],[1.0,\"#f0f921\"]],\"type\":\"histogram2d\"}],\"histogram\":[{\"marker\":{\"pattern\":{\"fillmode\":\"overlay\",\"size\":10,\"solidity\":0.2}},\"type\":\"histogram\"}],\"mesh3d\":[{\"colorbar\":{\"outlinewidth\":0,\"ticks\":\"\"},\"type\":\"mesh3d\"}],\"parcoords\":[{\"line\":{\"colorbar\":{\"outlinewidth\":0,\"ticks\":\"\"}},\"type\":\"parcoords\"}],\"pie\":[{\"automargin\":true,\"type\":\"pie\"}],\"scatter3d\":[{\"line\":{\"colorbar\":{\"outlinewidth\":0,\"ticks\":\"\"}},\"marker\":{\"colorbar\":{\"outlinewidth\":0,\"ticks\":\"\"}},\"type\":\"scatter3d\"}],\"scattercarpet\":[{\"marker\":{\"colorbar\":{\"outlinewidth\":0,\"ticks\":\"\"}},\"type\":\"scattercarpet\"}],\"scattergeo\":[{\"marker\":{\"colorbar\":{\"outlinewidth\":0,\"ticks\":\"\"}},\"type\":\"scattergeo\"}],\"scattergl\":[{\"marker\":{\"colorbar\":{\"outlinewidth\":0,\"ticks\":\"\"}},\"type\":\"scattergl\"}],\"scattermapbox\":[{\"marker\":{\"colorbar\":{\"outlinewidth\":0,\"ticks\":\"\"}},\"type\":\"scattermapbox\"}],\"scatterpolargl\":[{\"marker\":{\"colorbar\":{\"outlinewidth\":0,\"ticks\":\"\"}},\"type\":\"scatterpolargl\"}],\"scatterpolar\":[{\"marker\":{\"colorbar\":{\"outlinewidth\":0,\"ticks\":\"\"}},\"type\":\"scatterpolar\"}],\"scatter\":[{\"fillpattern\":{\"fillmode\":\"overlay\",\"size\":10,\"solidity\":0.2},\"type\":\"scatter\"}],\"scatterternary\":[{\"marker\":{\"colorbar\":{\"outlinewidth\":0,\"ticks\":\"\"}},\"type\":\"scatterternary\"}],\"surface\":[{\"colorbar\":{\"outlinewidth\":0,\"ticks\":\"\"},\"colorscale\":[[0.0,\"#0d0887\"],[0.1111111111111111,\"#46039f\"],[0.2222222222222222,\"#7201a8\"],[0.3333333333333333,\"#9c179e\"],[0.4444444444444444,\"#bd3786\"],[0.5555555555555556,\"#d8576b\"],[0.6666666666666666,\"#ed7953\"],[0.7777777777777778,\"#fb9f3a\"],[0.8888888888888888,\"#fdca26\"],[1.0,\"#f0f921\"]],\"type\":\"surface\"}],\"table\":[{\"cells\":{\"fill\":{\"color\":\"#EBF0F8\"},\"line\":{\"color\":\"white\"}},\"header\":{\"fill\":{\"color\":\"#C8D4E3\"},\"line\":{\"color\":\"white\"}},\"type\":\"table\"}]},\"layout\":{\"annotationdefaults\":{\"arrowcolor\":\"#2a3f5f\",\"arrowhead\":0,\"arrowwidth\":1},\"autotypenumbers\":\"strict\",\"coloraxis\":{\"colorbar\":{\"outlinewidth\":0,\"ticks\":\"\"}},\"colorscale\":{\"diverging\":[[0,\"#8e0152\"],[0.1,\"#c51b7d\"],[0.2,\"#de77ae\"],[0.3,\"#f1b6da\"],[0.4,\"#fde0ef\"],[0.5,\"#f7f7f7\"],[0.6,\"#e6f5d0\"],[0.7,\"#b8e186\"],[0.8,\"#7fbc41\"],[0.9,\"#4d9221\"],[1,\"#276419\"]],\"sequential\":[[0.0,\"#0d0887\"],[0.1111111111111111,\"#46039f\"],[0.2222222222222222,\"#7201a8\"],[0.3333333333333333,\"#9c179e\"],[0.4444444444444444,\"#bd3786\"],[0.5555555555555556,\"#d8576b\"],[0.6666666666666666,\"#ed7953\"],[0.7777777777777778,\"#fb9f3a\"],[0.8888888888888888,\"#fdca26\"],[1.0,\"#f0f921\"]],\"sequentialminus\":[[0.0,\"#0d0887\"],[0.1111111111111111,\"#46039f\"],[0.2222222222222222,\"#7201a8\"],[0.3333333333333333,\"#9c179e\"],[0.4444444444444444,\"#bd3786\"],[0.5555555555555556,\"#d8576b\"],[0.6666666666666666,\"#ed7953\"],[0.7777777777777778,\"#fb9f3a\"],[0.8888888888888888,\"#fdca26\"],[1.0,\"#f0f921\"]]},\"colorway\":[\"#636efa\",\"#EF553B\",\"#00cc96\",\"#ab63fa\",\"#FFA15A\",\"#19d3f3\",\"#FF6692\",\"#B6E880\",\"#FF97FF\",\"#FECB52\"],\"font\":{\"color\":\"#2a3f5f\"},\"geo\":{\"bgcolor\":\"white\",\"lakecolor\":\"white\",\"landcolor\":\"#E5ECF6\",\"showlakes\":true,\"showland\":true,\"subunitcolor\":\"white\"},\"hoverlabel\":{\"align\":\"left\"},\"hovermode\":\"closest\",\"mapbox\":{\"style\":\"light\"},\"paper_bgcolor\":\"white\",\"plot_bgcolor\":\"#E5ECF6\",\"polar\":{\"angularaxis\":{\"gridcolor\":\"white\",\"linecolor\":\"white\",\"ticks\":\"\"},\"bgcolor\":\"#E5ECF6\",\"radialaxis\":{\"gridcolor\":\"white\",\"linecolor\":\"white\",\"ticks\":\"\"}},\"scene\":{\"xaxis\":{\"backgroundcolor\":\"#E5ECF6\",\"gridcolor\":\"white\",\"gridwidth\":2,\"linecolor\":\"white\",\"showbackground\":true,\"ticks\":\"\",\"zerolinecolor\":\"white\"},\"yaxis\":{\"backgroundcolor\":\"#E5ECF6\",\"gridcolor\":\"white\",\"gridwidth\":2,\"linecolor\":\"white\",\"showbackground\":true,\"ticks\":\"\",\"zerolinecolor\":\"white\"},\"zaxis\":{\"backgroundcolor\":\"#E5ECF6\",\"gridcolor\":\"white\",\"gridwidth\":2,\"linecolor\":\"white\",\"showbackground\":true,\"ticks\":\"\",\"zerolinecolor\":\"white\"}},\"shapedefaults\":{\"line\":{\"color\":\"#2a3f5f\"}},\"ternary\":{\"aaxis\":{\"gridcolor\":\"white\",\"linecolor\":\"white\",\"ticks\":\"\"},\"baxis\":{\"gridcolor\":\"white\",\"linecolor\":\"white\",\"ticks\":\"\"},\"bgcolor\":\"#E5ECF6\",\"caxis\":{\"gridcolor\":\"white\",\"linecolor\":\"white\",\"ticks\":\"\"}},\"title\":{\"x\":0.05},\"xaxis\":{\"automargin\":true,\"gridcolor\":\"white\",\"linecolor\":\"white\",\"ticks\":\"\",\"title\":{\"standoff\":15},\"zerolinecolor\":\"white\",\"zerolinewidth\":2},\"yaxis\":{\"automargin\":true,\"gridcolor\":\"white\",\"linecolor\":\"white\",\"ticks\":\"\",\"title\":{\"standoff\":15},\"zerolinecolor\":\"white\",\"zerolinewidth\":2}}},\"title\":{\"font\":{\"color\":\"#D9D9D9\"},\"text\":\"Scatter plot of Halstead Error Estimate vs Design Complexity\"},\"width\":900,\"xaxis\":{\"gridcolor\":\"#434343\",\"showgrid\":true,\"tickfont\":{\"color\":\"#C2C2C2\"},\"title\":{\"font\":{\"color\":\"#D9D9D9\"},\"text\":\"Design Complexity\"},\"zerolinecolor\":\"#666570\"},\"yaxis\":{\"gridcolor\":\"#434343\",\"showgrid\":true,\"tickfont\":{\"color\":\"#C2C2C2\"},\"title\":{\"font\":{\"color\":\"#D9D9D9\"},\"text\":\"Halstead Error Estimate\"},\"zerolinecolor\":\"#666570\"}},                        {\"showLink\": true, \"linkText\": \"Export to plot.ly\", \"plotlyServerURL\": \"https://plot.ly\", \"responsive\": true}                    ).then(function(){\n",
       "                            \n",
       "var gd = document.getElementById('1f1b2fe3-d32f-4999-aa3d-935046cbe5eb');\n",
       "var x = new MutationObserver(function (mutations, observer) {{\n",
       "        var display = window.getComputedStyle(gd).display;\n",
       "        if (!display || display === 'none') {{\n",
       "            console.log([gd, 'removed!']);\n",
       "            Plotly.purge(gd);\n",
       "            observer.disconnect();\n",
       "        }}\n",
       "}});\n",
       "\n",
       "// Listen for the removal of the full notebook cells\n",
       "var notebookContainer = gd.closest('#notebook-container');\n",
       "if (notebookContainer) {{\n",
       "    x.observe(notebookContainer, {childList: true});\n",
       "}}\n",
       "\n",
       "// Listen for the clearing of the current output cell\n",
       "var outputEl = gd.closest('.output');\n",
       "if (outputEl) {{\n",
       "    x.observe(outputEl, {childList: true});\n",
       "}}\n",
       "\n",
       "                        })                };                });            </script>        </div>"
      ]
     },
     "metadata": {},
     "output_type": "display_data"
    }
   ],
   "source": [
    "analysis_dataset.iplot(\n",
    "    kind='scatter',\n",
    "    y='HALSTEAD_ERROR_EST',\n",
    "    x='DESIGN_COMPLEXITY',\n",
    "    dimensions=(900, 500),\n",
    "    theme=\"solar\",\n",
    "    xTitle='Design Complexity',\n",
    "    yTitle='Halstead Error Estimate',\n",
    "    title='Scatter plot of Halstead Error Estimate vs Design Complexity',\n",
    "    mode=\"markers\",\n",
    "    bestfit=True,\n",
    "    bestfit_colors=['green'],\n",
    "\n",
    ")"
   ]
  },
  {
   "cell_type": "markdown",
   "metadata": {},
   "source": [
    "Now for regression analysis on the defective modules:"
   ]
  },
  {
   "cell_type": "code",
   "execution_count": 26,
   "metadata": {},
   "outputs": [
    {
     "name": "stdout",
     "output_type": "stream",
     "text": [
      "R-squared:  0.7484823614293205\n",
      "The equation of the line is: y = 0.09125149303251492x + 0.03668480424684828\n"
     ]
    }
   ],
   "source": [
    "Y = defective_group[\"HALSTEAD_ERROR_EST\"]\n",
    "X = defective_group[[\"DESIGN_COMPLEXITY\"]]\n",
    "\n",
    "linear_regression_model = LinearRegression()\n",
    "linear_regression_model.fit(X, Y)\n",
    "\n",
    "print(\"R-squared: \", linear_regression_model.score(X, Y))\n",
    "print(\"The equation of the line is: y = \", linear_regression_model.coef_[0], \"x + \", linear_regression_model.intercept_, sep='')"
   ]
  },
  {
   "cell_type": "code",
   "execution_count": 27,
   "metadata": {},
   "outputs": [
    {
     "data": {
      "application/vnd.plotly.v1+json": {
       "config": {
        "linkText": "Export to plot.ly",
        "plotlyServerURL": "https://plot.ly",
        "showLink": true
       },
       "data": [
        {
         "line": {
          "color": "rgba(255, 153, 51, 1.0)",
          "dash": "solid",
          "shape": "linear",
          "width": 1.3
         },
         "marker": {
          "size": 12,
          "symbol": "circle"
         },
         "mode": "markers",
         "name": "HALSTEAD_ERROR_EST",
         "text": "",
         "type": "scatter",
         "x": [
          3,
          3,
          18,
          10,
          7,
          2,
          2,
          3,
          1,
          7,
          3,
          4,
          3,
          12,
          19,
          3,
          41,
          1,
          4,
          5,
          3,
          10,
          2,
          9,
          2,
          4,
          9,
          7,
          12,
          7,
          16,
          3,
          26,
          5,
          10,
          3,
          6,
          3,
          5,
          7,
          1,
          26
         ],
         "y": [
          0.25,
          0.2,
          1.69,
          1.43,
          0.44,
          0.19,
          0.19,
          0.15,
          0.05,
          0.58,
          0.05,
          1.25,
          0.15,
          1.67,
          0.87,
          0.21,
          4.25,
          0.15,
          2.08,
          0.41,
          0.28,
          1.05,
          0.28,
          0.76,
          0.13,
          0.22,
          0.42,
          0.66,
          1.27,
          0.32,
          1.39,
          0.52,
          1.4,
          0.33,
          1.12,
          0.1,
          0.41,
          0.11,
          0.18,
          0.77,
          0.35,
          3.05
         ]
        },
        {
         "line": {
          "color": "rgba(0, 128, 0, 1.0)",
          "dash": "dash",
          "shape": "linear",
          "width": 3
         },
         "mode": "lines",
         "name": "0.09*x+0.04",
         "type": "scatter",
         "x": [
          3,
          3,
          18,
          10,
          7,
          2,
          2,
          3,
          1,
          7,
          3,
          4,
          3,
          12,
          19,
          3,
          41,
          1,
          4,
          5,
          3,
          10,
          2,
          9,
          2,
          4,
          9,
          7,
          12,
          7,
          16,
          3,
          26,
          5,
          10,
          3,
          6,
          3,
          5,
          7,
          1,
          26
         ],
         "y": [
          0.31043928334439314,
          0.31043928334439314,
          1.679211678832117,
          0.9491997345719975,
          0.6754452554744528,
          0.21918779031187818,
          0.21918779031187818,
          0.31043928334439314,
          0.12793629727936323,
          0.6754452554744528,
          0.31043928334439314,
          0.40169077637690803,
          0.31043928334439314,
          1.1317027206370276,
          1.770463171864632,
          0.31043928334439314,
          3.77799601857996,
          0.12793629727936323,
          0.40169077637690803,
          0.49294226940942293,
          0.31043928334439314,
          0.9491997345719975,
          0.21918779031187818,
          0.8579482415394826,
          0.21918779031187818,
          0.40169077637690803,
          0.8579482415394826,
          0.6754452554744528,
          1.1317027206370276,
          0.6754452554744528,
          1.4967086927670872,
          0.31043928334439314,
          2.4092236230922364,
          0.49294226940942293,
          0.9491997345719975,
          0.31043928334439314,
          0.5841937624419379,
          0.31043928334439314,
          0.49294226940942293,
          0.6754452554744528,
          0.12793629727936323,
          2.4092236230922364
         ]
        }
       ],
       "layout": {
        "height": 500,
        "legend": {
         "bgcolor": "#151516",
         "font": {
          "color": "#D9D9D9"
         }
        },
        "paper_bgcolor": "#151516",
        "plot_bgcolor": "#151516",
        "template": {
         "data": {
          "bar": [
           {
            "error_x": {
             "color": "#2a3f5f"
            },
            "error_y": {
             "color": "#2a3f5f"
            },
            "marker": {
             "line": {
              "color": "#E5ECF6",
              "width": 0.5
             },
             "pattern": {
              "fillmode": "overlay",
              "size": 10,
              "solidity": 0.2
             }
            },
            "type": "bar"
           }
          ],
          "barpolar": [
           {
            "marker": {
             "line": {
              "color": "#E5ECF6",
              "width": 0.5
             },
             "pattern": {
              "fillmode": "overlay",
              "size": 10,
              "solidity": 0.2
             }
            },
            "type": "barpolar"
           }
          ],
          "carpet": [
           {
            "aaxis": {
             "endlinecolor": "#2a3f5f",
             "gridcolor": "white",
             "linecolor": "white",
             "minorgridcolor": "white",
             "startlinecolor": "#2a3f5f"
            },
            "baxis": {
             "endlinecolor": "#2a3f5f",
             "gridcolor": "white",
             "linecolor": "white",
             "minorgridcolor": "white",
             "startlinecolor": "#2a3f5f"
            },
            "type": "carpet"
           }
          ],
          "choropleth": [
           {
            "colorbar": {
             "outlinewidth": 0,
             "ticks": ""
            },
            "type": "choropleth"
           }
          ],
          "contour": [
           {
            "colorbar": {
             "outlinewidth": 0,
             "ticks": ""
            },
            "colorscale": [
             [
              0,
              "#0d0887"
             ],
             [
              0.1111111111111111,
              "#46039f"
             ],
             [
              0.2222222222222222,
              "#7201a8"
             ],
             [
              0.3333333333333333,
              "#9c179e"
             ],
             [
              0.4444444444444444,
              "#bd3786"
             ],
             [
              0.5555555555555556,
              "#d8576b"
             ],
             [
              0.6666666666666666,
              "#ed7953"
             ],
             [
              0.7777777777777778,
              "#fb9f3a"
             ],
             [
              0.8888888888888888,
              "#fdca26"
             ],
             [
              1,
              "#f0f921"
             ]
            ],
            "type": "contour"
           }
          ],
          "contourcarpet": [
           {
            "colorbar": {
             "outlinewidth": 0,
             "ticks": ""
            },
            "type": "contourcarpet"
           }
          ],
          "heatmap": [
           {
            "colorbar": {
             "outlinewidth": 0,
             "ticks": ""
            },
            "colorscale": [
             [
              0,
              "#0d0887"
             ],
             [
              0.1111111111111111,
              "#46039f"
             ],
             [
              0.2222222222222222,
              "#7201a8"
             ],
             [
              0.3333333333333333,
              "#9c179e"
             ],
             [
              0.4444444444444444,
              "#bd3786"
             ],
             [
              0.5555555555555556,
              "#d8576b"
             ],
             [
              0.6666666666666666,
              "#ed7953"
             ],
             [
              0.7777777777777778,
              "#fb9f3a"
             ],
             [
              0.8888888888888888,
              "#fdca26"
             ],
             [
              1,
              "#f0f921"
             ]
            ],
            "type": "heatmap"
           }
          ],
          "heatmapgl": [
           {
            "colorbar": {
             "outlinewidth": 0,
             "ticks": ""
            },
            "colorscale": [
             [
              0,
              "#0d0887"
             ],
             [
              0.1111111111111111,
              "#46039f"
             ],
             [
              0.2222222222222222,
              "#7201a8"
             ],
             [
              0.3333333333333333,
              "#9c179e"
             ],
             [
              0.4444444444444444,
              "#bd3786"
             ],
             [
              0.5555555555555556,
              "#d8576b"
             ],
             [
              0.6666666666666666,
              "#ed7953"
             ],
             [
              0.7777777777777778,
              "#fb9f3a"
             ],
             [
              0.8888888888888888,
              "#fdca26"
             ],
             [
              1,
              "#f0f921"
             ]
            ],
            "type": "heatmapgl"
           }
          ],
          "histogram": [
           {
            "marker": {
             "pattern": {
              "fillmode": "overlay",
              "size": 10,
              "solidity": 0.2
             }
            },
            "type": "histogram"
           }
          ],
          "histogram2d": [
           {
            "colorbar": {
             "outlinewidth": 0,
             "ticks": ""
            },
            "colorscale": [
             [
              0,
              "#0d0887"
             ],
             [
              0.1111111111111111,
              "#46039f"
             ],
             [
              0.2222222222222222,
              "#7201a8"
             ],
             [
              0.3333333333333333,
              "#9c179e"
             ],
             [
              0.4444444444444444,
              "#bd3786"
             ],
             [
              0.5555555555555556,
              "#d8576b"
             ],
             [
              0.6666666666666666,
              "#ed7953"
             ],
             [
              0.7777777777777778,
              "#fb9f3a"
             ],
             [
              0.8888888888888888,
              "#fdca26"
             ],
             [
              1,
              "#f0f921"
             ]
            ],
            "type": "histogram2d"
           }
          ],
          "histogram2dcontour": [
           {
            "colorbar": {
             "outlinewidth": 0,
             "ticks": ""
            },
            "colorscale": [
             [
              0,
              "#0d0887"
             ],
             [
              0.1111111111111111,
              "#46039f"
             ],
             [
              0.2222222222222222,
              "#7201a8"
             ],
             [
              0.3333333333333333,
              "#9c179e"
             ],
             [
              0.4444444444444444,
              "#bd3786"
             ],
             [
              0.5555555555555556,
              "#d8576b"
             ],
             [
              0.6666666666666666,
              "#ed7953"
             ],
             [
              0.7777777777777778,
              "#fb9f3a"
             ],
             [
              0.8888888888888888,
              "#fdca26"
             ],
             [
              1,
              "#f0f921"
             ]
            ],
            "type": "histogram2dcontour"
           }
          ],
          "mesh3d": [
           {
            "colorbar": {
             "outlinewidth": 0,
             "ticks": ""
            },
            "type": "mesh3d"
           }
          ],
          "parcoords": [
           {
            "line": {
             "colorbar": {
              "outlinewidth": 0,
              "ticks": ""
             }
            },
            "type": "parcoords"
           }
          ],
          "pie": [
           {
            "automargin": true,
            "type": "pie"
           }
          ],
          "scatter": [
           {
            "fillpattern": {
             "fillmode": "overlay",
             "size": 10,
             "solidity": 0.2
            },
            "type": "scatter"
           }
          ],
          "scatter3d": [
           {
            "line": {
             "colorbar": {
              "outlinewidth": 0,
              "ticks": ""
             }
            },
            "marker": {
             "colorbar": {
              "outlinewidth": 0,
              "ticks": ""
             }
            },
            "type": "scatter3d"
           }
          ],
          "scattercarpet": [
           {
            "marker": {
             "colorbar": {
              "outlinewidth": 0,
              "ticks": ""
             }
            },
            "type": "scattercarpet"
           }
          ],
          "scattergeo": [
           {
            "marker": {
             "colorbar": {
              "outlinewidth": 0,
              "ticks": ""
             }
            },
            "type": "scattergeo"
           }
          ],
          "scattergl": [
           {
            "marker": {
             "colorbar": {
              "outlinewidth": 0,
              "ticks": ""
             }
            },
            "type": "scattergl"
           }
          ],
          "scattermapbox": [
           {
            "marker": {
             "colorbar": {
              "outlinewidth": 0,
              "ticks": ""
             }
            },
            "type": "scattermapbox"
           }
          ],
          "scatterpolar": [
           {
            "marker": {
             "colorbar": {
              "outlinewidth": 0,
              "ticks": ""
             }
            },
            "type": "scatterpolar"
           }
          ],
          "scatterpolargl": [
           {
            "marker": {
             "colorbar": {
              "outlinewidth": 0,
              "ticks": ""
             }
            },
            "type": "scatterpolargl"
           }
          ],
          "scatterternary": [
           {
            "marker": {
             "colorbar": {
              "outlinewidth": 0,
              "ticks": ""
             }
            },
            "type": "scatterternary"
           }
          ],
          "surface": [
           {
            "colorbar": {
             "outlinewidth": 0,
             "ticks": ""
            },
            "colorscale": [
             [
              0,
              "#0d0887"
             ],
             [
              0.1111111111111111,
              "#46039f"
             ],
             [
              0.2222222222222222,
              "#7201a8"
             ],
             [
              0.3333333333333333,
              "#9c179e"
             ],
             [
              0.4444444444444444,
              "#bd3786"
             ],
             [
              0.5555555555555556,
              "#d8576b"
             ],
             [
              0.6666666666666666,
              "#ed7953"
             ],
             [
              0.7777777777777778,
              "#fb9f3a"
             ],
             [
              0.8888888888888888,
              "#fdca26"
             ],
             [
              1,
              "#f0f921"
             ]
            ],
            "type": "surface"
           }
          ],
          "table": [
           {
            "cells": {
             "fill": {
              "color": "#EBF0F8"
             },
             "line": {
              "color": "white"
             }
            },
            "header": {
             "fill": {
              "color": "#C8D4E3"
             },
             "line": {
              "color": "white"
             }
            },
            "type": "table"
           }
          ]
         },
         "layout": {
          "annotationdefaults": {
           "arrowcolor": "#2a3f5f",
           "arrowhead": 0,
           "arrowwidth": 1
          },
          "autotypenumbers": "strict",
          "coloraxis": {
           "colorbar": {
            "outlinewidth": 0,
            "ticks": ""
           }
          },
          "colorscale": {
           "diverging": [
            [
             0,
             "#8e0152"
            ],
            [
             0.1,
             "#c51b7d"
            ],
            [
             0.2,
             "#de77ae"
            ],
            [
             0.3,
             "#f1b6da"
            ],
            [
             0.4,
             "#fde0ef"
            ],
            [
             0.5,
             "#f7f7f7"
            ],
            [
             0.6,
             "#e6f5d0"
            ],
            [
             0.7,
             "#b8e186"
            ],
            [
             0.8,
             "#7fbc41"
            ],
            [
             0.9,
             "#4d9221"
            ],
            [
             1,
             "#276419"
            ]
           ],
           "sequential": [
            [
             0,
             "#0d0887"
            ],
            [
             0.1111111111111111,
             "#46039f"
            ],
            [
             0.2222222222222222,
             "#7201a8"
            ],
            [
             0.3333333333333333,
             "#9c179e"
            ],
            [
             0.4444444444444444,
             "#bd3786"
            ],
            [
             0.5555555555555556,
             "#d8576b"
            ],
            [
             0.6666666666666666,
             "#ed7953"
            ],
            [
             0.7777777777777778,
             "#fb9f3a"
            ],
            [
             0.8888888888888888,
             "#fdca26"
            ],
            [
             1,
             "#f0f921"
            ]
           ],
           "sequentialminus": [
            [
             0,
             "#0d0887"
            ],
            [
             0.1111111111111111,
             "#46039f"
            ],
            [
             0.2222222222222222,
             "#7201a8"
            ],
            [
             0.3333333333333333,
             "#9c179e"
            ],
            [
             0.4444444444444444,
             "#bd3786"
            ],
            [
             0.5555555555555556,
             "#d8576b"
            ],
            [
             0.6666666666666666,
             "#ed7953"
            ],
            [
             0.7777777777777778,
             "#fb9f3a"
            ],
            [
             0.8888888888888888,
             "#fdca26"
            ],
            [
             1,
             "#f0f921"
            ]
           ]
          },
          "colorway": [
           "#636efa",
           "#EF553B",
           "#00cc96",
           "#ab63fa",
           "#FFA15A",
           "#19d3f3",
           "#FF6692",
           "#B6E880",
           "#FF97FF",
           "#FECB52"
          ],
          "font": {
           "color": "#2a3f5f"
          },
          "geo": {
           "bgcolor": "white",
           "lakecolor": "white",
           "landcolor": "#E5ECF6",
           "showlakes": true,
           "showland": true,
           "subunitcolor": "white"
          },
          "hoverlabel": {
           "align": "left"
          },
          "hovermode": "closest",
          "mapbox": {
           "style": "light"
          },
          "paper_bgcolor": "white",
          "plot_bgcolor": "#E5ECF6",
          "polar": {
           "angularaxis": {
            "gridcolor": "white",
            "linecolor": "white",
            "ticks": ""
           },
           "bgcolor": "#E5ECF6",
           "radialaxis": {
            "gridcolor": "white",
            "linecolor": "white",
            "ticks": ""
           }
          },
          "scene": {
           "xaxis": {
            "backgroundcolor": "#E5ECF6",
            "gridcolor": "white",
            "gridwidth": 2,
            "linecolor": "white",
            "showbackground": true,
            "ticks": "",
            "zerolinecolor": "white"
           },
           "yaxis": {
            "backgroundcolor": "#E5ECF6",
            "gridcolor": "white",
            "gridwidth": 2,
            "linecolor": "white",
            "showbackground": true,
            "ticks": "",
            "zerolinecolor": "white"
           },
           "zaxis": {
            "backgroundcolor": "#E5ECF6",
            "gridcolor": "white",
            "gridwidth": 2,
            "linecolor": "white",
            "showbackground": true,
            "ticks": "",
            "zerolinecolor": "white"
           }
          },
          "shapedefaults": {
           "line": {
            "color": "#2a3f5f"
           }
          },
          "ternary": {
           "aaxis": {
            "gridcolor": "white",
            "linecolor": "white",
            "ticks": ""
           },
           "baxis": {
            "gridcolor": "white",
            "linecolor": "white",
            "ticks": ""
           },
           "bgcolor": "#E5ECF6",
           "caxis": {
            "gridcolor": "white",
            "linecolor": "white",
            "ticks": ""
           }
          },
          "title": {
           "x": 0.05
          },
          "xaxis": {
           "automargin": true,
           "gridcolor": "white",
           "linecolor": "white",
           "ticks": "",
           "title": {
            "standoff": 15
           },
           "zerolinecolor": "white",
           "zerolinewidth": 2
          },
          "yaxis": {
           "automargin": true,
           "gridcolor": "white",
           "linecolor": "white",
           "ticks": "",
           "title": {
            "standoff": 15
           },
           "zerolinecolor": "white",
           "zerolinewidth": 2
          }
         }
        },
        "title": {
         "font": {
          "color": "#D9D9D9"
         },
         "text": "Scatter plot of Halstead Error Estimate vs Design Complexity"
        },
        "width": 900,
        "xaxis": {
         "gridcolor": "#434343",
         "showgrid": true,
         "tickfont": {
          "color": "#C2C2C2"
         },
         "title": {
          "font": {
           "color": "#D9D9D9"
          },
          "text": "Design Complexity"
         },
         "zerolinecolor": "#666570"
        },
        "yaxis": {
         "gridcolor": "#434343",
         "showgrid": true,
         "tickfont": {
          "color": "#C2C2C2"
         },
         "title": {
          "font": {
           "color": "#D9D9D9"
          },
          "text": "Halstead Error Estimate"
         },
         "zerolinecolor": "#666570"
        }
       }
      },
      "text/html": [
       "<div>                            <div id=\"566b6e33-6087-4b61-b97c-cf7f3a288f12\" class=\"plotly-graph-div\" style=\"height:500px; width:900px;\"></div>            <script type=\"text/javascript\">                require([\"plotly\"], function(Plotly) {                    window.PLOTLYENV=window.PLOTLYENV || {};\n",
       "                    window.PLOTLYENV.BASE_URL='https://plot.ly';                                    if (document.getElementById(\"566b6e33-6087-4b61-b97c-cf7f3a288f12\")) {                    Plotly.newPlot(                        \"566b6e33-6087-4b61-b97c-cf7f3a288f12\",                        [{\"line\":{\"color\":\"rgba(255, 153, 51, 1.0)\",\"dash\":\"solid\",\"shape\":\"linear\",\"width\":1.3},\"marker\":{\"size\":12,\"symbol\":\"circle\"},\"mode\":\"markers\",\"name\":\"HALSTEAD_ERROR_EST\",\"text\":\"\",\"x\":[3.0,3.0,18.0,10.0,7.0,2.0,2.0,3.0,1.0,7.0,3.0,4.0,3.0,12.0,19.0,3.0,41.0,1.0,4.0,5.0,3.0,10.0,2.0,9.0,2.0,4.0,9.0,7.0,12.0,7.0,16.0,3.0,26.0,5.0,10.0,3.0,6.0,3.0,5.0,7.0,1.0,26.0],\"y\":[0.25,0.2,1.69,1.43,0.44,0.19,0.19,0.15,0.05,0.58,0.05,1.25,0.15,1.67,0.87,0.21,4.25,0.15,2.08,0.41,0.28,1.05,0.28,0.76,0.13,0.22,0.42,0.66,1.27,0.32,1.39,0.52,1.4,0.33,1.12,0.1,0.41,0.11,0.18,0.77,0.35,3.05],\"type\":\"scatter\"},{\"line\":{\"color\":\"rgba(0, 128, 0, 1.0)\",\"dash\":\"dash\",\"shape\":\"linear\",\"width\":3},\"mode\":\"lines\",\"name\":\"0.09*x+0.04\",\"x\":[3.0,3.0,18.0,10.0,7.0,2.0,2.0,3.0,1.0,7.0,3.0,4.0,3.0,12.0,19.0,3.0,41.0,1.0,4.0,5.0,3.0,10.0,2.0,9.0,2.0,4.0,9.0,7.0,12.0,7.0,16.0,3.0,26.0,5.0,10.0,3.0,6.0,3.0,5.0,7.0,1.0,26.0],\"y\":[0.31043928334439314,0.31043928334439314,1.679211678832117,0.9491997345719975,0.6754452554744528,0.21918779031187818,0.21918779031187818,0.31043928334439314,0.12793629727936323,0.6754452554744528,0.31043928334439314,0.40169077637690803,0.31043928334439314,1.1317027206370276,1.770463171864632,0.31043928334439314,3.77799601857996,0.12793629727936323,0.40169077637690803,0.49294226940942293,0.31043928334439314,0.9491997345719975,0.21918779031187818,0.8579482415394826,0.21918779031187818,0.40169077637690803,0.8579482415394826,0.6754452554744528,1.1317027206370276,0.6754452554744528,1.4967086927670872,0.31043928334439314,2.4092236230922364,0.49294226940942293,0.9491997345719975,0.31043928334439314,0.5841937624419379,0.31043928334439314,0.49294226940942293,0.6754452554744528,0.12793629727936323,2.4092236230922364],\"type\":\"scatter\"}],                        {\"height\":500,\"legend\":{\"bgcolor\":\"#151516\",\"font\":{\"color\":\"#D9D9D9\"}},\"paper_bgcolor\":\"#151516\",\"plot_bgcolor\":\"#151516\",\"template\":{\"data\":{\"barpolar\":[{\"marker\":{\"line\":{\"color\":\"#E5ECF6\",\"width\":0.5},\"pattern\":{\"fillmode\":\"overlay\",\"size\":10,\"solidity\":0.2}},\"type\":\"barpolar\"}],\"bar\":[{\"error_x\":{\"color\":\"#2a3f5f\"},\"error_y\":{\"color\":\"#2a3f5f\"},\"marker\":{\"line\":{\"color\":\"#E5ECF6\",\"width\":0.5},\"pattern\":{\"fillmode\":\"overlay\",\"size\":10,\"solidity\":0.2}},\"type\":\"bar\"}],\"carpet\":[{\"aaxis\":{\"endlinecolor\":\"#2a3f5f\",\"gridcolor\":\"white\",\"linecolor\":\"white\",\"minorgridcolor\":\"white\",\"startlinecolor\":\"#2a3f5f\"},\"baxis\":{\"endlinecolor\":\"#2a3f5f\",\"gridcolor\":\"white\",\"linecolor\":\"white\",\"minorgridcolor\":\"white\",\"startlinecolor\":\"#2a3f5f\"},\"type\":\"carpet\"}],\"choropleth\":[{\"colorbar\":{\"outlinewidth\":0,\"ticks\":\"\"},\"type\":\"choropleth\"}],\"contourcarpet\":[{\"colorbar\":{\"outlinewidth\":0,\"ticks\":\"\"},\"type\":\"contourcarpet\"}],\"contour\":[{\"colorbar\":{\"outlinewidth\":0,\"ticks\":\"\"},\"colorscale\":[[0.0,\"#0d0887\"],[0.1111111111111111,\"#46039f\"],[0.2222222222222222,\"#7201a8\"],[0.3333333333333333,\"#9c179e\"],[0.4444444444444444,\"#bd3786\"],[0.5555555555555556,\"#d8576b\"],[0.6666666666666666,\"#ed7953\"],[0.7777777777777778,\"#fb9f3a\"],[0.8888888888888888,\"#fdca26\"],[1.0,\"#f0f921\"]],\"type\":\"contour\"}],\"heatmapgl\":[{\"colorbar\":{\"outlinewidth\":0,\"ticks\":\"\"},\"colorscale\":[[0.0,\"#0d0887\"],[0.1111111111111111,\"#46039f\"],[0.2222222222222222,\"#7201a8\"],[0.3333333333333333,\"#9c179e\"],[0.4444444444444444,\"#bd3786\"],[0.5555555555555556,\"#d8576b\"],[0.6666666666666666,\"#ed7953\"],[0.7777777777777778,\"#fb9f3a\"],[0.8888888888888888,\"#fdca26\"],[1.0,\"#f0f921\"]],\"type\":\"heatmapgl\"}],\"heatmap\":[{\"colorbar\":{\"outlinewidth\":0,\"ticks\":\"\"},\"colorscale\":[[0.0,\"#0d0887\"],[0.1111111111111111,\"#46039f\"],[0.2222222222222222,\"#7201a8\"],[0.3333333333333333,\"#9c179e\"],[0.4444444444444444,\"#bd3786\"],[0.5555555555555556,\"#d8576b\"],[0.6666666666666666,\"#ed7953\"],[0.7777777777777778,\"#fb9f3a\"],[0.8888888888888888,\"#fdca26\"],[1.0,\"#f0f921\"]],\"type\":\"heatmap\"}],\"histogram2dcontour\":[{\"colorbar\":{\"outlinewidth\":0,\"ticks\":\"\"},\"colorscale\":[[0.0,\"#0d0887\"],[0.1111111111111111,\"#46039f\"],[0.2222222222222222,\"#7201a8\"],[0.3333333333333333,\"#9c179e\"],[0.4444444444444444,\"#bd3786\"],[0.5555555555555556,\"#d8576b\"],[0.6666666666666666,\"#ed7953\"],[0.7777777777777778,\"#fb9f3a\"],[0.8888888888888888,\"#fdca26\"],[1.0,\"#f0f921\"]],\"type\":\"histogram2dcontour\"}],\"histogram2d\":[{\"colorbar\":{\"outlinewidth\":0,\"ticks\":\"\"},\"colorscale\":[[0.0,\"#0d0887\"],[0.1111111111111111,\"#46039f\"],[0.2222222222222222,\"#7201a8\"],[0.3333333333333333,\"#9c179e\"],[0.4444444444444444,\"#bd3786\"],[0.5555555555555556,\"#d8576b\"],[0.6666666666666666,\"#ed7953\"],[0.7777777777777778,\"#fb9f3a\"],[0.8888888888888888,\"#fdca26\"],[1.0,\"#f0f921\"]],\"type\":\"histogram2d\"}],\"histogram\":[{\"marker\":{\"pattern\":{\"fillmode\":\"overlay\",\"size\":10,\"solidity\":0.2}},\"type\":\"histogram\"}],\"mesh3d\":[{\"colorbar\":{\"outlinewidth\":0,\"ticks\":\"\"},\"type\":\"mesh3d\"}],\"parcoords\":[{\"line\":{\"colorbar\":{\"outlinewidth\":0,\"ticks\":\"\"}},\"type\":\"parcoords\"}],\"pie\":[{\"automargin\":true,\"type\":\"pie\"}],\"scatter3d\":[{\"line\":{\"colorbar\":{\"outlinewidth\":0,\"ticks\":\"\"}},\"marker\":{\"colorbar\":{\"outlinewidth\":0,\"ticks\":\"\"}},\"type\":\"scatter3d\"}],\"scattercarpet\":[{\"marker\":{\"colorbar\":{\"outlinewidth\":0,\"ticks\":\"\"}},\"type\":\"scattercarpet\"}],\"scattergeo\":[{\"marker\":{\"colorbar\":{\"outlinewidth\":0,\"ticks\":\"\"}},\"type\":\"scattergeo\"}],\"scattergl\":[{\"marker\":{\"colorbar\":{\"outlinewidth\":0,\"ticks\":\"\"}},\"type\":\"scattergl\"}],\"scattermapbox\":[{\"marker\":{\"colorbar\":{\"outlinewidth\":0,\"ticks\":\"\"}},\"type\":\"scattermapbox\"}],\"scatterpolargl\":[{\"marker\":{\"colorbar\":{\"outlinewidth\":0,\"ticks\":\"\"}},\"type\":\"scatterpolargl\"}],\"scatterpolar\":[{\"marker\":{\"colorbar\":{\"outlinewidth\":0,\"ticks\":\"\"}},\"type\":\"scatterpolar\"}],\"scatter\":[{\"fillpattern\":{\"fillmode\":\"overlay\",\"size\":10,\"solidity\":0.2},\"type\":\"scatter\"}],\"scatterternary\":[{\"marker\":{\"colorbar\":{\"outlinewidth\":0,\"ticks\":\"\"}},\"type\":\"scatterternary\"}],\"surface\":[{\"colorbar\":{\"outlinewidth\":0,\"ticks\":\"\"},\"colorscale\":[[0.0,\"#0d0887\"],[0.1111111111111111,\"#46039f\"],[0.2222222222222222,\"#7201a8\"],[0.3333333333333333,\"#9c179e\"],[0.4444444444444444,\"#bd3786\"],[0.5555555555555556,\"#d8576b\"],[0.6666666666666666,\"#ed7953\"],[0.7777777777777778,\"#fb9f3a\"],[0.8888888888888888,\"#fdca26\"],[1.0,\"#f0f921\"]],\"type\":\"surface\"}],\"table\":[{\"cells\":{\"fill\":{\"color\":\"#EBF0F8\"},\"line\":{\"color\":\"white\"}},\"header\":{\"fill\":{\"color\":\"#C8D4E3\"},\"line\":{\"color\":\"white\"}},\"type\":\"table\"}]},\"layout\":{\"annotationdefaults\":{\"arrowcolor\":\"#2a3f5f\",\"arrowhead\":0,\"arrowwidth\":1},\"autotypenumbers\":\"strict\",\"coloraxis\":{\"colorbar\":{\"outlinewidth\":0,\"ticks\":\"\"}},\"colorscale\":{\"diverging\":[[0,\"#8e0152\"],[0.1,\"#c51b7d\"],[0.2,\"#de77ae\"],[0.3,\"#f1b6da\"],[0.4,\"#fde0ef\"],[0.5,\"#f7f7f7\"],[0.6,\"#e6f5d0\"],[0.7,\"#b8e186\"],[0.8,\"#7fbc41\"],[0.9,\"#4d9221\"],[1,\"#276419\"]],\"sequential\":[[0.0,\"#0d0887\"],[0.1111111111111111,\"#46039f\"],[0.2222222222222222,\"#7201a8\"],[0.3333333333333333,\"#9c179e\"],[0.4444444444444444,\"#bd3786\"],[0.5555555555555556,\"#d8576b\"],[0.6666666666666666,\"#ed7953\"],[0.7777777777777778,\"#fb9f3a\"],[0.8888888888888888,\"#fdca26\"],[1.0,\"#f0f921\"]],\"sequentialminus\":[[0.0,\"#0d0887\"],[0.1111111111111111,\"#46039f\"],[0.2222222222222222,\"#7201a8\"],[0.3333333333333333,\"#9c179e\"],[0.4444444444444444,\"#bd3786\"],[0.5555555555555556,\"#d8576b\"],[0.6666666666666666,\"#ed7953\"],[0.7777777777777778,\"#fb9f3a\"],[0.8888888888888888,\"#fdca26\"],[1.0,\"#f0f921\"]]},\"colorway\":[\"#636efa\",\"#EF553B\",\"#00cc96\",\"#ab63fa\",\"#FFA15A\",\"#19d3f3\",\"#FF6692\",\"#B6E880\",\"#FF97FF\",\"#FECB52\"],\"font\":{\"color\":\"#2a3f5f\"},\"geo\":{\"bgcolor\":\"white\",\"lakecolor\":\"white\",\"landcolor\":\"#E5ECF6\",\"showlakes\":true,\"showland\":true,\"subunitcolor\":\"white\"},\"hoverlabel\":{\"align\":\"left\"},\"hovermode\":\"closest\",\"mapbox\":{\"style\":\"light\"},\"paper_bgcolor\":\"white\",\"plot_bgcolor\":\"#E5ECF6\",\"polar\":{\"angularaxis\":{\"gridcolor\":\"white\",\"linecolor\":\"white\",\"ticks\":\"\"},\"bgcolor\":\"#E5ECF6\",\"radialaxis\":{\"gridcolor\":\"white\",\"linecolor\":\"white\",\"ticks\":\"\"}},\"scene\":{\"xaxis\":{\"backgroundcolor\":\"#E5ECF6\",\"gridcolor\":\"white\",\"gridwidth\":2,\"linecolor\":\"white\",\"showbackground\":true,\"ticks\":\"\",\"zerolinecolor\":\"white\"},\"yaxis\":{\"backgroundcolor\":\"#E5ECF6\",\"gridcolor\":\"white\",\"gridwidth\":2,\"linecolor\":\"white\",\"showbackground\":true,\"ticks\":\"\",\"zerolinecolor\":\"white\"},\"zaxis\":{\"backgroundcolor\":\"#E5ECF6\",\"gridcolor\":\"white\",\"gridwidth\":2,\"linecolor\":\"white\",\"showbackground\":true,\"ticks\":\"\",\"zerolinecolor\":\"white\"}},\"shapedefaults\":{\"line\":{\"color\":\"#2a3f5f\"}},\"ternary\":{\"aaxis\":{\"gridcolor\":\"white\",\"linecolor\":\"white\",\"ticks\":\"\"},\"baxis\":{\"gridcolor\":\"white\",\"linecolor\":\"white\",\"ticks\":\"\"},\"bgcolor\":\"#E5ECF6\",\"caxis\":{\"gridcolor\":\"white\",\"linecolor\":\"white\",\"ticks\":\"\"}},\"title\":{\"x\":0.05},\"xaxis\":{\"automargin\":true,\"gridcolor\":\"white\",\"linecolor\":\"white\",\"ticks\":\"\",\"title\":{\"standoff\":15},\"zerolinecolor\":\"white\",\"zerolinewidth\":2},\"yaxis\":{\"automargin\":true,\"gridcolor\":\"white\",\"linecolor\":\"white\",\"ticks\":\"\",\"title\":{\"standoff\":15},\"zerolinecolor\":\"white\",\"zerolinewidth\":2}}},\"title\":{\"font\":{\"color\":\"#D9D9D9\"},\"text\":\"Scatter plot of Halstead Error Estimate vs Design Complexity\"},\"width\":900,\"xaxis\":{\"gridcolor\":\"#434343\",\"showgrid\":true,\"tickfont\":{\"color\":\"#C2C2C2\"},\"title\":{\"font\":{\"color\":\"#D9D9D9\"},\"text\":\"Design Complexity\"},\"zerolinecolor\":\"#666570\"},\"yaxis\":{\"gridcolor\":\"#434343\",\"showgrid\":true,\"tickfont\":{\"color\":\"#C2C2C2\"},\"title\":{\"font\":{\"color\":\"#D9D9D9\"},\"text\":\"Halstead Error Estimate\"},\"zerolinecolor\":\"#666570\"}},                        {\"showLink\": true, \"linkText\": \"Export to plot.ly\", \"plotlyServerURL\": \"https://plot.ly\", \"responsive\": true}                    ).then(function(){\n",
       "                            \n",
       "var gd = document.getElementById('566b6e33-6087-4b61-b97c-cf7f3a288f12');\n",
       "var x = new MutationObserver(function (mutations, observer) {{\n",
       "        var display = window.getComputedStyle(gd).display;\n",
       "        if (!display || display === 'none') {{\n",
       "            console.log([gd, 'removed!']);\n",
       "            Plotly.purge(gd);\n",
       "            observer.disconnect();\n",
       "        }}\n",
       "}});\n",
       "\n",
       "// Listen for the removal of the full notebook cells\n",
       "var notebookContainer = gd.closest('#notebook-container');\n",
       "if (notebookContainer) {{\n",
       "    x.observe(notebookContainer, {childList: true});\n",
       "}}\n",
       "\n",
       "// Listen for the clearing of the current output cell\n",
       "var outputEl = gd.closest('.output');\n",
       "if (outputEl) {{\n",
       "    x.observe(outputEl, {childList: true});\n",
       "}}\n",
       "\n",
       "                        })                };                });            </script>        </div>"
      ]
     },
     "metadata": {},
     "output_type": "display_data"
    }
   ],
   "source": [
    "defective_group.iplot(\n",
    "    kind='scatter',\n",
    "    y='HALSTEAD_ERROR_EST',\n",
    "    x='DESIGN_COMPLEXITY',\n",
    "    dimensions=(900, 500),\n",
    "    theme=\"solar\",\n",
    "    xTitle='Design Complexity',\n",
    "    yTitle='Halstead Error Estimate',\n",
    "    title='Scatter plot of Halstead Error Estimate vs Design Complexity',\n",
    "    mode=\"markers\",\n",
    "    bestfit=True,\n",
    "    bestfit_colors=['green'],\n",
    ")"
   ]
  },
  {
   "cell_type": "markdown",
   "metadata": {},
   "source": [
    "Now for regression analysis on the non-defective modules:"
   ]
  },
  {
   "cell_type": "code",
   "execution_count": 28,
   "metadata": {},
   "outputs": [
    {
     "name": "stdout",
     "output_type": "stream",
     "text": [
      "R-squared:  0.7844119853562884\n",
      "The equation of the line is: y = 0.08910796233779936x + -0.029710481896269347\n"
     ]
    }
   ],
   "source": [
    "Y = non_defective_group[\"HALSTEAD_ERROR_EST\"]\n",
    "X = non_defective_group[[\"DESIGN_COMPLEXITY\"]]\n",
    "\n",
    "linear_regression_model = LinearRegression()\n",
    "linear_regression_model.fit(X, Y)\n",
    "\n",
    "print(\"R-squared: \", linear_regression_model.score(X, Y))\n",
    "print(\"The equation of the line is: y = \", linear_regression_model.coef_[0], \"x + \", linear_regression_model.intercept_, sep='')"
   ]
  },
  {
   "cell_type": "code",
   "execution_count": 29,
   "metadata": {},
   "outputs": [
    {
     "data": {
      "application/vnd.plotly.v1+json": {
       "config": {
        "linkText": "Export to plot.ly",
        "plotlyServerURL": "https://plot.ly",
        "showLink": true
       },
       "data": [
        {
         "line": {
          "color": "rgba(255, 153, 51, 1.0)",
          "dash": "solid",
          "shape": "linear",
          "width": 1.3
         },
         "marker": {
          "size": 12,
          "symbol": "circle"
         },
         "mode": "markers",
         "name": "HALSTEAD_ERROR_EST",
         "text": "",
         "type": "scatter",
         "x": [
          1,
          1,
          7,
          6,
          5,
          1,
          1,
          2,
          4,
          6,
          3,
          2,
          2,
          2,
          1,
          4,
          2,
          3,
          1,
          3,
          8,
          2,
          2,
          1,
          2,
          5,
          3,
          4,
          6,
          5,
          10,
          22,
          1,
          2,
          9,
          6,
          9,
          1,
          6,
          5,
          46,
          1,
          4,
          2,
          10,
          7,
          2,
          5,
          5,
          1,
          3,
          1,
          3,
          1,
          3,
          4,
          4,
          2,
          2,
          6,
          2,
          13,
          3,
          1,
          3,
          2,
          2,
          3,
          1,
          3,
          2,
          4,
          4,
          9,
          7,
          3,
          1,
          2,
          4,
          1,
          10,
          5,
          2,
          3,
          7,
          1,
          8,
          1,
          5,
          1,
          1,
          1,
          1,
          6,
          3,
          12,
          17,
          2,
          2,
          1,
          4,
          13,
          3,
          1,
          8,
          2,
          2,
          9,
          8,
          3,
          3,
          3,
          1,
          13,
          1,
          5,
          2,
          1,
          2,
          8,
          2,
          6,
          3,
          2,
          3,
          2,
          7,
          4,
          9,
          1,
          1,
          1,
          4,
          2,
          11,
          1,
          1,
          1,
          14,
          3,
          10,
          24,
          4,
          2,
          20,
          1,
          2,
          1,
          63,
          5,
          3,
          4,
          3,
          2,
          1,
          1,
          5,
          3,
          4,
          1,
          1,
          9,
          9,
          6,
          1,
          1,
          11,
          7,
          6,
          3,
          1,
          6,
          4,
          3,
          4,
          10,
          10,
          5,
          2,
          8,
          1,
          1,
          1,
          3,
          3,
          24,
          1,
          1,
          1,
          2,
          2,
          15,
          1,
          3,
          1,
          8,
          4,
          11,
          1,
          13,
          1,
          2,
          4,
          4,
          3,
          7,
          1,
          1,
          1,
          1,
          4,
          2,
          5,
          2,
          2,
          3,
          4,
          1,
          6,
          2,
          4,
          1,
          1,
          2,
          6,
          10,
          23,
          2,
          2,
          3,
          5,
          1,
          4,
          1,
          1,
          2,
          5,
          9,
          6,
          3,
          3,
          3,
          2,
          5,
          27,
          3,
          2,
          4,
          3,
          2,
          6,
          2,
          1,
          1,
          2,
          6,
          4,
          8,
          4,
          2,
          5,
          3,
          6,
          2,
          2,
          4,
          2,
          1,
          4,
          7,
          2,
          2,
          4,
          2,
          5,
          2,
          3,
          3,
          3,
          1,
          15,
          2,
          1,
          2,
          2
         ],
         "y": [
          0.02,
          0.04,
          0.8,
          0.16,
          0.18,
          0.06,
          0.09,
          0.54,
          0.18,
          0.3,
          0.18,
          0.03,
          0.1,
          0.17,
          0.1,
          0.24,
          0.2,
          0.15,
          0.09,
          0.25,
          1.2,
          0.06,
          0.25,
          0.04,
          0.03,
          0.13,
          0.18,
          0.13,
          0.26,
          0.5,
          1.34,
          2.84,
          0.08,
          0.02,
          0.25,
          0.23,
          0.24,
          0.05,
          1.86,
          0.21,
          5.12,
          0.02,
          0.24,
          0.12,
          1.82,
          0.54,
          0.12,
          0.08,
          0.35,
          0.04,
          0.18,
          0.16,
          0.25,
          0.15,
          0.18,
          0.09,
          0.09,
          0.38,
          0.27,
          0.37,
          0.43,
          1.71,
          0.03,
          0.04,
          0.1,
          0.06,
          0.17,
          0.26,
          0.09,
          0.13,
          0.09,
          0.21,
          0.11,
          1.11,
          0.58,
          0.09,
          0.05,
          0.18,
          0.16,
          0.04,
          0.65,
          0.11,
          0.02,
          0.17,
          1.14,
          0.1,
          1.65,
          0.07,
          0.41,
          0.12,
          0.07,
          0.1,
          0.25,
          0.34,
          0.08,
          0.61,
          1.74,
          0.02,
          0.2,
          0.12,
          0.48,
          1.04,
          0.16,
          0.16,
          0.21,
          0.18,
          0.11,
          0.58,
          0.12,
          0.04,
          0.06,
          0.11,
          0.06,
          0.26,
          0.45,
          0.35,
          0.14,
          0.04,
          0.22,
          0.55,
          0.17,
          0.24,
          0.06,
          0.04,
          0.16,
          0.09,
          0.38,
          0.3,
          0.72,
          0.09,
          0.04,
          0.06,
          0.1,
          0.09,
          1.22,
          0.06,
          0.17,
          0.11,
          0.28,
          0.12,
          0.53,
          1.56,
          0.13,
          0.31,
          1.15,
          0.06,
          0.29,
          0.08,
          5.56,
          0.24,
          0.16,
          0.55,
          0.12,
          0.06,
          0.43,
          0.06,
          0.27,
          0.87,
          0.14,
          0.08,
          0.15,
          1.89,
          0.57,
          0.68,
          0.06,
          0.1,
          1.06,
          0.66,
          1,
          0.23,
          0.26,
          0.3,
          0.14,
          0.17,
          0.1,
          0.5,
          1.16,
          0.18,
          0.1,
          0.6,
          0.06,
          1.11,
          0.09,
          0.11,
          0.36,
          1.86,
          0.03,
          0.02,
          0.05,
          0.21,
          0.38,
          1.95,
          0.12,
          0.13,
          0.04,
          0.87,
          0.16,
          0.91,
          0.3,
          0.93,
          0.07,
          0.07,
          0.19,
          0.2,
          0.12,
          0.73,
          0.08,
          0.03,
          0.02,
          0.01,
          0.09,
          0.43,
          0.72,
          0.19,
          0.1,
          0.16,
          0.28,
          0.05,
          1.25,
          0.12,
          0.83,
          0.04,
          0.02,
          0.03,
          0.76,
          1.09,
          1.86,
          0.49,
          0.06,
          0.14,
          0.27,
          0.29,
          0.54,
          0.02,
          0.08,
          0.28,
          0.27,
          0.43,
          0.31,
          0.58,
          0.12,
          0.05,
          0.17,
          0.35,
          1.7,
          0.13,
          0.06,
          0.37,
          0.12,
          0.44,
          0.9,
          0.02,
          0.03,
          1.04,
          0.17,
          0.34,
          0.13,
          0.44,
          0.22,
          0.05,
          0.36,
          0.3,
          0.72,
          0.11,
          0.14,
          0.18,
          0.03,
          0.06,
          0.28,
          0.52,
          0.07,
          0.1,
          0.59,
          0.04,
          0.37,
          0.12,
          0.24,
          0.54,
          0.1,
          0.31,
          0.88,
          0.12,
          0.05,
          0.2,
          0.05
         ]
        },
        {
         "line": {
          "color": "rgba(0, 128, 0, 1.0)",
          "dash": "dash",
          "shape": "linear",
          "width": 3
         },
         "mode": "lines",
         "name": "0.09*x+-0.03",
         "type": "scatter",
         "x": [
          1,
          1,
          7,
          6,
          5,
          1,
          1,
          2,
          4,
          6,
          3,
          2,
          2,
          2,
          1,
          4,
          2,
          3,
          1,
          3,
          8,
          2,
          2,
          1,
          2,
          5,
          3,
          4,
          6,
          5,
          10,
          22,
          1,
          2,
          9,
          6,
          9,
          1,
          6,
          5,
          46,
          1,
          4,
          2,
          10,
          7,
          2,
          5,
          5,
          1,
          3,
          1,
          3,
          1,
          3,
          4,
          4,
          2,
          2,
          6,
          2,
          13,
          3,
          1,
          3,
          2,
          2,
          3,
          1,
          3,
          2,
          4,
          4,
          9,
          7,
          3,
          1,
          2,
          4,
          1,
          10,
          5,
          2,
          3,
          7,
          1,
          8,
          1,
          5,
          1,
          1,
          1,
          1,
          6,
          3,
          12,
          17,
          2,
          2,
          1,
          4,
          13,
          3,
          1,
          8,
          2,
          2,
          9,
          8,
          3,
          3,
          3,
          1,
          13,
          1,
          5,
          2,
          1,
          2,
          8,
          2,
          6,
          3,
          2,
          3,
          2,
          7,
          4,
          9,
          1,
          1,
          1,
          4,
          2,
          11,
          1,
          1,
          1,
          14,
          3,
          10,
          24,
          4,
          2,
          20,
          1,
          2,
          1,
          63,
          5,
          3,
          4,
          3,
          2,
          1,
          1,
          5,
          3,
          4,
          1,
          1,
          9,
          9,
          6,
          1,
          1,
          11,
          7,
          6,
          3,
          1,
          6,
          4,
          3,
          4,
          10,
          10,
          5,
          2,
          8,
          1,
          1,
          1,
          3,
          3,
          24,
          1,
          1,
          1,
          2,
          2,
          15,
          1,
          3,
          1,
          8,
          4,
          11,
          1,
          13,
          1,
          2,
          4,
          4,
          3,
          7,
          1,
          1,
          1,
          1,
          4,
          2,
          5,
          2,
          2,
          3,
          4,
          1,
          6,
          2,
          4,
          1,
          1,
          2,
          6,
          10,
          23,
          2,
          2,
          3,
          5,
          1,
          4,
          1,
          1,
          2,
          5,
          9,
          6,
          3,
          3,
          3,
          2,
          5,
          27,
          3,
          2,
          4,
          3,
          2,
          6,
          2,
          1,
          1,
          2,
          6,
          4,
          8,
          4,
          2,
          5,
          3,
          6,
          2,
          2,
          4,
          2,
          1,
          4,
          7,
          2,
          2,
          4,
          2,
          5,
          2,
          3,
          3,
          3,
          1,
          15,
          2,
          1,
          2,
          2
         ],
         "y": [
          0.05939748044152991,
          0.05939748044152991,
          0.594045254468326,
          0.5049372921305266,
          0.41582932979272735,
          0.05939748044152991,
          0.05939748044152991,
          0.14850544277932926,
          0.32672136745492797,
          0.5049372921305266,
          0.23761340511712858,
          0.14850544277932926,
          0.14850544277932926,
          0.14850544277932926,
          0.05939748044152991,
          0.32672136745492797,
          0.14850544277932926,
          0.23761340511712858,
          0.05939748044152991,
          0.23761340511712858,
          0.6831532168061254,
          0.14850544277932926,
          0.14850544277932926,
          0.05939748044152991,
          0.14850544277932926,
          0.41582932979272735,
          0.23761340511712858,
          0.32672136745492797,
          0.5049372921305266,
          0.41582932979272735,
          0.8613691414817242,
          1.9306646895353163,
          0.05939748044152991,
          0.14850544277932926,
          0.7722611791439248,
          0.5049372921305266,
          0.7722611791439248,
          0.05939748044152991,
          0.5049372921305266,
          0.41582932979272735,
          4.069255785642501,
          0.05939748044152991,
          0.32672136745492797,
          0.14850544277932926,
          0.8613691414817242,
          0.594045254468326,
          0.14850544277932926,
          0.41582932979272735,
          0.41582932979272735,
          0.05939748044152991,
          0.23761340511712858,
          0.05939748044152991,
          0.23761340511712858,
          0.05939748044152991,
          0.23761340511712858,
          0.32672136745492797,
          0.32672136745492797,
          0.14850544277932926,
          0.14850544277932926,
          0.5049372921305266,
          0.14850544277932926,
          1.1286930284951222,
          0.23761340511712858,
          0.05939748044152991,
          0.23761340511712858,
          0.14850544277932926,
          0.14850544277932926,
          0.23761340511712858,
          0.05939748044152991,
          0.23761340511712858,
          0.14850544277932926,
          0.32672136745492797,
          0.32672136745492797,
          0.7722611791439248,
          0.594045254468326,
          0.23761340511712858,
          0.05939748044152991,
          0.14850544277932926,
          0.32672136745492797,
          0.05939748044152991,
          0.8613691414817242,
          0.41582932979272735,
          0.14850544277932926,
          0.23761340511712858,
          0.594045254468326,
          0.05939748044152991,
          0.6831532168061254,
          0.05939748044152991,
          0.41582932979272735,
          0.05939748044152991,
          0.05939748044152991,
          0.05939748044152991,
          0.05939748044152991,
          0.5049372921305266,
          0.23761340511712858,
          1.0395850661573227,
          1.4851248778463195,
          0.14850544277932926,
          0.14850544277932926,
          0.05939748044152991,
          0.32672136745492797,
          1.1286930284951222,
          0.23761340511712858,
          0.05939748044152991,
          0.6831532168061254,
          0.14850544277932926,
          0.14850544277932926,
          0.7722611791439248,
          0.6831532168061254,
          0.23761340511712858,
          0.23761340511712858,
          0.23761340511712858,
          0.05939748044152991,
          1.1286930284951222,
          0.05939748044152991,
          0.41582932979272735,
          0.14850544277932926,
          0.05939748044152991,
          0.14850544277932926,
          0.6831532168061254,
          0.14850544277932926,
          0.5049372921305266,
          0.23761340511712858,
          0.14850544277932926,
          0.23761340511712858,
          0.14850544277932926,
          0.594045254468326,
          0.32672136745492797,
          0.7722611791439248,
          0.05939748044152991,
          0.05939748044152991,
          0.05939748044152991,
          0.32672136745492797,
          0.14850544277932926,
          0.9504771038195234,
          0.05939748044152991,
          0.05939748044152991,
          0.05939748044152991,
          1.2178009908329215,
          0.23761340511712858,
          0.8613691414817242,
          2.108880614210915,
          0.32672136745492797,
          0.14850544277932926,
          1.7524487648597178,
          0.05939748044152991,
          0.14850544277932926,
          0.05939748044152991,
          5.5840911453850905,
          0.41582932979272735,
          0.23761340511712858,
          0.32672136745492797,
          0.23761340511712858,
          0.14850544277932926,
          0.05939748044152991,
          0.05939748044152991,
          0.41582932979272735,
          0.23761340511712858,
          0.32672136745492797,
          0.05939748044152991,
          0.05939748044152991,
          0.7722611791439248,
          0.7722611791439248,
          0.5049372921305266,
          0.05939748044152991,
          0.05939748044152991,
          0.9504771038195234,
          0.594045254468326,
          0.5049372921305266,
          0.23761340511712858,
          0.05939748044152991,
          0.5049372921305266,
          0.32672136745492797,
          0.23761340511712858,
          0.32672136745492797,
          0.8613691414817242,
          0.8613691414817242,
          0.41582932979272735,
          0.14850544277932926,
          0.6831532168061254,
          0.05939748044152991,
          0.05939748044152991,
          0.05939748044152991,
          0.23761340511712858,
          0.23761340511712858,
          2.108880614210915,
          0.05939748044152991,
          0.05939748044152991,
          0.05939748044152991,
          0.14850544277932926,
          0.14850544277932926,
          1.306908953170721,
          0.05939748044152991,
          0.23761340511712858,
          0.05939748044152991,
          0.6831532168061254,
          0.32672136745492797,
          0.9504771038195234,
          0.05939748044152991,
          1.1286930284951222,
          0.05939748044152991,
          0.14850544277932926,
          0.32672136745492797,
          0.32672136745492797,
          0.23761340511712858,
          0.594045254468326,
          0.05939748044152991,
          0.05939748044152991,
          0.05939748044152991,
          0.05939748044152991,
          0.32672136745492797,
          0.14850544277932926,
          0.41582932979272735,
          0.14850544277932926,
          0.14850544277932926,
          0.23761340511712858,
          0.32672136745492797,
          0.05939748044152991,
          0.5049372921305266,
          0.14850544277932926,
          0.32672136745492797,
          0.05939748044152991,
          0.05939748044152991,
          0.14850544277932926,
          0.5049372921305266,
          0.8613691414817242,
          2.019772651873116,
          0.14850544277932926,
          0.14850544277932926,
          0.23761340511712858,
          0.41582932979272735,
          0.05939748044152991,
          0.32672136745492797,
          0.05939748044152991,
          0.05939748044152991,
          0.14850544277932926,
          0.41582932979272735,
          0.7722611791439248,
          0.5049372921305266,
          0.23761340511712858,
          0.23761340511712858,
          0.23761340511712858,
          0.14850544277932926,
          0.41582932979272735,
          2.3762045012243136,
          0.23761340511712858,
          0.14850544277932926,
          0.32672136745492797,
          0.23761340511712858,
          0.14850544277932926,
          0.5049372921305266,
          0.14850544277932926,
          0.05939748044152991,
          0.05939748044152991,
          0.14850544277932926,
          0.5049372921305266,
          0.32672136745492797,
          0.6831532168061254,
          0.32672136745492797,
          0.14850544277932926,
          0.41582932979272735,
          0.23761340511712858,
          0.5049372921305266,
          0.14850544277932926,
          0.14850544277932926,
          0.32672136745492797,
          0.14850544277932926,
          0.05939748044152991,
          0.32672136745492797,
          0.594045254468326,
          0.14850544277932926,
          0.14850544277932926,
          0.32672136745492797,
          0.14850544277932926,
          0.41582932979272735,
          0.14850544277932926,
          0.23761340511712858,
          0.23761340511712858,
          0.23761340511712858,
          0.05939748044152991,
          1.306908953170721,
          0.14850544277932926,
          0.05939748044152991,
          0.14850544277932926,
          0.14850544277932926
         ]
        }
       ],
       "layout": {
        "height": 500,
        "legend": {
         "bgcolor": "#151516",
         "font": {
          "color": "#D9D9D9"
         }
        },
        "paper_bgcolor": "#151516",
        "plot_bgcolor": "#151516",
        "template": {
         "data": {
          "bar": [
           {
            "error_x": {
             "color": "#2a3f5f"
            },
            "error_y": {
             "color": "#2a3f5f"
            },
            "marker": {
             "line": {
              "color": "#E5ECF6",
              "width": 0.5
             },
             "pattern": {
              "fillmode": "overlay",
              "size": 10,
              "solidity": 0.2
             }
            },
            "type": "bar"
           }
          ],
          "barpolar": [
           {
            "marker": {
             "line": {
              "color": "#E5ECF6",
              "width": 0.5
             },
             "pattern": {
              "fillmode": "overlay",
              "size": 10,
              "solidity": 0.2
             }
            },
            "type": "barpolar"
           }
          ],
          "carpet": [
           {
            "aaxis": {
             "endlinecolor": "#2a3f5f",
             "gridcolor": "white",
             "linecolor": "white",
             "minorgridcolor": "white",
             "startlinecolor": "#2a3f5f"
            },
            "baxis": {
             "endlinecolor": "#2a3f5f",
             "gridcolor": "white",
             "linecolor": "white",
             "minorgridcolor": "white",
             "startlinecolor": "#2a3f5f"
            },
            "type": "carpet"
           }
          ],
          "choropleth": [
           {
            "colorbar": {
             "outlinewidth": 0,
             "ticks": ""
            },
            "type": "choropleth"
           }
          ],
          "contour": [
           {
            "colorbar": {
             "outlinewidth": 0,
             "ticks": ""
            },
            "colorscale": [
             [
              0,
              "#0d0887"
             ],
             [
              0.1111111111111111,
              "#46039f"
             ],
             [
              0.2222222222222222,
              "#7201a8"
             ],
             [
              0.3333333333333333,
              "#9c179e"
             ],
             [
              0.4444444444444444,
              "#bd3786"
             ],
             [
              0.5555555555555556,
              "#d8576b"
             ],
             [
              0.6666666666666666,
              "#ed7953"
             ],
             [
              0.7777777777777778,
              "#fb9f3a"
             ],
             [
              0.8888888888888888,
              "#fdca26"
             ],
             [
              1,
              "#f0f921"
             ]
            ],
            "type": "contour"
           }
          ],
          "contourcarpet": [
           {
            "colorbar": {
             "outlinewidth": 0,
             "ticks": ""
            },
            "type": "contourcarpet"
           }
          ],
          "heatmap": [
           {
            "colorbar": {
             "outlinewidth": 0,
             "ticks": ""
            },
            "colorscale": [
             [
              0,
              "#0d0887"
             ],
             [
              0.1111111111111111,
              "#46039f"
             ],
             [
              0.2222222222222222,
              "#7201a8"
             ],
             [
              0.3333333333333333,
              "#9c179e"
             ],
             [
              0.4444444444444444,
              "#bd3786"
             ],
             [
              0.5555555555555556,
              "#d8576b"
             ],
             [
              0.6666666666666666,
              "#ed7953"
             ],
             [
              0.7777777777777778,
              "#fb9f3a"
             ],
             [
              0.8888888888888888,
              "#fdca26"
             ],
             [
              1,
              "#f0f921"
             ]
            ],
            "type": "heatmap"
           }
          ],
          "heatmapgl": [
           {
            "colorbar": {
             "outlinewidth": 0,
             "ticks": ""
            },
            "colorscale": [
             [
              0,
              "#0d0887"
             ],
             [
              0.1111111111111111,
              "#46039f"
             ],
             [
              0.2222222222222222,
              "#7201a8"
             ],
             [
              0.3333333333333333,
              "#9c179e"
             ],
             [
              0.4444444444444444,
              "#bd3786"
             ],
             [
              0.5555555555555556,
              "#d8576b"
             ],
             [
              0.6666666666666666,
              "#ed7953"
             ],
             [
              0.7777777777777778,
              "#fb9f3a"
             ],
             [
              0.8888888888888888,
              "#fdca26"
             ],
             [
              1,
              "#f0f921"
             ]
            ],
            "type": "heatmapgl"
           }
          ],
          "histogram": [
           {
            "marker": {
             "pattern": {
              "fillmode": "overlay",
              "size": 10,
              "solidity": 0.2
             }
            },
            "type": "histogram"
           }
          ],
          "histogram2d": [
           {
            "colorbar": {
             "outlinewidth": 0,
             "ticks": ""
            },
            "colorscale": [
             [
              0,
              "#0d0887"
             ],
             [
              0.1111111111111111,
              "#46039f"
             ],
             [
              0.2222222222222222,
              "#7201a8"
             ],
             [
              0.3333333333333333,
              "#9c179e"
             ],
             [
              0.4444444444444444,
              "#bd3786"
             ],
             [
              0.5555555555555556,
              "#d8576b"
             ],
             [
              0.6666666666666666,
              "#ed7953"
             ],
             [
              0.7777777777777778,
              "#fb9f3a"
             ],
             [
              0.8888888888888888,
              "#fdca26"
             ],
             [
              1,
              "#f0f921"
             ]
            ],
            "type": "histogram2d"
           }
          ],
          "histogram2dcontour": [
           {
            "colorbar": {
             "outlinewidth": 0,
             "ticks": ""
            },
            "colorscale": [
             [
              0,
              "#0d0887"
             ],
             [
              0.1111111111111111,
              "#46039f"
             ],
             [
              0.2222222222222222,
              "#7201a8"
             ],
             [
              0.3333333333333333,
              "#9c179e"
             ],
             [
              0.4444444444444444,
              "#bd3786"
             ],
             [
              0.5555555555555556,
              "#d8576b"
             ],
             [
              0.6666666666666666,
              "#ed7953"
             ],
             [
              0.7777777777777778,
              "#fb9f3a"
             ],
             [
              0.8888888888888888,
              "#fdca26"
             ],
             [
              1,
              "#f0f921"
             ]
            ],
            "type": "histogram2dcontour"
           }
          ],
          "mesh3d": [
           {
            "colorbar": {
             "outlinewidth": 0,
             "ticks": ""
            },
            "type": "mesh3d"
           }
          ],
          "parcoords": [
           {
            "line": {
             "colorbar": {
              "outlinewidth": 0,
              "ticks": ""
             }
            },
            "type": "parcoords"
           }
          ],
          "pie": [
           {
            "automargin": true,
            "type": "pie"
           }
          ],
          "scatter": [
           {
            "fillpattern": {
             "fillmode": "overlay",
             "size": 10,
             "solidity": 0.2
            },
            "type": "scatter"
           }
          ],
          "scatter3d": [
           {
            "line": {
             "colorbar": {
              "outlinewidth": 0,
              "ticks": ""
             }
            },
            "marker": {
             "colorbar": {
              "outlinewidth": 0,
              "ticks": ""
             }
            },
            "type": "scatter3d"
           }
          ],
          "scattercarpet": [
           {
            "marker": {
             "colorbar": {
              "outlinewidth": 0,
              "ticks": ""
             }
            },
            "type": "scattercarpet"
           }
          ],
          "scattergeo": [
           {
            "marker": {
             "colorbar": {
              "outlinewidth": 0,
              "ticks": ""
             }
            },
            "type": "scattergeo"
           }
          ],
          "scattergl": [
           {
            "marker": {
             "colorbar": {
              "outlinewidth": 0,
              "ticks": ""
             }
            },
            "type": "scattergl"
           }
          ],
          "scattermapbox": [
           {
            "marker": {
             "colorbar": {
              "outlinewidth": 0,
              "ticks": ""
             }
            },
            "type": "scattermapbox"
           }
          ],
          "scatterpolar": [
           {
            "marker": {
             "colorbar": {
              "outlinewidth": 0,
              "ticks": ""
             }
            },
            "type": "scatterpolar"
           }
          ],
          "scatterpolargl": [
           {
            "marker": {
             "colorbar": {
              "outlinewidth": 0,
              "ticks": ""
             }
            },
            "type": "scatterpolargl"
           }
          ],
          "scatterternary": [
           {
            "marker": {
             "colorbar": {
              "outlinewidth": 0,
              "ticks": ""
             }
            },
            "type": "scatterternary"
           }
          ],
          "surface": [
           {
            "colorbar": {
             "outlinewidth": 0,
             "ticks": ""
            },
            "colorscale": [
             [
              0,
              "#0d0887"
             ],
             [
              0.1111111111111111,
              "#46039f"
             ],
             [
              0.2222222222222222,
              "#7201a8"
             ],
             [
              0.3333333333333333,
              "#9c179e"
             ],
             [
              0.4444444444444444,
              "#bd3786"
             ],
             [
              0.5555555555555556,
              "#d8576b"
             ],
             [
              0.6666666666666666,
              "#ed7953"
             ],
             [
              0.7777777777777778,
              "#fb9f3a"
             ],
             [
              0.8888888888888888,
              "#fdca26"
             ],
             [
              1,
              "#f0f921"
             ]
            ],
            "type": "surface"
           }
          ],
          "table": [
           {
            "cells": {
             "fill": {
              "color": "#EBF0F8"
             },
             "line": {
              "color": "white"
             }
            },
            "header": {
             "fill": {
              "color": "#C8D4E3"
             },
             "line": {
              "color": "white"
             }
            },
            "type": "table"
           }
          ]
         },
         "layout": {
          "annotationdefaults": {
           "arrowcolor": "#2a3f5f",
           "arrowhead": 0,
           "arrowwidth": 1
          },
          "autotypenumbers": "strict",
          "coloraxis": {
           "colorbar": {
            "outlinewidth": 0,
            "ticks": ""
           }
          },
          "colorscale": {
           "diverging": [
            [
             0,
             "#8e0152"
            ],
            [
             0.1,
             "#c51b7d"
            ],
            [
             0.2,
             "#de77ae"
            ],
            [
             0.3,
             "#f1b6da"
            ],
            [
             0.4,
             "#fde0ef"
            ],
            [
             0.5,
             "#f7f7f7"
            ],
            [
             0.6,
             "#e6f5d0"
            ],
            [
             0.7,
             "#b8e186"
            ],
            [
             0.8,
             "#7fbc41"
            ],
            [
             0.9,
             "#4d9221"
            ],
            [
             1,
             "#276419"
            ]
           ],
           "sequential": [
            [
             0,
             "#0d0887"
            ],
            [
             0.1111111111111111,
             "#46039f"
            ],
            [
             0.2222222222222222,
             "#7201a8"
            ],
            [
             0.3333333333333333,
             "#9c179e"
            ],
            [
             0.4444444444444444,
             "#bd3786"
            ],
            [
             0.5555555555555556,
             "#d8576b"
            ],
            [
             0.6666666666666666,
             "#ed7953"
            ],
            [
             0.7777777777777778,
             "#fb9f3a"
            ],
            [
             0.8888888888888888,
             "#fdca26"
            ],
            [
             1,
             "#f0f921"
            ]
           ],
           "sequentialminus": [
            [
             0,
             "#0d0887"
            ],
            [
             0.1111111111111111,
             "#46039f"
            ],
            [
             0.2222222222222222,
             "#7201a8"
            ],
            [
             0.3333333333333333,
             "#9c179e"
            ],
            [
             0.4444444444444444,
             "#bd3786"
            ],
            [
             0.5555555555555556,
             "#d8576b"
            ],
            [
             0.6666666666666666,
             "#ed7953"
            ],
            [
             0.7777777777777778,
             "#fb9f3a"
            ],
            [
             0.8888888888888888,
             "#fdca26"
            ],
            [
             1,
             "#f0f921"
            ]
           ]
          },
          "colorway": [
           "#636efa",
           "#EF553B",
           "#00cc96",
           "#ab63fa",
           "#FFA15A",
           "#19d3f3",
           "#FF6692",
           "#B6E880",
           "#FF97FF",
           "#FECB52"
          ],
          "font": {
           "color": "#2a3f5f"
          },
          "geo": {
           "bgcolor": "white",
           "lakecolor": "white",
           "landcolor": "#E5ECF6",
           "showlakes": true,
           "showland": true,
           "subunitcolor": "white"
          },
          "hoverlabel": {
           "align": "left"
          },
          "hovermode": "closest",
          "mapbox": {
           "style": "light"
          },
          "paper_bgcolor": "white",
          "plot_bgcolor": "#E5ECF6",
          "polar": {
           "angularaxis": {
            "gridcolor": "white",
            "linecolor": "white",
            "ticks": ""
           },
           "bgcolor": "#E5ECF6",
           "radialaxis": {
            "gridcolor": "white",
            "linecolor": "white",
            "ticks": ""
           }
          },
          "scene": {
           "xaxis": {
            "backgroundcolor": "#E5ECF6",
            "gridcolor": "white",
            "gridwidth": 2,
            "linecolor": "white",
            "showbackground": true,
            "ticks": "",
            "zerolinecolor": "white"
           },
           "yaxis": {
            "backgroundcolor": "#E5ECF6",
            "gridcolor": "white",
            "gridwidth": 2,
            "linecolor": "white",
            "showbackground": true,
            "ticks": "",
            "zerolinecolor": "white"
           },
           "zaxis": {
            "backgroundcolor": "#E5ECF6",
            "gridcolor": "white",
            "gridwidth": 2,
            "linecolor": "white",
            "showbackground": true,
            "ticks": "",
            "zerolinecolor": "white"
           }
          },
          "shapedefaults": {
           "line": {
            "color": "#2a3f5f"
           }
          },
          "ternary": {
           "aaxis": {
            "gridcolor": "white",
            "linecolor": "white",
            "ticks": ""
           },
           "baxis": {
            "gridcolor": "white",
            "linecolor": "white",
            "ticks": ""
           },
           "bgcolor": "#E5ECF6",
           "caxis": {
            "gridcolor": "white",
            "linecolor": "white",
            "ticks": ""
           }
          },
          "title": {
           "x": 0.05
          },
          "xaxis": {
           "automargin": true,
           "gridcolor": "white",
           "linecolor": "white",
           "ticks": "",
           "title": {
            "standoff": 15
           },
           "zerolinecolor": "white",
           "zerolinewidth": 2
          },
          "yaxis": {
           "automargin": true,
           "gridcolor": "white",
           "linecolor": "white",
           "ticks": "",
           "title": {
            "standoff": 15
           },
           "zerolinecolor": "white",
           "zerolinewidth": 2
          }
         }
        },
        "title": {
         "font": {
          "color": "#D9D9D9"
         },
         "text": "Scatter plot of Halstead Error Estimate vs Design Complexity"
        },
        "width": 900,
        "xaxis": {
         "gridcolor": "#434343",
         "showgrid": true,
         "tickfont": {
          "color": "#C2C2C2"
         },
         "title": {
          "font": {
           "color": "#D9D9D9"
          },
          "text": "Design Complexity"
         },
         "zerolinecolor": "#666570"
        },
        "yaxis": {
         "gridcolor": "#434343",
         "showgrid": true,
         "tickfont": {
          "color": "#C2C2C2"
         },
         "title": {
          "font": {
           "color": "#D9D9D9"
          },
          "text": "Halstead Error Estimate"
         },
         "zerolinecolor": "#666570"
        }
       }
      },
      "text/html": [
       "<div>                            <div id=\"27db4411-094d-45ed-abc3-3a446f1a407a\" class=\"plotly-graph-div\" style=\"height:500px; width:900px;\"></div>            <script type=\"text/javascript\">                require([\"plotly\"], function(Plotly) {                    window.PLOTLYENV=window.PLOTLYENV || {};\n",
       "                    window.PLOTLYENV.BASE_URL='https://plot.ly';                                    if (document.getElementById(\"27db4411-094d-45ed-abc3-3a446f1a407a\")) {                    Plotly.newPlot(                        \"27db4411-094d-45ed-abc3-3a446f1a407a\",                        [{\"line\":{\"color\":\"rgba(255, 153, 51, 1.0)\",\"dash\":\"solid\",\"shape\":\"linear\",\"width\":1.3},\"marker\":{\"size\":12,\"symbol\":\"circle\"},\"mode\":\"markers\",\"name\":\"HALSTEAD_ERROR_EST\",\"text\":\"\",\"x\":[1.0,1.0,7.0,6.0,5.0,1.0,1.0,2.0,4.0,6.0,3.0,2.0,2.0,2.0,1.0,4.0,2.0,3.0,1.0,3.0,8.0,2.0,2.0,1.0,2.0,5.0,3.0,4.0,6.0,5.0,10.0,22.0,1.0,2.0,9.0,6.0,9.0,1.0,6.0,5.0,46.0,1.0,4.0,2.0,10.0,7.0,2.0,5.0,5.0,1.0,3.0,1.0,3.0,1.0,3.0,4.0,4.0,2.0,2.0,6.0,2.0,13.0,3.0,1.0,3.0,2.0,2.0,3.0,1.0,3.0,2.0,4.0,4.0,9.0,7.0,3.0,1.0,2.0,4.0,1.0,10.0,5.0,2.0,3.0,7.0,1.0,8.0,1.0,5.0,1.0,1.0,1.0,1.0,6.0,3.0,12.0,17.0,2.0,2.0,1.0,4.0,13.0,3.0,1.0,8.0,2.0,2.0,9.0,8.0,3.0,3.0,3.0,1.0,13.0,1.0,5.0,2.0,1.0,2.0,8.0,2.0,6.0,3.0,2.0,3.0,2.0,7.0,4.0,9.0,1.0,1.0,1.0,4.0,2.0,11.0,1.0,1.0,1.0,14.0,3.0,10.0,24.0,4.0,2.0,20.0,1.0,2.0,1.0,63.0,5.0,3.0,4.0,3.0,2.0,1.0,1.0,5.0,3.0,4.0,1.0,1.0,9.0,9.0,6.0,1.0,1.0,11.0,7.0,6.0,3.0,1.0,6.0,4.0,3.0,4.0,10.0,10.0,5.0,2.0,8.0,1.0,1.0,1.0,3.0,3.0,24.0,1.0,1.0,1.0,2.0,2.0,15.0,1.0,3.0,1.0,8.0,4.0,11.0,1.0,13.0,1.0,2.0,4.0,4.0,3.0,7.0,1.0,1.0,1.0,1.0,4.0,2.0,5.0,2.0,2.0,3.0,4.0,1.0,6.0,2.0,4.0,1.0,1.0,2.0,6.0,10.0,23.0,2.0,2.0,3.0,5.0,1.0,4.0,1.0,1.0,2.0,5.0,9.0,6.0,3.0,3.0,3.0,2.0,5.0,27.0,3.0,2.0,4.0,3.0,2.0,6.0,2.0,1.0,1.0,2.0,6.0,4.0,8.0,4.0,2.0,5.0,3.0,6.0,2.0,2.0,4.0,2.0,1.0,4.0,7.0,2.0,2.0,4.0,2.0,5.0,2.0,3.0,3.0,3.0,1.0,15.0,2.0,1.0,2.0,2.0],\"y\":[0.02,0.04,0.8,0.16,0.18,0.06,0.09,0.54,0.18,0.3,0.18,0.03,0.1,0.17,0.1,0.24,0.2,0.15,0.09,0.25,1.2,0.06,0.25,0.04,0.03,0.13,0.18,0.13,0.26,0.5,1.34,2.84,0.08,0.02,0.25,0.23,0.24,0.05,1.86,0.21,5.12,0.02,0.24,0.12,1.82,0.54,0.12,0.08,0.35,0.04,0.18,0.16,0.25,0.15,0.18,0.09,0.09,0.38,0.27,0.37,0.43,1.71,0.03,0.04,0.1,0.06,0.17,0.26,0.09,0.13,0.09,0.21,0.11,1.11,0.58,0.09,0.05,0.18,0.16,0.04,0.65,0.11,0.02,0.17,1.14,0.1,1.65,0.07,0.41,0.12,0.07,0.1,0.25,0.34,0.08,0.61,1.74,0.02,0.2,0.12,0.48,1.04,0.16,0.16,0.21,0.18,0.11,0.58,0.12,0.04,0.06,0.11,0.06,0.26,0.45,0.35,0.14,0.04,0.22,0.55,0.17,0.24,0.06,0.04,0.16,0.09,0.38,0.3,0.72,0.09,0.04,0.06,0.1,0.09,1.22,0.06,0.17,0.11,0.28,0.12,0.53,1.56,0.13,0.31,1.15,0.06,0.29,0.08,5.56,0.24,0.16,0.55,0.12,0.06,0.43,0.06,0.27,0.87,0.14,0.08,0.15,1.89,0.57,0.68,0.06,0.1,1.06,0.66,1.0,0.23,0.26,0.3,0.14,0.17,0.1,0.5,1.16,0.18,0.1,0.6,0.06,1.11,0.09,0.11,0.36,1.86,0.03,0.02,0.05,0.21,0.38,1.95,0.12,0.13,0.04,0.87,0.16,0.91,0.3,0.93,0.07,0.07,0.19,0.2,0.12,0.73,0.08,0.03,0.02,0.01,0.09,0.43,0.72,0.19,0.1,0.16,0.28,0.05,1.25,0.12,0.83,0.04,0.02,0.03,0.76,1.09,1.86,0.49,0.06,0.14,0.27,0.29,0.54,0.02,0.08,0.28,0.27,0.43,0.31,0.58,0.12,0.05,0.17,0.35,1.7,0.13,0.06,0.37,0.12,0.44,0.9,0.02,0.03,1.04,0.17,0.34,0.13,0.44,0.22,0.05,0.36,0.3,0.72,0.11,0.14,0.18,0.03,0.06,0.28,0.52,0.07,0.1,0.59,0.04,0.37,0.12,0.24,0.54,0.1,0.31,0.88,0.12,0.05,0.2,0.05],\"type\":\"scatter\"},{\"line\":{\"color\":\"rgba(0, 128, 0, 1.0)\",\"dash\":\"dash\",\"shape\":\"linear\",\"width\":3},\"mode\":\"lines\",\"name\":\"0.09*x+-0.03\",\"x\":[1.0,1.0,7.0,6.0,5.0,1.0,1.0,2.0,4.0,6.0,3.0,2.0,2.0,2.0,1.0,4.0,2.0,3.0,1.0,3.0,8.0,2.0,2.0,1.0,2.0,5.0,3.0,4.0,6.0,5.0,10.0,22.0,1.0,2.0,9.0,6.0,9.0,1.0,6.0,5.0,46.0,1.0,4.0,2.0,10.0,7.0,2.0,5.0,5.0,1.0,3.0,1.0,3.0,1.0,3.0,4.0,4.0,2.0,2.0,6.0,2.0,13.0,3.0,1.0,3.0,2.0,2.0,3.0,1.0,3.0,2.0,4.0,4.0,9.0,7.0,3.0,1.0,2.0,4.0,1.0,10.0,5.0,2.0,3.0,7.0,1.0,8.0,1.0,5.0,1.0,1.0,1.0,1.0,6.0,3.0,12.0,17.0,2.0,2.0,1.0,4.0,13.0,3.0,1.0,8.0,2.0,2.0,9.0,8.0,3.0,3.0,3.0,1.0,13.0,1.0,5.0,2.0,1.0,2.0,8.0,2.0,6.0,3.0,2.0,3.0,2.0,7.0,4.0,9.0,1.0,1.0,1.0,4.0,2.0,11.0,1.0,1.0,1.0,14.0,3.0,10.0,24.0,4.0,2.0,20.0,1.0,2.0,1.0,63.0,5.0,3.0,4.0,3.0,2.0,1.0,1.0,5.0,3.0,4.0,1.0,1.0,9.0,9.0,6.0,1.0,1.0,11.0,7.0,6.0,3.0,1.0,6.0,4.0,3.0,4.0,10.0,10.0,5.0,2.0,8.0,1.0,1.0,1.0,3.0,3.0,24.0,1.0,1.0,1.0,2.0,2.0,15.0,1.0,3.0,1.0,8.0,4.0,11.0,1.0,13.0,1.0,2.0,4.0,4.0,3.0,7.0,1.0,1.0,1.0,1.0,4.0,2.0,5.0,2.0,2.0,3.0,4.0,1.0,6.0,2.0,4.0,1.0,1.0,2.0,6.0,10.0,23.0,2.0,2.0,3.0,5.0,1.0,4.0,1.0,1.0,2.0,5.0,9.0,6.0,3.0,3.0,3.0,2.0,5.0,27.0,3.0,2.0,4.0,3.0,2.0,6.0,2.0,1.0,1.0,2.0,6.0,4.0,8.0,4.0,2.0,5.0,3.0,6.0,2.0,2.0,4.0,2.0,1.0,4.0,7.0,2.0,2.0,4.0,2.0,5.0,2.0,3.0,3.0,3.0,1.0,15.0,2.0,1.0,2.0,2.0],\"y\":[0.05939748044152991,0.05939748044152991,0.594045254468326,0.5049372921305266,0.41582932979272735,0.05939748044152991,0.05939748044152991,0.14850544277932926,0.32672136745492797,0.5049372921305266,0.23761340511712858,0.14850544277932926,0.14850544277932926,0.14850544277932926,0.05939748044152991,0.32672136745492797,0.14850544277932926,0.23761340511712858,0.05939748044152991,0.23761340511712858,0.6831532168061254,0.14850544277932926,0.14850544277932926,0.05939748044152991,0.14850544277932926,0.41582932979272735,0.23761340511712858,0.32672136745492797,0.5049372921305266,0.41582932979272735,0.8613691414817242,1.9306646895353163,0.05939748044152991,0.14850544277932926,0.7722611791439248,0.5049372921305266,0.7722611791439248,0.05939748044152991,0.5049372921305266,0.41582932979272735,4.069255785642501,0.05939748044152991,0.32672136745492797,0.14850544277932926,0.8613691414817242,0.594045254468326,0.14850544277932926,0.41582932979272735,0.41582932979272735,0.05939748044152991,0.23761340511712858,0.05939748044152991,0.23761340511712858,0.05939748044152991,0.23761340511712858,0.32672136745492797,0.32672136745492797,0.14850544277932926,0.14850544277932926,0.5049372921305266,0.14850544277932926,1.1286930284951222,0.23761340511712858,0.05939748044152991,0.23761340511712858,0.14850544277932926,0.14850544277932926,0.23761340511712858,0.05939748044152991,0.23761340511712858,0.14850544277932926,0.32672136745492797,0.32672136745492797,0.7722611791439248,0.594045254468326,0.23761340511712858,0.05939748044152991,0.14850544277932926,0.32672136745492797,0.05939748044152991,0.8613691414817242,0.41582932979272735,0.14850544277932926,0.23761340511712858,0.594045254468326,0.05939748044152991,0.6831532168061254,0.05939748044152991,0.41582932979272735,0.05939748044152991,0.05939748044152991,0.05939748044152991,0.05939748044152991,0.5049372921305266,0.23761340511712858,1.0395850661573227,1.4851248778463195,0.14850544277932926,0.14850544277932926,0.05939748044152991,0.32672136745492797,1.1286930284951222,0.23761340511712858,0.05939748044152991,0.6831532168061254,0.14850544277932926,0.14850544277932926,0.7722611791439248,0.6831532168061254,0.23761340511712858,0.23761340511712858,0.23761340511712858,0.05939748044152991,1.1286930284951222,0.05939748044152991,0.41582932979272735,0.14850544277932926,0.05939748044152991,0.14850544277932926,0.6831532168061254,0.14850544277932926,0.5049372921305266,0.23761340511712858,0.14850544277932926,0.23761340511712858,0.14850544277932926,0.594045254468326,0.32672136745492797,0.7722611791439248,0.05939748044152991,0.05939748044152991,0.05939748044152991,0.32672136745492797,0.14850544277932926,0.9504771038195234,0.05939748044152991,0.05939748044152991,0.05939748044152991,1.2178009908329215,0.23761340511712858,0.8613691414817242,2.108880614210915,0.32672136745492797,0.14850544277932926,1.7524487648597178,0.05939748044152991,0.14850544277932926,0.05939748044152991,5.5840911453850905,0.41582932979272735,0.23761340511712858,0.32672136745492797,0.23761340511712858,0.14850544277932926,0.05939748044152991,0.05939748044152991,0.41582932979272735,0.23761340511712858,0.32672136745492797,0.05939748044152991,0.05939748044152991,0.7722611791439248,0.7722611791439248,0.5049372921305266,0.05939748044152991,0.05939748044152991,0.9504771038195234,0.594045254468326,0.5049372921305266,0.23761340511712858,0.05939748044152991,0.5049372921305266,0.32672136745492797,0.23761340511712858,0.32672136745492797,0.8613691414817242,0.8613691414817242,0.41582932979272735,0.14850544277932926,0.6831532168061254,0.05939748044152991,0.05939748044152991,0.05939748044152991,0.23761340511712858,0.23761340511712858,2.108880614210915,0.05939748044152991,0.05939748044152991,0.05939748044152991,0.14850544277932926,0.14850544277932926,1.306908953170721,0.05939748044152991,0.23761340511712858,0.05939748044152991,0.6831532168061254,0.32672136745492797,0.9504771038195234,0.05939748044152991,1.1286930284951222,0.05939748044152991,0.14850544277932926,0.32672136745492797,0.32672136745492797,0.23761340511712858,0.594045254468326,0.05939748044152991,0.05939748044152991,0.05939748044152991,0.05939748044152991,0.32672136745492797,0.14850544277932926,0.41582932979272735,0.14850544277932926,0.14850544277932926,0.23761340511712858,0.32672136745492797,0.05939748044152991,0.5049372921305266,0.14850544277932926,0.32672136745492797,0.05939748044152991,0.05939748044152991,0.14850544277932926,0.5049372921305266,0.8613691414817242,2.019772651873116,0.14850544277932926,0.14850544277932926,0.23761340511712858,0.41582932979272735,0.05939748044152991,0.32672136745492797,0.05939748044152991,0.05939748044152991,0.14850544277932926,0.41582932979272735,0.7722611791439248,0.5049372921305266,0.23761340511712858,0.23761340511712858,0.23761340511712858,0.14850544277932926,0.41582932979272735,2.3762045012243136,0.23761340511712858,0.14850544277932926,0.32672136745492797,0.23761340511712858,0.14850544277932926,0.5049372921305266,0.14850544277932926,0.05939748044152991,0.05939748044152991,0.14850544277932926,0.5049372921305266,0.32672136745492797,0.6831532168061254,0.32672136745492797,0.14850544277932926,0.41582932979272735,0.23761340511712858,0.5049372921305266,0.14850544277932926,0.14850544277932926,0.32672136745492797,0.14850544277932926,0.05939748044152991,0.32672136745492797,0.594045254468326,0.14850544277932926,0.14850544277932926,0.32672136745492797,0.14850544277932926,0.41582932979272735,0.14850544277932926,0.23761340511712858,0.23761340511712858,0.23761340511712858,0.05939748044152991,1.306908953170721,0.14850544277932926,0.05939748044152991,0.14850544277932926,0.14850544277932926],\"type\":\"scatter\"}],                        {\"height\":500,\"legend\":{\"bgcolor\":\"#151516\",\"font\":{\"color\":\"#D9D9D9\"}},\"paper_bgcolor\":\"#151516\",\"plot_bgcolor\":\"#151516\",\"template\":{\"data\":{\"barpolar\":[{\"marker\":{\"line\":{\"color\":\"#E5ECF6\",\"width\":0.5},\"pattern\":{\"fillmode\":\"overlay\",\"size\":10,\"solidity\":0.2}},\"type\":\"barpolar\"}],\"bar\":[{\"error_x\":{\"color\":\"#2a3f5f\"},\"error_y\":{\"color\":\"#2a3f5f\"},\"marker\":{\"line\":{\"color\":\"#E5ECF6\",\"width\":0.5},\"pattern\":{\"fillmode\":\"overlay\",\"size\":10,\"solidity\":0.2}},\"type\":\"bar\"}],\"carpet\":[{\"aaxis\":{\"endlinecolor\":\"#2a3f5f\",\"gridcolor\":\"white\",\"linecolor\":\"white\",\"minorgridcolor\":\"white\",\"startlinecolor\":\"#2a3f5f\"},\"baxis\":{\"endlinecolor\":\"#2a3f5f\",\"gridcolor\":\"white\",\"linecolor\":\"white\",\"minorgridcolor\":\"white\",\"startlinecolor\":\"#2a3f5f\"},\"type\":\"carpet\"}],\"choropleth\":[{\"colorbar\":{\"outlinewidth\":0,\"ticks\":\"\"},\"type\":\"choropleth\"}],\"contourcarpet\":[{\"colorbar\":{\"outlinewidth\":0,\"ticks\":\"\"},\"type\":\"contourcarpet\"}],\"contour\":[{\"colorbar\":{\"outlinewidth\":0,\"ticks\":\"\"},\"colorscale\":[[0.0,\"#0d0887\"],[0.1111111111111111,\"#46039f\"],[0.2222222222222222,\"#7201a8\"],[0.3333333333333333,\"#9c179e\"],[0.4444444444444444,\"#bd3786\"],[0.5555555555555556,\"#d8576b\"],[0.6666666666666666,\"#ed7953\"],[0.7777777777777778,\"#fb9f3a\"],[0.8888888888888888,\"#fdca26\"],[1.0,\"#f0f921\"]],\"type\":\"contour\"}],\"heatmapgl\":[{\"colorbar\":{\"outlinewidth\":0,\"ticks\":\"\"},\"colorscale\":[[0.0,\"#0d0887\"],[0.1111111111111111,\"#46039f\"],[0.2222222222222222,\"#7201a8\"],[0.3333333333333333,\"#9c179e\"],[0.4444444444444444,\"#bd3786\"],[0.5555555555555556,\"#d8576b\"],[0.6666666666666666,\"#ed7953\"],[0.7777777777777778,\"#fb9f3a\"],[0.8888888888888888,\"#fdca26\"],[1.0,\"#f0f921\"]],\"type\":\"heatmapgl\"}],\"heatmap\":[{\"colorbar\":{\"outlinewidth\":0,\"ticks\":\"\"},\"colorscale\":[[0.0,\"#0d0887\"],[0.1111111111111111,\"#46039f\"],[0.2222222222222222,\"#7201a8\"],[0.3333333333333333,\"#9c179e\"],[0.4444444444444444,\"#bd3786\"],[0.5555555555555556,\"#d8576b\"],[0.6666666666666666,\"#ed7953\"],[0.7777777777777778,\"#fb9f3a\"],[0.8888888888888888,\"#fdca26\"],[1.0,\"#f0f921\"]],\"type\":\"heatmap\"}],\"histogram2dcontour\":[{\"colorbar\":{\"outlinewidth\":0,\"ticks\":\"\"},\"colorscale\":[[0.0,\"#0d0887\"],[0.1111111111111111,\"#46039f\"],[0.2222222222222222,\"#7201a8\"],[0.3333333333333333,\"#9c179e\"],[0.4444444444444444,\"#bd3786\"],[0.5555555555555556,\"#d8576b\"],[0.6666666666666666,\"#ed7953\"],[0.7777777777777778,\"#fb9f3a\"],[0.8888888888888888,\"#fdca26\"],[1.0,\"#f0f921\"]],\"type\":\"histogram2dcontour\"}],\"histogram2d\":[{\"colorbar\":{\"outlinewidth\":0,\"ticks\":\"\"},\"colorscale\":[[0.0,\"#0d0887\"],[0.1111111111111111,\"#46039f\"],[0.2222222222222222,\"#7201a8\"],[0.3333333333333333,\"#9c179e\"],[0.4444444444444444,\"#bd3786\"],[0.5555555555555556,\"#d8576b\"],[0.6666666666666666,\"#ed7953\"],[0.7777777777777778,\"#fb9f3a\"],[0.8888888888888888,\"#fdca26\"],[1.0,\"#f0f921\"]],\"type\":\"histogram2d\"}],\"histogram\":[{\"marker\":{\"pattern\":{\"fillmode\":\"overlay\",\"size\":10,\"solidity\":0.2}},\"type\":\"histogram\"}],\"mesh3d\":[{\"colorbar\":{\"outlinewidth\":0,\"ticks\":\"\"},\"type\":\"mesh3d\"}],\"parcoords\":[{\"line\":{\"colorbar\":{\"outlinewidth\":0,\"ticks\":\"\"}},\"type\":\"parcoords\"}],\"pie\":[{\"automargin\":true,\"type\":\"pie\"}],\"scatter3d\":[{\"line\":{\"colorbar\":{\"outlinewidth\":0,\"ticks\":\"\"}},\"marker\":{\"colorbar\":{\"outlinewidth\":0,\"ticks\":\"\"}},\"type\":\"scatter3d\"}],\"scattercarpet\":[{\"marker\":{\"colorbar\":{\"outlinewidth\":0,\"ticks\":\"\"}},\"type\":\"scattercarpet\"}],\"scattergeo\":[{\"marker\":{\"colorbar\":{\"outlinewidth\":0,\"ticks\":\"\"}},\"type\":\"scattergeo\"}],\"scattergl\":[{\"marker\":{\"colorbar\":{\"outlinewidth\":0,\"ticks\":\"\"}},\"type\":\"scattergl\"}],\"scattermapbox\":[{\"marker\":{\"colorbar\":{\"outlinewidth\":0,\"ticks\":\"\"}},\"type\":\"scattermapbox\"}],\"scatterpolargl\":[{\"marker\":{\"colorbar\":{\"outlinewidth\":0,\"ticks\":\"\"}},\"type\":\"scatterpolargl\"}],\"scatterpolar\":[{\"marker\":{\"colorbar\":{\"outlinewidth\":0,\"ticks\":\"\"}},\"type\":\"scatterpolar\"}],\"scatter\":[{\"fillpattern\":{\"fillmode\":\"overlay\",\"size\":10,\"solidity\":0.2},\"type\":\"scatter\"}],\"scatterternary\":[{\"marker\":{\"colorbar\":{\"outlinewidth\":0,\"ticks\":\"\"}},\"type\":\"scatterternary\"}],\"surface\":[{\"colorbar\":{\"outlinewidth\":0,\"ticks\":\"\"},\"colorscale\":[[0.0,\"#0d0887\"],[0.1111111111111111,\"#46039f\"],[0.2222222222222222,\"#7201a8\"],[0.3333333333333333,\"#9c179e\"],[0.4444444444444444,\"#bd3786\"],[0.5555555555555556,\"#d8576b\"],[0.6666666666666666,\"#ed7953\"],[0.7777777777777778,\"#fb9f3a\"],[0.8888888888888888,\"#fdca26\"],[1.0,\"#f0f921\"]],\"type\":\"surface\"}],\"table\":[{\"cells\":{\"fill\":{\"color\":\"#EBF0F8\"},\"line\":{\"color\":\"white\"}},\"header\":{\"fill\":{\"color\":\"#C8D4E3\"},\"line\":{\"color\":\"white\"}},\"type\":\"table\"}]},\"layout\":{\"annotationdefaults\":{\"arrowcolor\":\"#2a3f5f\",\"arrowhead\":0,\"arrowwidth\":1},\"autotypenumbers\":\"strict\",\"coloraxis\":{\"colorbar\":{\"outlinewidth\":0,\"ticks\":\"\"}},\"colorscale\":{\"diverging\":[[0,\"#8e0152\"],[0.1,\"#c51b7d\"],[0.2,\"#de77ae\"],[0.3,\"#f1b6da\"],[0.4,\"#fde0ef\"],[0.5,\"#f7f7f7\"],[0.6,\"#e6f5d0\"],[0.7,\"#b8e186\"],[0.8,\"#7fbc41\"],[0.9,\"#4d9221\"],[1,\"#276419\"]],\"sequential\":[[0.0,\"#0d0887\"],[0.1111111111111111,\"#46039f\"],[0.2222222222222222,\"#7201a8\"],[0.3333333333333333,\"#9c179e\"],[0.4444444444444444,\"#bd3786\"],[0.5555555555555556,\"#d8576b\"],[0.6666666666666666,\"#ed7953\"],[0.7777777777777778,\"#fb9f3a\"],[0.8888888888888888,\"#fdca26\"],[1.0,\"#f0f921\"]],\"sequentialminus\":[[0.0,\"#0d0887\"],[0.1111111111111111,\"#46039f\"],[0.2222222222222222,\"#7201a8\"],[0.3333333333333333,\"#9c179e\"],[0.4444444444444444,\"#bd3786\"],[0.5555555555555556,\"#d8576b\"],[0.6666666666666666,\"#ed7953\"],[0.7777777777777778,\"#fb9f3a\"],[0.8888888888888888,\"#fdca26\"],[1.0,\"#f0f921\"]]},\"colorway\":[\"#636efa\",\"#EF553B\",\"#00cc96\",\"#ab63fa\",\"#FFA15A\",\"#19d3f3\",\"#FF6692\",\"#B6E880\",\"#FF97FF\",\"#FECB52\"],\"font\":{\"color\":\"#2a3f5f\"},\"geo\":{\"bgcolor\":\"white\",\"lakecolor\":\"white\",\"landcolor\":\"#E5ECF6\",\"showlakes\":true,\"showland\":true,\"subunitcolor\":\"white\"},\"hoverlabel\":{\"align\":\"left\"},\"hovermode\":\"closest\",\"mapbox\":{\"style\":\"light\"},\"paper_bgcolor\":\"white\",\"plot_bgcolor\":\"#E5ECF6\",\"polar\":{\"angularaxis\":{\"gridcolor\":\"white\",\"linecolor\":\"white\",\"ticks\":\"\"},\"bgcolor\":\"#E5ECF6\",\"radialaxis\":{\"gridcolor\":\"white\",\"linecolor\":\"white\",\"ticks\":\"\"}},\"scene\":{\"xaxis\":{\"backgroundcolor\":\"#E5ECF6\",\"gridcolor\":\"white\",\"gridwidth\":2,\"linecolor\":\"white\",\"showbackground\":true,\"ticks\":\"\",\"zerolinecolor\":\"white\"},\"yaxis\":{\"backgroundcolor\":\"#E5ECF6\",\"gridcolor\":\"white\",\"gridwidth\":2,\"linecolor\":\"white\",\"showbackground\":true,\"ticks\":\"\",\"zerolinecolor\":\"white\"},\"zaxis\":{\"backgroundcolor\":\"#E5ECF6\",\"gridcolor\":\"white\",\"gridwidth\":2,\"linecolor\":\"white\",\"showbackground\":true,\"ticks\":\"\",\"zerolinecolor\":\"white\"}},\"shapedefaults\":{\"line\":{\"color\":\"#2a3f5f\"}},\"ternary\":{\"aaxis\":{\"gridcolor\":\"white\",\"linecolor\":\"white\",\"ticks\":\"\"},\"baxis\":{\"gridcolor\":\"white\",\"linecolor\":\"white\",\"ticks\":\"\"},\"bgcolor\":\"#E5ECF6\",\"caxis\":{\"gridcolor\":\"white\",\"linecolor\":\"white\",\"ticks\":\"\"}},\"title\":{\"x\":0.05},\"xaxis\":{\"automargin\":true,\"gridcolor\":\"white\",\"linecolor\":\"white\",\"ticks\":\"\",\"title\":{\"standoff\":15},\"zerolinecolor\":\"white\",\"zerolinewidth\":2},\"yaxis\":{\"automargin\":true,\"gridcolor\":\"white\",\"linecolor\":\"white\",\"ticks\":\"\",\"title\":{\"standoff\":15},\"zerolinecolor\":\"white\",\"zerolinewidth\":2}}},\"title\":{\"font\":{\"color\":\"#D9D9D9\"},\"text\":\"Scatter plot of Halstead Error Estimate vs Design Complexity\"},\"width\":900,\"xaxis\":{\"gridcolor\":\"#434343\",\"showgrid\":true,\"tickfont\":{\"color\":\"#C2C2C2\"},\"title\":{\"font\":{\"color\":\"#D9D9D9\"},\"text\":\"Design Complexity\"},\"zerolinecolor\":\"#666570\"},\"yaxis\":{\"gridcolor\":\"#434343\",\"showgrid\":true,\"tickfont\":{\"color\":\"#C2C2C2\"},\"title\":{\"font\":{\"color\":\"#D9D9D9\"},\"text\":\"Halstead Error Estimate\"},\"zerolinecolor\":\"#666570\"}},                        {\"showLink\": true, \"linkText\": \"Export to plot.ly\", \"plotlyServerURL\": \"https://plot.ly\", \"responsive\": true}                    ).then(function(){\n",
       "                            \n",
       "var gd = document.getElementById('27db4411-094d-45ed-abc3-3a446f1a407a');\n",
       "var x = new MutationObserver(function (mutations, observer) {{\n",
       "        var display = window.getComputedStyle(gd).display;\n",
       "        if (!display || display === 'none') {{\n",
       "            console.log([gd, 'removed!']);\n",
       "            Plotly.purge(gd);\n",
       "            observer.disconnect();\n",
       "        }}\n",
       "}});\n",
       "\n",
       "// Listen for the removal of the full notebook cells\n",
       "var notebookContainer = gd.closest('#notebook-container');\n",
       "if (notebookContainer) {{\n",
       "    x.observe(notebookContainer, {childList: true});\n",
       "}}\n",
       "\n",
       "// Listen for the clearing of the current output cell\n",
       "var outputEl = gd.closest('.output');\n",
       "if (outputEl) {{\n",
       "    x.observe(outputEl, {childList: true});\n",
       "}}\n",
       "\n",
       "                        })                };                });            </script>        </div>"
      ]
     },
     "metadata": {},
     "output_type": "display_data"
    }
   ],
   "source": [
    "non_defective_group.iplot(\n",
    "    kind='scatter',\n",
    "    y='HALSTEAD_ERROR_EST',\n",
    "    x='DESIGN_COMPLEXITY',\n",
    "    dimensions=(900, 500),\n",
    "    theme=\"solar\",\n",
    "    xTitle='Design Complexity',\n",
    "    yTitle='Halstead Error Estimate',\n",
    "    title='Scatter plot of Halstead Error Estimate vs Design Complexity',\n",
    "    mode=\"markers\",\n",
    "    bestfit=True,\n",
    "    bestfit_colors=['green'],\n",
    ")"
   ]
  },
  {
   "cell_type": "markdown",
   "metadata": {},
   "source": [
    "### Robust Regression\n",
    "\n",
    "Robust regression is a type of regression analysis that is robust to outliers in the data. It is similar to linear regression, but instead of minimizing the sum of the squares of the residuals, it minimizes a function called the [Huber loss function](https://en.wikipedia.org/wiki/Huber_loss). The Huber loss function is a combination of the squared error loss and the absolute error loss. The Huber loss function is less sensitive to outliers than the squared error loss, but more sensitive than the absolute error loss. The Huber loss function is used to calculate the line of best fit by minimizing the sum of the Huber loss function.\n",
    "\n",
    "Like in the case of linear regression, we will use the `HuberRegressor()` function from the `sklearn.linear_model` library to perform the robust regression."
   ]
  },
  {
   "cell_type": "code",
   "execution_count": 33,
   "metadata": {},
   "outputs": [],
   "source": [
    "from sklearn.linear_model import HuberRegressor"
   ]
  },
  {
   "cell_type": "markdown",
   "metadata": {},
   "source": [
    "Now for regression analysis on the entire dataset (Again we will use Halstead Error Estimate as the dependent variable and Design Complexity as the independent variable):"
   ]
  },
  {
   "cell_type": "code",
   "execution_count": 34,
   "metadata": {},
   "outputs": [
    {
     "name": "stdout",
     "output_type": "stream",
     "text": [
      "R-squared:  0.7758280564728737\n",
      "The equation of the line is: y = 0.08606757437586542x + -0.05086820080768371\n"
     ]
    }
   ],
   "source": [
    "Y = analysis_dataset[\"HALSTEAD_ERROR_EST\"]\n",
    "X = analysis_dataset[[\"DESIGN_COMPLEXITY\"]]\n",
    "\n",
    "huber_regression_model = HuberRegressor()\n",
    "huber_regression_model.fit(X, Y)\n",
    "\n",
    "print(\"R-squared: \", huber_regression_model.score(X, Y))\n",
    "print(\"The equation of the line is: y = \", huber_regression_model.coef_[0], \"x + \", huber_regression_model.intercept_, sep='')"
   ]
  },
  {
   "cell_type": "code",
   "execution_count": 42,
   "metadata": {},
   "outputs": [
    {
     "data": {
      "application/vnd.plotly.v1+json": {
       "config": {
        "linkText": "Export to plot.ly",
        "plotlyServerURL": "https://plot.ly",
        "showLink": true
       },
       "data": [
        {
         "line": {
          "color": "orange",
          "dash": "solid",
          "shape": "linear",
          "width": 1.3
         },
         "marker": {
          "size": 12,
          "symbol": "circle"
         },
         "mode": "markers",
         "name": "HALSTEAD_ERROR_EST",
         "text": "",
         "type": "scatter",
         "x": [
          1,
          1,
          7,
          3,
          6,
          5,
          1,
          3,
          1,
          2,
          18,
          4,
          6,
          3,
          2,
          2,
          2,
          1,
          4,
          2,
          3,
          10,
          7,
          1,
          3,
          2,
          8,
          2,
          2,
          1,
          2,
          2,
          3,
          5,
          3,
          4,
          6,
          1,
          5,
          7,
          10,
          22,
          1,
          2,
          9,
          3,
          6,
          9,
          1,
          6,
          5,
          46,
          1,
          4,
          2,
          10,
          7,
          2,
          5,
          5,
          1,
          4,
          3,
          1,
          3,
          1,
          3,
          4,
          4,
          3,
          2,
          12,
          2,
          6,
          2,
          13,
          3,
          1,
          3,
          2,
          2,
          3,
          1,
          3,
          2,
          4,
          4,
          9,
          7,
          3,
          1,
          19,
          2,
          4,
          1,
          10,
          5,
          2,
          3,
          7,
          1,
          8,
          1,
          5,
          1,
          3,
          1,
          1,
          1,
          6,
          3,
          12,
          41,
          17,
          2,
          1,
          2,
          1,
          4,
          13,
          3,
          1,
          8,
          4,
          2,
          2,
          9,
          5,
          8,
          3,
          3,
          3,
          1,
          13,
          1,
          5,
          2,
          1,
          2,
          3,
          10,
          8,
          2,
          6,
          3,
          2,
          3,
          2,
          7,
          4,
          9,
          2,
          1,
          1,
          1,
          4,
          2,
          11,
          9,
          1,
          1,
          1,
          14,
          3,
          10,
          24,
          4,
          2,
          2,
          20,
          1,
          2,
          1,
          63,
          5,
          3,
          4,
          3,
          2,
          4,
          1,
          1,
          5,
          3,
          4,
          1,
          1,
          9,
          9,
          6,
          1,
          1,
          9,
          11,
          7,
          6,
          3,
          1,
          6,
          4,
          3,
          4,
          10,
          7,
          10,
          5,
          2,
          12,
          8,
          1,
          1,
          1,
          3,
          3,
          24,
          1,
          1,
          1,
          2,
          2,
          15,
          1,
          3,
          1,
          8,
          7,
          4,
          11,
          1,
          13,
          1,
          2,
          4,
          16,
          4,
          3,
          7,
          1,
          3,
          1,
          1,
          1,
          4,
          2,
          5,
          2,
          2,
          3,
          4,
          26,
          1,
          6,
          2,
          5,
          4,
          1,
          1,
          2,
          6,
          10,
          23,
          2,
          2,
          3,
          5,
          1,
          4,
          1,
          1,
          2,
          5,
          9,
          6,
          3,
          3,
          3,
          2,
          5,
          27,
          3,
          2,
          4,
          10,
          3,
          2,
          6,
          2,
          1,
          1,
          2,
          6,
          3,
          4,
          6,
          3,
          8,
          4,
          2,
          5,
          3,
          6,
          2,
          5,
          2,
          4,
          7,
          2,
          1,
          4,
          1,
          7,
          2,
          2,
          4,
          2,
          5,
          2,
          3,
          3,
          3,
          26,
          1,
          15,
          2,
          1,
          2,
          2
         ],
         "y": [
          0.02,
          0.04,
          0.8,
          0.25,
          0.16,
          0.18,
          0.06,
          0.2,
          0.09,
          0.54,
          1.69,
          0.18,
          0.3,
          0.18,
          0.03,
          0.1,
          0.17,
          0.1,
          0.24,
          0.2,
          0.15,
          1.43,
          0.44,
          0.09,
          0.25,
          0.19,
          1.2,
          0.06,
          0.25,
          0.04,
          0.03,
          0.19,
          0.15,
          0.13,
          0.18,
          0.13,
          0.26,
          0.05,
          0.5,
          0.58,
          1.34,
          2.84,
          0.08,
          0.02,
          0.25,
          0.05,
          0.23,
          0.24,
          0.05,
          1.86,
          0.21,
          5.12,
          0.02,
          0.24,
          0.12,
          1.82,
          0.54,
          0.12,
          0.08,
          0.35,
          0.04,
          1.25,
          0.18,
          0.16,
          0.25,
          0.15,
          0.18,
          0.09,
          0.09,
          0.15,
          0.38,
          1.67,
          0.27,
          0.37,
          0.43,
          1.71,
          0.03,
          0.04,
          0.1,
          0.06,
          0.17,
          0.26,
          0.09,
          0.13,
          0.09,
          0.21,
          0.11,
          1.11,
          0.58,
          0.09,
          0.05,
          0.87,
          0.18,
          0.16,
          0.04,
          0.65,
          0.11,
          0.02,
          0.17,
          1.14,
          0.1,
          1.65,
          0.07,
          0.41,
          0.12,
          0.21,
          0.07,
          0.1,
          0.25,
          0.34,
          0.08,
          0.61,
          4.25,
          1.74,
          0.02,
          0.15,
          0.2,
          0.12,
          0.48,
          1.04,
          0.16,
          0.16,
          0.21,
          2.08,
          0.18,
          0.11,
          0.58,
          0.41,
          0.12,
          0.04,
          0.06,
          0.11,
          0.06,
          0.26,
          0.45,
          0.35,
          0.14,
          0.04,
          0.22,
          0.28,
          1.05,
          0.55,
          0.17,
          0.24,
          0.06,
          0.04,
          0.16,
          0.09,
          0.38,
          0.3,
          0.72,
          0.28,
          0.09,
          0.04,
          0.06,
          0.1,
          0.09,
          1.22,
          0.76,
          0.06,
          0.17,
          0.11,
          0.28,
          0.12,
          0.53,
          1.56,
          0.13,
          0.13,
          0.31,
          1.15,
          0.06,
          0.29,
          0.08,
          5.56,
          0.24,
          0.16,
          0.55,
          0.12,
          0.06,
          0.22,
          0.43,
          0.06,
          0.27,
          0.87,
          0.14,
          0.08,
          0.15,
          1.89,
          0.57,
          0.68,
          0.06,
          0.1,
          0.42,
          1.06,
          0.66,
          1,
          0.23,
          0.26,
          0.3,
          0.14,
          0.17,
          0.1,
          0.5,
          0.66,
          1.16,
          0.18,
          0.1,
          1.27,
          0.6,
          0.06,
          1.11,
          0.09,
          0.11,
          0.36,
          1.86,
          0.03,
          0.02,
          0.05,
          0.21,
          0.38,
          1.95,
          0.12,
          0.13,
          0.04,
          0.87,
          0.32,
          0.16,
          0.91,
          0.3,
          0.93,
          0.07,
          0.07,
          0.19,
          1.39,
          0.2,
          0.12,
          0.73,
          0.08,
          0.52,
          0.03,
          0.02,
          0.01,
          0.09,
          0.43,
          0.72,
          0.19,
          0.1,
          0.16,
          0.28,
          1.4,
          0.05,
          1.25,
          0.12,
          0.33,
          0.83,
          0.04,
          0.02,
          0.03,
          0.76,
          1.09,
          1.86,
          0.49,
          0.06,
          0.14,
          0.27,
          0.29,
          0.54,
          0.02,
          0.08,
          0.28,
          0.27,
          0.43,
          0.31,
          0.58,
          0.12,
          0.05,
          0.17,
          0.35,
          1.7,
          0.13,
          0.06,
          0.37,
          1.12,
          0.12,
          0.44,
          0.9,
          0.02,
          0.03,
          1.04,
          0.17,
          0.34,
          0.1,
          0.13,
          0.41,
          0.11,
          0.44,
          0.22,
          0.05,
          0.36,
          0.3,
          0.72,
          0.11,
          0.18,
          0.14,
          0.18,
          0.77,
          0.03,
          0.06,
          0.28,
          0.35,
          0.52,
          0.07,
          0.1,
          0.59,
          0.04,
          0.37,
          0.12,
          0.24,
          0.54,
          0.1,
          3.05,
          0.31,
          0.88,
          0.12,
          0.05,
          0.2,
          0.05
         ]
        },
        {
         "line": {
          "color": "green",
          "dash": "solid",
          "shape": "linear",
          "width": 1.3
         },
         "mode": "lines",
         "name": "PREDICTED_HALSTEAD_ERROR_EST",
         "text": "",
         "type": "scatter",
         "x": [
          1,
          1,
          7,
          3,
          6,
          5,
          1,
          3,
          1,
          2,
          18,
          4,
          6,
          3,
          2,
          2,
          2,
          1,
          4,
          2,
          3,
          10,
          7,
          1,
          3,
          2,
          8,
          2,
          2,
          1,
          2,
          2,
          3,
          5,
          3,
          4,
          6,
          1,
          5,
          7,
          10,
          22,
          1,
          2,
          9,
          3,
          6,
          9,
          1,
          6,
          5,
          46,
          1,
          4,
          2,
          10,
          7,
          2,
          5,
          5,
          1,
          4,
          3,
          1,
          3,
          1,
          3,
          4,
          4,
          3,
          2,
          12,
          2,
          6,
          2,
          13,
          3,
          1,
          3,
          2,
          2,
          3,
          1,
          3,
          2,
          4,
          4,
          9,
          7,
          3,
          1,
          19,
          2,
          4,
          1,
          10,
          5,
          2,
          3,
          7,
          1,
          8,
          1,
          5,
          1,
          3,
          1,
          1,
          1,
          6,
          3,
          12,
          41,
          17,
          2,
          1,
          2,
          1,
          4,
          13,
          3,
          1,
          8,
          4,
          2,
          2,
          9,
          5,
          8,
          3,
          3,
          3,
          1,
          13,
          1,
          5,
          2,
          1,
          2,
          3,
          10,
          8,
          2,
          6,
          3,
          2,
          3,
          2,
          7,
          4,
          9,
          2,
          1,
          1,
          1,
          4,
          2,
          11,
          9,
          1,
          1,
          1,
          14,
          3,
          10,
          24,
          4,
          2,
          2,
          20,
          1,
          2,
          1,
          63,
          5,
          3,
          4,
          3,
          2,
          4,
          1,
          1,
          5,
          3,
          4,
          1,
          1,
          9,
          9,
          6,
          1,
          1,
          9,
          11,
          7,
          6,
          3,
          1,
          6,
          4,
          3,
          4,
          10,
          7,
          10,
          5,
          2,
          12,
          8,
          1,
          1,
          1,
          3,
          3,
          24,
          1,
          1,
          1,
          2,
          2,
          15,
          1,
          3,
          1,
          8,
          7,
          4,
          11,
          1,
          13,
          1,
          2,
          4,
          16,
          4,
          3,
          7,
          1,
          3,
          1,
          1,
          1,
          4,
          2,
          5,
          2,
          2,
          3,
          4,
          26,
          1,
          6,
          2,
          5,
          4,
          1,
          1,
          2,
          6,
          10,
          23,
          2,
          2,
          3,
          5,
          1,
          4,
          1,
          1,
          2,
          5,
          9,
          6,
          3,
          3,
          3,
          2,
          5,
          27,
          3,
          2,
          4,
          10,
          3,
          2,
          6,
          2,
          1,
          1,
          2,
          6,
          3,
          4,
          6,
          3,
          8,
          4,
          2,
          5,
          3,
          6,
          2,
          5,
          2,
          4,
          7,
          2,
          1,
          4,
          1,
          7,
          2,
          2,
          4,
          2,
          5,
          2,
          3,
          3,
          3,
          26,
          1,
          15,
          2,
          1,
          2,
          2
         ],
         "y": [
          0.03519937356818171,
          0.03519937356818171,
          0.5516048198233742,
          0.20733452231991253,
          0.46553724544750874,
          0.37946967107164337,
          0.03519937356818171,
          0.20733452231991253,
          0.03519937356818171,
          0.12126694794404713,
          1.4983481379578938,
          0.29340209669577794,
          0.46553724544750874,
          0.20733452231991253,
          0.12126694794404713,
          0.12126694794404713,
          0.12126694794404713,
          0.03519937356818171,
          0.29340209669577794,
          0.12126694794404713,
          0.20733452231991253,
          0.8098075429509705,
          0.5516048198233742,
          0.03519937356818171,
          0.20733452231991253,
          0.12126694794404713,
          0.6376723941992396,
          0.12126694794404713,
          0.12126694794404713,
          0.03519937356818171,
          0.12126694794404713,
          0.12126694794404713,
          0.20733452231991253,
          0.37946967107164337,
          0.20733452231991253,
          0.29340209669577794,
          0.46553724544750874,
          0.03519937356818171,
          0.37946967107164337,
          0.5516048198233742,
          0.8098075429509705,
          1.8426184354613555,
          0.03519937356818171,
          0.12126694794404713,
          0.723739968575105,
          0.20733452231991253,
          0.46553724544750874,
          0.723739968575105,
          0.03519937356818171,
          0.46553724544750874,
          0.37946967107164337,
          3.9082402204821256,
          0.03519937356818171,
          0.29340209669577794,
          0.12126694794404713,
          0.8098075429509705,
          0.5516048198233742,
          0.12126694794404713,
          0.37946967107164337,
          0.37946967107164337,
          0.03519937356818171,
          0.29340209669577794,
          0.20733452231991253,
          0.03519937356818171,
          0.20733452231991253,
          0.03519937356818171,
          0.20733452231991253,
          0.29340209669577794,
          0.29340209669577794,
          0.20733452231991253,
          0.12126694794404713,
          0.9819426917027012,
          0.12126694794404713,
          0.46553724544750874,
          0.12126694794404713,
          1.0680102660785666,
          0.20733452231991253,
          0.03519937356818171,
          0.20733452231991253,
          0.12126694794404713,
          0.12126694794404713,
          0.20733452231991253,
          0.03519937356818171,
          0.20733452231991253,
          0.12126694794404713,
          0.29340209669577794,
          0.29340209669577794,
          0.723739968575105,
          0.5516048198233742,
          0.20733452231991253,
          0.03519937356818171,
          1.5844157123337592,
          0.12126694794404713,
          0.29340209669577794,
          0.03519937356818171,
          0.8098075429509705,
          0.37946967107164337,
          0.12126694794404713,
          0.20733452231991253,
          0.5516048198233742,
          0.03519937356818171,
          0.6376723941992396,
          0.03519937356818171,
          0.37946967107164337,
          0.03519937356818171,
          0.20733452231991253,
          0.03519937356818171,
          0.03519937356818171,
          0.03519937356818171,
          0.46553724544750874,
          0.20733452231991253,
          0.9819426917027012,
          3.4779023486027985,
          1.4122805635820284,
          0.12126694794404713,
          0.03519937356818171,
          0.12126694794404713,
          0.03519937356818171,
          0.29340209669577794,
          1.0680102660785666,
          0.20733452231991253,
          0.03519937356818171,
          0.6376723941992396,
          0.29340209669577794,
          0.12126694794404713,
          0.12126694794404713,
          0.723739968575105,
          0.37946967107164337,
          0.6376723941992396,
          0.20733452231991253,
          0.20733452231991253,
          0.20733452231991253,
          0.03519937356818171,
          1.0680102660785666,
          0.03519937356818171,
          0.37946967107164337,
          0.12126694794404713,
          0.03519937356818171,
          0.12126694794404713,
          0.20733452231991253,
          0.8098075429509705,
          0.6376723941992396,
          0.12126694794404713,
          0.46553724544750874,
          0.20733452231991253,
          0.12126694794404713,
          0.20733452231991253,
          0.12126694794404713,
          0.5516048198233742,
          0.29340209669577794,
          0.723739968575105,
          0.12126694794404713,
          0.03519937356818171,
          0.03519937356818171,
          0.03519937356818171,
          0.29340209669577794,
          0.12126694794404713,
          0.8958751173268359,
          0.723739968575105,
          0.03519937356818171,
          0.03519937356818171,
          0.03519937356818171,
          1.154077840454432,
          0.20733452231991253,
          0.8098075429509705,
          2.014753584213086,
          0.29340209669577794,
          0.12126694794404713,
          0.12126694794404713,
          1.6704832867096246,
          0.03519937356818171,
          0.12126694794404713,
          0.03519937356818171,
          5.371388984871838,
          0.37946967107164337,
          0.20733452231991253,
          0.29340209669577794,
          0.20733452231991253,
          0.12126694794404713,
          0.29340209669577794,
          0.03519937356818171,
          0.03519937356818171,
          0.37946967107164337,
          0.20733452231991253,
          0.29340209669577794,
          0.03519937356818171,
          0.03519937356818171,
          0.723739968575105,
          0.723739968575105,
          0.46553724544750874,
          0.03519937356818171,
          0.03519937356818171,
          0.723739968575105,
          0.8958751173268359,
          0.5516048198233742,
          0.46553724544750874,
          0.20733452231991253,
          0.03519937356818171,
          0.46553724544750874,
          0.29340209669577794,
          0.20733452231991253,
          0.29340209669577794,
          0.8098075429509705,
          0.5516048198233742,
          0.8098075429509705,
          0.37946967107164337,
          0.12126694794404713,
          0.9819426917027012,
          0.6376723941992396,
          0.03519937356818171,
          0.03519937356818171,
          0.03519937356818171,
          0.20733452231991253,
          0.20733452231991253,
          2.014753584213086,
          0.03519937356818171,
          0.03519937356818171,
          0.03519937356818171,
          0.12126694794404713,
          0.12126694794404713,
          1.2401454148302975,
          0.03519937356818171,
          0.20733452231991253,
          0.03519937356818171,
          0.6376723941992396,
          0.5516048198233742,
          0.29340209669577794,
          0.8958751173268359,
          0.03519937356818171,
          1.0680102660785666,
          0.03519937356818171,
          0.12126694794404713,
          0.29340209669577794,
          1.326212989206163,
          0.29340209669577794,
          0.20733452231991253,
          0.5516048198233742,
          0.03519937356818171,
          0.20733452231991253,
          0.03519937356818171,
          0.03519937356818171,
          0.03519937356818171,
          0.29340209669577794,
          0.12126694794404713,
          0.37946967107164337,
          0.12126694794404713,
          0.12126694794404713,
          0.20733452231991253,
          0.29340209669577794,
          2.186888732964817,
          0.03519937356818171,
          0.46553724544750874,
          0.12126694794404713,
          0.37946967107164337,
          0.29340209669577794,
          0.03519937356818171,
          0.03519937356818171,
          0.12126694794404713,
          0.46553724544750874,
          0.8098075429509705,
          1.928686009837221,
          0.12126694794404713,
          0.12126694794404713,
          0.20733452231991253,
          0.37946967107164337,
          0.03519937356818171,
          0.29340209669577794,
          0.03519937356818171,
          0.03519937356818171,
          0.12126694794404713,
          0.37946967107164337,
          0.723739968575105,
          0.46553724544750874,
          0.20733452231991253,
          0.20733452231991253,
          0.20733452231991253,
          0.12126694794404713,
          0.37946967107164337,
          2.2729563073406824,
          0.20733452231991253,
          0.12126694794404713,
          0.29340209669577794,
          0.8098075429509705,
          0.20733452231991253,
          0.12126694794404713,
          0.46553724544750874,
          0.12126694794404713,
          0.03519937356818171,
          0.03519937356818171,
          0.12126694794404713,
          0.46553724544750874,
          0.20733452231991253,
          0.29340209669577794,
          0.46553724544750874,
          0.20733452231991253,
          0.6376723941992396,
          0.29340209669577794,
          0.12126694794404713,
          0.37946967107164337,
          0.20733452231991253,
          0.46553724544750874,
          0.12126694794404713,
          0.37946967107164337,
          0.12126694794404713,
          0.29340209669577794,
          0.5516048198233742,
          0.12126694794404713,
          0.03519937356818171,
          0.29340209669577794,
          0.03519937356818171,
          0.5516048198233742,
          0.12126694794404713,
          0.12126694794404713,
          0.29340209669577794,
          0.12126694794404713,
          0.37946967107164337,
          0.12126694794404713,
          0.20733452231991253,
          0.20733452231991253,
          0.20733452231991253,
          2.186888732964817,
          0.03519937356818171,
          1.2401454148302975,
          0.12126694794404713,
          0.03519937356818171,
          0.12126694794404713,
          0.12126694794404713
         ]
        }
       ],
       "layout": {
        "height": 500,
        "legend": {
         "bgcolor": "#151516",
         "font": {
          "color": "#D9D9D9"
         }
        },
        "paper_bgcolor": "#151516",
        "plot_bgcolor": "#151516",
        "template": {
         "data": {
          "bar": [
           {
            "error_x": {
             "color": "#2a3f5f"
            },
            "error_y": {
             "color": "#2a3f5f"
            },
            "marker": {
             "line": {
              "color": "#E5ECF6",
              "width": 0.5
             },
             "pattern": {
              "fillmode": "overlay",
              "size": 10,
              "solidity": 0.2
             }
            },
            "type": "bar"
           }
          ],
          "barpolar": [
           {
            "marker": {
             "line": {
              "color": "#E5ECF6",
              "width": 0.5
             },
             "pattern": {
              "fillmode": "overlay",
              "size": 10,
              "solidity": 0.2
             }
            },
            "type": "barpolar"
           }
          ],
          "carpet": [
           {
            "aaxis": {
             "endlinecolor": "#2a3f5f",
             "gridcolor": "white",
             "linecolor": "white",
             "minorgridcolor": "white",
             "startlinecolor": "#2a3f5f"
            },
            "baxis": {
             "endlinecolor": "#2a3f5f",
             "gridcolor": "white",
             "linecolor": "white",
             "minorgridcolor": "white",
             "startlinecolor": "#2a3f5f"
            },
            "type": "carpet"
           }
          ],
          "choropleth": [
           {
            "colorbar": {
             "outlinewidth": 0,
             "ticks": ""
            },
            "type": "choropleth"
           }
          ],
          "contour": [
           {
            "colorbar": {
             "outlinewidth": 0,
             "ticks": ""
            },
            "colorscale": [
             [
              0,
              "#0d0887"
             ],
             [
              0.1111111111111111,
              "#46039f"
             ],
             [
              0.2222222222222222,
              "#7201a8"
             ],
             [
              0.3333333333333333,
              "#9c179e"
             ],
             [
              0.4444444444444444,
              "#bd3786"
             ],
             [
              0.5555555555555556,
              "#d8576b"
             ],
             [
              0.6666666666666666,
              "#ed7953"
             ],
             [
              0.7777777777777778,
              "#fb9f3a"
             ],
             [
              0.8888888888888888,
              "#fdca26"
             ],
             [
              1,
              "#f0f921"
             ]
            ],
            "type": "contour"
           }
          ],
          "contourcarpet": [
           {
            "colorbar": {
             "outlinewidth": 0,
             "ticks": ""
            },
            "type": "contourcarpet"
           }
          ],
          "heatmap": [
           {
            "colorbar": {
             "outlinewidth": 0,
             "ticks": ""
            },
            "colorscale": [
             [
              0,
              "#0d0887"
             ],
             [
              0.1111111111111111,
              "#46039f"
             ],
             [
              0.2222222222222222,
              "#7201a8"
             ],
             [
              0.3333333333333333,
              "#9c179e"
             ],
             [
              0.4444444444444444,
              "#bd3786"
             ],
             [
              0.5555555555555556,
              "#d8576b"
             ],
             [
              0.6666666666666666,
              "#ed7953"
             ],
             [
              0.7777777777777778,
              "#fb9f3a"
             ],
             [
              0.8888888888888888,
              "#fdca26"
             ],
             [
              1,
              "#f0f921"
             ]
            ],
            "type": "heatmap"
           }
          ],
          "heatmapgl": [
           {
            "colorbar": {
             "outlinewidth": 0,
             "ticks": ""
            },
            "colorscale": [
             [
              0,
              "#0d0887"
             ],
             [
              0.1111111111111111,
              "#46039f"
             ],
             [
              0.2222222222222222,
              "#7201a8"
             ],
             [
              0.3333333333333333,
              "#9c179e"
             ],
             [
              0.4444444444444444,
              "#bd3786"
             ],
             [
              0.5555555555555556,
              "#d8576b"
             ],
             [
              0.6666666666666666,
              "#ed7953"
             ],
             [
              0.7777777777777778,
              "#fb9f3a"
             ],
             [
              0.8888888888888888,
              "#fdca26"
             ],
             [
              1,
              "#f0f921"
             ]
            ],
            "type": "heatmapgl"
           }
          ],
          "histogram": [
           {
            "marker": {
             "pattern": {
              "fillmode": "overlay",
              "size": 10,
              "solidity": 0.2
             }
            },
            "type": "histogram"
           }
          ],
          "histogram2d": [
           {
            "colorbar": {
             "outlinewidth": 0,
             "ticks": ""
            },
            "colorscale": [
             [
              0,
              "#0d0887"
             ],
             [
              0.1111111111111111,
              "#46039f"
             ],
             [
              0.2222222222222222,
              "#7201a8"
             ],
             [
              0.3333333333333333,
              "#9c179e"
             ],
             [
              0.4444444444444444,
              "#bd3786"
             ],
             [
              0.5555555555555556,
              "#d8576b"
             ],
             [
              0.6666666666666666,
              "#ed7953"
             ],
             [
              0.7777777777777778,
              "#fb9f3a"
             ],
             [
              0.8888888888888888,
              "#fdca26"
             ],
             [
              1,
              "#f0f921"
             ]
            ],
            "type": "histogram2d"
           }
          ],
          "histogram2dcontour": [
           {
            "colorbar": {
             "outlinewidth": 0,
             "ticks": ""
            },
            "colorscale": [
             [
              0,
              "#0d0887"
             ],
             [
              0.1111111111111111,
              "#46039f"
             ],
             [
              0.2222222222222222,
              "#7201a8"
             ],
             [
              0.3333333333333333,
              "#9c179e"
             ],
             [
              0.4444444444444444,
              "#bd3786"
             ],
             [
              0.5555555555555556,
              "#d8576b"
             ],
             [
              0.6666666666666666,
              "#ed7953"
             ],
             [
              0.7777777777777778,
              "#fb9f3a"
             ],
             [
              0.8888888888888888,
              "#fdca26"
             ],
             [
              1,
              "#f0f921"
             ]
            ],
            "type": "histogram2dcontour"
           }
          ],
          "mesh3d": [
           {
            "colorbar": {
             "outlinewidth": 0,
             "ticks": ""
            },
            "type": "mesh3d"
           }
          ],
          "parcoords": [
           {
            "line": {
             "colorbar": {
              "outlinewidth": 0,
              "ticks": ""
             }
            },
            "type": "parcoords"
           }
          ],
          "pie": [
           {
            "automargin": true,
            "type": "pie"
           }
          ],
          "scatter": [
           {
            "fillpattern": {
             "fillmode": "overlay",
             "size": 10,
             "solidity": 0.2
            },
            "type": "scatter"
           }
          ],
          "scatter3d": [
           {
            "line": {
             "colorbar": {
              "outlinewidth": 0,
              "ticks": ""
             }
            },
            "marker": {
             "colorbar": {
              "outlinewidth": 0,
              "ticks": ""
             }
            },
            "type": "scatter3d"
           }
          ],
          "scattercarpet": [
           {
            "marker": {
             "colorbar": {
              "outlinewidth": 0,
              "ticks": ""
             }
            },
            "type": "scattercarpet"
           }
          ],
          "scattergeo": [
           {
            "marker": {
             "colorbar": {
              "outlinewidth": 0,
              "ticks": ""
             }
            },
            "type": "scattergeo"
           }
          ],
          "scattergl": [
           {
            "marker": {
             "colorbar": {
              "outlinewidth": 0,
              "ticks": ""
             }
            },
            "type": "scattergl"
           }
          ],
          "scattermapbox": [
           {
            "marker": {
             "colorbar": {
              "outlinewidth": 0,
              "ticks": ""
             }
            },
            "type": "scattermapbox"
           }
          ],
          "scatterpolar": [
           {
            "marker": {
             "colorbar": {
              "outlinewidth": 0,
              "ticks": ""
             }
            },
            "type": "scatterpolar"
           }
          ],
          "scatterpolargl": [
           {
            "marker": {
             "colorbar": {
              "outlinewidth": 0,
              "ticks": ""
             }
            },
            "type": "scatterpolargl"
           }
          ],
          "scatterternary": [
           {
            "marker": {
             "colorbar": {
              "outlinewidth": 0,
              "ticks": ""
             }
            },
            "type": "scatterternary"
           }
          ],
          "surface": [
           {
            "colorbar": {
             "outlinewidth": 0,
             "ticks": ""
            },
            "colorscale": [
             [
              0,
              "#0d0887"
             ],
             [
              0.1111111111111111,
              "#46039f"
             ],
             [
              0.2222222222222222,
              "#7201a8"
             ],
             [
              0.3333333333333333,
              "#9c179e"
             ],
             [
              0.4444444444444444,
              "#bd3786"
             ],
             [
              0.5555555555555556,
              "#d8576b"
             ],
             [
              0.6666666666666666,
              "#ed7953"
             ],
             [
              0.7777777777777778,
              "#fb9f3a"
             ],
             [
              0.8888888888888888,
              "#fdca26"
             ],
             [
              1,
              "#f0f921"
             ]
            ],
            "type": "surface"
           }
          ],
          "table": [
           {
            "cells": {
             "fill": {
              "color": "#EBF0F8"
             },
             "line": {
              "color": "white"
             }
            },
            "header": {
             "fill": {
              "color": "#C8D4E3"
             },
             "line": {
              "color": "white"
             }
            },
            "type": "table"
           }
          ]
         },
         "layout": {
          "annotationdefaults": {
           "arrowcolor": "#2a3f5f",
           "arrowhead": 0,
           "arrowwidth": 1
          },
          "autotypenumbers": "strict",
          "coloraxis": {
           "colorbar": {
            "outlinewidth": 0,
            "ticks": ""
           }
          },
          "colorscale": {
           "diverging": [
            [
             0,
             "#8e0152"
            ],
            [
             0.1,
             "#c51b7d"
            ],
            [
             0.2,
             "#de77ae"
            ],
            [
             0.3,
             "#f1b6da"
            ],
            [
             0.4,
             "#fde0ef"
            ],
            [
             0.5,
             "#f7f7f7"
            ],
            [
             0.6,
             "#e6f5d0"
            ],
            [
             0.7,
             "#b8e186"
            ],
            [
             0.8,
             "#7fbc41"
            ],
            [
             0.9,
             "#4d9221"
            ],
            [
             1,
             "#276419"
            ]
           ],
           "sequential": [
            [
             0,
             "#0d0887"
            ],
            [
             0.1111111111111111,
             "#46039f"
            ],
            [
             0.2222222222222222,
             "#7201a8"
            ],
            [
             0.3333333333333333,
             "#9c179e"
            ],
            [
             0.4444444444444444,
             "#bd3786"
            ],
            [
             0.5555555555555556,
             "#d8576b"
            ],
            [
             0.6666666666666666,
             "#ed7953"
            ],
            [
             0.7777777777777778,
             "#fb9f3a"
            ],
            [
             0.8888888888888888,
             "#fdca26"
            ],
            [
             1,
             "#f0f921"
            ]
           ],
           "sequentialminus": [
            [
             0,
             "#0d0887"
            ],
            [
             0.1111111111111111,
             "#46039f"
            ],
            [
             0.2222222222222222,
             "#7201a8"
            ],
            [
             0.3333333333333333,
             "#9c179e"
            ],
            [
             0.4444444444444444,
             "#bd3786"
            ],
            [
             0.5555555555555556,
             "#d8576b"
            ],
            [
             0.6666666666666666,
             "#ed7953"
            ],
            [
             0.7777777777777778,
             "#fb9f3a"
            ],
            [
             0.8888888888888888,
             "#fdca26"
            ],
            [
             1,
             "#f0f921"
            ]
           ]
          },
          "colorway": [
           "#636efa",
           "#EF553B",
           "#00cc96",
           "#ab63fa",
           "#FFA15A",
           "#19d3f3",
           "#FF6692",
           "#B6E880",
           "#FF97FF",
           "#FECB52"
          ],
          "font": {
           "color": "#2a3f5f"
          },
          "geo": {
           "bgcolor": "white",
           "lakecolor": "white",
           "landcolor": "#E5ECF6",
           "showlakes": true,
           "showland": true,
           "subunitcolor": "white"
          },
          "hoverlabel": {
           "align": "left"
          },
          "hovermode": "closest",
          "mapbox": {
           "style": "light"
          },
          "paper_bgcolor": "white",
          "plot_bgcolor": "#E5ECF6",
          "polar": {
           "angularaxis": {
            "gridcolor": "white",
            "linecolor": "white",
            "ticks": ""
           },
           "bgcolor": "#E5ECF6",
           "radialaxis": {
            "gridcolor": "white",
            "linecolor": "white",
            "ticks": ""
           }
          },
          "scene": {
           "xaxis": {
            "backgroundcolor": "#E5ECF6",
            "gridcolor": "white",
            "gridwidth": 2,
            "linecolor": "white",
            "showbackground": true,
            "ticks": "",
            "zerolinecolor": "white"
           },
           "yaxis": {
            "backgroundcolor": "#E5ECF6",
            "gridcolor": "white",
            "gridwidth": 2,
            "linecolor": "white",
            "showbackground": true,
            "ticks": "",
            "zerolinecolor": "white"
           },
           "zaxis": {
            "backgroundcolor": "#E5ECF6",
            "gridcolor": "white",
            "gridwidth": 2,
            "linecolor": "white",
            "showbackground": true,
            "ticks": "",
            "zerolinecolor": "white"
           }
          },
          "shapedefaults": {
           "line": {
            "color": "#2a3f5f"
           }
          },
          "ternary": {
           "aaxis": {
            "gridcolor": "white",
            "linecolor": "white",
            "ticks": ""
           },
           "baxis": {
            "gridcolor": "white",
            "linecolor": "white",
            "ticks": ""
           },
           "bgcolor": "#E5ECF6",
           "caxis": {
            "gridcolor": "white",
            "linecolor": "white",
            "ticks": ""
           }
          },
          "title": {
           "x": 0.05
          },
          "xaxis": {
           "automargin": true,
           "gridcolor": "white",
           "linecolor": "white",
           "ticks": "",
           "title": {
            "standoff": 15
           },
           "zerolinecolor": "white",
           "zerolinewidth": 2
          },
          "yaxis": {
           "automargin": true,
           "gridcolor": "white",
           "linecolor": "white",
           "ticks": "",
           "title": {
            "standoff": 15
           },
           "zerolinecolor": "white",
           "zerolinewidth": 2
          }
         }
        },
        "title": {
         "font": {
          "color": "#D9D9D9"
         },
         "text": "Scatter plot of Halstead Error Estimate vs Design Complexity"
        },
        "width": 900,
        "xaxis": {
         "gridcolor": "#434343",
         "showgrid": true,
         "tickfont": {
          "color": "#C2C2C2"
         },
         "title": {
          "font": {
           "color": "#D9D9D9"
          },
          "text": "Design Complexity"
         },
         "zerolinecolor": "#666570"
        },
        "yaxis": {
         "gridcolor": "#434343",
         "showgrid": true,
         "tickfont": {
          "color": "#C2C2C2"
         },
         "title": {
          "font": {
           "color": "#D9D9D9"
          },
          "text": "Halstead Error Estimate"
         },
         "zerolinecolor": "#666570"
        }
       }
      },
      "text/html": [
       "<div>                            <div id=\"6c8741b0-9281-4cf6-93ae-16597415b0b5\" class=\"plotly-graph-div\" style=\"height:500px; width:900px;\"></div>            <script type=\"text/javascript\">                require([\"plotly\"], function(Plotly) {                    window.PLOTLYENV=window.PLOTLYENV || {};\n",
       "                    window.PLOTLYENV.BASE_URL='https://plot.ly';                                    if (document.getElementById(\"6c8741b0-9281-4cf6-93ae-16597415b0b5\")) {                    Plotly.newPlot(                        \"6c8741b0-9281-4cf6-93ae-16597415b0b5\",                        [{\"line\":{\"color\":\"orange\",\"dash\":\"solid\",\"shape\":\"linear\",\"width\":1.3},\"marker\":{\"size\":12,\"symbol\":\"circle\"},\"mode\":\"markers\",\"name\":\"HALSTEAD_ERROR_EST\",\"text\":\"\",\"x\":[1.0,1.0,7.0,3.0,6.0,5.0,1.0,3.0,1.0,2.0,18.0,4.0,6.0,3.0,2.0,2.0,2.0,1.0,4.0,2.0,3.0,10.0,7.0,1.0,3.0,2.0,8.0,2.0,2.0,1.0,2.0,2.0,3.0,5.0,3.0,4.0,6.0,1.0,5.0,7.0,10.0,22.0,1.0,2.0,9.0,3.0,6.0,9.0,1.0,6.0,5.0,46.0,1.0,4.0,2.0,10.0,7.0,2.0,5.0,5.0,1.0,4.0,3.0,1.0,3.0,1.0,3.0,4.0,4.0,3.0,2.0,12.0,2.0,6.0,2.0,13.0,3.0,1.0,3.0,2.0,2.0,3.0,1.0,3.0,2.0,4.0,4.0,9.0,7.0,3.0,1.0,19.0,2.0,4.0,1.0,10.0,5.0,2.0,3.0,7.0,1.0,8.0,1.0,5.0,1.0,3.0,1.0,1.0,1.0,6.0,3.0,12.0,41.0,17.0,2.0,1.0,2.0,1.0,4.0,13.0,3.0,1.0,8.0,4.0,2.0,2.0,9.0,5.0,8.0,3.0,3.0,3.0,1.0,13.0,1.0,5.0,2.0,1.0,2.0,3.0,10.0,8.0,2.0,6.0,3.0,2.0,3.0,2.0,7.0,4.0,9.0,2.0,1.0,1.0,1.0,4.0,2.0,11.0,9.0,1.0,1.0,1.0,14.0,3.0,10.0,24.0,4.0,2.0,2.0,20.0,1.0,2.0,1.0,63.0,5.0,3.0,4.0,3.0,2.0,4.0,1.0,1.0,5.0,3.0,4.0,1.0,1.0,9.0,9.0,6.0,1.0,1.0,9.0,11.0,7.0,6.0,3.0,1.0,6.0,4.0,3.0,4.0,10.0,7.0,10.0,5.0,2.0,12.0,8.0,1.0,1.0,1.0,3.0,3.0,24.0,1.0,1.0,1.0,2.0,2.0,15.0,1.0,3.0,1.0,8.0,7.0,4.0,11.0,1.0,13.0,1.0,2.0,4.0,16.0,4.0,3.0,7.0,1.0,3.0,1.0,1.0,1.0,4.0,2.0,5.0,2.0,2.0,3.0,4.0,26.0,1.0,6.0,2.0,5.0,4.0,1.0,1.0,2.0,6.0,10.0,23.0,2.0,2.0,3.0,5.0,1.0,4.0,1.0,1.0,2.0,5.0,9.0,6.0,3.0,3.0,3.0,2.0,5.0,27.0,3.0,2.0,4.0,10.0,3.0,2.0,6.0,2.0,1.0,1.0,2.0,6.0,3.0,4.0,6.0,3.0,8.0,4.0,2.0,5.0,3.0,6.0,2.0,5.0,2.0,4.0,7.0,2.0,1.0,4.0,1.0,7.0,2.0,2.0,4.0,2.0,5.0,2.0,3.0,3.0,3.0,26.0,1.0,15.0,2.0,1.0,2.0,2.0],\"y\":[0.02,0.04,0.8,0.25,0.16,0.18,0.06,0.2,0.09,0.54,1.69,0.18,0.3,0.18,0.03,0.1,0.17,0.1,0.24,0.2,0.15,1.43,0.44,0.09,0.25,0.19,1.2,0.06,0.25,0.04,0.03,0.19,0.15,0.13,0.18,0.13,0.26,0.05,0.5,0.58,1.34,2.84,0.08,0.02,0.25,0.05,0.23,0.24,0.05,1.86,0.21,5.12,0.02,0.24,0.12,1.82,0.54,0.12,0.08,0.35,0.04,1.25,0.18,0.16,0.25,0.15,0.18,0.09,0.09,0.15,0.38,1.67,0.27,0.37,0.43,1.71,0.03,0.04,0.1,0.06,0.17,0.26,0.09,0.13,0.09,0.21,0.11,1.11,0.58,0.09,0.05,0.87,0.18,0.16,0.04,0.65,0.11,0.02,0.17,1.14,0.1,1.65,0.07,0.41,0.12,0.21,0.07,0.1,0.25,0.34,0.08,0.61,4.25,1.74,0.02,0.15,0.2,0.12,0.48,1.04,0.16,0.16,0.21,2.08,0.18,0.11,0.58,0.41,0.12,0.04,0.06,0.11,0.06,0.26,0.45,0.35,0.14,0.04,0.22,0.28,1.05,0.55,0.17,0.24,0.06,0.04,0.16,0.09,0.38,0.3,0.72,0.28,0.09,0.04,0.06,0.1,0.09,1.22,0.76,0.06,0.17,0.11,0.28,0.12,0.53,1.56,0.13,0.13,0.31,1.15,0.06,0.29,0.08,5.56,0.24,0.16,0.55,0.12,0.06,0.22,0.43,0.06,0.27,0.87,0.14,0.08,0.15,1.89,0.57,0.68,0.06,0.1,0.42,1.06,0.66,1.0,0.23,0.26,0.3,0.14,0.17,0.1,0.5,0.66,1.16,0.18,0.1,1.27,0.6,0.06,1.11,0.09,0.11,0.36,1.86,0.03,0.02,0.05,0.21,0.38,1.95,0.12,0.13,0.04,0.87,0.32,0.16,0.91,0.3,0.93,0.07,0.07,0.19,1.39,0.2,0.12,0.73,0.08,0.52,0.03,0.02,0.01,0.09,0.43,0.72,0.19,0.1,0.16,0.28,1.4,0.05,1.25,0.12,0.33,0.83,0.04,0.02,0.03,0.76,1.09,1.86,0.49,0.06,0.14,0.27,0.29,0.54,0.02,0.08,0.28,0.27,0.43,0.31,0.58,0.12,0.05,0.17,0.35,1.7,0.13,0.06,0.37,1.12,0.12,0.44,0.9,0.02,0.03,1.04,0.17,0.34,0.1,0.13,0.41,0.11,0.44,0.22,0.05,0.36,0.3,0.72,0.11,0.18,0.14,0.18,0.77,0.03,0.06,0.28,0.35,0.52,0.07,0.1,0.59,0.04,0.37,0.12,0.24,0.54,0.1,3.05,0.31,0.88,0.12,0.05,0.2,0.05],\"type\":\"scatter\"},{\"line\":{\"color\":\"green\",\"dash\":\"solid\",\"shape\":\"linear\",\"width\":1.3},\"mode\":\"lines\",\"name\":\"PREDICTED_HALSTEAD_ERROR_EST\",\"text\":\"\",\"x\":[1.0,1.0,7.0,3.0,6.0,5.0,1.0,3.0,1.0,2.0,18.0,4.0,6.0,3.0,2.0,2.0,2.0,1.0,4.0,2.0,3.0,10.0,7.0,1.0,3.0,2.0,8.0,2.0,2.0,1.0,2.0,2.0,3.0,5.0,3.0,4.0,6.0,1.0,5.0,7.0,10.0,22.0,1.0,2.0,9.0,3.0,6.0,9.0,1.0,6.0,5.0,46.0,1.0,4.0,2.0,10.0,7.0,2.0,5.0,5.0,1.0,4.0,3.0,1.0,3.0,1.0,3.0,4.0,4.0,3.0,2.0,12.0,2.0,6.0,2.0,13.0,3.0,1.0,3.0,2.0,2.0,3.0,1.0,3.0,2.0,4.0,4.0,9.0,7.0,3.0,1.0,19.0,2.0,4.0,1.0,10.0,5.0,2.0,3.0,7.0,1.0,8.0,1.0,5.0,1.0,3.0,1.0,1.0,1.0,6.0,3.0,12.0,41.0,17.0,2.0,1.0,2.0,1.0,4.0,13.0,3.0,1.0,8.0,4.0,2.0,2.0,9.0,5.0,8.0,3.0,3.0,3.0,1.0,13.0,1.0,5.0,2.0,1.0,2.0,3.0,10.0,8.0,2.0,6.0,3.0,2.0,3.0,2.0,7.0,4.0,9.0,2.0,1.0,1.0,1.0,4.0,2.0,11.0,9.0,1.0,1.0,1.0,14.0,3.0,10.0,24.0,4.0,2.0,2.0,20.0,1.0,2.0,1.0,63.0,5.0,3.0,4.0,3.0,2.0,4.0,1.0,1.0,5.0,3.0,4.0,1.0,1.0,9.0,9.0,6.0,1.0,1.0,9.0,11.0,7.0,6.0,3.0,1.0,6.0,4.0,3.0,4.0,10.0,7.0,10.0,5.0,2.0,12.0,8.0,1.0,1.0,1.0,3.0,3.0,24.0,1.0,1.0,1.0,2.0,2.0,15.0,1.0,3.0,1.0,8.0,7.0,4.0,11.0,1.0,13.0,1.0,2.0,4.0,16.0,4.0,3.0,7.0,1.0,3.0,1.0,1.0,1.0,4.0,2.0,5.0,2.0,2.0,3.0,4.0,26.0,1.0,6.0,2.0,5.0,4.0,1.0,1.0,2.0,6.0,10.0,23.0,2.0,2.0,3.0,5.0,1.0,4.0,1.0,1.0,2.0,5.0,9.0,6.0,3.0,3.0,3.0,2.0,5.0,27.0,3.0,2.0,4.0,10.0,3.0,2.0,6.0,2.0,1.0,1.0,2.0,6.0,3.0,4.0,6.0,3.0,8.0,4.0,2.0,5.0,3.0,6.0,2.0,5.0,2.0,4.0,7.0,2.0,1.0,4.0,1.0,7.0,2.0,2.0,4.0,2.0,5.0,2.0,3.0,3.0,3.0,26.0,1.0,15.0,2.0,1.0,2.0,2.0],\"y\":[0.03519937356818171,0.03519937356818171,0.5516048198233742,0.20733452231991253,0.46553724544750874,0.37946967107164337,0.03519937356818171,0.20733452231991253,0.03519937356818171,0.12126694794404713,1.4983481379578938,0.29340209669577794,0.46553724544750874,0.20733452231991253,0.12126694794404713,0.12126694794404713,0.12126694794404713,0.03519937356818171,0.29340209669577794,0.12126694794404713,0.20733452231991253,0.8098075429509705,0.5516048198233742,0.03519937356818171,0.20733452231991253,0.12126694794404713,0.6376723941992396,0.12126694794404713,0.12126694794404713,0.03519937356818171,0.12126694794404713,0.12126694794404713,0.20733452231991253,0.37946967107164337,0.20733452231991253,0.29340209669577794,0.46553724544750874,0.03519937356818171,0.37946967107164337,0.5516048198233742,0.8098075429509705,1.8426184354613555,0.03519937356818171,0.12126694794404713,0.723739968575105,0.20733452231991253,0.46553724544750874,0.723739968575105,0.03519937356818171,0.46553724544750874,0.37946967107164337,3.9082402204821256,0.03519937356818171,0.29340209669577794,0.12126694794404713,0.8098075429509705,0.5516048198233742,0.12126694794404713,0.37946967107164337,0.37946967107164337,0.03519937356818171,0.29340209669577794,0.20733452231991253,0.03519937356818171,0.20733452231991253,0.03519937356818171,0.20733452231991253,0.29340209669577794,0.29340209669577794,0.20733452231991253,0.12126694794404713,0.9819426917027012,0.12126694794404713,0.46553724544750874,0.12126694794404713,1.0680102660785666,0.20733452231991253,0.03519937356818171,0.20733452231991253,0.12126694794404713,0.12126694794404713,0.20733452231991253,0.03519937356818171,0.20733452231991253,0.12126694794404713,0.29340209669577794,0.29340209669577794,0.723739968575105,0.5516048198233742,0.20733452231991253,0.03519937356818171,1.5844157123337592,0.12126694794404713,0.29340209669577794,0.03519937356818171,0.8098075429509705,0.37946967107164337,0.12126694794404713,0.20733452231991253,0.5516048198233742,0.03519937356818171,0.6376723941992396,0.03519937356818171,0.37946967107164337,0.03519937356818171,0.20733452231991253,0.03519937356818171,0.03519937356818171,0.03519937356818171,0.46553724544750874,0.20733452231991253,0.9819426917027012,3.4779023486027985,1.4122805635820284,0.12126694794404713,0.03519937356818171,0.12126694794404713,0.03519937356818171,0.29340209669577794,1.0680102660785666,0.20733452231991253,0.03519937356818171,0.6376723941992396,0.29340209669577794,0.12126694794404713,0.12126694794404713,0.723739968575105,0.37946967107164337,0.6376723941992396,0.20733452231991253,0.20733452231991253,0.20733452231991253,0.03519937356818171,1.0680102660785666,0.03519937356818171,0.37946967107164337,0.12126694794404713,0.03519937356818171,0.12126694794404713,0.20733452231991253,0.8098075429509705,0.6376723941992396,0.12126694794404713,0.46553724544750874,0.20733452231991253,0.12126694794404713,0.20733452231991253,0.12126694794404713,0.5516048198233742,0.29340209669577794,0.723739968575105,0.12126694794404713,0.03519937356818171,0.03519937356818171,0.03519937356818171,0.29340209669577794,0.12126694794404713,0.8958751173268359,0.723739968575105,0.03519937356818171,0.03519937356818171,0.03519937356818171,1.154077840454432,0.20733452231991253,0.8098075429509705,2.014753584213086,0.29340209669577794,0.12126694794404713,0.12126694794404713,1.6704832867096246,0.03519937356818171,0.12126694794404713,0.03519937356818171,5.371388984871838,0.37946967107164337,0.20733452231991253,0.29340209669577794,0.20733452231991253,0.12126694794404713,0.29340209669577794,0.03519937356818171,0.03519937356818171,0.37946967107164337,0.20733452231991253,0.29340209669577794,0.03519937356818171,0.03519937356818171,0.723739968575105,0.723739968575105,0.46553724544750874,0.03519937356818171,0.03519937356818171,0.723739968575105,0.8958751173268359,0.5516048198233742,0.46553724544750874,0.20733452231991253,0.03519937356818171,0.46553724544750874,0.29340209669577794,0.20733452231991253,0.29340209669577794,0.8098075429509705,0.5516048198233742,0.8098075429509705,0.37946967107164337,0.12126694794404713,0.9819426917027012,0.6376723941992396,0.03519937356818171,0.03519937356818171,0.03519937356818171,0.20733452231991253,0.20733452231991253,2.014753584213086,0.03519937356818171,0.03519937356818171,0.03519937356818171,0.12126694794404713,0.12126694794404713,1.2401454148302975,0.03519937356818171,0.20733452231991253,0.03519937356818171,0.6376723941992396,0.5516048198233742,0.29340209669577794,0.8958751173268359,0.03519937356818171,1.0680102660785666,0.03519937356818171,0.12126694794404713,0.29340209669577794,1.326212989206163,0.29340209669577794,0.20733452231991253,0.5516048198233742,0.03519937356818171,0.20733452231991253,0.03519937356818171,0.03519937356818171,0.03519937356818171,0.29340209669577794,0.12126694794404713,0.37946967107164337,0.12126694794404713,0.12126694794404713,0.20733452231991253,0.29340209669577794,2.186888732964817,0.03519937356818171,0.46553724544750874,0.12126694794404713,0.37946967107164337,0.29340209669577794,0.03519937356818171,0.03519937356818171,0.12126694794404713,0.46553724544750874,0.8098075429509705,1.928686009837221,0.12126694794404713,0.12126694794404713,0.20733452231991253,0.37946967107164337,0.03519937356818171,0.29340209669577794,0.03519937356818171,0.03519937356818171,0.12126694794404713,0.37946967107164337,0.723739968575105,0.46553724544750874,0.20733452231991253,0.20733452231991253,0.20733452231991253,0.12126694794404713,0.37946967107164337,2.2729563073406824,0.20733452231991253,0.12126694794404713,0.29340209669577794,0.8098075429509705,0.20733452231991253,0.12126694794404713,0.46553724544750874,0.12126694794404713,0.03519937356818171,0.03519937356818171,0.12126694794404713,0.46553724544750874,0.20733452231991253,0.29340209669577794,0.46553724544750874,0.20733452231991253,0.6376723941992396,0.29340209669577794,0.12126694794404713,0.37946967107164337,0.20733452231991253,0.46553724544750874,0.12126694794404713,0.37946967107164337,0.12126694794404713,0.29340209669577794,0.5516048198233742,0.12126694794404713,0.03519937356818171,0.29340209669577794,0.03519937356818171,0.5516048198233742,0.12126694794404713,0.12126694794404713,0.29340209669577794,0.12126694794404713,0.37946967107164337,0.12126694794404713,0.20733452231991253,0.20733452231991253,0.20733452231991253,2.186888732964817,0.03519937356818171,1.2401454148302975,0.12126694794404713,0.03519937356818171,0.12126694794404713,0.12126694794404713],\"type\":\"scatter\"}],                        {\"height\":500,\"legend\":{\"bgcolor\":\"#151516\",\"font\":{\"color\":\"#D9D9D9\"}},\"paper_bgcolor\":\"#151516\",\"plot_bgcolor\":\"#151516\",\"template\":{\"data\":{\"barpolar\":[{\"marker\":{\"line\":{\"color\":\"#E5ECF6\",\"width\":0.5},\"pattern\":{\"fillmode\":\"overlay\",\"size\":10,\"solidity\":0.2}},\"type\":\"barpolar\"}],\"bar\":[{\"error_x\":{\"color\":\"#2a3f5f\"},\"error_y\":{\"color\":\"#2a3f5f\"},\"marker\":{\"line\":{\"color\":\"#E5ECF6\",\"width\":0.5},\"pattern\":{\"fillmode\":\"overlay\",\"size\":10,\"solidity\":0.2}},\"type\":\"bar\"}],\"carpet\":[{\"aaxis\":{\"endlinecolor\":\"#2a3f5f\",\"gridcolor\":\"white\",\"linecolor\":\"white\",\"minorgridcolor\":\"white\",\"startlinecolor\":\"#2a3f5f\"},\"baxis\":{\"endlinecolor\":\"#2a3f5f\",\"gridcolor\":\"white\",\"linecolor\":\"white\",\"minorgridcolor\":\"white\",\"startlinecolor\":\"#2a3f5f\"},\"type\":\"carpet\"}],\"choropleth\":[{\"colorbar\":{\"outlinewidth\":0,\"ticks\":\"\"},\"type\":\"choropleth\"}],\"contourcarpet\":[{\"colorbar\":{\"outlinewidth\":0,\"ticks\":\"\"},\"type\":\"contourcarpet\"}],\"contour\":[{\"colorbar\":{\"outlinewidth\":0,\"ticks\":\"\"},\"colorscale\":[[0.0,\"#0d0887\"],[0.1111111111111111,\"#46039f\"],[0.2222222222222222,\"#7201a8\"],[0.3333333333333333,\"#9c179e\"],[0.4444444444444444,\"#bd3786\"],[0.5555555555555556,\"#d8576b\"],[0.6666666666666666,\"#ed7953\"],[0.7777777777777778,\"#fb9f3a\"],[0.8888888888888888,\"#fdca26\"],[1.0,\"#f0f921\"]],\"type\":\"contour\"}],\"heatmapgl\":[{\"colorbar\":{\"outlinewidth\":0,\"ticks\":\"\"},\"colorscale\":[[0.0,\"#0d0887\"],[0.1111111111111111,\"#46039f\"],[0.2222222222222222,\"#7201a8\"],[0.3333333333333333,\"#9c179e\"],[0.4444444444444444,\"#bd3786\"],[0.5555555555555556,\"#d8576b\"],[0.6666666666666666,\"#ed7953\"],[0.7777777777777778,\"#fb9f3a\"],[0.8888888888888888,\"#fdca26\"],[1.0,\"#f0f921\"]],\"type\":\"heatmapgl\"}],\"heatmap\":[{\"colorbar\":{\"outlinewidth\":0,\"ticks\":\"\"},\"colorscale\":[[0.0,\"#0d0887\"],[0.1111111111111111,\"#46039f\"],[0.2222222222222222,\"#7201a8\"],[0.3333333333333333,\"#9c179e\"],[0.4444444444444444,\"#bd3786\"],[0.5555555555555556,\"#d8576b\"],[0.6666666666666666,\"#ed7953\"],[0.7777777777777778,\"#fb9f3a\"],[0.8888888888888888,\"#fdca26\"],[1.0,\"#f0f921\"]],\"type\":\"heatmap\"}],\"histogram2dcontour\":[{\"colorbar\":{\"outlinewidth\":0,\"ticks\":\"\"},\"colorscale\":[[0.0,\"#0d0887\"],[0.1111111111111111,\"#46039f\"],[0.2222222222222222,\"#7201a8\"],[0.3333333333333333,\"#9c179e\"],[0.4444444444444444,\"#bd3786\"],[0.5555555555555556,\"#d8576b\"],[0.6666666666666666,\"#ed7953\"],[0.7777777777777778,\"#fb9f3a\"],[0.8888888888888888,\"#fdca26\"],[1.0,\"#f0f921\"]],\"type\":\"histogram2dcontour\"}],\"histogram2d\":[{\"colorbar\":{\"outlinewidth\":0,\"ticks\":\"\"},\"colorscale\":[[0.0,\"#0d0887\"],[0.1111111111111111,\"#46039f\"],[0.2222222222222222,\"#7201a8\"],[0.3333333333333333,\"#9c179e\"],[0.4444444444444444,\"#bd3786\"],[0.5555555555555556,\"#d8576b\"],[0.6666666666666666,\"#ed7953\"],[0.7777777777777778,\"#fb9f3a\"],[0.8888888888888888,\"#fdca26\"],[1.0,\"#f0f921\"]],\"type\":\"histogram2d\"}],\"histogram\":[{\"marker\":{\"pattern\":{\"fillmode\":\"overlay\",\"size\":10,\"solidity\":0.2}},\"type\":\"histogram\"}],\"mesh3d\":[{\"colorbar\":{\"outlinewidth\":0,\"ticks\":\"\"},\"type\":\"mesh3d\"}],\"parcoords\":[{\"line\":{\"colorbar\":{\"outlinewidth\":0,\"ticks\":\"\"}},\"type\":\"parcoords\"}],\"pie\":[{\"automargin\":true,\"type\":\"pie\"}],\"scatter3d\":[{\"line\":{\"colorbar\":{\"outlinewidth\":0,\"ticks\":\"\"}},\"marker\":{\"colorbar\":{\"outlinewidth\":0,\"ticks\":\"\"}},\"type\":\"scatter3d\"}],\"scattercarpet\":[{\"marker\":{\"colorbar\":{\"outlinewidth\":0,\"ticks\":\"\"}},\"type\":\"scattercarpet\"}],\"scattergeo\":[{\"marker\":{\"colorbar\":{\"outlinewidth\":0,\"ticks\":\"\"}},\"type\":\"scattergeo\"}],\"scattergl\":[{\"marker\":{\"colorbar\":{\"outlinewidth\":0,\"ticks\":\"\"}},\"type\":\"scattergl\"}],\"scattermapbox\":[{\"marker\":{\"colorbar\":{\"outlinewidth\":0,\"ticks\":\"\"}},\"type\":\"scattermapbox\"}],\"scatterpolargl\":[{\"marker\":{\"colorbar\":{\"outlinewidth\":0,\"ticks\":\"\"}},\"type\":\"scatterpolargl\"}],\"scatterpolar\":[{\"marker\":{\"colorbar\":{\"outlinewidth\":0,\"ticks\":\"\"}},\"type\":\"scatterpolar\"}],\"scatter\":[{\"fillpattern\":{\"fillmode\":\"overlay\",\"size\":10,\"solidity\":0.2},\"type\":\"scatter\"}],\"scatterternary\":[{\"marker\":{\"colorbar\":{\"outlinewidth\":0,\"ticks\":\"\"}},\"type\":\"scatterternary\"}],\"surface\":[{\"colorbar\":{\"outlinewidth\":0,\"ticks\":\"\"},\"colorscale\":[[0.0,\"#0d0887\"],[0.1111111111111111,\"#46039f\"],[0.2222222222222222,\"#7201a8\"],[0.3333333333333333,\"#9c179e\"],[0.4444444444444444,\"#bd3786\"],[0.5555555555555556,\"#d8576b\"],[0.6666666666666666,\"#ed7953\"],[0.7777777777777778,\"#fb9f3a\"],[0.8888888888888888,\"#fdca26\"],[1.0,\"#f0f921\"]],\"type\":\"surface\"}],\"table\":[{\"cells\":{\"fill\":{\"color\":\"#EBF0F8\"},\"line\":{\"color\":\"white\"}},\"header\":{\"fill\":{\"color\":\"#C8D4E3\"},\"line\":{\"color\":\"white\"}},\"type\":\"table\"}]},\"layout\":{\"annotationdefaults\":{\"arrowcolor\":\"#2a3f5f\",\"arrowhead\":0,\"arrowwidth\":1},\"autotypenumbers\":\"strict\",\"coloraxis\":{\"colorbar\":{\"outlinewidth\":0,\"ticks\":\"\"}},\"colorscale\":{\"diverging\":[[0,\"#8e0152\"],[0.1,\"#c51b7d\"],[0.2,\"#de77ae\"],[0.3,\"#f1b6da\"],[0.4,\"#fde0ef\"],[0.5,\"#f7f7f7\"],[0.6,\"#e6f5d0\"],[0.7,\"#b8e186\"],[0.8,\"#7fbc41\"],[0.9,\"#4d9221\"],[1,\"#276419\"]],\"sequential\":[[0.0,\"#0d0887\"],[0.1111111111111111,\"#46039f\"],[0.2222222222222222,\"#7201a8\"],[0.3333333333333333,\"#9c179e\"],[0.4444444444444444,\"#bd3786\"],[0.5555555555555556,\"#d8576b\"],[0.6666666666666666,\"#ed7953\"],[0.7777777777777778,\"#fb9f3a\"],[0.8888888888888888,\"#fdca26\"],[1.0,\"#f0f921\"]],\"sequentialminus\":[[0.0,\"#0d0887\"],[0.1111111111111111,\"#46039f\"],[0.2222222222222222,\"#7201a8\"],[0.3333333333333333,\"#9c179e\"],[0.4444444444444444,\"#bd3786\"],[0.5555555555555556,\"#d8576b\"],[0.6666666666666666,\"#ed7953\"],[0.7777777777777778,\"#fb9f3a\"],[0.8888888888888888,\"#fdca26\"],[1.0,\"#f0f921\"]]},\"colorway\":[\"#636efa\",\"#EF553B\",\"#00cc96\",\"#ab63fa\",\"#FFA15A\",\"#19d3f3\",\"#FF6692\",\"#B6E880\",\"#FF97FF\",\"#FECB52\"],\"font\":{\"color\":\"#2a3f5f\"},\"geo\":{\"bgcolor\":\"white\",\"lakecolor\":\"white\",\"landcolor\":\"#E5ECF6\",\"showlakes\":true,\"showland\":true,\"subunitcolor\":\"white\"},\"hoverlabel\":{\"align\":\"left\"},\"hovermode\":\"closest\",\"mapbox\":{\"style\":\"light\"},\"paper_bgcolor\":\"white\",\"plot_bgcolor\":\"#E5ECF6\",\"polar\":{\"angularaxis\":{\"gridcolor\":\"white\",\"linecolor\":\"white\",\"ticks\":\"\"},\"bgcolor\":\"#E5ECF6\",\"radialaxis\":{\"gridcolor\":\"white\",\"linecolor\":\"white\",\"ticks\":\"\"}},\"scene\":{\"xaxis\":{\"backgroundcolor\":\"#E5ECF6\",\"gridcolor\":\"white\",\"gridwidth\":2,\"linecolor\":\"white\",\"showbackground\":true,\"ticks\":\"\",\"zerolinecolor\":\"white\"},\"yaxis\":{\"backgroundcolor\":\"#E5ECF6\",\"gridcolor\":\"white\",\"gridwidth\":2,\"linecolor\":\"white\",\"showbackground\":true,\"ticks\":\"\",\"zerolinecolor\":\"white\"},\"zaxis\":{\"backgroundcolor\":\"#E5ECF6\",\"gridcolor\":\"white\",\"gridwidth\":2,\"linecolor\":\"white\",\"showbackground\":true,\"ticks\":\"\",\"zerolinecolor\":\"white\"}},\"shapedefaults\":{\"line\":{\"color\":\"#2a3f5f\"}},\"ternary\":{\"aaxis\":{\"gridcolor\":\"white\",\"linecolor\":\"white\",\"ticks\":\"\"},\"baxis\":{\"gridcolor\":\"white\",\"linecolor\":\"white\",\"ticks\":\"\"},\"bgcolor\":\"#E5ECF6\",\"caxis\":{\"gridcolor\":\"white\",\"linecolor\":\"white\",\"ticks\":\"\"}},\"title\":{\"x\":0.05},\"xaxis\":{\"automargin\":true,\"gridcolor\":\"white\",\"linecolor\":\"white\",\"ticks\":\"\",\"title\":{\"standoff\":15},\"zerolinecolor\":\"white\",\"zerolinewidth\":2},\"yaxis\":{\"automargin\":true,\"gridcolor\":\"white\",\"linecolor\":\"white\",\"ticks\":\"\",\"title\":{\"standoff\":15},\"zerolinecolor\":\"white\",\"zerolinewidth\":2}}},\"title\":{\"font\":{\"color\":\"#D9D9D9\"},\"text\":\"Scatter plot of Halstead Error Estimate vs Design Complexity\"},\"width\":900,\"xaxis\":{\"gridcolor\":\"#434343\",\"showgrid\":true,\"tickfont\":{\"color\":\"#C2C2C2\"},\"title\":{\"font\":{\"color\":\"#D9D9D9\"},\"text\":\"Design Complexity\"},\"zerolinecolor\":\"#666570\"},\"yaxis\":{\"gridcolor\":\"#434343\",\"showgrid\":true,\"tickfont\":{\"color\":\"#C2C2C2\"},\"title\":{\"font\":{\"color\":\"#D9D9D9\"},\"text\":\"Halstead Error Estimate\"},\"zerolinecolor\":\"#666570\"}},                        {\"showLink\": true, \"linkText\": \"Export to plot.ly\", \"plotlyServerURL\": \"https://plot.ly\", \"responsive\": true}                    ).then(function(){\n",
       "                            \n",
       "var gd = document.getElementById('6c8741b0-9281-4cf6-93ae-16597415b0b5');\n",
       "var x = new MutationObserver(function (mutations, observer) {{\n",
       "        var display = window.getComputedStyle(gd).display;\n",
       "        if (!display || display === 'none') {{\n",
       "            console.log([gd, 'removed!']);\n",
       "            Plotly.purge(gd);\n",
       "            observer.disconnect();\n",
       "        }}\n",
       "}});\n",
       "\n",
       "// Listen for the removal of the full notebook cells\n",
       "var notebookContainer = gd.closest('#notebook-container');\n",
       "if (notebookContainer) {{\n",
       "    x.observe(notebookContainer, {childList: true});\n",
       "}}\n",
       "\n",
       "// Listen for the clearing of the current output cell\n",
       "var outputEl = gd.closest('.output');\n",
       "if (outputEl) {{\n",
       "    x.observe(outputEl, {childList: true});\n",
       "}}\n",
       "\n",
       "                        })                };                });            </script>        </div>"
      ]
     },
     "metadata": {},
     "output_type": "display_data"
    }
   ],
   "source": [
    "pd.DataFrame({\n",
    "    \"DESIGN_COMPLEXITY\": analysis_dataset[\"DESIGN_COMPLEXITY\"],\n",
    "    \"HALSTEAD_ERROR_EST\": analysis_dataset[\"HALSTEAD_ERROR_EST\"],\n",
    "    \"PREDICTED_HALSTEAD_ERROR_EST\": huber_regression_model.predict(X)\n",
    "}).iplot(\n",
    "    kind='scatter',\n",
    "    x='DESIGN_COMPLEXITY',\n",
    "    dimensions=(900, 500),\n",
    "    theme=\"solar\",\n",
    "    xTitle='Design Complexity',\n",
    "    yTitle='Halstead Error Estimate',\n",
    "    title='Scatter plot of Halstead Error Estimate vs Design Complexity',\n",
    "    mode={\n",
    "        \"HALSTEAD_ERROR_EST\": \"markers\",\n",
    "        \"PREDICTED_HALSTEAD_ERROR_EST\": \"lines\"\n",
    "    },\n",
    "    colors={\n",
    "        \"HALSTEAD_ERROR_EST\": \"orange\",\n",
    "        \"PREDICTED_HALSTEAD_ERROR_EST\": \"green\"\n",
    "    }\n",
    ")"
   ]
  },
  {
   "cell_type": "markdown",
   "metadata": {},
   "source": [
    "Now for regression analysis on the defective modules:"
   ]
  },
  {
   "cell_type": "code",
   "execution_count": 43,
   "metadata": {},
   "outputs": [
    {
     "name": "stdout",
     "output_type": "stream",
     "text": [
      "R-squared:  0.7356069223611053\n",
      "The equation of the line is: y = 0.1026754735472248x + -0.08082020708251575\n"
     ]
    }
   ],
   "source": [
    "Y = defective_group[\"HALSTEAD_ERROR_EST\"]\n",
    "X = defective_group[[\"DESIGN_COMPLEXITY\"]]\n",
    "\n",
    "huber_regression_model = HuberRegressor()\n",
    "\n",
    "huber_regression_model.fit(X, Y)\n",
    "\n",
    "print(\"R-squared: \", huber_regression_model.score(X, Y))\n",
    "print(\"The equation of the line is: y = \", huber_regression_model.coef_[0], \"x + \", huber_regression_model.intercept_, sep='')"
   ]
  },
  {
   "cell_type": "code",
   "execution_count": 44,
   "metadata": {},
   "outputs": [
    {
     "data": {
      "application/vnd.plotly.v1+json": {
       "config": {
        "linkText": "Export to plot.ly",
        "plotlyServerURL": "https://plot.ly",
        "showLink": true
       },
       "data": [
        {
         "line": {
          "color": "orange",
          "dash": "solid",
          "shape": "linear",
          "width": 1.3
         },
         "marker": {
          "size": 12,
          "symbol": "circle"
         },
         "mode": "markers",
         "name": "HALSTEAD_ERROR_EST",
         "text": "",
         "type": "scatter",
         "x": [
          3,
          3,
          18,
          10,
          7,
          2,
          2,
          3,
          1,
          7,
          3,
          4,
          3,
          12,
          19,
          3,
          41,
          1,
          4,
          5,
          3,
          10,
          2,
          9,
          2,
          4,
          9,
          7,
          12,
          7,
          16,
          3,
          26,
          5,
          10,
          3,
          6,
          3,
          5,
          7,
          1,
          26
         ],
         "y": [
          0.25,
          0.2,
          1.69,
          1.43,
          0.44,
          0.19,
          0.19,
          0.15,
          0.05,
          0.58,
          0.05,
          1.25,
          0.15,
          1.67,
          0.87,
          0.21,
          4.25,
          0.15,
          2.08,
          0.41,
          0.28,
          1.05,
          0.28,
          0.76,
          0.13,
          0.22,
          0.42,
          0.66,
          1.27,
          0.32,
          1.39,
          0.52,
          1.4,
          0.33,
          1.12,
          0.1,
          0.41,
          0.11,
          0.18,
          0.77,
          0.35,
          3.05
         ]
        },
        {
         "line": {
          "color": "green",
          "dash": "solid",
          "shape": "linear",
          "width": 1.3
         },
         "mode": "lines",
         "name": "PREDICTED_HALSTEAD_ERROR_EST",
         "text": "",
         "type": "scatter",
         "x": [
          3,
          3,
          18,
          10,
          7,
          2,
          2,
          3,
          1,
          7,
          3,
          4,
          3,
          12,
          19,
          3,
          41,
          1,
          4,
          5,
          3,
          10,
          2,
          9,
          2,
          4,
          9,
          7,
          12,
          7,
          16,
          3,
          26,
          5,
          10,
          3,
          6,
          3,
          5,
          7,
          1,
          26
         ],
         "y": [
          0.22720621355915865,
          0.22720621355915865,
          1.7673383167675307,
          0.9459345283897322,
          0.6379081077480577,
          0.12453074001193384,
          0.12453074001193384,
          0.22720621355915865,
          0.021855266464709047,
          0.6379081077480577,
          0.22720621355915865,
          0.32988168710638344,
          0.22720621355915865,
          1.151285475484182,
          1.8700137903147553,
          0.22720621355915865,
          4.128874208353701,
          0.021855266464709047,
          0.32988168710638344,
          0.4325571606536082,
          0.22720621355915865,
          0.9459345283897322,
          0.12453074001193384,
          0.8432590548425074,
          0.12453074001193384,
          0.32988168710638344,
          0.8432590548425074,
          0.6379081077480577,
          1.151285475484182,
          0.6379081077480577,
          1.561987369673081,
          0.22720621355915865,
          2.588742105145329,
          0.4325571606536082,
          0.9459345283897322,
          0.22720621355915865,
          0.5352326342008331,
          0.22720621355915865,
          0.4325571606536082,
          0.6379081077480577,
          0.021855266464709047,
          2.588742105145329
         ]
        }
       ],
       "layout": {
        "height": 500,
        "legend": {
         "bgcolor": "#151516",
         "font": {
          "color": "#D9D9D9"
         }
        },
        "paper_bgcolor": "#151516",
        "plot_bgcolor": "#151516",
        "template": {
         "data": {
          "bar": [
           {
            "error_x": {
             "color": "#2a3f5f"
            },
            "error_y": {
             "color": "#2a3f5f"
            },
            "marker": {
             "line": {
              "color": "#E5ECF6",
              "width": 0.5
             },
             "pattern": {
              "fillmode": "overlay",
              "size": 10,
              "solidity": 0.2
             }
            },
            "type": "bar"
           }
          ],
          "barpolar": [
           {
            "marker": {
             "line": {
              "color": "#E5ECF6",
              "width": 0.5
             },
             "pattern": {
              "fillmode": "overlay",
              "size": 10,
              "solidity": 0.2
             }
            },
            "type": "barpolar"
           }
          ],
          "carpet": [
           {
            "aaxis": {
             "endlinecolor": "#2a3f5f",
             "gridcolor": "white",
             "linecolor": "white",
             "minorgridcolor": "white",
             "startlinecolor": "#2a3f5f"
            },
            "baxis": {
             "endlinecolor": "#2a3f5f",
             "gridcolor": "white",
             "linecolor": "white",
             "minorgridcolor": "white",
             "startlinecolor": "#2a3f5f"
            },
            "type": "carpet"
           }
          ],
          "choropleth": [
           {
            "colorbar": {
             "outlinewidth": 0,
             "ticks": ""
            },
            "type": "choropleth"
           }
          ],
          "contour": [
           {
            "colorbar": {
             "outlinewidth": 0,
             "ticks": ""
            },
            "colorscale": [
             [
              0,
              "#0d0887"
             ],
             [
              0.1111111111111111,
              "#46039f"
             ],
             [
              0.2222222222222222,
              "#7201a8"
             ],
             [
              0.3333333333333333,
              "#9c179e"
             ],
             [
              0.4444444444444444,
              "#bd3786"
             ],
             [
              0.5555555555555556,
              "#d8576b"
             ],
             [
              0.6666666666666666,
              "#ed7953"
             ],
             [
              0.7777777777777778,
              "#fb9f3a"
             ],
             [
              0.8888888888888888,
              "#fdca26"
             ],
             [
              1,
              "#f0f921"
             ]
            ],
            "type": "contour"
           }
          ],
          "contourcarpet": [
           {
            "colorbar": {
             "outlinewidth": 0,
             "ticks": ""
            },
            "type": "contourcarpet"
           }
          ],
          "heatmap": [
           {
            "colorbar": {
             "outlinewidth": 0,
             "ticks": ""
            },
            "colorscale": [
             [
              0,
              "#0d0887"
             ],
             [
              0.1111111111111111,
              "#46039f"
             ],
             [
              0.2222222222222222,
              "#7201a8"
             ],
             [
              0.3333333333333333,
              "#9c179e"
             ],
             [
              0.4444444444444444,
              "#bd3786"
             ],
             [
              0.5555555555555556,
              "#d8576b"
             ],
             [
              0.6666666666666666,
              "#ed7953"
             ],
             [
              0.7777777777777778,
              "#fb9f3a"
             ],
             [
              0.8888888888888888,
              "#fdca26"
             ],
             [
              1,
              "#f0f921"
             ]
            ],
            "type": "heatmap"
           }
          ],
          "heatmapgl": [
           {
            "colorbar": {
             "outlinewidth": 0,
             "ticks": ""
            },
            "colorscale": [
             [
              0,
              "#0d0887"
             ],
             [
              0.1111111111111111,
              "#46039f"
             ],
             [
              0.2222222222222222,
              "#7201a8"
             ],
             [
              0.3333333333333333,
              "#9c179e"
             ],
             [
              0.4444444444444444,
              "#bd3786"
             ],
             [
              0.5555555555555556,
              "#d8576b"
             ],
             [
              0.6666666666666666,
              "#ed7953"
             ],
             [
              0.7777777777777778,
              "#fb9f3a"
             ],
             [
              0.8888888888888888,
              "#fdca26"
             ],
             [
              1,
              "#f0f921"
             ]
            ],
            "type": "heatmapgl"
           }
          ],
          "histogram": [
           {
            "marker": {
             "pattern": {
              "fillmode": "overlay",
              "size": 10,
              "solidity": 0.2
             }
            },
            "type": "histogram"
           }
          ],
          "histogram2d": [
           {
            "colorbar": {
             "outlinewidth": 0,
             "ticks": ""
            },
            "colorscale": [
             [
              0,
              "#0d0887"
             ],
             [
              0.1111111111111111,
              "#46039f"
             ],
             [
              0.2222222222222222,
              "#7201a8"
             ],
             [
              0.3333333333333333,
              "#9c179e"
             ],
             [
              0.4444444444444444,
              "#bd3786"
             ],
             [
              0.5555555555555556,
              "#d8576b"
             ],
             [
              0.6666666666666666,
              "#ed7953"
             ],
             [
              0.7777777777777778,
              "#fb9f3a"
             ],
             [
              0.8888888888888888,
              "#fdca26"
             ],
             [
              1,
              "#f0f921"
             ]
            ],
            "type": "histogram2d"
           }
          ],
          "histogram2dcontour": [
           {
            "colorbar": {
             "outlinewidth": 0,
             "ticks": ""
            },
            "colorscale": [
             [
              0,
              "#0d0887"
             ],
             [
              0.1111111111111111,
              "#46039f"
             ],
             [
              0.2222222222222222,
              "#7201a8"
             ],
             [
              0.3333333333333333,
              "#9c179e"
             ],
             [
              0.4444444444444444,
              "#bd3786"
             ],
             [
              0.5555555555555556,
              "#d8576b"
             ],
             [
              0.6666666666666666,
              "#ed7953"
             ],
             [
              0.7777777777777778,
              "#fb9f3a"
             ],
             [
              0.8888888888888888,
              "#fdca26"
             ],
             [
              1,
              "#f0f921"
             ]
            ],
            "type": "histogram2dcontour"
           }
          ],
          "mesh3d": [
           {
            "colorbar": {
             "outlinewidth": 0,
             "ticks": ""
            },
            "type": "mesh3d"
           }
          ],
          "parcoords": [
           {
            "line": {
             "colorbar": {
              "outlinewidth": 0,
              "ticks": ""
             }
            },
            "type": "parcoords"
           }
          ],
          "pie": [
           {
            "automargin": true,
            "type": "pie"
           }
          ],
          "scatter": [
           {
            "fillpattern": {
             "fillmode": "overlay",
             "size": 10,
             "solidity": 0.2
            },
            "type": "scatter"
           }
          ],
          "scatter3d": [
           {
            "line": {
             "colorbar": {
              "outlinewidth": 0,
              "ticks": ""
             }
            },
            "marker": {
             "colorbar": {
              "outlinewidth": 0,
              "ticks": ""
             }
            },
            "type": "scatter3d"
           }
          ],
          "scattercarpet": [
           {
            "marker": {
             "colorbar": {
              "outlinewidth": 0,
              "ticks": ""
             }
            },
            "type": "scattercarpet"
           }
          ],
          "scattergeo": [
           {
            "marker": {
             "colorbar": {
              "outlinewidth": 0,
              "ticks": ""
             }
            },
            "type": "scattergeo"
           }
          ],
          "scattergl": [
           {
            "marker": {
             "colorbar": {
              "outlinewidth": 0,
              "ticks": ""
             }
            },
            "type": "scattergl"
           }
          ],
          "scattermapbox": [
           {
            "marker": {
             "colorbar": {
              "outlinewidth": 0,
              "ticks": ""
             }
            },
            "type": "scattermapbox"
           }
          ],
          "scatterpolar": [
           {
            "marker": {
             "colorbar": {
              "outlinewidth": 0,
              "ticks": ""
             }
            },
            "type": "scatterpolar"
           }
          ],
          "scatterpolargl": [
           {
            "marker": {
             "colorbar": {
              "outlinewidth": 0,
              "ticks": ""
             }
            },
            "type": "scatterpolargl"
           }
          ],
          "scatterternary": [
           {
            "marker": {
             "colorbar": {
              "outlinewidth": 0,
              "ticks": ""
             }
            },
            "type": "scatterternary"
           }
          ],
          "surface": [
           {
            "colorbar": {
             "outlinewidth": 0,
             "ticks": ""
            },
            "colorscale": [
             [
              0,
              "#0d0887"
             ],
             [
              0.1111111111111111,
              "#46039f"
             ],
             [
              0.2222222222222222,
              "#7201a8"
             ],
             [
              0.3333333333333333,
              "#9c179e"
             ],
             [
              0.4444444444444444,
              "#bd3786"
             ],
             [
              0.5555555555555556,
              "#d8576b"
             ],
             [
              0.6666666666666666,
              "#ed7953"
             ],
             [
              0.7777777777777778,
              "#fb9f3a"
             ],
             [
              0.8888888888888888,
              "#fdca26"
             ],
             [
              1,
              "#f0f921"
             ]
            ],
            "type": "surface"
           }
          ],
          "table": [
           {
            "cells": {
             "fill": {
              "color": "#EBF0F8"
             },
             "line": {
              "color": "white"
             }
            },
            "header": {
             "fill": {
              "color": "#C8D4E3"
             },
             "line": {
              "color": "white"
             }
            },
            "type": "table"
           }
          ]
         },
         "layout": {
          "annotationdefaults": {
           "arrowcolor": "#2a3f5f",
           "arrowhead": 0,
           "arrowwidth": 1
          },
          "autotypenumbers": "strict",
          "coloraxis": {
           "colorbar": {
            "outlinewidth": 0,
            "ticks": ""
           }
          },
          "colorscale": {
           "diverging": [
            [
             0,
             "#8e0152"
            ],
            [
             0.1,
             "#c51b7d"
            ],
            [
             0.2,
             "#de77ae"
            ],
            [
             0.3,
             "#f1b6da"
            ],
            [
             0.4,
             "#fde0ef"
            ],
            [
             0.5,
             "#f7f7f7"
            ],
            [
             0.6,
             "#e6f5d0"
            ],
            [
             0.7,
             "#b8e186"
            ],
            [
             0.8,
             "#7fbc41"
            ],
            [
             0.9,
             "#4d9221"
            ],
            [
             1,
             "#276419"
            ]
           ],
           "sequential": [
            [
             0,
             "#0d0887"
            ],
            [
             0.1111111111111111,
             "#46039f"
            ],
            [
             0.2222222222222222,
             "#7201a8"
            ],
            [
             0.3333333333333333,
             "#9c179e"
            ],
            [
             0.4444444444444444,
             "#bd3786"
            ],
            [
             0.5555555555555556,
             "#d8576b"
            ],
            [
             0.6666666666666666,
             "#ed7953"
            ],
            [
             0.7777777777777778,
             "#fb9f3a"
            ],
            [
             0.8888888888888888,
             "#fdca26"
            ],
            [
             1,
             "#f0f921"
            ]
           ],
           "sequentialminus": [
            [
             0,
             "#0d0887"
            ],
            [
             0.1111111111111111,
             "#46039f"
            ],
            [
             0.2222222222222222,
             "#7201a8"
            ],
            [
             0.3333333333333333,
             "#9c179e"
            ],
            [
             0.4444444444444444,
             "#bd3786"
            ],
            [
             0.5555555555555556,
             "#d8576b"
            ],
            [
             0.6666666666666666,
             "#ed7953"
            ],
            [
             0.7777777777777778,
             "#fb9f3a"
            ],
            [
             0.8888888888888888,
             "#fdca26"
            ],
            [
             1,
             "#f0f921"
            ]
           ]
          },
          "colorway": [
           "#636efa",
           "#EF553B",
           "#00cc96",
           "#ab63fa",
           "#FFA15A",
           "#19d3f3",
           "#FF6692",
           "#B6E880",
           "#FF97FF",
           "#FECB52"
          ],
          "font": {
           "color": "#2a3f5f"
          },
          "geo": {
           "bgcolor": "white",
           "lakecolor": "white",
           "landcolor": "#E5ECF6",
           "showlakes": true,
           "showland": true,
           "subunitcolor": "white"
          },
          "hoverlabel": {
           "align": "left"
          },
          "hovermode": "closest",
          "mapbox": {
           "style": "light"
          },
          "paper_bgcolor": "white",
          "plot_bgcolor": "#E5ECF6",
          "polar": {
           "angularaxis": {
            "gridcolor": "white",
            "linecolor": "white",
            "ticks": ""
           },
           "bgcolor": "#E5ECF6",
           "radialaxis": {
            "gridcolor": "white",
            "linecolor": "white",
            "ticks": ""
           }
          },
          "scene": {
           "xaxis": {
            "backgroundcolor": "#E5ECF6",
            "gridcolor": "white",
            "gridwidth": 2,
            "linecolor": "white",
            "showbackground": true,
            "ticks": "",
            "zerolinecolor": "white"
           },
           "yaxis": {
            "backgroundcolor": "#E5ECF6",
            "gridcolor": "white",
            "gridwidth": 2,
            "linecolor": "white",
            "showbackground": true,
            "ticks": "",
            "zerolinecolor": "white"
           },
           "zaxis": {
            "backgroundcolor": "#E5ECF6",
            "gridcolor": "white",
            "gridwidth": 2,
            "linecolor": "white",
            "showbackground": true,
            "ticks": "",
            "zerolinecolor": "white"
           }
          },
          "shapedefaults": {
           "line": {
            "color": "#2a3f5f"
           }
          },
          "ternary": {
           "aaxis": {
            "gridcolor": "white",
            "linecolor": "white",
            "ticks": ""
           },
           "baxis": {
            "gridcolor": "white",
            "linecolor": "white",
            "ticks": ""
           },
           "bgcolor": "#E5ECF6",
           "caxis": {
            "gridcolor": "white",
            "linecolor": "white",
            "ticks": ""
           }
          },
          "title": {
           "x": 0.05
          },
          "xaxis": {
           "automargin": true,
           "gridcolor": "white",
           "linecolor": "white",
           "ticks": "",
           "title": {
            "standoff": 15
           },
           "zerolinecolor": "white",
           "zerolinewidth": 2
          },
          "yaxis": {
           "automargin": true,
           "gridcolor": "white",
           "linecolor": "white",
           "ticks": "",
           "title": {
            "standoff": 15
           },
           "zerolinecolor": "white",
           "zerolinewidth": 2
          }
         }
        },
        "title": {
         "font": {
          "color": "#D9D9D9"
         },
         "text": "Scatter plot of Halstead Error Estimate vs Design Complexity"
        },
        "width": 900,
        "xaxis": {
         "gridcolor": "#434343",
         "showgrid": true,
         "tickfont": {
          "color": "#C2C2C2"
         },
         "title": {
          "font": {
           "color": "#D9D9D9"
          },
          "text": "Design Complexity"
         },
         "zerolinecolor": "#666570"
        },
        "yaxis": {
         "gridcolor": "#434343",
         "showgrid": true,
         "tickfont": {
          "color": "#C2C2C2"
         },
         "title": {
          "font": {
           "color": "#D9D9D9"
          },
          "text": "Halstead Error Estimate"
         },
         "zerolinecolor": "#666570"
        }
       }
      },
      "text/html": [
       "<div>                            <div id=\"4733a37d-c8a7-4ab6-abb0-6ab0f9c1c6c6\" class=\"plotly-graph-div\" style=\"height:500px; width:900px;\"></div>            <script type=\"text/javascript\">                require([\"plotly\"], function(Plotly) {                    window.PLOTLYENV=window.PLOTLYENV || {};\n",
       "                    window.PLOTLYENV.BASE_URL='https://plot.ly';                                    if (document.getElementById(\"4733a37d-c8a7-4ab6-abb0-6ab0f9c1c6c6\")) {                    Plotly.newPlot(                        \"4733a37d-c8a7-4ab6-abb0-6ab0f9c1c6c6\",                        [{\"line\":{\"color\":\"orange\",\"dash\":\"solid\",\"shape\":\"linear\",\"width\":1.3},\"marker\":{\"size\":12,\"symbol\":\"circle\"},\"mode\":\"markers\",\"name\":\"HALSTEAD_ERROR_EST\",\"text\":\"\",\"x\":[3.0,3.0,18.0,10.0,7.0,2.0,2.0,3.0,1.0,7.0,3.0,4.0,3.0,12.0,19.0,3.0,41.0,1.0,4.0,5.0,3.0,10.0,2.0,9.0,2.0,4.0,9.0,7.0,12.0,7.0,16.0,3.0,26.0,5.0,10.0,3.0,6.0,3.0,5.0,7.0,1.0,26.0],\"y\":[0.25,0.2,1.69,1.43,0.44,0.19,0.19,0.15,0.05,0.58,0.05,1.25,0.15,1.67,0.87,0.21,4.25,0.15,2.08,0.41,0.28,1.05,0.28,0.76,0.13,0.22,0.42,0.66,1.27,0.32,1.39,0.52,1.4,0.33,1.12,0.1,0.41,0.11,0.18,0.77,0.35,3.05],\"type\":\"scatter\"},{\"line\":{\"color\":\"green\",\"dash\":\"solid\",\"shape\":\"linear\",\"width\":1.3},\"mode\":\"lines\",\"name\":\"PREDICTED_HALSTEAD_ERROR_EST\",\"text\":\"\",\"x\":[3.0,3.0,18.0,10.0,7.0,2.0,2.0,3.0,1.0,7.0,3.0,4.0,3.0,12.0,19.0,3.0,41.0,1.0,4.0,5.0,3.0,10.0,2.0,9.0,2.0,4.0,9.0,7.0,12.0,7.0,16.0,3.0,26.0,5.0,10.0,3.0,6.0,3.0,5.0,7.0,1.0,26.0],\"y\":[0.22720621355915865,0.22720621355915865,1.7673383167675307,0.9459345283897322,0.6379081077480577,0.12453074001193384,0.12453074001193384,0.22720621355915865,0.021855266464709047,0.6379081077480577,0.22720621355915865,0.32988168710638344,0.22720621355915865,1.151285475484182,1.8700137903147553,0.22720621355915865,4.128874208353701,0.021855266464709047,0.32988168710638344,0.4325571606536082,0.22720621355915865,0.9459345283897322,0.12453074001193384,0.8432590548425074,0.12453074001193384,0.32988168710638344,0.8432590548425074,0.6379081077480577,1.151285475484182,0.6379081077480577,1.561987369673081,0.22720621355915865,2.588742105145329,0.4325571606536082,0.9459345283897322,0.22720621355915865,0.5352326342008331,0.22720621355915865,0.4325571606536082,0.6379081077480577,0.021855266464709047,2.588742105145329],\"type\":\"scatter\"}],                        {\"height\":500,\"legend\":{\"bgcolor\":\"#151516\",\"font\":{\"color\":\"#D9D9D9\"}},\"paper_bgcolor\":\"#151516\",\"plot_bgcolor\":\"#151516\",\"template\":{\"data\":{\"barpolar\":[{\"marker\":{\"line\":{\"color\":\"#E5ECF6\",\"width\":0.5},\"pattern\":{\"fillmode\":\"overlay\",\"size\":10,\"solidity\":0.2}},\"type\":\"barpolar\"}],\"bar\":[{\"error_x\":{\"color\":\"#2a3f5f\"},\"error_y\":{\"color\":\"#2a3f5f\"},\"marker\":{\"line\":{\"color\":\"#E5ECF6\",\"width\":0.5},\"pattern\":{\"fillmode\":\"overlay\",\"size\":10,\"solidity\":0.2}},\"type\":\"bar\"}],\"carpet\":[{\"aaxis\":{\"endlinecolor\":\"#2a3f5f\",\"gridcolor\":\"white\",\"linecolor\":\"white\",\"minorgridcolor\":\"white\",\"startlinecolor\":\"#2a3f5f\"},\"baxis\":{\"endlinecolor\":\"#2a3f5f\",\"gridcolor\":\"white\",\"linecolor\":\"white\",\"minorgridcolor\":\"white\",\"startlinecolor\":\"#2a3f5f\"},\"type\":\"carpet\"}],\"choropleth\":[{\"colorbar\":{\"outlinewidth\":0,\"ticks\":\"\"},\"type\":\"choropleth\"}],\"contourcarpet\":[{\"colorbar\":{\"outlinewidth\":0,\"ticks\":\"\"},\"type\":\"contourcarpet\"}],\"contour\":[{\"colorbar\":{\"outlinewidth\":0,\"ticks\":\"\"},\"colorscale\":[[0.0,\"#0d0887\"],[0.1111111111111111,\"#46039f\"],[0.2222222222222222,\"#7201a8\"],[0.3333333333333333,\"#9c179e\"],[0.4444444444444444,\"#bd3786\"],[0.5555555555555556,\"#d8576b\"],[0.6666666666666666,\"#ed7953\"],[0.7777777777777778,\"#fb9f3a\"],[0.8888888888888888,\"#fdca26\"],[1.0,\"#f0f921\"]],\"type\":\"contour\"}],\"heatmapgl\":[{\"colorbar\":{\"outlinewidth\":0,\"ticks\":\"\"},\"colorscale\":[[0.0,\"#0d0887\"],[0.1111111111111111,\"#46039f\"],[0.2222222222222222,\"#7201a8\"],[0.3333333333333333,\"#9c179e\"],[0.4444444444444444,\"#bd3786\"],[0.5555555555555556,\"#d8576b\"],[0.6666666666666666,\"#ed7953\"],[0.7777777777777778,\"#fb9f3a\"],[0.8888888888888888,\"#fdca26\"],[1.0,\"#f0f921\"]],\"type\":\"heatmapgl\"}],\"heatmap\":[{\"colorbar\":{\"outlinewidth\":0,\"ticks\":\"\"},\"colorscale\":[[0.0,\"#0d0887\"],[0.1111111111111111,\"#46039f\"],[0.2222222222222222,\"#7201a8\"],[0.3333333333333333,\"#9c179e\"],[0.4444444444444444,\"#bd3786\"],[0.5555555555555556,\"#d8576b\"],[0.6666666666666666,\"#ed7953\"],[0.7777777777777778,\"#fb9f3a\"],[0.8888888888888888,\"#fdca26\"],[1.0,\"#f0f921\"]],\"type\":\"heatmap\"}],\"histogram2dcontour\":[{\"colorbar\":{\"outlinewidth\":0,\"ticks\":\"\"},\"colorscale\":[[0.0,\"#0d0887\"],[0.1111111111111111,\"#46039f\"],[0.2222222222222222,\"#7201a8\"],[0.3333333333333333,\"#9c179e\"],[0.4444444444444444,\"#bd3786\"],[0.5555555555555556,\"#d8576b\"],[0.6666666666666666,\"#ed7953\"],[0.7777777777777778,\"#fb9f3a\"],[0.8888888888888888,\"#fdca26\"],[1.0,\"#f0f921\"]],\"type\":\"histogram2dcontour\"}],\"histogram2d\":[{\"colorbar\":{\"outlinewidth\":0,\"ticks\":\"\"},\"colorscale\":[[0.0,\"#0d0887\"],[0.1111111111111111,\"#46039f\"],[0.2222222222222222,\"#7201a8\"],[0.3333333333333333,\"#9c179e\"],[0.4444444444444444,\"#bd3786\"],[0.5555555555555556,\"#d8576b\"],[0.6666666666666666,\"#ed7953\"],[0.7777777777777778,\"#fb9f3a\"],[0.8888888888888888,\"#fdca26\"],[1.0,\"#f0f921\"]],\"type\":\"histogram2d\"}],\"histogram\":[{\"marker\":{\"pattern\":{\"fillmode\":\"overlay\",\"size\":10,\"solidity\":0.2}},\"type\":\"histogram\"}],\"mesh3d\":[{\"colorbar\":{\"outlinewidth\":0,\"ticks\":\"\"},\"type\":\"mesh3d\"}],\"parcoords\":[{\"line\":{\"colorbar\":{\"outlinewidth\":0,\"ticks\":\"\"}},\"type\":\"parcoords\"}],\"pie\":[{\"automargin\":true,\"type\":\"pie\"}],\"scatter3d\":[{\"line\":{\"colorbar\":{\"outlinewidth\":0,\"ticks\":\"\"}},\"marker\":{\"colorbar\":{\"outlinewidth\":0,\"ticks\":\"\"}},\"type\":\"scatter3d\"}],\"scattercarpet\":[{\"marker\":{\"colorbar\":{\"outlinewidth\":0,\"ticks\":\"\"}},\"type\":\"scattercarpet\"}],\"scattergeo\":[{\"marker\":{\"colorbar\":{\"outlinewidth\":0,\"ticks\":\"\"}},\"type\":\"scattergeo\"}],\"scattergl\":[{\"marker\":{\"colorbar\":{\"outlinewidth\":0,\"ticks\":\"\"}},\"type\":\"scattergl\"}],\"scattermapbox\":[{\"marker\":{\"colorbar\":{\"outlinewidth\":0,\"ticks\":\"\"}},\"type\":\"scattermapbox\"}],\"scatterpolargl\":[{\"marker\":{\"colorbar\":{\"outlinewidth\":0,\"ticks\":\"\"}},\"type\":\"scatterpolargl\"}],\"scatterpolar\":[{\"marker\":{\"colorbar\":{\"outlinewidth\":0,\"ticks\":\"\"}},\"type\":\"scatterpolar\"}],\"scatter\":[{\"fillpattern\":{\"fillmode\":\"overlay\",\"size\":10,\"solidity\":0.2},\"type\":\"scatter\"}],\"scatterternary\":[{\"marker\":{\"colorbar\":{\"outlinewidth\":0,\"ticks\":\"\"}},\"type\":\"scatterternary\"}],\"surface\":[{\"colorbar\":{\"outlinewidth\":0,\"ticks\":\"\"},\"colorscale\":[[0.0,\"#0d0887\"],[0.1111111111111111,\"#46039f\"],[0.2222222222222222,\"#7201a8\"],[0.3333333333333333,\"#9c179e\"],[0.4444444444444444,\"#bd3786\"],[0.5555555555555556,\"#d8576b\"],[0.6666666666666666,\"#ed7953\"],[0.7777777777777778,\"#fb9f3a\"],[0.8888888888888888,\"#fdca26\"],[1.0,\"#f0f921\"]],\"type\":\"surface\"}],\"table\":[{\"cells\":{\"fill\":{\"color\":\"#EBF0F8\"},\"line\":{\"color\":\"white\"}},\"header\":{\"fill\":{\"color\":\"#C8D4E3\"},\"line\":{\"color\":\"white\"}},\"type\":\"table\"}]},\"layout\":{\"annotationdefaults\":{\"arrowcolor\":\"#2a3f5f\",\"arrowhead\":0,\"arrowwidth\":1},\"autotypenumbers\":\"strict\",\"coloraxis\":{\"colorbar\":{\"outlinewidth\":0,\"ticks\":\"\"}},\"colorscale\":{\"diverging\":[[0,\"#8e0152\"],[0.1,\"#c51b7d\"],[0.2,\"#de77ae\"],[0.3,\"#f1b6da\"],[0.4,\"#fde0ef\"],[0.5,\"#f7f7f7\"],[0.6,\"#e6f5d0\"],[0.7,\"#b8e186\"],[0.8,\"#7fbc41\"],[0.9,\"#4d9221\"],[1,\"#276419\"]],\"sequential\":[[0.0,\"#0d0887\"],[0.1111111111111111,\"#46039f\"],[0.2222222222222222,\"#7201a8\"],[0.3333333333333333,\"#9c179e\"],[0.4444444444444444,\"#bd3786\"],[0.5555555555555556,\"#d8576b\"],[0.6666666666666666,\"#ed7953\"],[0.7777777777777778,\"#fb9f3a\"],[0.8888888888888888,\"#fdca26\"],[1.0,\"#f0f921\"]],\"sequentialminus\":[[0.0,\"#0d0887\"],[0.1111111111111111,\"#46039f\"],[0.2222222222222222,\"#7201a8\"],[0.3333333333333333,\"#9c179e\"],[0.4444444444444444,\"#bd3786\"],[0.5555555555555556,\"#d8576b\"],[0.6666666666666666,\"#ed7953\"],[0.7777777777777778,\"#fb9f3a\"],[0.8888888888888888,\"#fdca26\"],[1.0,\"#f0f921\"]]},\"colorway\":[\"#636efa\",\"#EF553B\",\"#00cc96\",\"#ab63fa\",\"#FFA15A\",\"#19d3f3\",\"#FF6692\",\"#B6E880\",\"#FF97FF\",\"#FECB52\"],\"font\":{\"color\":\"#2a3f5f\"},\"geo\":{\"bgcolor\":\"white\",\"lakecolor\":\"white\",\"landcolor\":\"#E5ECF6\",\"showlakes\":true,\"showland\":true,\"subunitcolor\":\"white\"},\"hoverlabel\":{\"align\":\"left\"},\"hovermode\":\"closest\",\"mapbox\":{\"style\":\"light\"},\"paper_bgcolor\":\"white\",\"plot_bgcolor\":\"#E5ECF6\",\"polar\":{\"angularaxis\":{\"gridcolor\":\"white\",\"linecolor\":\"white\",\"ticks\":\"\"},\"bgcolor\":\"#E5ECF6\",\"radialaxis\":{\"gridcolor\":\"white\",\"linecolor\":\"white\",\"ticks\":\"\"}},\"scene\":{\"xaxis\":{\"backgroundcolor\":\"#E5ECF6\",\"gridcolor\":\"white\",\"gridwidth\":2,\"linecolor\":\"white\",\"showbackground\":true,\"ticks\":\"\",\"zerolinecolor\":\"white\"},\"yaxis\":{\"backgroundcolor\":\"#E5ECF6\",\"gridcolor\":\"white\",\"gridwidth\":2,\"linecolor\":\"white\",\"showbackground\":true,\"ticks\":\"\",\"zerolinecolor\":\"white\"},\"zaxis\":{\"backgroundcolor\":\"#E5ECF6\",\"gridcolor\":\"white\",\"gridwidth\":2,\"linecolor\":\"white\",\"showbackground\":true,\"ticks\":\"\",\"zerolinecolor\":\"white\"}},\"shapedefaults\":{\"line\":{\"color\":\"#2a3f5f\"}},\"ternary\":{\"aaxis\":{\"gridcolor\":\"white\",\"linecolor\":\"white\",\"ticks\":\"\"},\"baxis\":{\"gridcolor\":\"white\",\"linecolor\":\"white\",\"ticks\":\"\"},\"bgcolor\":\"#E5ECF6\",\"caxis\":{\"gridcolor\":\"white\",\"linecolor\":\"white\",\"ticks\":\"\"}},\"title\":{\"x\":0.05},\"xaxis\":{\"automargin\":true,\"gridcolor\":\"white\",\"linecolor\":\"white\",\"ticks\":\"\",\"title\":{\"standoff\":15},\"zerolinecolor\":\"white\",\"zerolinewidth\":2},\"yaxis\":{\"automargin\":true,\"gridcolor\":\"white\",\"linecolor\":\"white\",\"ticks\":\"\",\"title\":{\"standoff\":15},\"zerolinecolor\":\"white\",\"zerolinewidth\":2}}},\"title\":{\"font\":{\"color\":\"#D9D9D9\"},\"text\":\"Scatter plot of Halstead Error Estimate vs Design Complexity\"},\"width\":900,\"xaxis\":{\"gridcolor\":\"#434343\",\"showgrid\":true,\"tickfont\":{\"color\":\"#C2C2C2\"},\"title\":{\"font\":{\"color\":\"#D9D9D9\"},\"text\":\"Design Complexity\"},\"zerolinecolor\":\"#666570\"},\"yaxis\":{\"gridcolor\":\"#434343\",\"showgrid\":true,\"tickfont\":{\"color\":\"#C2C2C2\"},\"title\":{\"font\":{\"color\":\"#D9D9D9\"},\"text\":\"Halstead Error Estimate\"},\"zerolinecolor\":\"#666570\"}},                        {\"showLink\": true, \"linkText\": \"Export to plot.ly\", \"plotlyServerURL\": \"https://plot.ly\", \"responsive\": true}                    ).then(function(){\n",
       "                            \n",
       "var gd = document.getElementById('4733a37d-c8a7-4ab6-abb0-6ab0f9c1c6c6');\n",
       "var x = new MutationObserver(function (mutations, observer) {{\n",
       "        var display = window.getComputedStyle(gd).display;\n",
       "        if (!display || display === 'none') {{\n",
       "            console.log([gd, 'removed!']);\n",
       "            Plotly.purge(gd);\n",
       "            observer.disconnect();\n",
       "        }}\n",
       "}});\n",
       "\n",
       "// Listen for the removal of the full notebook cells\n",
       "var notebookContainer = gd.closest('#notebook-container');\n",
       "if (notebookContainer) {{\n",
       "    x.observe(notebookContainer, {childList: true});\n",
       "}}\n",
       "\n",
       "// Listen for the clearing of the current output cell\n",
       "var outputEl = gd.closest('.output');\n",
       "if (outputEl) {{\n",
       "    x.observe(outputEl, {childList: true});\n",
       "}}\n",
       "\n",
       "                        })                };                });            </script>        </div>"
      ]
     },
     "metadata": {},
     "output_type": "display_data"
    }
   ],
   "source": [
    "pd.DataFrame({\n",
    "    \"DESIGN_COMPLEXITY\": defective_group[\"DESIGN_COMPLEXITY\"],\n",
    "    \"HALSTEAD_ERROR_EST\": defective_group[\"HALSTEAD_ERROR_EST\"],\n",
    "    \"PREDICTED_HALSTEAD_ERROR_EST\": huber_regression_model.predict(X)\n",
    "}).iplot(\n",
    "    kind='scatter',\n",
    "    x='DESIGN_COMPLEXITY',\n",
    "    dimensions=(900, 500),\n",
    "    theme=\"solar\",\n",
    "    xTitle='Design Complexity',\n",
    "    yTitle='Halstead Error Estimate',\n",
    "    title='Scatter plot of Halstead Error Estimate vs Design Complexity',\n",
    "    mode={\n",
    "        \"HALSTEAD_ERROR_EST\": \"markers\",\n",
    "        \"PREDICTED_HALSTEAD_ERROR_EST\": \"lines\"\n",
    "    },\n",
    "    colors={\n",
    "        \"HALSTEAD_ERROR_EST\": \"orange\",\n",
    "        \"PREDICTED_HALSTEAD_ERROR_EST\": \"green\"\n",
    "    }\n",
    ")"
   ]
  },
  {
   "cell_type": "markdown",
   "metadata": {},
   "source": [
    "Now for regression analysis on the non-defective modules:"
   ]
  },
  {
   "cell_type": "code",
   "execution_count": 61,
   "metadata": {},
   "outputs": [
    {
     "name": "stdout",
     "output_type": "stream",
     "text": [
      "R-squared:  0.768153411099751\n",
      "The equation of the line is: y = 0.0798013229021285x + -0.040112541189394404\n"
     ]
    }
   ],
   "source": [
    "Y = non_defective_group[\"HALSTEAD_ERROR_EST\"]\n",
    "X = non_defective_group[[\"DESIGN_COMPLEXITY\"]]\n",
    "\n",
    "huber_regression_model = HuberRegressor(epsilon=1.35)\n",
    "\n",
    "huber_regression_model.fit(X, Y)\n",
    "\n",
    "print(\"R-squared: \", huber_regression_model.score(X, Y))\n",
    "print(\"The equation of the line is: y = \", huber_regression_model.coef_[0], \"x + \", huber_regression_model.intercept_, sep='')"
   ]
  },
  {
   "cell_type": "code",
   "execution_count": 62,
   "metadata": {},
   "outputs": [
    {
     "data": {
      "application/vnd.plotly.v1+json": {
       "config": {
        "linkText": "Export to plot.ly",
        "plotlyServerURL": "https://plot.ly",
        "showLink": true
       },
       "data": [
        {
         "line": {
          "color": "orange",
          "dash": "solid",
          "shape": "linear",
          "width": 1.3
         },
         "marker": {
          "size": 12,
          "symbol": "circle"
         },
         "mode": "markers",
         "name": "HALSTEAD_ERROR_EST",
         "text": "",
         "type": "scatter",
         "x": [
          1,
          1,
          7,
          6,
          5,
          1,
          1,
          2,
          4,
          6,
          3,
          2,
          2,
          2,
          1,
          4,
          2,
          3,
          1,
          3,
          8,
          2,
          2,
          1,
          2,
          5,
          3,
          4,
          6,
          5,
          10,
          22,
          1,
          2,
          9,
          6,
          9,
          1,
          6,
          5,
          46,
          1,
          4,
          2,
          10,
          7,
          2,
          5,
          5,
          1,
          3,
          1,
          3,
          1,
          3,
          4,
          4,
          2,
          2,
          6,
          2,
          13,
          3,
          1,
          3,
          2,
          2,
          3,
          1,
          3,
          2,
          4,
          4,
          9,
          7,
          3,
          1,
          2,
          4,
          1,
          10,
          5,
          2,
          3,
          7,
          1,
          8,
          1,
          5,
          1,
          1,
          1,
          1,
          6,
          3,
          12,
          17,
          2,
          2,
          1,
          4,
          13,
          3,
          1,
          8,
          2,
          2,
          9,
          8,
          3,
          3,
          3,
          1,
          13,
          1,
          5,
          2,
          1,
          2,
          8,
          2,
          6,
          3,
          2,
          3,
          2,
          7,
          4,
          9,
          1,
          1,
          1,
          4,
          2,
          11,
          1,
          1,
          1,
          14,
          3,
          10,
          24,
          4,
          2,
          20,
          1,
          2,
          1,
          63,
          5,
          3,
          4,
          3,
          2,
          1,
          1,
          5,
          3,
          4,
          1,
          1,
          9,
          9,
          6,
          1,
          1,
          11,
          7,
          6,
          3,
          1,
          6,
          4,
          3,
          4,
          10,
          10,
          5,
          2,
          8,
          1,
          1,
          1,
          3,
          3,
          24,
          1,
          1,
          1,
          2,
          2,
          15,
          1,
          3,
          1,
          8,
          4,
          11,
          1,
          13,
          1,
          2,
          4,
          4,
          3,
          7,
          1,
          1,
          1,
          1,
          4,
          2,
          5,
          2,
          2,
          3,
          4,
          1,
          6,
          2,
          4,
          1,
          1,
          2,
          6,
          10,
          23,
          2,
          2,
          3,
          5,
          1,
          4,
          1,
          1,
          2,
          5,
          9,
          6,
          3,
          3,
          3,
          2,
          5,
          27,
          3,
          2,
          4,
          3,
          2,
          6,
          2,
          1,
          1,
          2,
          6,
          4,
          8,
          4,
          2,
          5,
          3,
          6,
          2,
          2,
          4,
          2,
          1,
          4,
          7,
          2,
          2,
          4,
          2,
          5,
          2,
          3,
          3,
          3,
          1,
          15,
          2,
          1,
          2,
          2
         ],
         "y": [
          0.02,
          0.04,
          0.8,
          0.16,
          0.18,
          0.06,
          0.09,
          0.54,
          0.18,
          0.3,
          0.18,
          0.03,
          0.1,
          0.17,
          0.1,
          0.24,
          0.2,
          0.15,
          0.09,
          0.25,
          1.2,
          0.06,
          0.25,
          0.04,
          0.03,
          0.13,
          0.18,
          0.13,
          0.26,
          0.5,
          1.34,
          2.84,
          0.08,
          0.02,
          0.25,
          0.23,
          0.24,
          0.05,
          1.86,
          0.21,
          5.12,
          0.02,
          0.24,
          0.12,
          1.82,
          0.54,
          0.12,
          0.08,
          0.35,
          0.04,
          0.18,
          0.16,
          0.25,
          0.15,
          0.18,
          0.09,
          0.09,
          0.38,
          0.27,
          0.37,
          0.43,
          1.71,
          0.03,
          0.04,
          0.1,
          0.06,
          0.17,
          0.26,
          0.09,
          0.13,
          0.09,
          0.21,
          0.11,
          1.11,
          0.58,
          0.09,
          0.05,
          0.18,
          0.16,
          0.04,
          0.65,
          0.11,
          0.02,
          0.17,
          1.14,
          0.1,
          1.65,
          0.07,
          0.41,
          0.12,
          0.07,
          0.1,
          0.25,
          0.34,
          0.08,
          0.61,
          1.74,
          0.02,
          0.2,
          0.12,
          0.48,
          1.04,
          0.16,
          0.16,
          0.21,
          0.18,
          0.11,
          0.58,
          0.12,
          0.04,
          0.06,
          0.11,
          0.06,
          0.26,
          0.45,
          0.35,
          0.14,
          0.04,
          0.22,
          0.55,
          0.17,
          0.24,
          0.06,
          0.04,
          0.16,
          0.09,
          0.38,
          0.3,
          0.72,
          0.09,
          0.04,
          0.06,
          0.1,
          0.09,
          1.22,
          0.06,
          0.17,
          0.11,
          0.28,
          0.12,
          0.53,
          1.56,
          0.13,
          0.31,
          1.15,
          0.06,
          0.29,
          0.08,
          5.56,
          0.24,
          0.16,
          0.55,
          0.12,
          0.06,
          0.43,
          0.06,
          0.27,
          0.87,
          0.14,
          0.08,
          0.15,
          1.89,
          0.57,
          0.68,
          0.06,
          0.1,
          1.06,
          0.66,
          1,
          0.23,
          0.26,
          0.3,
          0.14,
          0.17,
          0.1,
          0.5,
          1.16,
          0.18,
          0.1,
          0.6,
          0.06,
          1.11,
          0.09,
          0.11,
          0.36,
          1.86,
          0.03,
          0.02,
          0.05,
          0.21,
          0.38,
          1.95,
          0.12,
          0.13,
          0.04,
          0.87,
          0.16,
          0.91,
          0.3,
          0.93,
          0.07,
          0.07,
          0.19,
          0.2,
          0.12,
          0.73,
          0.08,
          0.03,
          0.02,
          0.01,
          0.09,
          0.43,
          0.72,
          0.19,
          0.1,
          0.16,
          0.28,
          0.05,
          1.25,
          0.12,
          0.83,
          0.04,
          0.02,
          0.03,
          0.76,
          1.09,
          1.86,
          0.49,
          0.06,
          0.14,
          0.27,
          0.29,
          0.54,
          0.02,
          0.08,
          0.28,
          0.27,
          0.43,
          0.31,
          0.58,
          0.12,
          0.05,
          0.17,
          0.35,
          1.7,
          0.13,
          0.06,
          0.37,
          0.12,
          0.44,
          0.9,
          0.02,
          0.03,
          1.04,
          0.17,
          0.34,
          0.13,
          0.44,
          0.22,
          0.05,
          0.36,
          0.3,
          0.72,
          0.11,
          0.14,
          0.18,
          0.03,
          0.06,
          0.28,
          0.52,
          0.07,
          0.1,
          0.59,
          0.04,
          0.37,
          0.12,
          0.24,
          0.54,
          0.1,
          0.31,
          0.88,
          0.12,
          0.05,
          0.2,
          0.05
         ]
        },
        {
         "line": {
          "color": "green",
          "dash": "solid",
          "shape": "linear",
          "width": 1.3
         },
         "mode": "lines",
         "name": "PREDICTED_HALSTEAD_ERROR_EST",
         "text": "",
         "type": "scatter",
         "x": [
          1,
          1,
          7,
          6,
          5,
          1,
          1,
          2,
          4,
          6,
          3,
          2,
          2,
          2,
          1,
          4,
          2,
          3,
          1,
          3,
          8,
          2,
          2,
          1,
          2,
          5,
          3,
          4,
          6,
          5,
          10,
          22,
          1,
          2,
          9,
          6,
          9,
          1,
          6,
          5,
          46,
          1,
          4,
          2,
          10,
          7,
          2,
          5,
          5,
          1,
          3,
          1,
          3,
          1,
          3,
          4,
          4,
          2,
          2,
          6,
          2,
          13,
          3,
          1,
          3,
          2,
          2,
          3,
          1,
          3,
          2,
          4,
          4,
          9,
          7,
          3,
          1,
          2,
          4,
          1,
          10,
          5,
          2,
          3,
          7,
          1,
          8,
          1,
          5,
          1,
          1,
          1,
          1,
          6,
          3,
          12,
          17,
          2,
          2,
          1,
          4,
          13,
          3,
          1,
          8,
          2,
          2,
          9,
          8,
          3,
          3,
          3,
          1,
          13,
          1,
          5,
          2,
          1,
          2,
          8,
          2,
          6,
          3,
          2,
          3,
          2,
          7,
          4,
          9,
          1,
          1,
          1,
          4,
          2,
          11,
          1,
          1,
          1,
          14,
          3,
          10,
          24,
          4,
          2,
          20,
          1,
          2,
          1,
          63,
          5,
          3,
          4,
          3,
          2,
          1,
          1,
          5,
          3,
          4,
          1,
          1,
          9,
          9,
          6,
          1,
          1,
          11,
          7,
          6,
          3,
          1,
          6,
          4,
          3,
          4,
          10,
          10,
          5,
          2,
          8,
          1,
          1,
          1,
          3,
          3,
          24,
          1,
          1,
          1,
          2,
          2,
          15,
          1,
          3,
          1,
          8,
          4,
          11,
          1,
          13,
          1,
          2,
          4,
          4,
          3,
          7,
          1,
          1,
          1,
          1,
          4,
          2,
          5,
          2,
          2,
          3,
          4,
          1,
          6,
          2,
          4,
          1,
          1,
          2,
          6,
          10,
          23,
          2,
          2,
          3,
          5,
          1,
          4,
          1,
          1,
          2,
          5,
          9,
          6,
          3,
          3,
          3,
          2,
          5,
          27,
          3,
          2,
          4,
          3,
          2,
          6,
          2,
          1,
          1,
          2,
          6,
          4,
          8,
          4,
          2,
          5,
          3,
          6,
          2,
          2,
          4,
          2,
          1,
          4,
          7,
          2,
          2,
          4,
          2,
          5,
          2,
          3,
          3,
          3,
          1,
          15,
          2,
          1,
          2,
          2
         ],
         "y": [
          0.0396887817127341,
          0.0396887817127341,
          0.5184967191255051,
          0.43869539622337667,
          0.3588940733212481,
          0.0396887817127341,
          0.0396887817127341,
          0.1194901046148626,
          0.27909275041911963,
          0.43869539622337667,
          0.19929142751699114,
          0.1194901046148626,
          0.1194901046148626,
          0.1194901046148626,
          0.0396887817127341,
          0.27909275041911963,
          0.1194901046148626,
          0.19929142751699114,
          0.0396887817127341,
          0.19929142751699114,
          0.5982980420276336,
          0.1194901046148626,
          0.1194901046148626,
          0.0396887817127341,
          0.1194901046148626,
          0.3588940733212481,
          0.19929142751699114,
          0.27909275041911963,
          0.43869539622337667,
          0.3588940733212481,
          0.7579006878318906,
          1.7155165626574327,
          0.0396887817127341,
          0.1194901046148626,
          0.6780993649297621,
          0.43869539622337667,
          0.6780993649297621,
          0.0396887817127341,
          0.43869539622337667,
          0.3588940733212481,
          3.630748312308517,
          0.0396887817127341,
          0.27909275041911963,
          0.1194901046148626,
          0.7579006878318906,
          0.5184967191255051,
          0.1194901046148626,
          0.3588940733212481,
          0.3588940733212481,
          0.0396887817127341,
          0.19929142751699114,
          0.0396887817127341,
          0.19929142751699114,
          0.0396887817127341,
          0.19929142751699114,
          0.27909275041911963,
          0.27909275041911963,
          0.1194901046148626,
          0.1194901046148626,
          0.43869539622337667,
          0.1194901046148626,
          0.997304656538276,
          0.19929142751699114,
          0.0396887817127341,
          0.19929142751699114,
          0.1194901046148626,
          0.1194901046148626,
          0.19929142751699114,
          0.0396887817127341,
          0.19929142751699114,
          0.1194901046148626,
          0.27909275041911963,
          0.27909275041911963,
          0.6780993649297621,
          0.5184967191255051,
          0.19929142751699114,
          0.0396887817127341,
          0.1194901046148626,
          0.27909275041911963,
          0.0396887817127341,
          0.7579006878318906,
          0.3588940733212481,
          0.1194901046148626,
          0.19929142751699114,
          0.5184967191255051,
          0.0396887817127341,
          0.5982980420276336,
          0.0396887817127341,
          0.3588940733212481,
          0.0396887817127341,
          0.0396887817127341,
          0.0396887817127341,
          0.0396887817127341,
          0.43869539622337667,
          0.19929142751699114,
          0.9175033336361477,
          1.3165099481467903,
          0.1194901046148626,
          0.1194901046148626,
          0.0396887817127341,
          0.27909275041911963,
          0.997304656538276,
          0.19929142751699114,
          0.0396887817127341,
          0.5982980420276336,
          0.1194901046148626,
          0.1194901046148626,
          0.6780993649297621,
          0.5982980420276336,
          0.19929142751699114,
          0.19929142751699114,
          0.19929142751699114,
          0.0396887817127341,
          0.997304656538276,
          0.0396887817127341,
          0.3588940733212481,
          0.1194901046148626,
          0.0396887817127341,
          0.1194901046148626,
          0.5982980420276336,
          0.1194901046148626,
          0.43869539622337667,
          0.19929142751699114,
          0.1194901046148626,
          0.19929142751699114,
          0.1194901046148626,
          0.5184967191255051,
          0.27909275041911963,
          0.6780993649297621,
          0.0396887817127341,
          0.0396887817127341,
          0.0396887817127341,
          0.27909275041911963,
          0.1194901046148626,
          0.8377020107340191,
          0.0396887817127341,
          0.0396887817127341,
          0.0396887817127341,
          1.0771059794404048,
          0.19929142751699114,
          0.7579006878318906,
          1.87511920846169,
          0.27909275041911963,
          0.1194901046148626,
          1.5559139168531757,
          0.0396887817127341,
          0.1194901046148626,
          0.0396887817127341,
          4.987370801644701,
          0.3588940733212481,
          0.19929142751699114,
          0.27909275041911963,
          0.19929142751699114,
          0.1194901046148626,
          0.0396887817127341,
          0.0396887817127341,
          0.3588940733212481,
          0.19929142751699114,
          0.27909275041911963,
          0.0396887817127341,
          0.0396887817127341,
          0.6780993649297621,
          0.6780993649297621,
          0.43869539622337667,
          0.0396887817127341,
          0.0396887817127341,
          0.8377020107340191,
          0.5184967191255051,
          0.43869539622337667,
          0.19929142751699114,
          0.0396887817127341,
          0.43869539622337667,
          0.27909275041911963,
          0.19929142751699114,
          0.27909275041911963,
          0.7579006878318906,
          0.7579006878318906,
          0.3588940733212481,
          0.1194901046148626,
          0.5982980420276336,
          0.0396887817127341,
          0.0396887817127341,
          0.0396887817127341,
          0.19929142751699114,
          0.19929142751699114,
          1.87511920846169,
          0.0396887817127341,
          0.0396887817127341,
          0.0396887817127341,
          0.1194901046148626,
          0.1194901046148626,
          1.1569073023425331,
          0.0396887817127341,
          0.19929142751699114,
          0.0396887817127341,
          0.5982980420276336,
          0.27909275041911963,
          0.8377020107340191,
          0.0396887817127341,
          0.997304656538276,
          0.0396887817127341,
          0.1194901046148626,
          0.27909275041911963,
          0.27909275041911963,
          0.19929142751699114,
          0.5184967191255051,
          0.0396887817127341,
          0.0396887817127341,
          0.0396887817127341,
          0.0396887817127341,
          0.27909275041911963,
          0.1194901046148626,
          0.3588940733212481,
          0.1194901046148626,
          0.1194901046148626,
          0.19929142751699114,
          0.27909275041911963,
          0.0396887817127341,
          0.43869539622337667,
          0.1194901046148626,
          0.27909275041911963,
          0.0396887817127341,
          0.0396887817127341,
          0.1194901046148626,
          0.43869539622337667,
          0.7579006878318906,
          1.7953178855595613,
          0.1194901046148626,
          0.1194901046148626,
          0.19929142751699114,
          0.3588940733212481,
          0.0396887817127341,
          0.27909275041911963,
          0.0396887817127341,
          0.0396887817127341,
          0.1194901046148626,
          0.3588940733212481,
          0.6780993649297621,
          0.43869539622337667,
          0.19929142751699114,
          0.19929142751699114,
          0.19929142751699114,
          0.1194901046148626,
          0.3588940733212481,
          2.1145231771680755,
          0.19929142751699114,
          0.1194901046148626,
          0.27909275041911963,
          0.19929142751699114,
          0.1194901046148626,
          0.43869539622337667,
          0.1194901046148626,
          0.0396887817127341,
          0.0396887817127341,
          0.1194901046148626,
          0.43869539622337667,
          0.27909275041911963,
          0.5982980420276336,
          0.27909275041911963,
          0.1194901046148626,
          0.3588940733212481,
          0.19929142751699114,
          0.43869539622337667,
          0.1194901046148626,
          0.1194901046148626,
          0.27909275041911963,
          0.1194901046148626,
          0.0396887817127341,
          0.27909275041911963,
          0.5184967191255051,
          0.1194901046148626,
          0.1194901046148626,
          0.27909275041911963,
          0.1194901046148626,
          0.3588940733212481,
          0.1194901046148626,
          0.19929142751699114,
          0.19929142751699114,
          0.19929142751699114,
          0.0396887817127341,
          1.1569073023425331,
          0.1194901046148626,
          0.0396887817127341,
          0.1194901046148626,
          0.1194901046148626
         ]
        }
       ],
       "layout": {
        "height": 500,
        "legend": {
         "bgcolor": "#151516",
         "font": {
          "color": "#D9D9D9"
         }
        },
        "paper_bgcolor": "#151516",
        "plot_bgcolor": "#151516",
        "template": {
         "data": {
          "bar": [
           {
            "error_x": {
             "color": "#2a3f5f"
            },
            "error_y": {
             "color": "#2a3f5f"
            },
            "marker": {
             "line": {
              "color": "#E5ECF6",
              "width": 0.5
             },
             "pattern": {
              "fillmode": "overlay",
              "size": 10,
              "solidity": 0.2
             }
            },
            "type": "bar"
           }
          ],
          "barpolar": [
           {
            "marker": {
             "line": {
              "color": "#E5ECF6",
              "width": 0.5
             },
             "pattern": {
              "fillmode": "overlay",
              "size": 10,
              "solidity": 0.2
             }
            },
            "type": "barpolar"
           }
          ],
          "carpet": [
           {
            "aaxis": {
             "endlinecolor": "#2a3f5f",
             "gridcolor": "white",
             "linecolor": "white",
             "minorgridcolor": "white",
             "startlinecolor": "#2a3f5f"
            },
            "baxis": {
             "endlinecolor": "#2a3f5f",
             "gridcolor": "white",
             "linecolor": "white",
             "minorgridcolor": "white",
             "startlinecolor": "#2a3f5f"
            },
            "type": "carpet"
           }
          ],
          "choropleth": [
           {
            "colorbar": {
             "outlinewidth": 0,
             "ticks": ""
            },
            "type": "choropleth"
           }
          ],
          "contour": [
           {
            "colorbar": {
             "outlinewidth": 0,
             "ticks": ""
            },
            "colorscale": [
             [
              0,
              "#0d0887"
             ],
             [
              0.1111111111111111,
              "#46039f"
             ],
             [
              0.2222222222222222,
              "#7201a8"
             ],
             [
              0.3333333333333333,
              "#9c179e"
             ],
             [
              0.4444444444444444,
              "#bd3786"
             ],
             [
              0.5555555555555556,
              "#d8576b"
             ],
             [
              0.6666666666666666,
              "#ed7953"
             ],
             [
              0.7777777777777778,
              "#fb9f3a"
             ],
             [
              0.8888888888888888,
              "#fdca26"
             ],
             [
              1,
              "#f0f921"
             ]
            ],
            "type": "contour"
           }
          ],
          "contourcarpet": [
           {
            "colorbar": {
             "outlinewidth": 0,
             "ticks": ""
            },
            "type": "contourcarpet"
           }
          ],
          "heatmap": [
           {
            "colorbar": {
             "outlinewidth": 0,
             "ticks": ""
            },
            "colorscale": [
             [
              0,
              "#0d0887"
             ],
             [
              0.1111111111111111,
              "#46039f"
             ],
             [
              0.2222222222222222,
              "#7201a8"
             ],
             [
              0.3333333333333333,
              "#9c179e"
             ],
             [
              0.4444444444444444,
              "#bd3786"
             ],
             [
              0.5555555555555556,
              "#d8576b"
             ],
             [
              0.6666666666666666,
              "#ed7953"
             ],
             [
              0.7777777777777778,
              "#fb9f3a"
             ],
             [
              0.8888888888888888,
              "#fdca26"
             ],
             [
              1,
              "#f0f921"
             ]
            ],
            "type": "heatmap"
           }
          ],
          "heatmapgl": [
           {
            "colorbar": {
             "outlinewidth": 0,
             "ticks": ""
            },
            "colorscale": [
             [
              0,
              "#0d0887"
             ],
             [
              0.1111111111111111,
              "#46039f"
             ],
             [
              0.2222222222222222,
              "#7201a8"
             ],
             [
              0.3333333333333333,
              "#9c179e"
             ],
             [
              0.4444444444444444,
              "#bd3786"
             ],
             [
              0.5555555555555556,
              "#d8576b"
             ],
             [
              0.6666666666666666,
              "#ed7953"
             ],
             [
              0.7777777777777778,
              "#fb9f3a"
             ],
             [
              0.8888888888888888,
              "#fdca26"
             ],
             [
              1,
              "#f0f921"
             ]
            ],
            "type": "heatmapgl"
           }
          ],
          "histogram": [
           {
            "marker": {
             "pattern": {
              "fillmode": "overlay",
              "size": 10,
              "solidity": 0.2
             }
            },
            "type": "histogram"
           }
          ],
          "histogram2d": [
           {
            "colorbar": {
             "outlinewidth": 0,
             "ticks": ""
            },
            "colorscale": [
             [
              0,
              "#0d0887"
             ],
             [
              0.1111111111111111,
              "#46039f"
             ],
             [
              0.2222222222222222,
              "#7201a8"
             ],
             [
              0.3333333333333333,
              "#9c179e"
             ],
             [
              0.4444444444444444,
              "#bd3786"
             ],
             [
              0.5555555555555556,
              "#d8576b"
             ],
             [
              0.6666666666666666,
              "#ed7953"
             ],
             [
              0.7777777777777778,
              "#fb9f3a"
             ],
             [
              0.8888888888888888,
              "#fdca26"
             ],
             [
              1,
              "#f0f921"
             ]
            ],
            "type": "histogram2d"
           }
          ],
          "histogram2dcontour": [
           {
            "colorbar": {
             "outlinewidth": 0,
             "ticks": ""
            },
            "colorscale": [
             [
              0,
              "#0d0887"
             ],
             [
              0.1111111111111111,
              "#46039f"
             ],
             [
              0.2222222222222222,
              "#7201a8"
             ],
             [
              0.3333333333333333,
              "#9c179e"
             ],
             [
              0.4444444444444444,
              "#bd3786"
             ],
             [
              0.5555555555555556,
              "#d8576b"
             ],
             [
              0.6666666666666666,
              "#ed7953"
             ],
             [
              0.7777777777777778,
              "#fb9f3a"
             ],
             [
              0.8888888888888888,
              "#fdca26"
             ],
             [
              1,
              "#f0f921"
             ]
            ],
            "type": "histogram2dcontour"
           }
          ],
          "mesh3d": [
           {
            "colorbar": {
             "outlinewidth": 0,
             "ticks": ""
            },
            "type": "mesh3d"
           }
          ],
          "parcoords": [
           {
            "line": {
             "colorbar": {
              "outlinewidth": 0,
              "ticks": ""
             }
            },
            "type": "parcoords"
           }
          ],
          "pie": [
           {
            "automargin": true,
            "type": "pie"
           }
          ],
          "scatter": [
           {
            "fillpattern": {
             "fillmode": "overlay",
             "size": 10,
             "solidity": 0.2
            },
            "type": "scatter"
           }
          ],
          "scatter3d": [
           {
            "line": {
             "colorbar": {
              "outlinewidth": 0,
              "ticks": ""
             }
            },
            "marker": {
             "colorbar": {
              "outlinewidth": 0,
              "ticks": ""
             }
            },
            "type": "scatter3d"
           }
          ],
          "scattercarpet": [
           {
            "marker": {
             "colorbar": {
              "outlinewidth": 0,
              "ticks": ""
             }
            },
            "type": "scattercarpet"
           }
          ],
          "scattergeo": [
           {
            "marker": {
             "colorbar": {
              "outlinewidth": 0,
              "ticks": ""
             }
            },
            "type": "scattergeo"
           }
          ],
          "scattergl": [
           {
            "marker": {
             "colorbar": {
              "outlinewidth": 0,
              "ticks": ""
             }
            },
            "type": "scattergl"
           }
          ],
          "scattermapbox": [
           {
            "marker": {
             "colorbar": {
              "outlinewidth": 0,
              "ticks": ""
             }
            },
            "type": "scattermapbox"
           }
          ],
          "scatterpolar": [
           {
            "marker": {
             "colorbar": {
              "outlinewidth": 0,
              "ticks": ""
             }
            },
            "type": "scatterpolar"
           }
          ],
          "scatterpolargl": [
           {
            "marker": {
             "colorbar": {
              "outlinewidth": 0,
              "ticks": ""
             }
            },
            "type": "scatterpolargl"
           }
          ],
          "scatterternary": [
           {
            "marker": {
             "colorbar": {
              "outlinewidth": 0,
              "ticks": ""
             }
            },
            "type": "scatterternary"
           }
          ],
          "surface": [
           {
            "colorbar": {
             "outlinewidth": 0,
             "ticks": ""
            },
            "colorscale": [
             [
              0,
              "#0d0887"
             ],
             [
              0.1111111111111111,
              "#46039f"
             ],
             [
              0.2222222222222222,
              "#7201a8"
             ],
             [
              0.3333333333333333,
              "#9c179e"
             ],
             [
              0.4444444444444444,
              "#bd3786"
             ],
             [
              0.5555555555555556,
              "#d8576b"
             ],
             [
              0.6666666666666666,
              "#ed7953"
             ],
             [
              0.7777777777777778,
              "#fb9f3a"
             ],
             [
              0.8888888888888888,
              "#fdca26"
             ],
             [
              1,
              "#f0f921"
             ]
            ],
            "type": "surface"
           }
          ],
          "table": [
           {
            "cells": {
             "fill": {
              "color": "#EBF0F8"
             },
             "line": {
              "color": "white"
             }
            },
            "header": {
             "fill": {
              "color": "#C8D4E3"
             },
             "line": {
              "color": "white"
             }
            },
            "type": "table"
           }
          ]
         },
         "layout": {
          "annotationdefaults": {
           "arrowcolor": "#2a3f5f",
           "arrowhead": 0,
           "arrowwidth": 1
          },
          "autotypenumbers": "strict",
          "coloraxis": {
           "colorbar": {
            "outlinewidth": 0,
            "ticks": ""
           }
          },
          "colorscale": {
           "diverging": [
            [
             0,
             "#8e0152"
            ],
            [
             0.1,
             "#c51b7d"
            ],
            [
             0.2,
             "#de77ae"
            ],
            [
             0.3,
             "#f1b6da"
            ],
            [
             0.4,
             "#fde0ef"
            ],
            [
             0.5,
             "#f7f7f7"
            ],
            [
             0.6,
             "#e6f5d0"
            ],
            [
             0.7,
             "#b8e186"
            ],
            [
             0.8,
             "#7fbc41"
            ],
            [
             0.9,
             "#4d9221"
            ],
            [
             1,
             "#276419"
            ]
           ],
           "sequential": [
            [
             0,
             "#0d0887"
            ],
            [
             0.1111111111111111,
             "#46039f"
            ],
            [
             0.2222222222222222,
             "#7201a8"
            ],
            [
             0.3333333333333333,
             "#9c179e"
            ],
            [
             0.4444444444444444,
             "#bd3786"
            ],
            [
             0.5555555555555556,
             "#d8576b"
            ],
            [
             0.6666666666666666,
             "#ed7953"
            ],
            [
             0.7777777777777778,
             "#fb9f3a"
            ],
            [
             0.8888888888888888,
             "#fdca26"
            ],
            [
             1,
             "#f0f921"
            ]
           ],
           "sequentialminus": [
            [
             0,
             "#0d0887"
            ],
            [
             0.1111111111111111,
             "#46039f"
            ],
            [
             0.2222222222222222,
             "#7201a8"
            ],
            [
             0.3333333333333333,
             "#9c179e"
            ],
            [
             0.4444444444444444,
             "#bd3786"
            ],
            [
             0.5555555555555556,
             "#d8576b"
            ],
            [
             0.6666666666666666,
             "#ed7953"
            ],
            [
             0.7777777777777778,
             "#fb9f3a"
            ],
            [
             0.8888888888888888,
             "#fdca26"
            ],
            [
             1,
             "#f0f921"
            ]
           ]
          },
          "colorway": [
           "#636efa",
           "#EF553B",
           "#00cc96",
           "#ab63fa",
           "#FFA15A",
           "#19d3f3",
           "#FF6692",
           "#B6E880",
           "#FF97FF",
           "#FECB52"
          ],
          "font": {
           "color": "#2a3f5f"
          },
          "geo": {
           "bgcolor": "white",
           "lakecolor": "white",
           "landcolor": "#E5ECF6",
           "showlakes": true,
           "showland": true,
           "subunitcolor": "white"
          },
          "hoverlabel": {
           "align": "left"
          },
          "hovermode": "closest",
          "mapbox": {
           "style": "light"
          },
          "paper_bgcolor": "white",
          "plot_bgcolor": "#E5ECF6",
          "polar": {
           "angularaxis": {
            "gridcolor": "white",
            "linecolor": "white",
            "ticks": ""
           },
           "bgcolor": "#E5ECF6",
           "radialaxis": {
            "gridcolor": "white",
            "linecolor": "white",
            "ticks": ""
           }
          },
          "scene": {
           "xaxis": {
            "backgroundcolor": "#E5ECF6",
            "gridcolor": "white",
            "gridwidth": 2,
            "linecolor": "white",
            "showbackground": true,
            "ticks": "",
            "zerolinecolor": "white"
           },
           "yaxis": {
            "backgroundcolor": "#E5ECF6",
            "gridcolor": "white",
            "gridwidth": 2,
            "linecolor": "white",
            "showbackground": true,
            "ticks": "",
            "zerolinecolor": "white"
           },
           "zaxis": {
            "backgroundcolor": "#E5ECF6",
            "gridcolor": "white",
            "gridwidth": 2,
            "linecolor": "white",
            "showbackground": true,
            "ticks": "",
            "zerolinecolor": "white"
           }
          },
          "shapedefaults": {
           "line": {
            "color": "#2a3f5f"
           }
          },
          "ternary": {
           "aaxis": {
            "gridcolor": "white",
            "linecolor": "white",
            "ticks": ""
           },
           "baxis": {
            "gridcolor": "white",
            "linecolor": "white",
            "ticks": ""
           },
           "bgcolor": "#E5ECF6",
           "caxis": {
            "gridcolor": "white",
            "linecolor": "white",
            "ticks": ""
           }
          },
          "title": {
           "x": 0.05
          },
          "xaxis": {
           "automargin": true,
           "gridcolor": "white",
           "linecolor": "white",
           "ticks": "",
           "title": {
            "standoff": 15
           },
           "zerolinecolor": "white",
           "zerolinewidth": 2
          },
          "yaxis": {
           "automargin": true,
           "gridcolor": "white",
           "linecolor": "white",
           "ticks": "",
           "title": {
            "standoff": 15
           },
           "zerolinecolor": "white",
           "zerolinewidth": 2
          }
         }
        },
        "title": {
         "font": {
          "color": "#D9D9D9"
         },
         "text": "Scatter plot of Halstead Error Estimate vs Design Complexity"
        },
        "width": 900,
        "xaxis": {
         "gridcolor": "#434343",
         "showgrid": true,
         "tickfont": {
          "color": "#C2C2C2"
         },
         "title": {
          "font": {
           "color": "#D9D9D9"
          },
          "text": "Design Complexity"
         },
         "zerolinecolor": "#666570"
        },
        "yaxis": {
         "gridcolor": "#434343",
         "showgrid": true,
         "tickfont": {
          "color": "#C2C2C2"
         },
         "title": {
          "font": {
           "color": "#D9D9D9"
          },
          "text": "Halstead Error Estimate"
         },
         "zerolinecolor": "#666570"
        }
       }
      },
      "text/html": [
       "<div>                            <div id=\"07500564-7248-4e62-ba69-1433a05da292\" class=\"plotly-graph-div\" style=\"height:500px; width:900px;\"></div>            <script type=\"text/javascript\">                require([\"plotly\"], function(Plotly) {                    window.PLOTLYENV=window.PLOTLYENV || {};\n",
       "                    window.PLOTLYENV.BASE_URL='https://plot.ly';                                    if (document.getElementById(\"07500564-7248-4e62-ba69-1433a05da292\")) {                    Plotly.newPlot(                        \"07500564-7248-4e62-ba69-1433a05da292\",                        [{\"line\":{\"color\":\"orange\",\"dash\":\"solid\",\"shape\":\"linear\",\"width\":1.3},\"marker\":{\"size\":12,\"symbol\":\"circle\"},\"mode\":\"markers\",\"name\":\"HALSTEAD_ERROR_EST\",\"text\":\"\",\"x\":[1.0,1.0,7.0,6.0,5.0,1.0,1.0,2.0,4.0,6.0,3.0,2.0,2.0,2.0,1.0,4.0,2.0,3.0,1.0,3.0,8.0,2.0,2.0,1.0,2.0,5.0,3.0,4.0,6.0,5.0,10.0,22.0,1.0,2.0,9.0,6.0,9.0,1.0,6.0,5.0,46.0,1.0,4.0,2.0,10.0,7.0,2.0,5.0,5.0,1.0,3.0,1.0,3.0,1.0,3.0,4.0,4.0,2.0,2.0,6.0,2.0,13.0,3.0,1.0,3.0,2.0,2.0,3.0,1.0,3.0,2.0,4.0,4.0,9.0,7.0,3.0,1.0,2.0,4.0,1.0,10.0,5.0,2.0,3.0,7.0,1.0,8.0,1.0,5.0,1.0,1.0,1.0,1.0,6.0,3.0,12.0,17.0,2.0,2.0,1.0,4.0,13.0,3.0,1.0,8.0,2.0,2.0,9.0,8.0,3.0,3.0,3.0,1.0,13.0,1.0,5.0,2.0,1.0,2.0,8.0,2.0,6.0,3.0,2.0,3.0,2.0,7.0,4.0,9.0,1.0,1.0,1.0,4.0,2.0,11.0,1.0,1.0,1.0,14.0,3.0,10.0,24.0,4.0,2.0,20.0,1.0,2.0,1.0,63.0,5.0,3.0,4.0,3.0,2.0,1.0,1.0,5.0,3.0,4.0,1.0,1.0,9.0,9.0,6.0,1.0,1.0,11.0,7.0,6.0,3.0,1.0,6.0,4.0,3.0,4.0,10.0,10.0,5.0,2.0,8.0,1.0,1.0,1.0,3.0,3.0,24.0,1.0,1.0,1.0,2.0,2.0,15.0,1.0,3.0,1.0,8.0,4.0,11.0,1.0,13.0,1.0,2.0,4.0,4.0,3.0,7.0,1.0,1.0,1.0,1.0,4.0,2.0,5.0,2.0,2.0,3.0,4.0,1.0,6.0,2.0,4.0,1.0,1.0,2.0,6.0,10.0,23.0,2.0,2.0,3.0,5.0,1.0,4.0,1.0,1.0,2.0,5.0,9.0,6.0,3.0,3.0,3.0,2.0,5.0,27.0,3.0,2.0,4.0,3.0,2.0,6.0,2.0,1.0,1.0,2.0,6.0,4.0,8.0,4.0,2.0,5.0,3.0,6.0,2.0,2.0,4.0,2.0,1.0,4.0,7.0,2.0,2.0,4.0,2.0,5.0,2.0,3.0,3.0,3.0,1.0,15.0,2.0,1.0,2.0,2.0],\"y\":[0.02,0.04,0.8,0.16,0.18,0.06,0.09,0.54,0.18,0.3,0.18,0.03,0.1,0.17,0.1,0.24,0.2,0.15,0.09,0.25,1.2,0.06,0.25,0.04,0.03,0.13,0.18,0.13,0.26,0.5,1.34,2.84,0.08,0.02,0.25,0.23,0.24,0.05,1.86,0.21,5.12,0.02,0.24,0.12,1.82,0.54,0.12,0.08,0.35,0.04,0.18,0.16,0.25,0.15,0.18,0.09,0.09,0.38,0.27,0.37,0.43,1.71,0.03,0.04,0.1,0.06,0.17,0.26,0.09,0.13,0.09,0.21,0.11,1.11,0.58,0.09,0.05,0.18,0.16,0.04,0.65,0.11,0.02,0.17,1.14,0.1,1.65,0.07,0.41,0.12,0.07,0.1,0.25,0.34,0.08,0.61,1.74,0.02,0.2,0.12,0.48,1.04,0.16,0.16,0.21,0.18,0.11,0.58,0.12,0.04,0.06,0.11,0.06,0.26,0.45,0.35,0.14,0.04,0.22,0.55,0.17,0.24,0.06,0.04,0.16,0.09,0.38,0.3,0.72,0.09,0.04,0.06,0.1,0.09,1.22,0.06,0.17,0.11,0.28,0.12,0.53,1.56,0.13,0.31,1.15,0.06,0.29,0.08,5.56,0.24,0.16,0.55,0.12,0.06,0.43,0.06,0.27,0.87,0.14,0.08,0.15,1.89,0.57,0.68,0.06,0.1,1.06,0.66,1.0,0.23,0.26,0.3,0.14,0.17,0.1,0.5,1.16,0.18,0.1,0.6,0.06,1.11,0.09,0.11,0.36,1.86,0.03,0.02,0.05,0.21,0.38,1.95,0.12,0.13,0.04,0.87,0.16,0.91,0.3,0.93,0.07,0.07,0.19,0.2,0.12,0.73,0.08,0.03,0.02,0.01,0.09,0.43,0.72,0.19,0.1,0.16,0.28,0.05,1.25,0.12,0.83,0.04,0.02,0.03,0.76,1.09,1.86,0.49,0.06,0.14,0.27,0.29,0.54,0.02,0.08,0.28,0.27,0.43,0.31,0.58,0.12,0.05,0.17,0.35,1.7,0.13,0.06,0.37,0.12,0.44,0.9,0.02,0.03,1.04,0.17,0.34,0.13,0.44,0.22,0.05,0.36,0.3,0.72,0.11,0.14,0.18,0.03,0.06,0.28,0.52,0.07,0.1,0.59,0.04,0.37,0.12,0.24,0.54,0.1,0.31,0.88,0.12,0.05,0.2,0.05],\"type\":\"scatter\"},{\"line\":{\"color\":\"green\",\"dash\":\"solid\",\"shape\":\"linear\",\"width\":1.3},\"mode\":\"lines\",\"name\":\"PREDICTED_HALSTEAD_ERROR_EST\",\"text\":\"\",\"x\":[1.0,1.0,7.0,6.0,5.0,1.0,1.0,2.0,4.0,6.0,3.0,2.0,2.0,2.0,1.0,4.0,2.0,3.0,1.0,3.0,8.0,2.0,2.0,1.0,2.0,5.0,3.0,4.0,6.0,5.0,10.0,22.0,1.0,2.0,9.0,6.0,9.0,1.0,6.0,5.0,46.0,1.0,4.0,2.0,10.0,7.0,2.0,5.0,5.0,1.0,3.0,1.0,3.0,1.0,3.0,4.0,4.0,2.0,2.0,6.0,2.0,13.0,3.0,1.0,3.0,2.0,2.0,3.0,1.0,3.0,2.0,4.0,4.0,9.0,7.0,3.0,1.0,2.0,4.0,1.0,10.0,5.0,2.0,3.0,7.0,1.0,8.0,1.0,5.0,1.0,1.0,1.0,1.0,6.0,3.0,12.0,17.0,2.0,2.0,1.0,4.0,13.0,3.0,1.0,8.0,2.0,2.0,9.0,8.0,3.0,3.0,3.0,1.0,13.0,1.0,5.0,2.0,1.0,2.0,8.0,2.0,6.0,3.0,2.0,3.0,2.0,7.0,4.0,9.0,1.0,1.0,1.0,4.0,2.0,11.0,1.0,1.0,1.0,14.0,3.0,10.0,24.0,4.0,2.0,20.0,1.0,2.0,1.0,63.0,5.0,3.0,4.0,3.0,2.0,1.0,1.0,5.0,3.0,4.0,1.0,1.0,9.0,9.0,6.0,1.0,1.0,11.0,7.0,6.0,3.0,1.0,6.0,4.0,3.0,4.0,10.0,10.0,5.0,2.0,8.0,1.0,1.0,1.0,3.0,3.0,24.0,1.0,1.0,1.0,2.0,2.0,15.0,1.0,3.0,1.0,8.0,4.0,11.0,1.0,13.0,1.0,2.0,4.0,4.0,3.0,7.0,1.0,1.0,1.0,1.0,4.0,2.0,5.0,2.0,2.0,3.0,4.0,1.0,6.0,2.0,4.0,1.0,1.0,2.0,6.0,10.0,23.0,2.0,2.0,3.0,5.0,1.0,4.0,1.0,1.0,2.0,5.0,9.0,6.0,3.0,3.0,3.0,2.0,5.0,27.0,3.0,2.0,4.0,3.0,2.0,6.0,2.0,1.0,1.0,2.0,6.0,4.0,8.0,4.0,2.0,5.0,3.0,6.0,2.0,2.0,4.0,2.0,1.0,4.0,7.0,2.0,2.0,4.0,2.0,5.0,2.0,3.0,3.0,3.0,1.0,15.0,2.0,1.0,2.0,2.0],\"y\":[0.0396887817127341,0.0396887817127341,0.5184967191255051,0.43869539622337667,0.3588940733212481,0.0396887817127341,0.0396887817127341,0.1194901046148626,0.27909275041911963,0.43869539622337667,0.19929142751699114,0.1194901046148626,0.1194901046148626,0.1194901046148626,0.0396887817127341,0.27909275041911963,0.1194901046148626,0.19929142751699114,0.0396887817127341,0.19929142751699114,0.5982980420276336,0.1194901046148626,0.1194901046148626,0.0396887817127341,0.1194901046148626,0.3588940733212481,0.19929142751699114,0.27909275041911963,0.43869539622337667,0.3588940733212481,0.7579006878318906,1.7155165626574327,0.0396887817127341,0.1194901046148626,0.6780993649297621,0.43869539622337667,0.6780993649297621,0.0396887817127341,0.43869539622337667,0.3588940733212481,3.630748312308517,0.0396887817127341,0.27909275041911963,0.1194901046148626,0.7579006878318906,0.5184967191255051,0.1194901046148626,0.3588940733212481,0.3588940733212481,0.0396887817127341,0.19929142751699114,0.0396887817127341,0.19929142751699114,0.0396887817127341,0.19929142751699114,0.27909275041911963,0.27909275041911963,0.1194901046148626,0.1194901046148626,0.43869539622337667,0.1194901046148626,0.997304656538276,0.19929142751699114,0.0396887817127341,0.19929142751699114,0.1194901046148626,0.1194901046148626,0.19929142751699114,0.0396887817127341,0.19929142751699114,0.1194901046148626,0.27909275041911963,0.27909275041911963,0.6780993649297621,0.5184967191255051,0.19929142751699114,0.0396887817127341,0.1194901046148626,0.27909275041911963,0.0396887817127341,0.7579006878318906,0.3588940733212481,0.1194901046148626,0.19929142751699114,0.5184967191255051,0.0396887817127341,0.5982980420276336,0.0396887817127341,0.3588940733212481,0.0396887817127341,0.0396887817127341,0.0396887817127341,0.0396887817127341,0.43869539622337667,0.19929142751699114,0.9175033336361477,1.3165099481467903,0.1194901046148626,0.1194901046148626,0.0396887817127341,0.27909275041911963,0.997304656538276,0.19929142751699114,0.0396887817127341,0.5982980420276336,0.1194901046148626,0.1194901046148626,0.6780993649297621,0.5982980420276336,0.19929142751699114,0.19929142751699114,0.19929142751699114,0.0396887817127341,0.997304656538276,0.0396887817127341,0.3588940733212481,0.1194901046148626,0.0396887817127341,0.1194901046148626,0.5982980420276336,0.1194901046148626,0.43869539622337667,0.19929142751699114,0.1194901046148626,0.19929142751699114,0.1194901046148626,0.5184967191255051,0.27909275041911963,0.6780993649297621,0.0396887817127341,0.0396887817127341,0.0396887817127341,0.27909275041911963,0.1194901046148626,0.8377020107340191,0.0396887817127341,0.0396887817127341,0.0396887817127341,1.0771059794404048,0.19929142751699114,0.7579006878318906,1.87511920846169,0.27909275041911963,0.1194901046148626,1.5559139168531757,0.0396887817127341,0.1194901046148626,0.0396887817127341,4.987370801644701,0.3588940733212481,0.19929142751699114,0.27909275041911963,0.19929142751699114,0.1194901046148626,0.0396887817127341,0.0396887817127341,0.3588940733212481,0.19929142751699114,0.27909275041911963,0.0396887817127341,0.0396887817127341,0.6780993649297621,0.6780993649297621,0.43869539622337667,0.0396887817127341,0.0396887817127341,0.8377020107340191,0.5184967191255051,0.43869539622337667,0.19929142751699114,0.0396887817127341,0.43869539622337667,0.27909275041911963,0.19929142751699114,0.27909275041911963,0.7579006878318906,0.7579006878318906,0.3588940733212481,0.1194901046148626,0.5982980420276336,0.0396887817127341,0.0396887817127341,0.0396887817127341,0.19929142751699114,0.19929142751699114,1.87511920846169,0.0396887817127341,0.0396887817127341,0.0396887817127341,0.1194901046148626,0.1194901046148626,1.1569073023425331,0.0396887817127341,0.19929142751699114,0.0396887817127341,0.5982980420276336,0.27909275041911963,0.8377020107340191,0.0396887817127341,0.997304656538276,0.0396887817127341,0.1194901046148626,0.27909275041911963,0.27909275041911963,0.19929142751699114,0.5184967191255051,0.0396887817127341,0.0396887817127341,0.0396887817127341,0.0396887817127341,0.27909275041911963,0.1194901046148626,0.3588940733212481,0.1194901046148626,0.1194901046148626,0.19929142751699114,0.27909275041911963,0.0396887817127341,0.43869539622337667,0.1194901046148626,0.27909275041911963,0.0396887817127341,0.0396887817127341,0.1194901046148626,0.43869539622337667,0.7579006878318906,1.7953178855595613,0.1194901046148626,0.1194901046148626,0.19929142751699114,0.3588940733212481,0.0396887817127341,0.27909275041911963,0.0396887817127341,0.0396887817127341,0.1194901046148626,0.3588940733212481,0.6780993649297621,0.43869539622337667,0.19929142751699114,0.19929142751699114,0.19929142751699114,0.1194901046148626,0.3588940733212481,2.1145231771680755,0.19929142751699114,0.1194901046148626,0.27909275041911963,0.19929142751699114,0.1194901046148626,0.43869539622337667,0.1194901046148626,0.0396887817127341,0.0396887817127341,0.1194901046148626,0.43869539622337667,0.27909275041911963,0.5982980420276336,0.27909275041911963,0.1194901046148626,0.3588940733212481,0.19929142751699114,0.43869539622337667,0.1194901046148626,0.1194901046148626,0.27909275041911963,0.1194901046148626,0.0396887817127341,0.27909275041911963,0.5184967191255051,0.1194901046148626,0.1194901046148626,0.27909275041911963,0.1194901046148626,0.3588940733212481,0.1194901046148626,0.19929142751699114,0.19929142751699114,0.19929142751699114,0.0396887817127341,1.1569073023425331,0.1194901046148626,0.0396887817127341,0.1194901046148626,0.1194901046148626],\"type\":\"scatter\"}],                        {\"height\":500,\"legend\":{\"bgcolor\":\"#151516\",\"font\":{\"color\":\"#D9D9D9\"}},\"paper_bgcolor\":\"#151516\",\"plot_bgcolor\":\"#151516\",\"template\":{\"data\":{\"barpolar\":[{\"marker\":{\"line\":{\"color\":\"#E5ECF6\",\"width\":0.5},\"pattern\":{\"fillmode\":\"overlay\",\"size\":10,\"solidity\":0.2}},\"type\":\"barpolar\"}],\"bar\":[{\"error_x\":{\"color\":\"#2a3f5f\"},\"error_y\":{\"color\":\"#2a3f5f\"},\"marker\":{\"line\":{\"color\":\"#E5ECF6\",\"width\":0.5},\"pattern\":{\"fillmode\":\"overlay\",\"size\":10,\"solidity\":0.2}},\"type\":\"bar\"}],\"carpet\":[{\"aaxis\":{\"endlinecolor\":\"#2a3f5f\",\"gridcolor\":\"white\",\"linecolor\":\"white\",\"minorgridcolor\":\"white\",\"startlinecolor\":\"#2a3f5f\"},\"baxis\":{\"endlinecolor\":\"#2a3f5f\",\"gridcolor\":\"white\",\"linecolor\":\"white\",\"minorgridcolor\":\"white\",\"startlinecolor\":\"#2a3f5f\"},\"type\":\"carpet\"}],\"choropleth\":[{\"colorbar\":{\"outlinewidth\":0,\"ticks\":\"\"},\"type\":\"choropleth\"}],\"contourcarpet\":[{\"colorbar\":{\"outlinewidth\":0,\"ticks\":\"\"},\"type\":\"contourcarpet\"}],\"contour\":[{\"colorbar\":{\"outlinewidth\":0,\"ticks\":\"\"},\"colorscale\":[[0.0,\"#0d0887\"],[0.1111111111111111,\"#46039f\"],[0.2222222222222222,\"#7201a8\"],[0.3333333333333333,\"#9c179e\"],[0.4444444444444444,\"#bd3786\"],[0.5555555555555556,\"#d8576b\"],[0.6666666666666666,\"#ed7953\"],[0.7777777777777778,\"#fb9f3a\"],[0.8888888888888888,\"#fdca26\"],[1.0,\"#f0f921\"]],\"type\":\"contour\"}],\"heatmapgl\":[{\"colorbar\":{\"outlinewidth\":0,\"ticks\":\"\"},\"colorscale\":[[0.0,\"#0d0887\"],[0.1111111111111111,\"#46039f\"],[0.2222222222222222,\"#7201a8\"],[0.3333333333333333,\"#9c179e\"],[0.4444444444444444,\"#bd3786\"],[0.5555555555555556,\"#d8576b\"],[0.6666666666666666,\"#ed7953\"],[0.7777777777777778,\"#fb9f3a\"],[0.8888888888888888,\"#fdca26\"],[1.0,\"#f0f921\"]],\"type\":\"heatmapgl\"}],\"heatmap\":[{\"colorbar\":{\"outlinewidth\":0,\"ticks\":\"\"},\"colorscale\":[[0.0,\"#0d0887\"],[0.1111111111111111,\"#46039f\"],[0.2222222222222222,\"#7201a8\"],[0.3333333333333333,\"#9c179e\"],[0.4444444444444444,\"#bd3786\"],[0.5555555555555556,\"#d8576b\"],[0.6666666666666666,\"#ed7953\"],[0.7777777777777778,\"#fb9f3a\"],[0.8888888888888888,\"#fdca26\"],[1.0,\"#f0f921\"]],\"type\":\"heatmap\"}],\"histogram2dcontour\":[{\"colorbar\":{\"outlinewidth\":0,\"ticks\":\"\"},\"colorscale\":[[0.0,\"#0d0887\"],[0.1111111111111111,\"#46039f\"],[0.2222222222222222,\"#7201a8\"],[0.3333333333333333,\"#9c179e\"],[0.4444444444444444,\"#bd3786\"],[0.5555555555555556,\"#d8576b\"],[0.6666666666666666,\"#ed7953\"],[0.7777777777777778,\"#fb9f3a\"],[0.8888888888888888,\"#fdca26\"],[1.0,\"#f0f921\"]],\"type\":\"histogram2dcontour\"}],\"histogram2d\":[{\"colorbar\":{\"outlinewidth\":0,\"ticks\":\"\"},\"colorscale\":[[0.0,\"#0d0887\"],[0.1111111111111111,\"#46039f\"],[0.2222222222222222,\"#7201a8\"],[0.3333333333333333,\"#9c179e\"],[0.4444444444444444,\"#bd3786\"],[0.5555555555555556,\"#d8576b\"],[0.6666666666666666,\"#ed7953\"],[0.7777777777777778,\"#fb9f3a\"],[0.8888888888888888,\"#fdca26\"],[1.0,\"#f0f921\"]],\"type\":\"histogram2d\"}],\"histogram\":[{\"marker\":{\"pattern\":{\"fillmode\":\"overlay\",\"size\":10,\"solidity\":0.2}},\"type\":\"histogram\"}],\"mesh3d\":[{\"colorbar\":{\"outlinewidth\":0,\"ticks\":\"\"},\"type\":\"mesh3d\"}],\"parcoords\":[{\"line\":{\"colorbar\":{\"outlinewidth\":0,\"ticks\":\"\"}},\"type\":\"parcoords\"}],\"pie\":[{\"automargin\":true,\"type\":\"pie\"}],\"scatter3d\":[{\"line\":{\"colorbar\":{\"outlinewidth\":0,\"ticks\":\"\"}},\"marker\":{\"colorbar\":{\"outlinewidth\":0,\"ticks\":\"\"}},\"type\":\"scatter3d\"}],\"scattercarpet\":[{\"marker\":{\"colorbar\":{\"outlinewidth\":0,\"ticks\":\"\"}},\"type\":\"scattercarpet\"}],\"scattergeo\":[{\"marker\":{\"colorbar\":{\"outlinewidth\":0,\"ticks\":\"\"}},\"type\":\"scattergeo\"}],\"scattergl\":[{\"marker\":{\"colorbar\":{\"outlinewidth\":0,\"ticks\":\"\"}},\"type\":\"scattergl\"}],\"scattermapbox\":[{\"marker\":{\"colorbar\":{\"outlinewidth\":0,\"ticks\":\"\"}},\"type\":\"scattermapbox\"}],\"scatterpolargl\":[{\"marker\":{\"colorbar\":{\"outlinewidth\":0,\"ticks\":\"\"}},\"type\":\"scatterpolargl\"}],\"scatterpolar\":[{\"marker\":{\"colorbar\":{\"outlinewidth\":0,\"ticks\":\"\"}},\"type\":\"scatterpolar\"}],\"scatter\":[{\"fillpattern\":{\"fillmode\":\"overlay\",\"size\":10,\"solidity\":0.2},\"type\":\"scatter\"}],\"scatterternary\":[{\"marker\":{\"colorbar\":{\"outlinewidth\":0,\"ticks\":\"\"}},\"type\":\"scatterternary\"}],\"surface\":[{\"colorbar\":{\"outlinewidth\":0,\"ticks\":\"\"},\"colorscale\":[[0.0,\"#0d0887\"],[0.1111111111111111,\"#46039f\"],[0.2222222222222222,\"#7201a8\"],[0.3333333333333333,\"#9c179e\"],[0.4444444444444444,\"#bd3786\"],[0.5555555555555556,\"#d8576b\"],[0.6666666666666666,\"#ed7953\"],[0.7777777777777778,\"#fb9f3a\"],[0.8888888888888888,\"#fdca26\"],[1.0,\"#f0f921\"]],\"type\":\"surface\"}],\"table\":[{\"cells\":{\"fill\":{\"color\":\"#EBF0F8\"},\"line\":{\"color\":\"white\"}},\"header\":{\"fill\":{\"color\":\"#C8D4E3\"},\"line\":{\"color\":\"white\"}},\"type\":\"table\"}]},\"layout\":{\"annotationdefaults\":{\"arrowcolor\":\"#2a3f5f\",\"arrowhead\":0,\"arrowwidth\":1},\"autotypenumbers\":\"strict\",\"coloraxis\":{\"colorbar\":{\"outlinewidth\":0,\"ticks\":\"\"}},\"colorscale\":{\"diverging\":[[0,\"#8e0152\"],[0.1,\"#c51b7d\"],[0.2,\"#de77ae\"],[0.3,\"#f1b6da\"],[0.4,\"#fde0ef\"],[0.5,\"#f7f7f7\"],[0.6,\"#e6f5d0\"],[0.7,\"#b8e186\"],[0.8,\"#7fbc41\"],[0.9,\"#4d9221\"],[1,\"#276419\"]],\"sequential\":[[0.0,\"#0d0887\"],[0.1111111111111111,\"#46039f\"],[0.2222222222222222,\"#7201a8\"],[0.3333333333333333,\"#9c179e\"],[0.4444444444444444,\"#bd3786\"],[0.5555555555555556,\"#d8576b\"],[0.6666666666666666,\"#ed7953\"],[0.7777777777777778,\"#fb9f3a\"],[0.8888888888888888,\"#fdca26\"],[1.0,\"#f0f921\"]],\"sequentialminus\":[[0.0,\"#0d0887\"],[0.1111111111111111,\"#46039f\"],[0.2222222222222222,\"#7201a8\"],[0.3333333333333333,\"#9c179e\"],[0.4444444444444444,\"#bd3786\"],[0.5555555555555556,\"#d8576b\"],[0.6666666666666666,\"#ed7953\"],[0.7777777777777778,\"#fb9f3a\"],[0.8888888888888888,\"#fdca26\"],[1.0,\"#f0f921\"]]},\"colorway\":[\"#636efa\",\"#EF553B\",\"#00cc96\",\"#ab63fa\",\"#FFA15A\",\"#19d3f3\",\"#FF6692\",\"#B6E880\",\"#FF97FF\",\"#FECB52\"],\"font\":{\"color\":\"#2a3f5f\"},\"geo\":{\"bgcolor\":\"white\",\"lakecolor\":\"white\",\"landcolor\":\"#E5ECF6\",\"showlakes\":true,\"showland\":true,\"subunitcolor\":\"white\"},\"hoverlabel\":{\"align\":\"left\"},\"hovermode\":\"closest\",\"mapbox\":{\"style\":\"light\"},\"paper_bgcolor\":\"white\",\"plot_bgcolor\":\"#E5ECF6\",\"polar\":{\"angularaxis\":{\"gridcolor\":\"white\",\"linecolor\":\"white\",\"ticks\":\"\"},\"bgcolor\":\"#E5ECF6\",\"radialaxis\":{\"gridcolor\":\"white\",\"linecolor\":\"white\",\"ticks\":\"\"}},\"scene\":{\"xaxis\":{\"backgroundcolor\":\"#E5ECF6\",\"gridcolor\":\"white\",\"gridwidth\":2,\"linecolor\":\"white\",\"showbackground\":true,\"ticks\":\"\",\"zerolinecolor\":\"white\"},\"yaxis\":{\"backgroundcolor\":\"#E5ECF6\",\"gridcolor\":\"white\",\"gridwidth\":2,\"linecolor\":\"white\",\"showbackground\":true,\"ticks\":\"\",\"zerolinecolor\":\"white\"},\"zaxis\":{\"backgroundcolor\":\"#E5ECF6\",\"gridcolor\":\"white\",\"gridwidth\":2,\"linecolor\":\"white\",\"showbackground\":true,\"ticks\":\"\",\"zerolinecolor\":\"white\"}},\"shapedefaults\":{\"line\":{\"color\":\"#2a3f5f\"}},\"ternary\":{\"aaxis\":{\"gridcolor\":\"white\",\"linecolor\":\"white\",\"ticks\":\"\"},\"baxis\":{\"gridcolor\":\"white\",\"linecolor\":\"white\",\"ticks\":\"\"},\"bgcolor\":\"#E5ECF6\",\"caxis\":{\"gridcolor\":\"white\",\"linecolor\":\"white\",\"ticks\":\"\"}},\"title\":{\"x\":0.05},\"xaxis\":{\"automargin\":true,\"gridcolor\":\"white\",\"linecolor\":\"white\",\"ticks\":\"\",\"title\":{\"standoff\":15},\"zerolinecolor\":\"white\",\"zerolinewidth\":2},\"yaxis\":{\"automargin\":true,\"gridcolor\":\"white\",\"linecolor\":\"white\",\"ticks\":\"\",\"title\":{\"standoff\":15},\"zerolinecolor\":\"white\",\"zerolinewidth\":2}}},\"title\":{\"font\":{\"color\":\"#D9D9D9\"},\"text\":\"Scatter plot of Halstead Error Estimate vs Design Complexity\"},\"width\":900,\"xaxis\":{\"gridcolor\":\"#434343\",\"showgrid\":true,\"tickfont\":{\"color\":\"#C2C2C2\"},\"title\":{\"font\":{\"color\":\"#D9D9D9\"},\"text\":\"Design Complexity\"},\"zerolinecolor\":\"#666570\"},\"yaxis\":{\"gridcolor\":\"#434343\",\"showgrid\":true,\"tickfont\":{\"color\":\"#C2C2C2\"},\"title\":{\"font\":{\"color\":\"#D9D9D9\"},\"text\":\"Halstead Error Estimate\"},\"zerolinecolor\":\"#666570\"}},                        {\"showLink\": true, \"linkText\": \"Export to plot.ly\", \"plotlyServerURL\": \"https://plot.ly\", \"responsive\": true}                    ).then(function(){\n",
       "                            \n",
       "var gd = document.getElementById('07500564-7248-4e62-ba69-1433a05da292');\n",
       "var x = new MutationObserver(function (mutations, observer) {{\n",
       "        var display = window.getComputedStyle(gd).display;\n",
       "        if (!display || display === 'none') {{\n",
       "            console.log([gd, 'removed!']);\n",
       "            Plotly.purge(gd);\n",
       "            observer.disconnect();\n",
       "        }}\n",
       "}});\n",
       "\n",
       "// Listen for the removal of the full notebook cells\n",
       "var notebookContainer = gd.closest('#notebook-container');\n",
       "if (notebookContainer) {{\n",
       "    x.observe(notebookContainer, {childList: true});\n",
       "}}\n",
       "\n",
       "// Listen for the clearing of the current output cell\n",
       "var outputEl = gd.closest('.output');\n",
       "if (outputEl) {{\n",
       "    x.observe(outputEl, {childList: true});\n",
       "}}\n",
       "\n",
       "                        })                };                });            </script>        </div>"
      ]
     },
     "metadata": {},
     "output_type": "display_data"
    }
   ],
   "source": [
    "pd.DataFrame({\n",
    "    \"DESIGN_COMPLEXITY\": non_defective_group[\"DESIGN_COMPLEXITY\"],\n",
    "    \"HALSTEAD_ERROR_EST\": non_defective_group[\"HALSTEAD_ERROR_EST\"],\n",
    "    \"PREDICTED_HALSTEAD_ERROR_EST\": huber_regression_model.predict(X)\n",
    "}).iplot(\n",
    "    kind='scatter',\n",
    "    x='DESIGN_COMPLEXITY',\n",
    "    dimensions=(900, 500),\n",
    "    theme=\"solar\",\n",
    "    xTitle='Design Complexity',\n",
    "    yTitle='Halstead Error Estimate',\n",
    "    title='Scatter plot of Halstead Error Estimate vs Design Complexity',\n",
    "    mode={\n",
    "        \"HALSTEAD_ERROR_EST\": \"markers\",\n",
    "        \"PREDICTED_HALSTEAD_ERROR_EST\": \"lines\"\n",
    "    },\n",
    "    colors={\n",
    "        \"HALSTEAD_ERROR_EST\": \"orange\",\n",
    "        \"PREDICTED_HALSTEAD_ERROR_EST\": \"green\"\n",
    "    }\n",
    ")"
   ]
  },
  {
   "cell_type": "markdown",
   "metadata": {},
   "source": [
    "Note that the performance (R-squred) of the robust regression is lower than the linear regression. This is because the robust regression is less sensitive to outliers, hence the line of best fit is not skewed towards the outliers. This results in a better fit for the data that has a significant number of outliers. However, in this case, the number of outliers are pretty low, therefore the robust regression does not perform as well as the linear regression."
   ]
  },
  {
   "cell_type": "code",
   "execution_count": 63,
   "metadata": {},
   "outputs": [
    {
     "name": "stdout",
     "output_type": "stream",
     "text": [
      "SCATTER\n",
      "Scatter plot\n",
      "2D chart based in an x and y axis.\n",
      "Can be a line chart (default) or a set of scatter points (markers)\n",
      "\n",
      "\n",
      "Parameters:\n",
      "===========\n",
      "    bestfit : bool or list\n",
      "        Displays a best fit line\n",
      "        If list, then a best fit line will be generated\n",
      "        for each trace key in the list\n",
      "    bestfit_colors : dict or list\n",
      "        Sets the color for each best fit line\n",
      "        \t{key:color} to set the color for each trace\n",
      "        \t[color1, color2...] to set the colors in the specified order\n",
      "    categories : string\n",
      "        Name of the column that contains the categories\n",
      "    connectgaps : bool\n",
      "        If True, then empty values are connected\n",
      "    dash : string, list or dict\n",
      "        Line style\n",
      "        \tstring : applies to all traces\n",
      "        \tlist : applies to each trace in the order specified\n",
      "        \tdict : {column:value} for each column in the dataframe\n",
      "        values    :\n",
      "        \tsolid\n",
      "        \tdash\n",
      "        \tdashdot\n",
      "        \tdot\n",
      "    fill : bool\n",
      "        Fills the trace (area)\n",
      "    interpolation : string, list or dict\n",
      "        Interpolation over missing empty line points\n",
      "        \tstring : applies to all traces\n",
      "        \tlist : applies to each trace in the order specified\n",
      "        \tdict : {column:value} for each column in the dataframe\n",
      "        values\n",
      "        \tlinear\n",
      "        \tspline\n",
      "        \tvhv\n",
      "        \thvh\n",
      "        \tvh\n",
      "        \thv\n",
      "    mode : string, list or dict\n",
      "        Plotting mode for scatter trace\n",
      "        \tstring : applies to all traces\n",
      "        \tlist : applies to each trace in the order specified\n",
      "        \tdict : {column:value} for each column in the dataframe\n",
      "        values    :\n",
      "        \tlines\n",
      "        \tmarkers\n",
      "        \tlines+text\n",
      "        \tmarkers+text\n",
      "        \tlines+markers+text\n",
      "    size : int, string\n",
      "        Size of symbol when mode='markers'\n",
      "    symbol : string, list or dict\n",
      "        Symbol used when mode='markers'\n",
      "        \tstring : applies to all traces\n",
      "        \tlist : applies to each trace in the order specified\n",
      "        \tdict : {column:value} for each column in the dataframe\n",
      "        values\n",
      "        \tcircle\n",
      "        \tcross\n",
      "        \tdiamond\n",
      "        \tsquare\n",
      "        \ttriangle-down\n",
      "        \tSee all possible values in 'help(cufflinks.scatter.Marker())'\n",
      "    x : string\n",
      "        Name of the column that contains the x axis value\n",
      "    y : string\n",
      "        Name of the column that contains the y axis value\n",
      "    rangeselector : dict\n",
      "        Defines a range selector object.\n",
      "        See 'help(cufflinks.tools.get_range_selector)' for more information.\n",
      "        Example:\n",
      "        \t{'steps':['1y','2 months','ytd','2mtd'],\n",
      "        \t'axis':'xaxis1', 'bgcolor' : ('blue',.3),\n",
      "        \t'x': 0.2 , 'y' : 0.9}\n",
      "\n",
      "\n",
      "    colors : dict, list or string\n",
      "        Trace color\n",
      "        \tstring : applies to all traces\n",
      "        \tlist : applies to each trace in the order specified\n",
      "        \tdict : {column:value} for each column in the dataframe\n",
      "        values\n",
      "        \tcolorname : see cufflinks.colors.cnames\n",
      "        \thex : '#ffffff'\n",
      "        \trgb : 'rgb(23,50,23)'\n",
      "        \trgba : 'rgba(23,50,23,.5)\n",
      "    colorscale : string\n",
      "        Color scale name\n",
      "        If the color is preceded by a minus (-)\n",
      "        then the scale is inversed.\n",
      "        Only valid if 'colors' is null.\n",
      "        see cufflinks.colors.scales() for all available scales\n",
      "    data : figure\n",
      "        Plotly Figure\n",
      "    rangeslider : bool or dict\n",
      "        Defines if a range slider is displayed.\n",
      "        If True : displays a range slider\n",
      "        If dict : defines a range slider object\n",
      "        Example:\n",
      "        \t{'bgcolor':('blue',.3),'autorange':True}\n",
      "    text : string\n",
      "        Name of the column that contains the text values\n",
      "    width : int, list or dict\n",
      "        Line width\n",
      "        \tint : applies to all traces\n",
      "        \tlist : applies to each trace in the order specified\n",
      "        \tdict : {column:value} for each column in the dataframe\n",
      "\n",
      "    ERROR BARS\n",
      "        error_color : string\n",
      "            Color for error bars\n",
      "        error_opacity : float [0,1]\n",
      "            Color opacity for the error bars\n",
      "        error_thickness : float\n",
      "            Sets the line thickness of the error bars\n",
      "        error_trace : string\n",
      "            Name of the DataFrame column for which error\n",
      "            should be plotted. If omitted then errors apply to all traces.\n",
      "        error_type : string\n",
      "            Type of error bars\n",
      "            \tdata\n",
      "            \tconstant\n",
      "            \tpercent\n",
      "            \tsqrt\n",
      "            \tcontinuous\n",
      "            \tcontinuous_percent\n",
      "        error_values_minus : int, float or list\n",
      "            Values corresponding to the span of the error bars\n",
      "            below the trace coordinate\n",
      "        error_width : int or float\n",
      "            Sets the width (in pixels) of the cross-bar at both\n",
      "            ends of the error bars\n",
      "        error_x : int, float or list\n",
      "            Error values for the x axis\n",
      "        error_y : int, float or list\n",
      "            Error values for the y axis\n",
      "\n",
      "    LAYOUT\n",
      "        layout : Plotly Layout\n",
      "            If defined, this Layout is explicitly used for the Figure generation\n",
      "        dimensions : tuple \n",
      "            Dimensions for image/chart\n",
      "            \t(width,height)\n",
      "        fontfamily : string\n",
      "            HTML Font typeface that will be applied\n",
      "            It needs to exist on the system on which it operates.\n",
      "            Examples:\n",
      "            \t'Times New Roman'\n",
      "            \t'Open Sans'\n",
      "            \t'Monospace'\n",
      "        gridcolor : string\n",
      "            Sets the grid color\n",
      "            \tcolorname : see cufflinks.colors.cnames\n",
      "            \thex : '#ffffff'\n",
      "            \trgb : 'rgb(23,50,23)'\n",
      "            \trgba : 'rgba(23,50,23,.5)\n",
      "        legend : string\n",
      "            Defines where the legend should appear\n",
      "            Values:\n",
      "            \tbottom\n",
      "            \ttop\n",
      "        margin : dict or tuple\n",
      "            Sets the margin dimensions\n",
      "            \t{'l':left,'r':right,'b':bottom,'t':top}\n",
      "            \t(left,right,bottom,top)\n",
      "        secondary_y : string\n",
      "            Name of the column(s) to be charted on\n",
      "            the secondary axis\n",
      "        secondary_y_title : string\n",
      "            Sets the title of the secondary axis\n",
      "        showlegend : bool\n",
      "            Defines if the legend should appear\n",
      "        theme : string\n",
      "            Layout theme\n",
      "            \tsolar\n",
      "            \tpearl\n",
      "            \twhite\n",
      "            see cufflinks.getThemes() for all available themes\n",
      "        title : string\n",
      "            Chart title\n",
      "        xTitle : string\n",
      "            X Axis Title\n",
      "        yTitle : string\n",
      "            Y Axis Title\n",
      "        zerolinecolor : string\n",
      "            Sets the zero line color\n",
      "            \tcolorname : see cufflinks.colors.cnames\n",
      "            \thex : '#ffffff'\n",
      "            \trgb : 'rgb(23,50,23)'\n",
      "            \trgba : 'rgba(23,50,23,.5)\n",
      "        layout_update : dict\n",
      "            The Layout will be explicitly modified\n",
      "            with the values stated in the dictionary.\n",
      "            Not valid when Layout is passed as a parameter\n",
      "\n",
      "    ANNOTATIONS\n",
      "        annotations : dict\n",
      "            Dictionary of annotations\n",
      "            \t{x_point : text}\n",
      "        fontcolor : string\n",
      "            Text color\n",
      "        fontsize : int\n",
      "            Text size\n",
      "        textangle : int\n",
      "            Text angle\n",
      "\n",
      "    EXPORTS\n",
      "        asFigure : bool\n",
      "            If True then it returns a Plotly Figure\n",
      "        asImage : bool\n",
      "            If True then it returns an image (PNG)\n",
      "            While in ONLINE mode:\n",
      "            Image file is saved in the working directory\n",
      "            \tAccepts:\n",
      "            \t\tfilename\n",
      "            \t\tdimensions\n",
      "            \t\tscale\n",
      "            \t\tdisplay_image\n",
      "            While in OFFLINE mode:\n",
      "            Image file is downloaded (downloads folder) and a \n",
      "            regular plotly chart is displayed in Jupyter\n",
      "            \tAccepts:\n",
      "            \t\tfilename\n",
      "            \t\tdimensions\n",
      "        asPlot : bool\n",
      "            If True then the chart opens in a browser\n",
      "        asURL : bool\n",
      "            If True the chart url/path is returned.\n",
      "            No chart is displayed. \n",
      "            \tIf ONLINE : The URL is returned\n",
      "            \tIf OFFLINE : the local path is returned\n",
      "        display_image : bool\n",
      "            If True, then the image is displayed\n",
      "            after being saved.\n",
      "            Only valid if 'asImage=True'\n",
      "        filename : string\n",
      "            Filename to be saved as\n",
      "        online : bool\n",
      "            If True then the chart/image is rendered on the server\n",
      "            even when running in Offline mode\n",
      "        scale : int\n",
      "            Increase the resolution of the image by `scale` amount\n",
      "            Only valid if 'asImage=True'\n",
      "        sharing : string\n",
      "            Sets the sharing level permission\n",
      "            \tpublic - anyone can see the chart\n",
      "            \tprivate - only you can see this chart\n",
      "            \tsecret - only people with the link can see the chart\n",
      "\n",
      "    SHAPES\n",
      "        hline : float, list or dict\n",
      "            Draws a horizontal line at the indicated 'y'\n",
      "            position(s).\n",
      "            Extra parameters can be passed in the form of a\n",
      "            dictionary (see 'shapes')\n",
      "            \thline=4\n",
      "            \thline=[2,10]\n",
      "            \thline=[{'y':2,'color':'blue'},{'y':3,'color':'red'}]\n",
      "        hspan : tuple, list or dict\n",
      "            Draws a horizontal rectangle at the indicated\n",
      "            (y0,y1) positions.\n",
      "            Extra parameters can be passed in the form of a\n",
      "            dictionary (see 'shapes')\n",
      "            \thspan=(1,5)\n",
      "            \thspan=[(1,4),(6,10)]\n",
      "            \thspan=[{'y0':2,'y1':5,'color':'blue','fill':True,'opacity':.4}]\n",
      "        vline : float, list or dict\n",
      "            Draws a vertical line at the indicated 'x'\n",
      "            position(s).\n",
      "            Extra parameters can be passed in the form of a\n",
      "            dictionary (see 'shapes')\n",
      "            \tvline=4\n",
      "            \tvline=[2,10]\n",
      "            \tvline=[{'x':'2015-02-08','color':'blue'},{'x':'2015-03-08','color':'red'}]\n",
      "        vspan : tuple, list or dict\n",
      "            Draws a vertical rectangle at the indicated\n",
      "            (x0,x1) positions.\n",
      "            Extra parameters can be passed in the form of a\n",
      "            dictionary (see 'shapes')\n",
      "            \tvspan=('2015-02-08','2015-03-08')\n",
      "            \tvspan=[(1,4),(6,10)]\n",
      "            \tvspan=[{'x0':2,'x1':5,'color':'blue','fill':True,'opacity':.4}]\n",
      "        shapes : list or dict\n",
      "            List of dictionaries with the specification\n",
      "            of a given shape.\n",
      "            For more information\n",
      "            see help(cufflinks.tools.get_shape)\n",
      "\n",
      "    SUBPLOTS\n",
      "        horizontal_spacing : float [0-1]\n",
      "            Space between subplot columns\n",
      "        shape : (int,int)\n",
      "            Indicates the size of rows and columns.\n",
      "            If ommitted, then the shape is automatically set\n",
      "            * Only valid if subplots=True\n",
      "            \t(rows,columns)\n",
      "        shared_xaxes : bool\n",
      "            If True, subplots in the same grid column have one common\n",
      "            shared x-axis at the bottom of the grid.\n",
      "        shared_yaxes : bool\n",
      "            If True, subplots in the same grid row have one common\n",
      "            shared y-axis at the left of the grid.\n",
      "        subplot_titles : bool\n",
      "            If True, chart titles are displayed\n",
      "            at the top of each subplot.\n",
      "        subplots : bool\n",
      "            If True then each trace is placed in a subplot\n",
      "        vertical_spacing : float [0-1]\n",
      "            Space between subplot rows\n",
      "\n",
      "    AXIS\n",
      "        logx : bool\n",
      "            Sets the x axis to be of logarithmic scale\n",
      "        logy : bool\n",
      "            Sets the y axis to be of logarithmic scale\n",
      "        logz : bool\n",
      "            Sets the z axis to be of logarithmic scale\n",
      "        xrange : tuple\n",
      "            Sets the range for the x axis\n",
      "            \t(lower_bound,upper_bound)\n",
      "        yrange : tuple\n",
      "            Sets the range for the y axis\n",
      "            \t(lower_bound,upper_bound)\n",
      "\n",
      "EXAMPLES\n",
      "    >> cf.datagen.lines(1).iplot(kind='scatter')\n",
      "    >> cf.datagen.scatter().iplot(kind='scatter',x='x',y='y',categories='categories',mode='markers')\n",
      "    >> cf.datagen.lines(1).iplot(kind='scatter',error_type='continuous_percent',error_y=15)\n"
     ]
    }
   ],
   "source": [
    "cf.help(\"scatter\")"
   ]
  }
 ],
 "metadata": {
  "kernelspec": {
   "display_name": "Metrics-Analysis",
   "language": "python",
   "name": "python3"
  },
  "language_info": {
   "codemirror_mode": {
    "name": "ipython",
    "version": 3
   },
   "file_extension": ".py",
   "mimetype": "text/x-python",
   "name": "python",
   "nbconvert_exporter": "python",
   "pygments_lexer": "ipython3",
   "version": "3.11.4"
  },
  "orig_nbformat": 4
 },
 "nbformat": 4,
 "nbformat_minor": 2
}
